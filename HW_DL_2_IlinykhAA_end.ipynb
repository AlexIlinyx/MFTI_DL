{
 "cells": [
  {
   "cell_type": "code",
   "execution_count": 43,
   "metadata": {
    "execution": {
     "iopub.execute_input": "2024-05-19T09:51:39.610049Z",
     "iopub.status.busy": "2024-05-19T09:51:39.609061Z",
     "iopub.status.idle": "2024-05-19T09:51:39.627285Z",
     "shell.execute_reply": "2024-05-19T09:51:39.625958Z",
     "shell.execute_reply.started": "2024-05-19T09:51:39.609998Z"
    },
    "tags": []
   },
   "outputs": [],
   "source": [
    "import numpy as np\n",
    "import pandas as pd\n",
    "import tensorflow as tf\n",
    "from tensorflow.keras.models import Sequential\n",
    "from tensorflow.keras.layers import Conv2D, MaxPooling2D, Flatten, Dense, Dropout, ELU\n",
    "from tensorflow.keras.optimizers import Adam\n",
    "from tensorflow.keras.preprocessing.image import ImageDataGenerator\n",
    "from tensorflow.keras.regularizers import l2\n",
    "from sklearn.model_selection import train_test_split\n",
    "from tensorflow.keras.models import load_model\n",
    "from tensorflow.keras.callbacks import ModelCheckpoint, EarlyStopping, ReduceLROnPlateau\n"
   ]
  },
  {
   "cell_type": "code",
   "execution_count": 2,
   "metadata": {
    "execution": {
     "iopub.execute_input": "2024-05-19T05:09:16.740312Z",
     "iopub.status.busy": "2024-05-19T05:09:16.739199Z",
     "iopub.status.idle": "2024-05-19T05:09:46.889660Z",
     "shell.execute_reply": "2024-05-19T05:09:46.888605Z",
     "shell.execute_reply.started": "2024-05-19T05:09:16.740262Z"
    }
   },
   "outputs": [],
   "source": [
    "# Загрузка данных\n",
    "images = np.load('images.npy')\n",
    "labels = np.load('labels.npy')\n",
    "images_sub = np.load('images_sub.npy')"
   ]
  },
  {
   "cell_type": "code",
   "execution_count": 3,
   "metadata": {
    "execution": {
     "iopub.execute_input": "2024-05-19T05:09:46.892258Z",
     "iopub.status.busy": "2024-05-19T05:09:46.891280Z",
     "iopub.status.idle": "2024-05-19T05:09:46.915103Z",
     "shell.execute_reply": "2024-05-19T05:09:46.913832Z",
     "shell.execute_reply.started": "2024-05-19T05:09:46.892201Z"
    }
   },
   "outputs": [
    {
     "data": {
      "text/plain": [
       "array([13, 24,  8, ..., 21,  7, 18])"
      ]
     },
     "execution_count": 3,
     "metadata": {},
     "output_type": "execute_result"
    }
   ],
   "source": [
    "labels"
   ]
  },
  {
   "cell_type": "code",
   "execution_count": 4,
   "metadata": {
    "execution": {
     "iopub.execute_input": "2024-05-19T05:09:46.918446Z",
     "iopub.status.busy": "2024-05-19T05:09:46.917117Z",
     "iopub.status.idle": "2024-05-19T05:09:51.975864Z",
     "shell.execute_reply": "2024-05-19T05:09:51.974652Z",
     "shell.execute_reply.started": "2024-05-19T05:09:46.918371Z"
    },
    "tags": []
   },
   "outputs": [
    {
     "name": "stderr",
     "output_type": "stream",
     "text": [
      "2024-05-19 05:09:50.911578: I tensorflow/core/common_runtime/gpu/gpu_device.cc:1635] Created device /job:localhost/replica:0/task:0/device:GPU:0 with 31136 MB memory:  -> device: 0, name: Tesla V100-PCIE-32GB, pci bus id: 0000:8c:00.0, compute capability: 7.0\n"
     ]
    }
   ],
   "source": [
    "# Нормализация изображений\n",
    "images = images / 255.0\n",
    "images_sub = images_sub / 255.0\n",
    "\n",
    "# Преобразование меток в категории\n",
    "labels = tf.keras.utils.to_categorical(labels, num_classes=26)\n",
    "\n",
    "# Разделение данных на обучающую и проверочную выборки\n",
    "X_train, X_val, y_train, y_val = train_test_split(images, labels, test_size=0.1, random_state=42)\n",
    "\n",
    "# Создание модели с добавлением регуляризации и изменением архитектуры\n",
    "model = Sequential([\n",
    "    Conv2D(32, (3, 3), activation='relu', input_shape=(48, 48, 3)),\n",
    "    MaxPooling2D(2, 2),\n",
    "    Conv2D(64, (3, 3), activation='relu'),\n",
    "    MaxPooling2D(2, 2),\n",
    "    Conv2D(128, (3, 3), activation='relu'),  # Дополнительный свёрточный слой\n",
    "    MaxPooling2D(2, 2),\n",
    "    Flatten(),\n",
    "    Dense(256, activation='relu', kernel_regularizer=l2(0.01)),  # Увеличенный полносвязный слой с регуляризацией\n",
    "    Dropout(0.5),\n",
    "    Dense(26, activation='softmax')\n",
    "])\n",
    "\n",
    "# Компиляция модели\n",
    "model.compile(optimizer=Adam(learning_rate=0.0001), loss='categorical_crossentropy', metrics=['accuracy'])\n",
    "\n",
    "# Подготовка к расширению данных\n",
    "datagen = ImageDataGenerator(\n",
    "    rotation_range=20,\n",
    "    width_shift_range=0.2,\n",
    "    height_shift_range=0.2,\n",
    "    shear_range=0.2,\n",
    "    zoom_range=0.2,\n",
    "    horizontal_flip=True,\n",
    "    fill_mode='nearest'\n",
    ")\n",
    "\n",
    "# Callback для сохранения лучшей модели\n",
    "checkpoint = ModelCheckpoint('best_model', monitor='val_accuracy', save_best_only=True, mode='max', save_format='tf')"
   ]
  },
  {
   "cell_type": "code",
   "execution_count": 5,
   "metadata": {
    "execution": {
     "iopub.execute_input": "2024-05-19T05:10:05.531702Z",
     "iopub.status.busy": "2024-05-19T05:10:05.530824Z",
     "iopub.status.idle": "2024-05-19T05:40:50.120641Z",
     "shell.execute_reply": "2024-05-19T05:40:50.119552Z",
     "shell.execute_reply.started": "2024-05-19T05:10:05.531668Z"
    },
    "tags": []
   },
   "outputs": [
    {
     "name": "stderr",
     "output_type": "stream",
     "text": [
      "2024-05-19 05:10:05.950762: I tensorflow/core/common_runtime/executor.cc:1197] [/device:CPU:0] (DEBUG INFO) Executor start aborting (this does not indicate an error and you can ignore this message): INVALID_ARGUMENT: You must feed a value for placeholder tensor 'Placeholder/_0' with dtype int32\n",
      "\t [[{{node Placeholder/_0}}]]\n"
     ]
    },
    {
     "name": "stdout",
     "output_type": "stream",
     "text": [
      "Epoch 1/100\n"
     ]
    },
    {
     "name": "stderr",
     "output_type": "stream",
     "text": [
      "2024-05-19 05:10:07.624079: I tensorflow/compiler/xla/stream_executor/cuda/cuda_dnn.cc:424] Loaded cuDNN version 8900\n",
      "2024-05-19 05:10:09.293198: I tensorflow/compiler/xla/service/service.cc:169] XLA service 0x7f01d8971a90 initialized for platform CUDA (this does not guarantee that XLA will be used). Devices:\n",
      "2024-05-19 05:10:09.293267: I tensorflow/compiler/xla/service/service.cc:177]   StreamExecutor device (0): Tesla V100-PCIE-32GB, Compute Capability 7.0\n",
      "2024-05-19 05:10:09.472540: I tensorflow/compiler/mlir/tensorflow/utils/dump_mlir_util.cc:269] disabling MLIR crash reproducer, set env var `MLIR_CRASH_REPRODUCER_DIRECTORY` to enable.\n",
      "2024-05-19 05:10:10.568626: I ./tensorflow/compiler/jit/device_compiler.h:180] Compiled cluster using XLA!  This line is logged at most once for the lifetime of the process.\n"
     ]
    },
    {
     "name": "stdout",
     "output_type": "stream",
     "text": [
      "562/562 [==============================] - ETA: 0s - loss: 4.8423 - accuracy: 0.0474"
     ]
    },
    {
     "name": "stderr",
     "output_type": "stream",
     "text": [
      "2024-05-19 05:10:31.435784: I tensorflow/core/common_runtime/executor.cc:1197] [/device:CPU:0] (DEBUG INFO) Executor start aborting (this does not indicate an error and you can ignore this message): INVALID_ARGUMENT: You must feed a value for placeholder tensor 'inputs' with dtype float and shape [?,256]\n",
      "\t [[{{node inputs}}]]\n",
      "2024-05-19 05:10:31.898209: I tensorflow/core/common_runtime/executor.cc:1197] [/device:CPU:0] (DEBUG INFO) Executor start aborting (this does not indicate an error and you can ignore this message): INVALID_ARGUMENT: You must feed a value for placeholder tensor 'inputs' with dtype float and shape [?,256]\n",
      "\t [[{{node inputs}}]]\n",
      "WARNING:absl:Found untraced functions such as _jit_compiled_convolution_op, _jit_compiled_convolution_op, _jit_compiled_convolution_op while saving (showing 3 of 3). These functions will not be directly callable after loading.\n"
     ]
    },
    {
     "name": "stdout",
     "output_type": "stream",
     "text": [
      "INFO:tensorflow:Assets written to: best_model/assets\n"
     ]
    },
    {
     "name": "stderr",
     "output_type": "stream",
     "text": [
      "INFO:tensorflow:Assets written to: best_model/assets\n"
     ]
    },
    {
     "name": "stdout",
     "output_type": "stream",
     "text": [
      "562/562 [==============================] - 27s 36ms/step - loss: 4.8423 - accuracy: 0.0474 - val_loss: 3.5764 - val_accuracy: 0.0460\n",
      "Epoch 2/100\n",
      "562/562 [==============================] - ETA: 0s - loss: 3.3781 - accuracy: 0.0495"
     ]
    },
    {
     "name": "stderr",
     "output_type": "stream",
     "text": [
      "2024-05-19 05:10:50.797122: I tensorflow/core/common_runtime/executor.cc:1197] [/device:CPU:0] (DEBUG INFO) Executor start aborting (this does not indicate an error and you can ignore this message): INVALID_ARGUMENT: You must feed a value for placeholder tensor 'inputs' with dtype float and shape [?,256]\n",
      "\t [[{{node inputs}}]]\n",
      "2024-05-19 05:10:51.406710: I tensorflow/core/common_runtime/executor.cc:1197] [/device:CPU:0] (DEBUG INFO) Executor start aborting (this does not indicate an error and you can ignore this message): INVALID_ARGUMENT: You must feed a value for placeholder tensor 'inputs' with dtype float and shape [?,256]\n",
      "\t [[{{node inputs}}]]\n",
      "WARNING:absl:Found untraced functions such as _jit_compiled_convolution_op, _jit_compiled_convolution_op, _jit_compiled_convolution_op while saving (showing 3 of 3). These functions will not be directly callable after loading.\n"
     ]
    },
    {
     "name": "stdout",
     "output_type": "stream",
     "text": [
      "INFO:tensorflow:Assets written to: best_model/assets\n"
     ]
    },
    {
     "name": "stderr",
     "output_type": "stream",
     "text": [
      "INFO:tensorflow:Assets written to: best_model/assets\n"
     ]
    },
    {
     "name": "stdout",
     "output_type": "stream",
     "text": [
      "562/562 [==============================] - 19s 34ms/step - loss: 3.3781 - accuracy: 0.0495 - val_loss: 3.2741 - val_accuracy: 0.0510\n",
      "Epoch 3/100\n",
      "561/562 [============================>.] - ETA: 0s - loss: 3.2526 - accuracy: 0.0531"
     ]
    },
    {
     "name": "stderr",
     "output_type": "stream",
     "text": [
      "2024-05-19 05:11:10.187940: I tensorflow/core/common_runtime/executor.cc:1197] [/device:CPU:0] (DEBUG INFO) Executor start aborting (this does not indicate an error and you can ignore this message): INVALID_ARGUMENT: You must feed a value for placeholder tensor 'inputs' with dtype float and shape [?,256]\n",
      "\t [[{{node inputs}}]]\n",
      "2024-05-19 05:11:10.550016: I tensorflow/core/common_runtime/executor.cc:1197] [/device:CPU:0] (DEBUG INFO) Executor start aborting (this does not indicate an error and you can ignore this message): INVALID_ARGUMENT: You must feed a value for placeholder tensor 'inputs' with dtype float and shape [?,256]\n",
      "\t [[{{node inputs}}]]\n",
      "WARNING:absl:Found untraced functions such as _jit_compiled_convolution_op, _jit_compiled_convolution_op, _jit_compiled_convolution_op while saving (showing 3 of 3). These functions will not be directly callable after loading.\n"
     ]
    },
    {
     "name": "stdout",
     "output_type": "stream",
     "text": [
      "INFO:tensorflow:Assets written to: best_model/assets\n"
     ]
    },
    {
     "name": "stderr",
     "output_type": "stream",
     "text": [
      "INFO:tensorflow:Assets written to: best_model/assets\n"
     ]
    },
    {
     "name": "stdout",
     "output_type": "stream",
     "text": [
      "562/562 [==============================] - 19s 34ms/step - loss: 3.2526 - accuracy: 0.0531 - val_loss: 3.2262 - val_accuracy: 0.0590\n",
      "Epoch 4/100\n",
      "561/562 [============================>.] - ETA: 0s - loss: 3.2250 - accuracy: 0.0543"
     ]
    },
    {
     "name": "stderr",
     "output_type": "stream",
     "text": [
      "2024-05-19 05:11:29.390328: I tensorflow/core/common_runtime/executor.cc:1197] [/device:CPU:0] (DEBUG INFO) Executor start aborting (this does not indicate an error and you can ignore this message): INVALID_ARGUMENT: You must feed a value for placeholder tensor 'inputs' with dtype float and shape [?,256]\n",
      "\t [[{{node inputs}}]]\n",
      "2024-05-19 05:11:29.758838: I tensorflow/core/common_runtime/executor.cc:1197] [/device:CPU:0] (DEBUG INFO) Executor start aborting (this does not indicate an error and you can ignore this message): INVALID_ARGUMENT: You must feed a value for placeholder tensor 'inputs' with dtype float and shape [?,256]\n",
      "\t [[{{node inputs}}]]\n",
      "WARNING:absl:Found untraced functions such as _jit_compiled_convolution_op, _jit_compiled_convolution_op, _jit_compiled_convolution_op while saving (showing 3 of 3). These functions will not be directly callable after loading.\n"
     ]
    },
    {
     "name": "stdout",
     "output_type": "stream",
     "text": [
      "INFO:tensorflow:Assets written to: best_model/assets\n"
     ]
    },
    {
     "name": "stderr",
     "output_type": "stream",
     "text": [
      "INFO:tensorflow:Assets written to: best_model/assets\n"
     ]
    },
    {
     "name": "stdout",
     "output_type": "stream",
     "text": [
      "562/562 [==============================] - 19s 34ms/step - loss: 3.2251 - accuracy: 0.0542 - val_loss: 3.1893 - val_accuracy: 0.0600\n",
      "Epoch 5/100\n",
      "562/562 [==============================] - 18s 32ms/step - loss: 3.2094 - accuracy: 0.0613 - val_loss: 3.1826 - val_accuracy: 0.0570\n",
      "Epoch 6/100\n",
      "562/562 [==============================] - ETA: 0s - loss: 3.1870 - accuracy: 0.0678"
     ]
    },
    {
     "name": "stderr",
     "output_type": "stream",
     "text": [
      "2024-05-19 05:12:06.555966: I tensorflow/core/common_runtime/executor.cc:1197] [/device:CPU:0] (DEBUG INFO) Executor start aborting (this does not indicate an error and you can ignore this message): INVALID_ARGUMENT: You must feed a value for placeholder tensor 'inputs' with dtype float and shape [?,256]\n",
      "\t [[{{node inputs}}]]\n",
      "2024-05-19 05:12:06.952502: I tensorflow/core/common_runtime/executor.cc:1197] [/device:CPU:0] (DEBUG INFO) Executor start aborting (this does not indicate an error and you can ignore this message): INVALID_ARGUMENT: You must feed a value for placeholder tensor 'inputs' with dtype float and shape [?,256]\n",
      "\t [[{{node inputs}}]]\n",
      "WARNING:absl:Found untraced functions such as _jit_compiled_convolution_op, _jit_compiled_convolution_op, _jit_compiled_convolution_op while saving (showing 3 of 3). These functions will not be directly callable after loading.\n"
     ]
    },
    {
     "name": "stdout",
     "output_type": "stream",
     "text": [
      "INFO:tensorflow:Assets written to: best_model/assets\n"
     ]
    },
    {
     "name": "stderr",
     "output_type": "stream",
     "text": [
      "INFO:tensorflow:Assets written to: best_model/assets\n"
     ]
    },
    {
     "name": "stdout",
     "output_type": "stream",
     "text": [
      "562/562 [==============================] - 19s 34ms/step - loss: 3.1870 - accuracy: 0.0678 - val_loss: 3.1062 - val_accuracy: 0.1110\n",
      "Epoch 7/100\n",
      "562/562 [==============================] - 18s 31ms/step - loss: 3.1656 - accuracy: 0.0778 - val_loss: 3.0535 - val_accuracy: 0.0910\n",
      "Epoch 8/100\n",
      "561/562 [============================>.] - ETA: 0s - loss: 3.1270 - accuracy: 0.0895"
     ]
    },
    {
     "name": "stderr",
     "output_type": "stream",
     "text": [
      "2024-05-19 05:12:43.588555: I tensorflow/core/common_runtime/executor.cc:1197] [/device:CPU:0] (DEBUG INFO) Executor start aborting (this does not indicate an error and you can ignore this message): INVALID_ARGUMENT: You must feed a value for placeholder tensor 'inputs' with dtype float and shape [?,256]\n",
      "\t [[{{node inputs}}]]\n",
      "2024-05-19 05:12:43.953896: I tensorflow/core/common_runtime/executor.cc:1197] [/device:CPU:0] (DEBUG INFO) Executor start aborting (this does not indicate an error and you can ignore this message): INVALID_ARGUMENT: You must feed a value for placeholder tensor 'inputs' with dtype float and shape [?,256]\n",
      "\t [[{{node inputs}}]]\n",
      "WARNING:absl:Found untraced functions such as _jit_compiled_convolution_op, _jit_compiled_convolution_op, _jit_compiled_convolution_op while saving (showing 3 of 3). These functions will not be directly callable after loading.\n"
     ]
    },
    {
     "name": "stdout",
     "output_type": "stream",
     "text": [
      "INFO:tensorflow:Assets written to: best_model/assets\n"
     ]
    },
    {
     "name": "stderr",
     "output_type": "stream",
     "text": [
      "INFO:tensorflow:Assets written to: best_model/assets\n"
     ]
    },
    {
     "name": "stdout",
     "output_type": "stream",
     "text": [
      "562/562 [==============================] - 19s 34ms/step - loss: 3.1270 - accuracy: 0.0896 - val_loss: 2.9688 - val_accuracy: 0.1180\n",
      "Epoch 9/100\n",
      "562/562 [==============================] - ETA: 0s - loss: 3.0936 - accuracy: 0.0981"
     ]
    },
    {
     "name": "stderr",
     "output_type": "stream",
     "text": [
      "2024-05-19 05:13:02.791146: I tensorflow/core/common_runtime/executor.cc:1197] [/device:CPU:0] (DEBUG INFO) Executor start aborting (this does not indicate an error and you can ignore this message): INVALID_ARGUMENT: You must feed a value for placeholder tensor 'inputs' with dtype float and shape [?,256]\n",
      "\t [[{{node inputs}}]]\n",
      "2024-05-19 05:13:03.511929: I tensorflow/core/common_runtime/executor.cc:1197] [/device:CPU:0] (DEBUG INFO) Executor start aborting (this does not indicate an error and you can ignore this message): INVALID_ARGUMENT: You must feed a value for placeholder tensor 'inputs' with dtype float and shape [?,256]\n",
      "\t [[{{node inputs}}]]\n",
      "WARNING:absl:Found untraced functions such as _jit_compiled_convolution_op, _jit_compiled_convolution_op, _jit_compiled_convolution_op while saving (showing 3 of 3). These functions will not be directly callable after loading.\n"
     ]
    },
    {
     "name": "stdout",
     "output_type": "stream",
     "text": [
      "INFO:tensorflow:Assets written to: best_model/assets\n"
     ]
    },
    {
     "name": "stderr",
     "output_type": "stream",
     "text": [
      "INFO:tensorflow:Assets written to: best_model/assets\n"
     ]
    },
    {
     "name": "stdout",
     "output_type": "stream",
     "text": [
      "562/562 [==============================] - 20s 35ms/step - loss: 3.0936 - accuracy: 0.0981 - val_loss: 2.9219 - val_accuracy: 0.1735\n",
      "Epoch 10/100\n",
      "562/562 [==============================] - ETA: 0s - loss: 3.0625 - accuracy: 0.1040"
     ]
    },
    {
     "name": "stderr",
     "output_type": "stream",
     "text": [
      "2024-05-19 05:13:22.224931: I tensorflow/core/common_runtime/executor.cc:1197] [/device:CPU:0] (DEBUG INFO) Executor start aborting (this does not indicate an error and you can ignore this message): INVALID_ARGUMENT: You must feed a value for placeholder tensor 'inputs' with dtype float and shape [?,256]\n",
      "\t [[{{node inputs}}]]\n",
      "2024-05-19 05:13:22.594644: I tensorflow/core/common_runtime/executor.cc:1197] [/device:CPU:0] (DEBUG INFO) Executor start aborting (this does not indicate an error and you can ignore this message): INVALID_ARGUMENT: You must feed a value for placeholder tensor 'inputs' with dtype float and shape [?,256]\n",
      "\t [[{{node inputs}}]]\n",
      "WARNING:absl:Found untraced functions such as _jit_compiled_convolution_op, _jit_compiled_convolution_op, _jit_compiled_convolution_op while saving (showing 3 of 3). These functions will not be directly callable after loading.\n"
     ]
    },
    {
     "name": "stdout",
     "output_type": "stream",
     "text": [
      "INFO:tensorflow:Assets written to: best_model/assets\n"
     ]
    },
    {
     "name": "stderr",
     "output_type": "stream",
     "text": [
      "INFO:tensorflow:Assets written to: best_model/assets\n"
     ]
    },
    {
     "name": "stdout",
     "output_type": "stream",
     "text": [
      "562/562 [==============================] - 19s 34ms/step - loss: 3.0625 - accuracy: 0.1040 - val_loss: 2.8025 - val_accuracy: 0.2035\n",
      "Epoch 11/100\n",
      "562/562 [==============================] - ETA: 0s - loss: 3.0304 - accuracy: 0.1140"
     ]
    },
    {
     "name": "stderr",
     "output_type": "stream",
     "text": [
      "2024-05-19 05:13:41.367983: I tensorflow/core/common_runtime/executor.cc:1197] [/device:CPU:0] (DEBUG INFO) Executor start aborting (this does not indicate an error and you can ignore this message): INVALID_ARGUMENT: You must feed a value for placeholder tensor 'inputs' with dtype float and shape [?,256]\n",
      "\t [[{{node inputs}}]]\n",
      "2024-05-19 05:13:41.741571: I tensorflow/core/common_runtime/executor.cc:1197] [/device:CPU:0] (DEBUG INFO) Executor start aborting (this does not indicate an error and you can ignore this message): INVALID_ARGUMENT: You must feed a value for placeholder tensor 'inputs' with dtype float and shape [?,256]\n",
      "\t [[{{node inputs}}]]\n",
      "WARNING:absl:Found untraced functions such as _jit_compiled_convolution_op, _jit_compiled_convolution_op, _jit_compiled_convolution_op while saving (showing 3 of 3). These functions will not be directly callable after loading.\n"
     ]
    },
    {
     "name": "stdout",
     "output_type": "stream",
     "text": [
      "INFO:tensorflow:Assets written to: best_model/assets\n"
     ]
    },
    {
     "name": "stderr",
     "output_type": "stream",
     "text": [
      "INFO:tensorflow:Assets written to: best_model/assets\n"
     ]
    },
    {
     "name": "stdout",
     "output_type": "stream",
     "text": [
      "562/562 [==============================] - 19s 34ms/step - loss: 3.0304 - accuracy: 0.1140 - val_loss: 2.7238 - val_accuracy: 0.2140\n",
      "Epoch 12/100\n",
      "561/562 [============================>.] - ETA: 0s - loss: 2.9967 - accuracy: 0.1286"
     ]
    },
    {
     "name": "stderr",
     "output_type": "stream",
     "text": [
      "2024-05-19 05:14:00.702254: I tensorflow/core/common_runtime/executor.cc:1197] [/device:CPU:0] (DEBUG INFO) Executor start aborting (this does not indicate an error and you can ignore this message): INVALID_ARGUMENT: You must feed a value for placeholder tensor 'inputs' with dtype float and shape [?,256]\n",
      "\t [[{{node inputs}}]]\n",
      "2024-05-19 05:14:01.085646: I tensorflow/core/common_runtime/executor.cc:1197] [/device:CPU:0] (DEBUG INFO) Executor start aborting (this does not indicate an error and you can ignore this message): INVALID_ARGUMENT: You must feed a value for placeholder tensor 'inputs' with dtype float and shape [?,256]\n",
      "\t [[{{node inputs}}]]\n",
      "WARNING:absl:Found untraced functions such as _jit_compiled_convolution_op, _jit_compiled_convolution_op, _jit_compiled_convolution_op while saving (showing 3 of 3). These functions will not be directly callable after loading.\n"
     ]
    },
    {
     "name": "stdout",
     "output_type": "stream",
     "text": [
      "INFO:tensorflow:Assets written to: best_model/assets\n"
     ]
    },
    {
     "name": "stderr",
     "output_type": "stream",
     "text": [
      "INFO:tensorflow:Assets written to: best_model/assets\n"
     ]
    },
    {
     "name": "stdout",
     "output_type": "stream",
     "text": [
      "562/562 [==============================] - 19s 34ms/step - loss: 2.9967 - accuracy: 0.1286 - val_loss: 2.6623 - val_accuracy: 0.2535\n",
      "Epoch 13/100\n",
      "561/562 [============================>.] - ETA: 0s - loss: 2.9637 - accuracy: 0.1351"
     ]
    },
    {
     "name": "stderr",
     "output_type": "stream",
     "text": [
      "2024-05-19 05:14:19.778343: I tensorflow/core/common_runtime/executor.cc:1197] [/device:CPU:0] (DEBUG INFO) Executor start aborting (this does not indicate an error and you can ignore this message): INVALID_ARGUMENT: You must feed a value for placeholder tensor 'inputs' with dtype float and shape [?,256]\n",
      "\t [[{{node inputs}}]]\n",
      "2024-05-19 05:14:20.147377: I tensorflow/core/common_runtime/executor.cc:1197] [/device:CPU:0] (DEBUG INFO) Executor start aborting (this does not indicate an error and you can ignore this message): INVALID_ARGUMENT: You must feed a value for placeholder tensor 'inputs' with dtype float and shape [?,256]\n",
      "\t [[{{node inputs}}]]\n",
      "WARNING:absl:Found untraced functions such as _jit_compiled_convolution_op, _jit_compiled_convolution_op, _jit_compiled_convolution_op while saving (showing 3 of 3). These functions will not be directly callable after loading.\n"
     ]
    },
    {
     "name": "stdout",
     "output_type": "stream",
     "text": [
      "INFO:tensorflow:Assets written to: best_model/assets\n"
     ]
    },
    {
     "name": "stderr",
     "output_type": "stream",
     "text": [
      "INFO:tensorflow:Assets written to: best_model/assets\n"
     ]
    },
    {
     "name": "stdout",
     "output_type": "stream",
     "text": [
      "562/562 [==============================] - 19s 34ms/step - loss: 2.9637 - accuracy: 0.1352 - val_loss: 2.5932 - val_accuracy: 0.2735\n",
      "Epoch 14/100\n",
      "562/562 [==============================] - ETA: 0s - loss: 2.9383 - accuracy: 0.1443"
     ]
    },
    {
     "name": "stderr",
     "output_type": "stream",
     "text": [
      "2024-05-19 05:14:38.981476: I tensorflow/core/common_runtime/executor.cc:1197] [/device:CPU:0] (DEBUG INFO) Executor start aborting (this does not indicate an error and you can ignore this message): INVALID_ARGUMENT: You must feed a value for placeholder tensor 'inputs' with dtype float and shape [?,256]\n",
      "\t [[{{node inputs}}]]\n",
      "2024-05-19 05:14:39.675900: I tensorflow/core/common_runtime/executor.cc:1197] [/device:CPU:0] (DEBUG INFO) Executor start aborting (this does not indicate an error and you can ignore this message): INVALID_ARGUMENT: You must feed a value for placeholder tensor 'inputs' with dtype float and shape [?,256]\n",
      "\t [[{{node inputs}}]]\n",
      "WARNING:absl:Found untraced functions such as _jit_compiled_convolution_op, _jit_compiled_convolution_op, _jit_compiled_convolution_op while saving (showing 3 of 3). These functions will not be directly callable after loading.\n"
     ]
    },
    {
     "name": "stdout",
     "output_type": "stream",
     "text": [
      "INFO:tensorflow:Assets written to: best_model/assets\n"
     ]
    },
    {
     "name": "stderr",
     "output_type": "stream",
     "text": [
      "INFO:tensorflow:Assets written to: best_model/assets\n"
     ]
    },
    {
     "name": "stdout",
     "output_type": "stream",
     "text": [
      "562/562 [==============================] - 20s 35ms/step - loss: 2.9383 - accuracy: 0.1443 - val_loss: 2.5304 - val_accuracy: 0.2885\n",
      "Epoch 15/100\n",
      "562/562 [==============================] - ETA: 0s - loss: 2.9072 - accuracy: 0.1492"
     ]
    },
    {
     "name": "stderr",
     "output_type": "stream",
     "text": [
      "2024-05-19 05:14:58.443793: I tensorflow/core/common_runtime/executor.cc:1197] [/device:CPU:0] (DEBUG INFO) Executor start aborting (this does not indicate an error and you can ignore this message): INVALID_ARGUMENT: You must feed a value for placeholder tensor 'inputs' with dtype float and shape [?,256]\n",
      "\t [[{{node inputs}}]]\n",
      "2024-05-19 05:14:58.819722: I tensorflow/core/common_runtime/executor.cc:1197] [/device:CPU:0] (DEBUG INFO) Executor start aborting (this does not indicate an error and you can ignore this message): INVALID_ARGUMENT: You must feed a value for placeholder tensor 'inputs' with dtype float and shape [?,256]\n",
      "\t [[{{node inputs}}]]\n",
      "WARNING:absl:Found untraced functions such as _jit_compiled_convolution_op, _jit_compiled_convolution_op, _jit_compiled_convolution_op while saving (showing 3 of 3). These functions will not be directly callable after loading.\n"
     ]
    },
    {
     "name": "stdout",
     "output_type": "stream",
     "text": [
      "INFO:tensorflow:Assets written to: best_model/assets\n"
     ]
    },
    {
     "name": "stderr",
     "output_type": "stream",
     "text": [
      "INFO:tensorflow:Assets written to: best_model/assets\n"
     ]
    },
    {
     "name": "stdout",
     "output_type": "stream",
     "text": [
      "562/562 [==============================] - 19s 34ms/step - loss: 2.9072 - accuracy: 0.1492 - val_loss: 2.4702 - val_accuracy: 0.3190\n",
      "Epoch 16/100\n",
      "562/562 [==============================] - 18s 31ms/step - loss: 2.8756 - accuracy: 0.1621 - val_loss: 2.4334 - val_accuracy: 0.3150\n",
      "Epoch 17/100\n",
      "562/562 [==============================] - 18s 31ms/step - loss: 2.8402 - accuracy: 0.1678 - val_loss: 2.3839 - val_accuracy: 0.3170\n",
      "Epoch 18/100\n",
      "562/562 [==============================] - ETA: 0s - loss: 2.8204 - accuracy: 0.1778"
     ]
    },
    {
     "name": "stderr",
     "output_type": "stream",
     "text": [
      "2024-05-19 05:15:52.859084: I tensorflow/core/common_runtime/executor.cc:1197] [/device:CPU:0] (DEBUG INFO) Executor start aborting (this does not indicate an error and you can ignore this message): INVALID_ARGUMENT: You must feed a value for placeholder tensor 'inputs' with dtype float and shape [?,256]\n",
      "\t [[{{node inputs}}]]\n",
      "2024-05-19 05:15:53.232049: I tensorflow/core/common_runtime/executor.cc:1197] [/device:CPU:0] (DEBUG INFO) Executor start aborting (this does not indicate an error and you can ignore this message): INVALID_ARGUMENT: You must feed a value for placeholder tensor 'inputs' with dtype float and shape [?,256]\n",
      "\t [[{{node inputs}}]]\n",
      "WARNING:absl:Found untraced functions such as _jit_compiled_convolution_op, _jit_compiled_convolution_op, _jit_compiled_convolution_op while saving (showing 3 of 3). These functions will not be directly callable after loading.\n"
     ]
    },
    {
     "name": "stdout",
     "output_type": "stream",
     "text": [
      "INFO:tensorflow:Assets written to: best_model/assets\n"
     ]
    },
    {
     "name": "stderr",
     "output_type": "stream",
     "text": [
      "INFO:tensorflow:Assets written to: best_model/assets\n"
     ]
    },
    {
     "name": "stdout",
     "output_type": "stream",
     "text": [
      "562/562 [==============================] - 19s 34ms/step - loss: 2.8204 - accuracy: 0.1778 - val_loss: 2.3534 - val_accuracy: 0.3530\n",
      "Epoch 19/100\n",
      "562/562 [==============================] - 18s 31ms/step - loss: 2.7999 - accuracy: 0.1843 - val_loss: 2.3303 - val_accuracy: 0.3395\n",
      "Epoch 20/100\n",
      "562/562 [==============================] - ETA: 0s - loss: 2.7657 - accuracy: 0.1921"
     ]
    },
    {
     "name": "stderr",
     "output_type": "stream",
     "text": [
      "2024-05-19 05:16:29.761171: I tensorflow/core/common_runtime/executor.cc:1197] [/device:CPU:0] (DEBUG INFO) Executor start aborting (this does not indicate an error and you can ignore this message): INVALID_ARGUMENT: You must feed a value for placeholder tensor 'inputs' with dtype float and shape [?,256]\n",
      "\t [[{{node inputs}}]]\n",
      "2024-05-19 05:16:30.148191: I tensorflow/core/common_runtime/executor.cc:1197] [/device:CPU:0] (DEBUG INFO) Executor start aborting (this does not indicate an error and you can ignore this message): INVALID_ARGUMENT: You must feed a value for placeholder tensor 'inputs' with dtype float and shape [?,256]\n",
      "\t [[{{node inputs}}]]\n",
      "WARNING:absl:Found untraced functions such as _jit_compiled_convolution_op, _jit_compiled_convolution_op, _jit_compiled_convolution_op while saving (showing 3 of 3). These functions will not be directly callable after loading.\n"
     ]
    },
    {
     "name": "stdout",
     "output_type": "stream",
     "text": [
      "INFO:tensorflow:Assets written to: best_model/assets\n"
     ]
    },
    {
     "name": "stderr",
     "output_type": "stream",
     "text": [
      "INFO:tensorflow:Assets written to: best_model/assets\n"
     ]
    },
    {
     "name": "stdout",
     "output_type": "stream",
     "text": [
      "562/562 [==============================] - 19s 34ms/step - loss: 2.7657 - accuracy: 0.1921 - val_loss: 2.2478 - val_accuracy: 0.3615\n",
      "Epoch 21/100\n",
      "562/562 [==============================] - ETA: 0s - loss: 2.7522 - accuracy: 0.1965"
     ]
    },
    {
     "name": "stderr",
     "output_type": "stream",
     "text": [
      "2024-05-19 05:16:49.663924: I tensorflow/core/common_runtime/executor.cc:1197] [/device:CPU:0] (DEBUG INFO) Executor start aborting (this does not indicate an error and you can ignore this message): INVALID_ARGUMENT: You must feed a value for placeholder tensor 'inputs' with dtype float and shape [?,256]\n",
      "\t [[{{node inputs}}]]\n",
      "2024-05-19 05:16:50.046936: I tensorflow/core/common_runtime/executor.cc:1197] [/device:CPU:0] (DEBUG INFO) Executor start aborting (this does not indicate an error and you can ignore this message): INVALID_ARGUMENT: You must feed a value for placeholder tensor 'inputs' with dtype float and shape [?,256]\n",
      "\t [[{{node inputs}}]]\n",
      "WARNING:absl:Found untraced functions such as _jit_compiled_convolution_op, _jit_compiled_convolution_op, _jit_compiled_convolution_op while saving (showing 3 of 3). These functions will not be directly callable after loading.\n"
     ]
    },
    {
     "name": "stdout",
     "output_type": "stream",
     "text": [
      "INFO:tensorflow:Assets written to: best_model/assets\n"
     ]
    },
    {
     "name": "stderr",
     "output_type": "stream",
     "text": [
      "INFO:tensorflow:Assets written to: best_model/assets\n"
     ]
    },
    {
     "name": "stdout",
     "output_type": "stream",
     "text": [
      "562/562 [==============================] - 20s 35ms/step - loss: 2.7522 - accuracy: 0.1965 - val_loss: 2.2224 - val_accuracy: 0.3695\n",
      "Epoch 22/100\n",
      "562/562 [==============================] - 18s 33ms/step - loss: 2.7350 - accuracy: 0.2070 - val_loss: 2.2165 - val_accuracy: 0.3670\n",
      "Epoch 23/100\n",
      "562/562 [==============================] - ETA: 0s - loss: 2.7219 - accuracy: 0.2031"
     ]
    },
    {
     "name": "stderr",
     "output_type": "stream",
     "text": [
      "2024-05-19 05:17:27.717517: I tensorflow/core/common_runtime/executor.cc:1197] [/device:CPU:0] (DEBUG INFO) Executor start aborting (this does not indicate an error and you can ignore this message): INVALID_ARGUMENT: You must feed a value for placeholder tensor 'inputs' with dtype float and shape [?,256]\n",
      "\t [[{{node inputs}}]]\n",
      "2024-05-19 05:17:28.118255: I tensorflow/core/common_runtime/executor.cc:1197] [/device:CPU:0] (DEBUG INFO) Executor start aborting (this does not indicate an error and you can ignore this message): INVALID_ARGUMENT: You must feed a value for placeholder tensor 'inputs' with dtype float and shape [?,256]\n",
      "\t [[{{node inputs}}]]\n",
      "WARNING:absl:Found untraced functions such as _jit_compiled_convolution_op, _jit_compiled_convolution_op, _jit_compiled_convolution_op while saving (showing 3 of 3). These functions will not be directly callable after loading.\n"
     ]
    },
    {
     "name": "stdout",
     "output_type": "stream",
     "text": [
      "INFO:tensorflow:Assets written to: best_model/assets\n"
     ]
    },
    {
     "name": "stderr",
     "output_type": "stream",
     "text": [
      "INFO:tensorflow:Assets written to: best_model/assets\n"
     ]
    },
    {
     "name": "stdout",
     "output_type": "stream",
     "text": [
      "562/562 [==============================] - 20s 35ms/step - loss: 2.7219 - accuracy: 0.2031 - val_loss: 2.1720 - val_accuracy: 0.4075\n",
      "Epoch 24/100\n",
      "562/562 [==============================] - ETA: 0s - loss: 2.7021 - accuracy: 0.2069"
     ]
    },
    {
     "name": "stderr",
     "output_type": "stream",
     "text": [
      "2024-05-19 05:17:46.903027: I tensorflow/core/common_runtime/executor.cc:1197] [/device:CPU:0] (DEBUG INFO) Executor start aborting (this does not indicate an error and you can ignore this message): INVALID_ARGUMENT: You must feed a value for placeholder tensor 'inputs' with dtype float and shape [?,256]\n",
      "\t [[{{node inputs}}]]\n",
      "2024-05-19 05:17:47.283328: I tensorflow/core/common_runtime/executor.cc:1197] [/device:CPU:0] (DEBUG INFO) Executor start aborting (this does not indicate an error and you can ignore this message): INVALID_ARGUMENT: You must feed a value for placeholder tensor 'inputs' with dtype float and shape [?,256]\n",
      "\t [[{{node inputs}}]]\n",
      "WARNING:absl:Found untraced functions such as _jit_compiled_convolution_op, _jit_compiled_convolution_op, _jit_compiled_convolution_op while saving (showing 3 of 3). These functions will not be directly callable after loading.\n"
     ]
    },
    {
     "name": "stdout",
     "output_type": "stream",
     "text": [
      "INFO:tensorflow:Assets written to: best_model/assets\n"
     ]
    },
    {
     "name": "stderr",
     "output_type": "stream",
     "text": [
      "INFO:tensorflow:Assets written to: best_model/assets\n"
     ]
    },
    {
     "name": "stdout",
     "output_type": "stream",
     "text": [
      "562/562 [==============================] - 19s 34ms/step - loss: 2.7021 - accuracy: 0.2069 - val_loss: 2.1167 - val_accuracy: 0.4135\n",
      "Epoch 25/100\n",
      "562/562 [==============================] - ETA: 0s - loss: 2.6856 - accuracy: 0.2140"
     ]
    },
    {
     "name": "stderr",
     "output_type": "stream",
     "text": [
      "2024-05-19 05:18:06.266564: I tensorflow/core/common_runtime/executor.cc:1197] [/device:CPU:0] (DEBUG INFO) Executor start aborting (this does not indicate an error and you can ignore this message): INVALID_ARGUMENT: You must feed a value for placeholder tensor 'inputs' with dtype float and shape [?,256]\n",
      "\t [[{{node inputs}}]]\n",
      "2024-05-19 05:18:06.665643: I tensorflow/core/common_runtime/executor.cc:1197] [/device:CPU:0] (DEBUG INFO) Executor start aborting (this does not indicate an error and you can ignore this message): INVALID_ARGUMENT: You must feed a value for placeholder tensor 'inputs' with dtype float and shape [?,256]\n",
      "\t [[{{node inputs}}]]\n",
      "WARNING:absl:Found untraced functions such as _jit_compiled_convolution_op, _jit_compiled_convolution_op, _jit_compiled_convolution_op while saving (showing 3 of 3). These functions will not be directly callable after loading.\n"
     ]
    },
    {
     "name": "stdout",
     "output_type": "stream",
     "text": [
      "INFO:tensorflow:Assets written to: best_model/assets\n"
     ]
    },
    {
     "name": "stderr",
     "output_type": "stream",
     "text": [
      "INFO:tensorflow:Assets written to: best_model/assets\n"
     ]
    },
    {
     "name": "stdout",
     "output_type": "stream",
     "text": [
      "562/562 [==============================] - 19s 34ms/step - loss: 2.6856 - accuracy: 0.2140 - val_loss: 2.0765 - val_accuracy: 0.4275\n",
      "Epoch 26/100\n",
      "562/562 [==============================] - 18s 31ms/step - loss: 2.6640 - accuracy: 0.2188 - val_loss: 2.0782 - val_accuracy: 0.4250\n",
      "Epoch 27/100\n",
      "562/562 [==============================] - 18s 31ms/step - loss: 2.6362 - accuracy: 0.2299 - val_loss: 2.0763 - val_accuracy: 0.4265\n",
      "Epoch 28/100\n",
      "562/562 [==============================] - 19s 33ms/step - loss: 2.6334 - accuracy: 0.2314 - val_loss: 2.0571 - val_accuracy: 0.4215\n",
      "Epoch 29/100\n",
      "562/562 [==============================] - 18s 32ms/step - loss: 2.6229 - accuracy: 0.2325 - val_loss: 2.0527 - val_accuracy: 0.4150\n",
      "Epoch 30/100\n",
      "561/562 [============================>.] - ETA: 0s - loss: 2.6168 - accuracy: 0.2375"
     ]
    },
    {
     "name": "stderr",
     "output_type": "stream",
     "text": [
      "2024-05-19 05:19:38.548845: I tensorflow/core/common_runtime/executor.cc:1197] [/device:CPU:0] (DEBUG INFO) Executor start aborting (this does not indicate an error and you can ignore this message): INVALID_ARGUMENT: You must feed a value for placeholder tensor 'inputs' with dtype float and shape [?,256]\n",
      "\t [[{{node inputs}}]]\n",
      "2024-05-19 05:19:38.957972: I tensorflow/core/common_runtime/executor.cc:1197] [/device:CPU:0] (DEBUG INFO) Executor start aborting (this does not indicate an error and you can ignore this message): INVALID_ARGUMENT: You must feed a value for placeholder tensor 'inputs' with dtype float and shape [?,256]\n",
      "\t [[{{node inputs}}]]\n",
      "WARNING:absl:Found untraced functions such as _jit_compiled_convolution_op, _jit_compiled_convolution_op, _jit_compiled_convolution_op while saving (showing 3 of 3). These functions will not be directly callable after loading.\n"
     ]
    },
    {
     "name": "stdout",
     "output_type": "stream",
     "text": [
      "INFO:tensorflow:Assets written to: best_model/assets\n"
     ]
    },
    {
     "name": "stderr",
     "output_type": "stream",
     "text": [
      "INFO:tensorflow:Assets written to: best_model/assets\n"
     ]
    },
    {
     "name": "stdout",
     "output_type": "stream",
     "text": [
      "562/562 [==============================] - 20s 36ms/step - loss: 2.6169 - accuracy: 0.2372 - val_loss: 2.0276 - val_accuracy: 0.4375\n",
      "Epoch 31/100\n",
      "562/562 [==============================] - ETA: 0s - loss: 2.5911 - accuracy: 0.2420"
     ]
    },
    {
     "name": "stderr",
     "output_type": "stream",
     "text": [
      "2024-05-19 05:19:57.944898: I tensorflow/core/common_runtime/executor.cc:1197] [/device:CPU:0] (DEBUG INFO) Executor start aborting (this does not indicate an error and you can ignore this message): INVALID_ARGUMENT: You must feed a value for placeholder tensor 'inputs' with dtype float and shape [?,256]\n",
      "\t [[{{node inputs}}]]\n",
      "2024-05-19 05:19:58.315828: I tensorflow/core/common_runtime/executor.cc:1197] [/device:CPU:0] (DEBUG INFO) Executor start aborting (this does not indicate an error and you can ignore this message): INVALID_ARGUMENT: You must feed a value for placeholder tensor 'inputs' with dtype float and shape [?,256]\n",
      "\t [[{{node inputs}}]]\n",
      "WARNING:absl:Found untraced functions such as _jit_compiled_convolution_op, _jit_compiled_convolution_op, _jit_compiled_convolution_op while saving (showing 3 of 3). These functions will not be directly callable after loading.\n"
     ]
    },
    {
     "name": "stdout",
     "output_type": "stream",
     "text": [
      "INFO:tensorflow:Assets written to: best_model/assets\n"
     ]
    },
    {
     "name": "stderr",
     "output_type": "stream",
     "text": [
      "INFO:tensorflow:Assets written to: best_model/assets\n"
     ]
    },
    {
     "name": "stdout",
     "output_type": "stream",
     "text": [
      "562/562 [==============================] - 19s 34ms/step - loss: 2.5911 - accuracy: 0.2420 - val_loss: 1.9746 - val_accuracy: 0.4565\n",
      "Epoch 32/100\n",
      "562/562 [==============================] - 18s 31ms/step - loss: 2.5847 - accuracy: 0.2466 - val_loss: 1.9768 - val_accuracy: 0.4460\n",
      "Epoch 33/100\n",
      "562/562 [==============================] - 18s 31ms/step - loss: 2.5582 - accuracy: 0.2522 - val_loss: 1.9563 - val_accuracy: 0.4335\n",
      "Epoch 34/100\n",
      "562/562 [==============================] - ETA: 0s - loss: 2.5618 - accuracy: 0.2506"
     ]
    },
    {
     "name": "stderr",
     "output_type": "stream",
     "text": [
      "2024-05-19 05:20:53.356020: I tensorflow/core/common_runtime/executor.cc:1197] [/device:CPU:0] (DEBUG INFO) Executor start aborting (this does not indicate an error and you can ignore this message): INVALID_ARGUMENT: You must feed a value for placeholder tensor 'inputs' with dtype float and shape [?,256]\n",
      "\t [[{{node inputs}}]]\n",
      "2024-05-19 05:20:53.745041: I tensorflow/core/common_runtime/executor.cc:1197] [/device:CPU:0] (DEBUG INFO) Executor start aborting (this does not indicate an error and you can ignore this message): INVALID_ARGUMENT: You must feed a value for placeholder tensor 'inputs' with dtype float and shape [?,256]\n",
      "\t [[{{node inputs}}]]\n",
      "WARNING:absl:Found untraced functions such as _jit_compiled_convolution_op, _jit_compiled_convolution_op, _jit_compiled_convolution_op while saving (showing 3 of 3). These functions will not be directly callable after loading.\n"
     ]
    },
    {
     "name": "stdout",
     "output_type": "stream",
     "text": [
      "INFO:tensorflow:Assets written to: best_model/assets\n"
     ]
    },
    {
     "name": "stderr",
     "output_type": "stream",
     "text": [
      "INFO:tensorflow:Assets written to: best_model/assets\n"
     ]
    },
    {
     "name": "stdout",
     "output_type": "stream",
     "text": [
      "562/562 [==============================] - 20s 36ms/step - loss: 2.5618 - accuracy: 0.2506 - val_loss: 1.9172 - val_accuracy: 0.4660\n",
      "Epoch 35/100\n",
      "562/562 [==============================] - 18s 32ms/step - loss: 2.5484 - accuracy: 0.2511 - val_loss: 1.9277 - val_accuracy: 0.4475\n",
      "Epoch 36/100\n",
      "562/562 [==============================] - ETA: 0s - loss: 2.5321 - accuracy: 0.2536"
     ]
    },
    {
     "name": "stderr",
     "output_type": "stream",
     "text": [
      "2024-05-19 05:21:30.591686: I tensorflow/core/common_runtime/executor.cc:1197] [/device:CPU:0] (DEBUG INFO) Executor start aborting (this does not indicate an error and you can ignore this message): INVALID_ARGUMENT: You must feed a value for placeholder tensor 'inputs' with dtype float and shape [?,256]\n",
      "\t [[{{node inputs}}]]\n",
      "2024-05-19 05:21:30.991789: I tensorflow/core/common_runtime/executor.cc:1197] [/device:CPU:0] (DEBUG INFO) Executor start aborting (this does not indicate an error and you can ignore this message): INVALID_ARGUMENT: You must feed a value for placeholder tensor 'inputs' with dtype float and shape [?,256]\n",
      "\t [[{{node inputs}}]]\n",
      "WARNING:absl:Found untraced functions such as _jit_compiled_convolution_op, _jit_compiled_convolution_op, _jit_compiled_convolution_op while saving (showing 3 of 3). These functions will not be directly callable after loading.\n"
     ]
    },
    {
     "name": "stdout",
     "output_type": "stream",
     "text": [
      "INFO:tensorflow:Assets written to: best_model/assets\n"
     ]
    },
    {
     "name": "stderr",
     "output_type": "stream",
     "text": [
      "INFO:tensorflow:Assets written to: best_model/assets\n"
     ]
    },
    {
     "name": "stdout",
     "output_type": "stream",
     "text": [
      "562/562 [==============================] - 19s 34ms/step - loss: 2.5321 - accuracy: 0.2536 - val_loss: 1.8853 - val_accuracy: 0.4745\n",
      "Epoch 37/100\n",
      "562/562 [==============================] - 18s 31ms/step - loss: 2.5234 - accuracy: 0.2599 - val_loss: 1.9056 - val_accuracy: 0.4740\n",
      "Epoch 38/100\n",
      "562/562 [==============================] - 18s 31ms/step - loss: 2.5172 - accuracy: 0.2638 - val_loss: 1.8710 - val_accuracy: 0.4605\n",
      "Epoch 39/100\n",
      "561/562 [============================>.] - ETA: 0s - loss: 2.5003 - accuracy: 0.2639"
     ]
    },
    {
     "name": "stderr",
     "output_type": "stream",
     "text": [
      "2024-05-19 05:22:25.085544: I tensorflow/core/common_runtime/executor.cc:1197] [/device:CPU:0] (DEBUG INFO) Executor start aborting (this does not indicate an error and you can ignore this message): INVALID_ARGUMENT: You must feed a value for placeholder tensor 'inputs' with dtype float and shape [?,256]\n",
      "\t [[{{node inputs}}]]\n",
      "2024-05-19 05:22:25.453177: I tensorflow/core/common_runtime/executor.cc:1197] [/device:CPU:0] (DEBUG INFO) Executor start aborting (this does not indicate an error and you can ignore this message): INVALID_ARGUMENT: You must feed a value for placeholder tensor 'inputs' with dtype float and shape [?,256]\n",
      "\t [[{{node inputs}}]]\n",
      "WARNING:absl:Found untraced functions such as _jit_compiled_convolution_op, _jit_compiled_convolution_op, _jit_compiled_convolution_op while saving (showing 3 of 3). These functions will not be directly callable after loading.\n"
     ]
    },
    {
     "name": "stdout",
     "output_type": "stream",
     "text": [
      "INFO:tensorflow:Assets written to: best_model/assets\n"
     ]
    },
    {
     "name": "stderr",
     "output_type": "stream",
     "text": [
      "INFO:tensorflow:Assets written to: best_model/assets\n"
     ]
    },
    {
     "name": "stdout",
     "output_type": "stream",
     "text": [
      "562/562 [==============================] - 19s 34ms/step - loss: 2.5005 - accuracy: 0.2639 - val_loss: 1.8646 - val_accuracy: 0.4805\n",
      "Epoch 40/100\n",
      "562/562 [==============================] - ETA: 0s - loss: 2.4839 - accuracy: 0.2676"
     ]
    },
    {
     "name": "stderr",
     "output_type": "stream",
     "text": [
      "2024-05-19 05:22:44.168224: I tensorflow/core/common_runtime/executor.cc:1197] [/device:CPU:0] (DEBUG INFO) Executor start aborting (this does not indicate an error and you can ignore this message): INVALID_ARGUMENT: You must feed a value for placeholder tensor 'inputs' with dtype float and shape [?,256]\n",
      "\t [[{{node inputs}}]]\n",
      "2024-05-19 05:22:44.544364: I tensorflow/core/common_runtime/executor.cc:1197] [/device:CPU:0] (DEBUG INFO) Executor start aborting (this does not indicate an error and you can ignore this message): INVALID_ARGUMENT: You must feed a value for placeholder tensor 'inputs' with dtype float and shape [?,256]\n",
      "\t [[{{node inputs}}]]\n",
      "WARNING:absl:Found untraced functions such as _jit_compiled_convolution_op, _jit_compiled_convolution_op, _jit_compiled_convolution_op while saving (showing 3 of 3). These functions will not be directly callable after loading.\n"
     ]
    },
    {
     "name": "stdout",
     "output_type": "stream",
     "text": [
      "INFO:tensorflow:Assets written to: best_model/assets\n"
     ]
    },
    {
     "name": "stderr",
     "output_type": "stream",
     "text": [
      "INFO:tensorflow:Assets written to: best_model/assets\n"
     ]
    },
    {
     "name": "stdout",
     "output_type": "stream",
     "text": [
      "562/562 [==============================] - 19s 34ms/step - loss: 2.4839 - accuracy: 0.2676 - val_loss: 1.8768 - val_accuracy: 0.4940\n",
      "Epoch 41/100\n",
      "562/562 [==============================] - 18s 32ms/step - loss: 2.4806 - accuracy: 0.2690 - val_loss: 1.8549 - val_accuracy: 0.4720\n",
      "Epoch 42/100\n",
      "562/562 [==============================] - 18s 31ms/step - loss: 2.4818 - accuracy: 0.2763 - val_loss: 1.8122 - val_accuracy: 0.4820\n",
      "Epoch 43/100\n",
      "562/562 [==============================] - 18s 31ms/step - loss: 2.4629 - accuracy: 0.2764 - val_loss: 1.8195 - val_accuracy: 0.4905\n",
      "Epoch 44/100\n",
      "562/562 [==============================] - 18s 31ms/step - loss: 2.4604 - accuracy: 0.2801 - val_loss: 1.8114 - val_accuracy: 0.4865\n",
      "Epoch 45/100\n",
      "561/562 [============================>.] - ETA: 0s - loss: 2.4352 - accuracy: 0.2840"
     ]
    },
    {
     "name": "stderr",
     "output_type": "stream",
     "text": [
      "2024-05-19 05:24:14.095736: I tensorflow/core/common_runtime/executor.cc:1197] [/device:CPU:0] (DEBUG INFO) Executor start aborting (this does not indicate an error and you can ignore this message): INVALID_ARGUMENT: You must feed a value for placeholder tensor 'inputs' with dtype float and shape [?,256]\n",
      "\t [[{{node inputs}}]]\n",
      "2024-05-19 05:24:14.467867: I tensorflow/core/common_runtime/executor.cc:1197] [/device:CPU:0] (DEBUG INFO) Executor start aborting (this does not indicate an error and you can ignore this message): INVALID_ARGUMENT: You must feed a value for placeholder tensor 'inputs' with dtype float and shape [?,256]\n",
      "\t [[{{node inputs}}]]\n",
      "WARNING:absl:Found untraced functions such as _jit_compiled_convolution_op, _jit_compiled_convolution_op, _jit_compiled_convolution_op while saving (showing 3 of 3). These functions will not be directly callable after loading.\n"
     ]
    },
    {
     "name": "stdout",
     "output_type": "stream",
     "text": [
      "INFO:tensorflow:Assets written to: best_model/assets\n"
     ]
    },
    {
     "name": "stderr",
     "output_type": "stream",
     "text": [
      "INFO:tensorflow:Assets written to: best_model/assets\n"
     ]
    },
    {
     "name": "stdout",
     "output_type": "stream",
     "text": [
      "562/562 [==============================] - 19s 34ms/step - loss: 2.4359 - accuracy: 0.2839 - val_loss: 1.7577 - val_accuracy: 0.5195\n",
      "Epoch 46/100\n",
      "562/562 [==============================] - 18s 31ms/step - loss: 2.4435 - accuracy: 0.2849 - val_loss: 1.7987 - val_accuracy: 0.5140\n",
      "Epoch 47/100\n",
      "562/562 [==============================] - 18s 32ms/step - loss: 2.4283 - accuracy: 0.2895 - val_loss: 1.7658 - val_accuracy: 0.5170\n",
      "Epoch 48/100\n",
      "562/562 [==============================] - 18s 32ms/step - loss: 2.4118 - accuracy: 0.2935 - val_loss: 1.7507 - val_accuracy: 0.5115\n",
      "Epoch 49/100\n",
      "562/562 [==============================] - 18s 31ms/step - loss: 2.4018 - accuracy: 0.2915 - val_loss: 1.7405 - val_accuracy: 0.5195\n",
      "Epoch 50/100\n",
      "562/562 [==============================] - 18s 32ms/step - loss: 2.3968 - accuracy: 0.2964 - val_loss: 1.7318 - val_accuracy: 0.5070\n",
      "Epoch 51/100\n",
      "562/562 [==============================] - ETA: 0s - loss: 2.3986 - accuracy: 0.2989"
     ]
    },
    {
     "name": "stderr",
     "output_type": "stream",
     "text": [
      "2024-05-19 05:26:02.346526: I tensorflow/core/common_runtime/executor.cc:1197] [/device:CPU:0] (DEBUG INFO) Executor start aborting (this does not indicate an error and you can ignore this message): INVALID_ARGUMENT: You must feed a value for placeholder tensor 'inputs' with dtype float and shape [?,256]\n",
      "\t [[{{node inputs}}]]\n",
      "2024-05-19 05:26:02.718880: I tensorflow/core/common_runtime/executor.cc:1197] [/device:CPU:0] (DEBUG INFO) Executor start aborting (this does not indicate an error and you can ignore this message): INVALID_ARGUMENT: You must feed a value for placeholder tensor 'inputs' with dtype float and shape [?,256]\n",
      "\t [[{{node inputs}}]]\n",
      "WARNING:absl:Found untraced functions such as _jit_compiled_convolution_op, _jit_compiled_convolution_op, _jit_compiled_convolution_op while saving (showing 3 of 3). These functions will not be directly callable after loading.\n"
     ]
    },
    {
     "name": "stdout",
     "output_type": "stream",
     "text": [
      "INFO:tensorflow:Assets written to: best_model/assets\n"
     ]
    },
    {
     "name": "stderr",
     "output_type": "stream",
     "text": [
      "INFO:tensorflow:Assets written to: best_model/assets\n"
     ]
    },
    {
     "name": "stdout",
     "output_type": "stream",
     "text": [
      "562/562 [==============================] - 19s 35ms/step - loss: 2.3986 - accuracy: 0.2989 - val_loss: 1.7173 - val_accuracy: 0.5245\n",
      "Epoch 52/100\n",
      "562/562 [==============================] - 18s 31ms/step - loss: 2.3863 - accuracy: 0.3007 - val_loss: 1.7475 - val_accuracy: 0.5125\n",
      "Epoch 53/100\n",
      "562/562 [==============================] - 18s 31ms/step - loss: 2.3929 - accuracy: 0.2988 - val_loss: 1.7221 - val_accuracy: 0.5155\n",
      "Epoch 54/100\n",
      "562/562 [==============================] - ETA: 0s - loss: 2.3705 - accuracy: 0.3098"
     ]
    },
    {
     "name": "stderr",
     "output_type": "stream",
     "text": [
      "2024-05-19 05:26:56.697786: I tensorflow/core/common_runtime/executor.cc:1197] [/device:CPU:0] (DEBUG INFO) Executor start aborting (this does not indicate an error and you can ignore this message): INVALID_ARGUMENT: You must feed a value for placeholder tensor 'inputs' with dtype float and shape [?,256]\n",
      "\t [[{{node inputs}}]]\n",
      "2024-05-19 05:26:57.058708: I tensorflow/core/common_runtime/executor.cc:1197] [/device:CPU:0] (DEBUG INFO) Executor start aborting (this does not indicate an error and you can ignore this message): INVALID_ARGUMENT: You must feed a value for placeholder tensor 'inputs' with dtype float and shape [?,256]\n",
      "\t [[{{node inputs}}]]\n",
      "WARNING:absl:Found untraced functions such as _jit_compiled_convolution_op, _jit_compiled_convolution_op, _jit_compiled_convolution_op while saving (showing 3 of 3). These functions will not be directly callable after loading.\n"
     ]
    },
    {
     "name": "stdout",
     "output_type": "stream",
     "text": [
      "INFO:tensorflow:Assets written to: best_model/assets\n"
     ]
    },
    {
     "name": "stderr",
     "output_type": "stream",
     "text": [
      "INFO:tensorflow:Assets written to: best_model/assets\n"
     ]
    },
    {
     "name": "stdout",
     "output_type": "stream",
     "text": [
      "562/562 [==============================] - 19s 34ms/step - loss: 2.3705 - accuracy: 0.3098 - val_loss: 1.6936 - val_accuracy: 0.5255\n",
      "Epoch 55/100\n",
      "562/562 [==============================] - 18s 31ms/step - loss: 2.3543 - accuracy: 0.3134 - val_loss: 1.7296 - val_accuracy: 0.5125\n",
      "Epoch 56/100\n",
      "561/562 [============================>.] - ETA: 0s - loss: 2.3507 - accuracy: 0.3075"
     ]
    },
    {
     "name": "stderr",
     "output_type": "stream",
     "text": [
      "2024-05-19 05:27:33.508324: I tensorflow/core/common_runtime/executor.cc:1197] [/device:CPU:0] (DEBUG INFO) Executor start aborting (this does not indicate an error and you can ignore this message): INVALID_ARGUMENT: You must feed a value for placeholder tensor 'inputs' with dtype float and shape [?,256]\n",
      "\t [[{{node inputs}}]]\n",
      "2024-05-19 05:27:33.877805: I tensorflow/core/common_runtime/executor.cc:1197] [/device:CPU:0] (DEBUG INFO) Executor start aborting (this does not indicate an error and you can ignore this message): INVALID_ARGUMENT: You must feed a value for placeholder tensor 'inputs' with dtype float and shape [?,256]\n",
      "\t [[{{node inputs}}]]\n",
      "WARNING:absl:Found untraced functions such as _jit_compiled_convolution_op, _jit_compiled_convolution_op, _jit_compiled_convolution_op while saving (showing 3 of 3). These functions will not be directly callable after loading.\n"
     ]
    },
    {
     "name": "stdout",
     "output_type": "stream",
     "text": [
      "INFO:tensorflow:Assets written to: best_model/assets\n"
     ]
    },
    {
     "name": "stderr",
     "output_type": "stream",
     "text": [
      "INFO:tensorflow:Assets written to: best_model/assets\n"
     ]
    },
    {
     "name": "stdout",
     "output_type": "stream",
     "text": [
      "562/562 [==============================] - 19s 34ms/step - loss: 2.3507 - accuracy: 0.3077 - val_loss: 1.6588 - val_accuracy: 0.5410\n",
      "Epoch 57/100\n",
      "562/562 [==============================] - 18s 31ms/step - loss: 2.3544 - accuracy: 0.3094 - val_loss: 1.6771 - val_accuracy: 0.5375\n",
      "Epoch 58/100\n",
      "562/562 [==============================] - 18s 31ms/step - loss: 2.3307 - accuracy: 0.3201 - val_loss: 1.6784 - val_accuracy: 0.5370\n",
      "Epoch 59/100\n",
      "562/562 [==============================] - 18s 31ms/step - loss: 2.3263 - accuracy: 0.3189 - val_loss: 1.6660 - val_accuracy: 0.5285\n",
      "Epoch 60/100\n",
      "562/562 [==============================] - ETA: 0s - loss: 2.3341 - accuracy: 0.3172"
     ]
    },
    {
     "name": "stderr",
     "output_type": "stream",
     "text": [
      "2024-05-19 05:28:45.512472: I tensorflow/core/common_runtime/executor.cc:1197] [/device:CPU:0] (DEBUG INFO) Executor start aborting (this does not indicate an error and you can ignore this message): INVALID_ARGUMENT: You must feed a value for placeholder tensor 'inputs' with dtype float and shape [?,256]\n",
      "\t [[{{node inputs}}]]\n",
      "2024-05-19 05:28:45.889548: I tensorflow/core/common_runtime/executor.cc:1197] [/device:CPU:0] (DEBUG INFO) Executor start aborting (this does not indicate an error and you can ignore this message): INVALID_ARGUMENT: You must feed a value for placeholder tensor 'inputs' with dtype float and shape [?,256]\n",
      "\t [[{{node inputs}}]]\n",
      "WARNING:absl:Found untraced functions such as _jit_compiled_convolution_op, _jit_compiled_convolution_op, _jit_compiled_convolution_op while saving (showing 3 of 3). These functions will not be directly callable after loading.\n"
     ]
    },
    {
     "name": "stdout",
     "output_type": "stream",
     "text": [
      "INFO:tensorflow:Assets written to: best_model/assets\n"
     ]
    },
    {
     "name": "stderr",
     "output_type": "stream",
     "text": [
      "INFO:tensorflow:Assets written to: best_model/assets\n"
     ]
    },
    {
     "name": "stdout",
     "output_type": "stream",
     "text": [
      "562/562 [==============================] - 19s 34ms/step - loss: 2.3341 - accuracy: 0.3172 - val_loss: 1.6466 - val_accuracy: 0.5435\n",
      "Epoch 61/100\n",
      "561/562 [============================>.] - ETA: 0s - loss: 2.3182 - accuracy: 0.3222"
     ]
    },
    {
     "name": "stderr",
     "output_type": "stream",
     "text": [
      "2024-05-19 05:29:04.667410: I tensorflow/core/common_runtime/executor.cc:1197] [/device:CPU:0] (DEBUG INFO) Executor start aborting (this does not indicate an error and you can ignore this message): INVALID_ARGUMENT: You must feed a value for placeholder tensor 'inputs' with dtype float and shape [?,256]\n",
      "\t [[{{node inputs}}]]\n",
      "2024-05-19 05:29:05.058932: I tensorflow/core/common_runtime/executor.cc:1197] [/device:CPU:0] (DEBUG INFO) Executor start aborting (this does not indicate an error and you can ignore this message): INVALID_ARGUMENT: You must feed a value for placeholder tensor 'inputs' with dtype float and shape [?,256]\n",
      "\t [[{{node inputs}}]]\n",
      "WARNING:absl:Found untraced functions such as _jit_compiled_convolution_op, _jit_compiled_convolution_op, _jit_compiled_convolution_op while saving (showing 3 of 3). These functions will not be directly callable after loading.\n"
     ]
    },
    {
     "name": "stdout",
     "output_type": "stream",
     "text": [
      "INFO:tensorflow:Assets written to: best_model/assets\n"
     ]
    },
    {
     "name": "stderr",
     "output_type": "stream",
     "text": [
      "INFO:tensorflow:Assets written to: best_model/assets\n"
     ]
    },
    {
     "name": "stdout",
     "output_type": "stream",
     "text": [
      "562/562 [==============================] - 19s 35ms/step - loss: 2.3184 - accuracy: 0.3220 - val_loss: 1.6489 - val_accuracy: 0.5555\n",
      "Epoch 62/100\n",
      "562/562 [==============================] - 17s 31ms/step - loss: 2.3067 - accuracy: 0.3168 - val_loss: 1.6221 - val_accuracy: 0.5545\n",
      "Epoch 63/100\n",
      "562/562 [==============================] - ETA: 0s - loss: 2.2901 - accuracy: 0.3262"
     ]
    },
    {
     "name": "stderr",
     "output_type": "stream",
     "text": [
      "2024-05-19 05:29:41.510817: I tensorflow/core/common_runtime/executor.cc:1197] [/device:CPU:0] (DEBUG INFO) Executor start aborting (this does not indicate an error and you can ignore this message): INVALID_ARGUMENT: You must feed a value for placeholder tensor 'inputs' with dtype float and shape [?,256]\n",
      "\t [[{{node inputs}}]]\n",
      "2024-05-19 05:29:41.880631: I tensorflow/core/common_runtime/executor.cc:1197] [/device:CPU:0] (DEBUG INFO) Executor start aborting (this does not indicate an error and you can ignore this message): INVALID_ARGUMENT: You must feed a value for placeholder tensor 'inputs' with dtype float and shape [?,256]\n",
      "\t [[{{node inputs}}]]\n",
      "WARNING:absl:Found untraced functions such as _jit_compiled_convolution_op, _jit_compiled_convolution_op, _jit_compiled_convolution_op while saving (showing 3 of 3). These functions will not be directly callable after loading.\n"
     ]
    },
    {
     "name": "stdout",
     "output_type": "stream",
     "text": [
      "INFO:tensorflow:Assets written to: best_model/assets\n"
     ]
    },
    {
     "name": "stderr",
     "output_type": "stream",
     "text": [
      "INFO:tensorflow:Assets written to: best_model/assets\n"
     ]
    },
    {
     "name": "stdout",
     "output_type": "stream",
     "text": [
      "562/562 [==============================] - 19s 34ms/step - loss: 2.2901 - accuracy: 0.3262 - val_loss: 1.5974 - val_accuracy: 0.5685\n",
      "Epoch 64/100\n",
      "562/562 [==============================] - 18s 31ms/step - loss: 2.2864 - accuracy: 0.3318 - val_loss: 1.6217 - val_accuracy: 0.5385\n",
      "Epoch 65/100\n",
      "562/562 [==============================] - 18s 31ms/step - loss: 2.2751 - accuracy: 0.3328 - val_loss: 1.6137 - val_accuracy: 0.5420\n",
      "Epoch 66/100\n",
      "562/562 [==============================] - 18s 31ms/step - loss: 2.2659 - accuracy: 0.3354 - val_loss: 1.6045 - val_accuracy: 0.5495\n",
      "Epoch 67/100\n",
      "562/562 [==============================] - ETA: 0s - loss: 2.2694 - accuracy: 0.3345"
     ]
    },
    {
     "name": "stderr",
     "output_type": "stream",
     "text": [
      "2024-05-19 05:30:53.273634: I tensorflow/core/common_runtime/executor.cc:1197] [/device:CPU:0] (DEBUG INFO) Executor start aborting (this does not indicate an error and you can ignore this message): INVALID_ARGUMENT: You must feed a value for placeholder tensor 'inputs' with dtype float and shape [?,256]\n",
      "\t [[{{node inputs}}]]\n",
      "2024-05-19 05:30:53.665300: I tensorflow/core/common_runtime/executor.cc:1197] [/device:CPU:0] (DEBUG INFO) Executor start aborting (this does not indicate an error and you can ignore this message): INVALID_ARGUMENT: You must feed a value for placeholder tensor 'inputs' with dtype float and shape [?,256]\n",
      "\t [[{{node inputs}}]]\n",
      "WARNING:absl:Found untraced functions such as _jit_compiled_convolution_op, _jit_compiled_convolution_op, _jit_compiled_convolution_op while saving (showing 3 of 3). These functions will not be directly callable after loading.\n"
     ]
    },
    {
     "name": "stdout",
     "output_type": "stream",
     "text": [
      "INFO:tensorflow:Assets written to: best_model/assets\n"
     ]
    },
    {
     "name": "stderr",
     "output_type": "stream",
     "text": [
      "INFO:tensorflow:Assets written to: best_model/assets\n"
     ]
    },
    {
     "name": "stdout",
     "output_type": "stream",
     "text": [
      "562/562 [==============================] - 19s 34ms/step - loss: 2.2694 - accuracy: 0.3345 - val_loss: 1.5608 - val_accuracy: 0.5720\n",
      "Epoch 68/100\n",
      "562/562 [==============================] - 18s 32ms/step - loss: 2.2690 - accuracy: 0.3313 - val_loss: 1.5768 - val_accuracy: 0.5565\n",
      "Epoch 69/100\n",
      "562/562 [==============================] - 18s 31ms/step - loss: 2.2596 - accuracy: 0.3326 - val_loss: 1.6419 - val_accuracy: 0.5385\n",
      "Epoch 70/100\n",
      "562/562 [==============================] - 18s 31ms/step - loss: 2.2591 - accuracy: 0.3379 - val_loss: 1.6107 - val_accuracy: 0.5505\n",
      "Epoch 71/100\n",
      "562/562 [==============================] - ETA: 0s - loss: 2.2318 - accuracy: 0.3393"
     ]
    },
    {
     "name": "stderr",
     "output_type": "stream",
     "text": [
      "2024-05-19 05:32:05.613008: I tensorflow/core/common_runtime/executor.cc:1197] [/device:CPU:0] (DEBUG INFO) Executor start aborting (this does not indicate an error and you can ignore this message): INVALID_ARGUMENT: You must feed a value for placeholder tensor 'inputs' with dtype float and shape [?,256]\n",
      "\t [[{{node inputs}}]]\n",
      "2024-05-19 05:32:06.006629: I tensorflow/core/common_runtime/executor.cc:1197] [/device:CPU:0] (DEBUG INFO) Executor start aborting (this does not indicate an error and you can ignore this message): INVALID_ARGUMENT: You must feed a value for placeholder tensor 'inputs' with dtype float and shape [?,256]\n",
      "\t [[{{node inputs}}]]\n",
      "WARNING:absl:Found untraced functions such as _jit_compiled_convolution_op, _jit_compiled_convolution_op, _jit_compiled_convolution_op while saving (showing 3 of 3). These functions will not be directly callable after loading.\n"
     ]
    },
    {
     "name": "stdout",
     "output_type": "stream",
     "text": [
      "INFO:tensorflow:Assets written to: best_model/assets\n"
     ]
    },
    {
     "name": "stderr",
     "output_type": "stream",
     "text": [
      "INFO:tensorflow:Assets written to: best_model/assets\n"
     ]
    },
    {
     "name": "stdout",
     "output_type": "stream",
     "text": [
      "562/562 [==============================] - 19s 34ms/step - loss: 2.2318 - accuracy: 0.3393 - val_loss: 1.5233 - val_accuracy: 0.5800\n",
      "Epoch 72/100\n",
      "562/562 [==============================] - ETA: 0s - loss: 2.2218 - accuracy: 0.3446"
     ]
    },
    {
     "name": "stderr",
     "output_type": "stream",
     "text": [
      "2024-05-19 05:32:24.695030: I tensorflow/core/common_runtime/executor.cc:1197] [/device:CPU:0] (DEBUG INFO) Executor start aborting (this does not indicate an error and you can ignore this message): INVALID_ARGUMENT: You must feed a value for placeholder tensor 'inputs' with dtype float and shape [?,256]\n",
      "\t [[{{node inputs}}]]\n",
      "2024-05-19 05:32:25.069049: I tensorflow/core/common_runtime/executor.cc:1197] [/device:CPU:0] (DEBUG INFO) Executor start aborting (this does not indicate an error and you can ignore this message): INVALID_ARGUMENT: You must feed a value for placeholder tensor 'inputs' with dtype float and shape [?,256]\n",
      "\t [[{{node inputs}}]]\n",
      "WARNING:absl:Found untraced functions such as _jit_compiled_convolution_op, _jit_compiled_convolution_op, _jit_compiled_convolution_op while saving (showing 3 of 3). These functions will not be directly callable after loading.\n"
     ]
    },
    {
     "name": "stdout",
     "output_type": "stream",
     "text": [
      "INFO:tensorflow:Assets written to: best_model/assets\n"
     ]
    },
    {
     "name": "stderr",
     "output_type": "stream",
     "text": [
      "INFO:tensorflow:Assets written to: best_model/assets\n"
     ]
    },
    {
     "name": "stdout",
     "output_type": "stream",
     "text": [
      "562/562 [==============================] - 19s 34ms/step - loss: 2.2218 - accuracy: 0.3446 - val_loss: 1.5319 - val_accuracy: 0.5900\n",
      "Epoch 73/100\n",
      "562/562 [==============================] - 18s 32ms/step - loss: 2.2271 - accuracy: 0.3462 - val_loss: 1.5681 - val_accuracy: 0.5660\n",
      "Epoch 74/100\n",
      "562/562 [==============================] - 18s 31ms/step - loss: 2.2163 - accuracy: 0.3526 - val_loss: 1.5310 - val_accuracy: 0.5785\n",
      "Epoch 75/100\n",
      "562/562 [==============================] - 18s 31ms/step - loss: 2.2215 - accuracy: 0.3480 - val_loss: 1.5320 - val_accuracy: 0.5700\n",
      "Epoch 76/100\n",
      "562/562 [==============================] - 18s 31ms/step - loss: 2.2085 - accuracy: 0.3511 - val_loss: 1.5252 - val_accuracy: 0.5825\n",
      "Epoch 77/100\n",
      "562/562 [==============================] - 18s 31ms/step - loss: 2.2039 - accuracy: 0.3545 - val_loss: 1.5136 - val_accuracy: 0.5815\n",
      "Epoch 78/100\n",
      "562/562 [==============================] - 18s 31ms/step - loss: 2.1878 - accuracy: 0.3598 - val_loss: 1.5115 - val_accuracy: 0.5885\n",
      "Epoch 79/100\n",
      "562/562 [==============================] - 18s 31ms/step - loss: 2.1977 - accuracy: 0.3599 - val_loss: 1.5076 - val_accuracy: 0.5855\n",
      "Epoch 80/100\n",
      "561/562 [============================>.] - ETA: 0s - loss: 2.1794 - accuracy: 0.3594"
     ]
    },
    {
     "name": "stderr",
     "output_type": "stream",
     "text": [
      "2024-05-19 05:34:47.819552: I tensorflow/core/common_runtime/executor.cc:1197] [/device:CPU:0] (DEBUG INFO) Executor start aborting (this does not indicate an error and you can ignore this message): INVALID_ARGUMENT: You must feed a value for placeholder tensor 'inputs' with dtype float and shape [?,256]\n",
      "\t [[{{node inputs}}]]\n",
      "2024-05-19 05:34:48.195308: I tensorflow/core/common_runtime/executor.cc:1197] [/device:CPU:0] (DEBUG INFO) Executor start aborting (this does not indicate an error and you can ignore this message): INVALID_ARGUMENT: You must feed a value for placeholder tensor 'inputs' with dtype float and shape [?,256]\n",
      "\t [[{{node inputs}}]]\n",
      "WARNING:absl:Found untraced functions such as _jit_compiled_convolution_op, _jit_compiled_convolution_op, _jit_compiled_convolution_op while saving (showing 3 of 3). These functions will not be directly callable after loading.\n"
     ]
    },
    {
     "name": "stdout",
     "output_type": "stream",
     "text": [
      "INFO:tensorflow:Assets written to: best_model/assets\n"
     ]
    },
    {
     "name": "stderr",
     "output_type": "stream",
     "text": [
      "INFO:tensorflow:Assets written to: best_model/assets\n"
     ]
    },
    {
     "name": "stdout",
     "output_type": "stream",
     "text": [
      "562/562 [==============================] - 20s 35ms/step - loss: 2.1790 - accuracy: 0.3595 - val_loss: 1.5003 - val_accuracy: 0.6000\n",
      "Epoch 81/100\n",
      "562/562 [==============================] - 18s 31ms/step - loss: 2.1593 - accuracy: 0.3627 - val_loss: 1.4952 - val_accuracy: 0.5920\n",
      "Epoch 82/100\n",
      "561/562 [============================>.] - ETA: 0s - loss: 2.1519 - accuracy: 0.3661"
     ]
    },
    {
     "name": "stderr",
     "output_type": "stream",
     "text": [
      "2024-05-19 05:35:24.731933: I tensorflow/core/common_runtime/executor.cc:1197] [/device:CPU:0] (DEBUG INFO) Executor start aborting (this does not indicate an error and you can ignore this message): INVALID_ARGUMENT: You must feed a value for placeholder tensor 'inputs' with dtype float and shape [?,256]\n",
      "\t [[{{node inputs}}]]\n",
      "2024-05-19 05:35:25.102694: I tensorflow/core/common_runtime/executor.cc:1197] [/device:CPU:0] (DEBUG INFO) Executor start aborting (this does not indicate an error and you can ignore this message): INVALID_ARGUMENT: You must feed a value for placeholder tensor 'inputs' with dtype float and shape [?,256]\n",
      "\t [[{{node inputs}}]]\n",
      "WARNING:absl:Found untraced functions such as _jit_compiled_convolution_op, _jit_compiled_convolution_op, _jit_compiled_convolution_op while saving (showing 3 of 3). These functions will not be directly callable after loading.\n"
     ]
    },
    {
     "name": "stdout",
     "output_type": "stream",
     "text": [
      "INFO:tensorflow:Assets written to: best_model/assets\n"
     ]
    },
    {
     "name": "stderr",
     "output_type": "stream",
     "text": [
      "INFO:tensorflow:Assets written to: best_model/assets\n"
     ]
    },
    {
     "name": "stdout",
     "output_type": "stream",
     "text": [
      "562/562 [==============================] - 19s 34ms/step - loss: 2.1520 - accuracy: 0.3661 - val_loss: 1.4462 - val_accuracy: 0.6170\n",
      "Epoch 83/100\n",
      "562/562 [==============================] - 18s 31ms/step - loss: 2.1632 - accuracy: 0.3660 - val_loss: 1.4718 - val_accuracy: 0.5890\n",
      "Epoch 84/100\n",
      "562/562 [==============================] - 18s 31ms/step - loss: 2.1517 - accuracy: 0.3722 - val_loss: 1.4180 - val_accuracy: 0.6140\n",
      "Epoch 85/100\n",
      "562/562 [==============================] - 17s 31ms/step - loss: 2.1517 - accuracy: 0.3723 - val_loss: 1.4443 - val_accuracy: 0.6035\n",
      "Epoch 86/100\n",
      "562/562 [==============================] - 18s 32ms/step - loss: 2.1427 - accuracy: 0.3753 - val_loss: 1.4440 - val_accuracy: 0.5995\n",
      "Epoch 87/100\n",
      "562/562 [==============================] - ETA: 0s - loss: 2.1362 - accuracy: 0.3792"
     ]
    },
    {
     "name": "stderr",
     "output_type": "stream",
     "text": [
      "2024-05-19 05:36:54.323745: I tensorflow/core/common_runtime/executor.cc:1197] [/device:CPU:0] (DEBUG INFO) Executor start aborting (this does not indicate an error and you can ignore this message): INVALID_ARGUMENT: You must feed a value for placeholder tensor 'inputs' with dtype float and shape [?,256]\n",
      "\t [[{{node inputs}}]]\n",
      "2024-05-19 05:36:54.756532: I tensorflow/core/common_runtime/executor.cc:1197] [/device:CPU:0] (DEBUG INFO) Executor start aborting (this does not indicate an error and you can ignore this message): INVALID_ARGUMENT: You must feed a value for placeholder tensor 'inputs' with dtype float and shape [?,256]\n",
      "\t [[{{node inputs}}]]\n",
      "WARNING:absl:Found untraced functions such as _jit_compiled_convolution_op, _jit_compiled_convolution_op, _jit_compiled_convolution_op while saving (showing 3 of 3). These functions will not be directly callable after loading.\n"
     ]
    },
    {
     "name": "stdout",
     "output_type": "stream",
     "text": [
      "INFO:tensorflow:Assets written to: best_model/assets\n"
     ]
    },
    {
     "name": "stderr",
     "output_type": "stream",
     "text": [
      "INFO:tensorflow:Assets written to: best_model/assets\n"
     ]
    },
    {
     "name": "stdout",
     "output_type": "stream",
     "text": [
      "562/562 [==============================] - 19s 34ms/step - loss: 2.1362 - accuracy: 0.3792 - val_loss: 1.4471 - val_accuracy: 0.6225\n",
      "Epoch 88/100\n",
      "562/562 [==============================] - 18s 31ms/step - loss: 2.1391 - accuracy: 0.3734 - val_loss: 1.4324 - val_accuracy: 0.6105\n",
      "Epoch 89/100\n",
      "562/562 [==============================] - ETA: 0s - loss: 2.1265 - accuracy: 0.3749"
     ]
    },
    {
     "name": "stderr",
     "output_type": "stream",
     "text": [
      "2024-05-19 05:37:31.426348: I tensorflow/core/common_runtime/executor.cc:1197] [/device:CPU:0] (DEBUG INFO) Executor start aborting (this does not indicate an error and you can ignore this message): INVALID_ARGUMENT: You must feed a value for placeholder tensor 'inputs' with dtype float and shape [?,256]\n",
      "\t [[{{node inputs}}]]\n",
      "2024-05-19 05:37:31.815531: I tensorflow/core/common_runtime/executor.cc:1197] [/device:CPU:0] (DEBUG INFO) Executor start aborting (this does not indicate an error and you can ignore this message): INVALID_ARGUMENT: You must feed a value for placeholder tensor 'inputs' with dtype float and shape [?,256]\n",
      "\t [[{{node inputs}}]]\n",
      "WARNING:absl:Found untraced functions such as _jit_compiled_convolution_op, _jit_compiled_convolution_op, _jit_compiled_convolution_op while saving (showing 3 of 3). These functions will not be directly callable after loading.\n"
     ]
    },
    {
     "name": "stdout",
     "output_type": "stream",
     "text": [
      "INFO:tensorflow:Assets written to: best_model/assets\n"
     ]
    },
    {
     "name": "stderr",
     "output_type": "stream",
     "text": [
      "INFO:tensorflow:Assets written to: best_model/assets\n"
     ]
    },
    {
     "name": "stdout",
     "output_type": "stream",
     "text": [
      "562/562 [==============================] - 19s 34ms/step - loss: 2.1265 - accuracy: 0.3749 - val_loss: 1.3666 - val_accuracy: 0.6275\n",
      "Epoch 90/100\n",
      "562/562 [==============================] - 18s 31ms/step - loss: 2.1249 - accuracy: 0.3779 - val_loss: 1.4300 - val_accuracy: 0.6070\n",
      "Epoch 91/100\n",
      "562/562 [==============================] - 18s 31ms/step - loss: 2.1286 - accuracy: 0.3790 - val_loss: 1.4300 - val_accuracy: 0.6205\n",
      "Epoch 92/100\n",
      "562/562 [==============================] - 18s 31ms/step - loss: 2.1211 - accuracy: 0.3737 - val_loss: 1.3921 - val_accuracy: 0.6215\n",
      "Epoch 93/100\n",
      "562/562 [==============================] - 18s 31ms/step - loss: 2.1034 - accuracy: 0.3798 - val_loss: 1.3910 - val_accuracy: 0.6270\n",
      "Epoch 94/100\n",
      "562/562 [==============================] - ETA: 0s - loss: 2.0959 - accuracy: 0.3891"
     ]
    },
    {
     "name": "stderr",
     "output_type": "stream",
     "text": [
      "2024-05-19 05:39:01.121815: I tensorflow/core/common_runtime/executor.cc:1197] [/device:CPU:0] (DEBUG INFO) Executor start aborting (this does not indicate an error and you can ignore this message): INVALID_ARGUMENT: You must feed a value for placeholder tensor 'inputs' with dtype float and shape [?,256]\n",
      "\t [[{{node inputs}}]]\n",
      "2024-05-19 05:39:01.493102: I tensorflow/core/common_runtime/executor.cc:1197] [/device:CPU:0] (DEBUG INFO) Executor start aborting (this does not indicate an error and you can ignore this message): INVALID_ARGUMENT: You must feed a value for placeholder tensor 'inputs' with dtype float and shape [?,256]\n",
      "\t [[{{node inputs}}]]\n",
      "WARNING:absl:Found untraced functions such as _jit_compiled_convolution_op, _jit_compiled_convolution_op, _jit_compiled_convolution_op while saving (showing 3 of 3). These functions will not be directly callable after loading.\n"
     ]
    },
    {
     "name": "stdout",
     "output_type": "stream",
     "text": [
      "INFO:tensorflow:Assets written to: best_model/assets\n"
     ]
    },
    {
     "name": "stderr",
     "output_type": "stream",
     "text": [
      "INFO:tensorflow:Assets written to: best_model/assets\n"
     ]
    },
    {
     "name": "stdout",
     "output_type": "stream",
     "text": [
      "562/562 [==============================] - 19s 34ms/step - loss: 2.0959 - accuracy: 0.3891 - val_loss: 1.3778 - val_accuracy: 0.6310\n",
      "Epoch 95/100\n",
      "562/562 [==============================] - 18s 31ms/step - loss: 2.1023 - accuracy: 0.3833 - val_loss: 1.4163 - val_accuracy: 0.6140\n",
      "Epoch 96/100\n",
      "561/562 [============================>.] - ETA: 0s - loss: 2.0815 - accuracy: 0.3885"
     ]
    },
    {
     "name": "stderr",
     "output_type": "stream",
     "text": [
      "2024-05-19 05:39:38.033260: I tensorflow/core/common_runtime/executor.cc:1197] [/device:CPU:0] (DEBUG INFO) Executor start aborting (this does not indicate an error and you can ignore this message): INVALID_ARGUMENT: You must feed a value for placeholder tensor 'inputs' with dtype float and shape [?,256]\n",
      "\t [[{{node inputs}}]]\n",
      "2024-05-19 05:39:38.716345: I tensorflow/core/common_runtime/executor.cc:1197] [/device:CPU:0] (DEBUG INFO) Executor start aborting (this does not indicate an error and you can ignore this message): INVALID_ARGUMENT: You must feed a value for placeholder tensor 'inputs' with dtype float and shape [?,256]\n",
      "\t [[{{node inputs}}]]\n",
      "WARNING:absl:Found untraced functions such as _jit_compiled_convolution_op, _jit_compiled_convolution_op, _jit_compiled_convolution_op while saving (showing 3 of 3). These functions will not be directly callable after loading.\n"
     ]
    },
    {
     "name": "stdout",
     "output_type": "stream",
     "text": [
      "INFO:tensorflow:Assets written to: best_model/assets\n"
     ]
    },
    {
     "name": "stderr",
     "output_type": "stream",
     "text": [
      "INFO:tensorflow:Assets written to: best_model/assets\n"
     ]
    },
    {
     "name": "stdout",
     "output_type": "stream",
     "text": [
      "562/562 [==============================] - 20s 35ms/step - loss: 2.0821 - accuracy: 0.3883 - val_loss: 1.3814 - val_accuracy: 0.6370\n",
      "Epoch 97/100\n",
      "562/562 [==============================] - 18s 31ms/step - loss: 2.0860 - accuracy: 0.3895 - val_loss: 1.4302 - val_accuracy: 0.6070\n",
      "Epoch 98/100\n",
      "562/562 [==============================] - 18s 32ms/step - loss: 2.0718 - accuracy: 0.3872 - val_loss: 1.3598 - val_accuracy: 0.6350\n",
      "Epoch 99/100\n",
      "562/562 [==============================] - 18s 31ms/step - loss: 2.0838 - accuracy: 0.3914 - val_loss: 1.3638 - val_accuracy: 0.6275\n",
      "Epoch 100/100\n",
      "562/562 [==============================] - 18s 31ms/step - loss: 2.0814 - accuracy: 0.3928 - val_loss: 1.3542 - val_accuracy: 0.6260\n"
     ]
    },
    {
     "data": {
      "text/plain": [
       "<keras.callbacks.History at 0x7f03f4c77b20>"
      ]
     },
     "execution_count": 5,
     "metadata": {},
     "output_type": "execute_result"
    }
   ],
   "source": [
    "# Обучение с использованием расширения данных, ранней остановки и сохранения лучшей модели\n",
    "early_stopping = EarlyStopping(monitor='val_loss', patience=10, restore_best_weights=True)\n",
    "model.fit(datagen.flow(X_train, y_train, batch_size=32),\n",
    "          validation_data=(X_val, y_val),\n",
    "          steps_per_epoch=len(X_train) // 32,\n",
    "          epochs=100,\n",
    "          callbacks=[early_stopping, checkpoint])\n"
   ]
  },
  {
   "cell_type": "code",
   "execution_count": 17,
   "metadata": {
    "execution": {
     "iopub.execute_input": "2024-05-19T05:48:58.806323Z",
     "iopub.status.busy": "2024-05-19T05:48:58.805540Z",
     "iopub.status.idle": "2024-05-19T06:15:07.515691Z",
     "shell.execute_reply": "2024-05-19T06:15:07.514706Z",
     "shell.execute_reply.started": "2024-05-19T05:48:58.806269Z"
    }
   },
   "outputs": [
    {
     "name": "stderr",
     "output_type": "stream",
     "text": [
      "2024-05-19 05:48:59.156436: I tensorflow/core/common_runtime/executor.cc:1197] [/device:CPU:0] (DEBUG INFO) Executor start aborting (this does not indicate an error and you can ignore this message): INVALID_ARGUMENT: You must feed a value for placeholder tensor 'Placeholder/_0' with dtype int32\n",
      "\t [[{{node Placeholder/_0}}]]\n"
     ]
    },
    {
     "name": "stdout",
     "output_type": "stream",
     "text": [
      "Epoch 1/100\n",
      "561/562 [============================>.] - ETA: 0s - loss: 2.0891 - accuracy: 0.3855"
     ]
    },
    {
     "name": "stderr",
     "output_type": "stream",
     "text": [
      "2024-05-19 05:49:19.855427: I tensorflow/core/common_runtime/executor.cc:1197] [/device:CPU:0] (DEBUG INFO) Executor start aborting (this does not indicate an error and you can ignore this message): INVALID_ARGUMENT: You must feed a value for placeholder tensor 'inputs' with dtype float and shape [?,256]\n",
      "\t [[{{node inputs}}]]\n",
      "2024-05-19 05:49:20.277944: I tensorflow/core/common_runtime/executor.cc:1197] [/device:CPU:0] (DEBUG INFO) Executor start aborting (this does not indicate an error and you can ignore this message): INVALID_ARGUMENT: You must feed a value for placeholder tensor 'inputs' with dtype float and shape [?,256]\n",
      "\t [[{{node inputs}}]]\n",
      "WARNING:absl:Found untraced functions such as _jit_compiled_convolution_op, _jit_compiled_convolution_op, _jit_compiled_convolution_op while saving (showing 3 of 3). These functions will not be directly callable after loading.\n"
     ]
    },
    {
     "name": "stdout",
     "output_type": "stream",
     "text": [
      "INFO:tensorflow:Assets written to: best_model/assets\n"
     ]
    },
    {
     "name": "stderr",
     "output_type": "stream",
     "text": [
      "INFO:tensorflow:Assets written to: best_model/assets\n"
     ]
    },
    {
     "name": "stdout",
     "output_type": "stream",
     "text": [
      "562/562 [==============================] - 22s 35ms/step - loss: 2.0885 - accuracy: 0.3857 - val_loss: 1.3485 - val_accuracy: 0.6395\n",
      "Epoch 2/100\n",
      "562/562 [==============================] - 18s 31ms/step - loss: 2.0885 - accuracy: 0.3882 - val_loss: 1.3507 - val_accuracy: 0.6265\n",
      "Epoch 3/100\n",
      "562/562 [==============================] - 18s 31ms/step - loss: 2.0766 - accuracy: 0.3895 - val_loss: 1.3820 - val_accuracy: 0.6195\n",
      "Epoch 4/100\n",
      "562/562 [==============================] - 18s 32ms/step - loss: 2.0733 - accuracy: 0.3889 - val_loss: 1.3771 - val_accuracy: 0.6155\n",
      "Epoch 5/100\n",
      "562/562 [==============================] - 18s 31ms/step - loss: 2.0633 - accuracy: 0.3975 - val_loss: 1.3681 - val_accuracy: 0.6300\n",
      "Epoch 6/100\n",
      "561/562 [============================>.] - ETA: 0s - loss: 2.0514 - accuracy: 0.3971"
     ]
    },
    {
     "name": "stderr",
     "output_type": "stream",
     "text": [
      "2024-05-19 05:50:49.835271: I tensorflow/core/common_runtime/executor.cc:1197] [/device:CPU:0] (DEBUG INFO) Executor start aborting (this does not indicate an error and you can ignore this message): INVALID_ARGUMENT: You must feed a value for placeholder tensor 'inputs' with dtype float and shape [?,256]\n",
      "\t [[{{node inputs}}]]\n",
      "2024-05-19 05:50:50.221071: I tensorflow/core/common_runtime/executor.cc:1197] [/device:CPU:0] (DEBUG INFO) Executor start aborting (this does not indicate an error and you can ignore this message): INVALID_ARGUMENT: You must feed a value for placeholder tensor 'inputs' with dtype float and shape [?,256]\n",
      "\t [[{{node inputs}}]]\n",
      "WARNING:absl:Found untraced functions such as _jit_compiled_convolution_op, _jit_compiled_convolution_op, _jit_compiled_convolution_op while saving (showing 3 of 3). These functions will not be directly callable after loading.\n"
     ]
    },
    {
     "name": "stdout",
     "output_type": "stream",
     "text": [
      "INFO:tensorflow:Assets written to: best_model/assets\n"
     ]
    },
    {
     "name": "stderr",
     "output_type": "stream",
     "text": [
      "INFO:tensorflow:Assets written to: best_model/assets\n"
     ]
    },
    {
     "name": "stdout",
     "output_type": "stream",
     "text": [
      "562/562 [==============================] - 19s 34ms/step - loss: 2.0508 - accuracy: 0.3972 - val_loss: 1.3258 - val_accuracy: 0.6460\n",
      "Epoch 7/100\n",
      "562/562 [==============================] - 18s 32ms/step - loss: 2.0520 - accuracy: 0.3979 - val_loss: 1.3161 - val_accuracy: 0.6415\n",
      "Epoch 8/100\n",
      "562/562 [==============================] - 18s 31ms/step - loss: 2.0513 - accuracy: 0.3998 - val_loss: 1.3305 - val_accuracy: 0.6420\n",
      "Epoch 9/100\n",
      "562/562 [==============================] - 18s 32ms/step - loss: 2.0459 - accuracy: 0.4004 - val_loss: 1.3419 - val_accuracy: 0.6330\n",
      "Epoch 10/100\n",
      "562/562 [==============================] - 18s 32ms/step - loss: 2.0355 - accuracy: 0.4000 - val_loss: 1.3090 - val_accuracy: 0.6440\n",
      "Epoch 11/100\n",
      "562/562 [==============================] - 18s 31ms/step - loss: 2.0374 - accuracy: 0.3997 - val_loss: 1.3421 - val_accuracy: 0.6255\n",
      "Epoch 12/100\n",
      "562/562 [==============================] - ETA: 0s - loss: 2.0346 - accuracy: 0.4037"
     ]
    },
    {
     "name": "stderr",
     "output_type": "stream",
     "text": [
      "2024-05-19 05:52:37.674935: I tensorflow/core/common_runtime/executor.cc:1197] [/device:CPU:0] (DEBUG INFO) Executor start aborting (this does not indicate an error and you can ignore this message): INVALID_ARGUMENT: You must feed a value for placeholder tensor 'inputs' with dtype float and shape [?,256]\n",
      "\t [[{{node inputs}}]]\n",
      "2024-05-19 05:52:38.094200: I tensorflow/core/common_runtime/executor.cc:1197] [/device:CPU:0] (DEBUG INFO) Executor start aborting (this does not indicate an error and you can ignore this message): INVALID_ARGUMENT: You must feed a value for placeholder tensor 'inputs' with dtype float and shape [?,256]\n",
      "\t [[{{node inputs}}]]\n",
      "WARNING:absl:Found untraced functions such as _jit_compiled_convolution_op, _jit_compiled_convolution_op, _jit_compiled_convolution_op while saving (showing 3 of 3). These functions will not be directly callable after loading.\n"
     ]
    },
    {
     "name": "stdout",
     "output_type": "stream",
     "text": [
      "INFO:tensorflow:Assets written to: best_model/assets\n"
     ]
    },
    {
     "name": "stderr",
     "output_type": "stream",
     "text": [
      "INFO:tensorflow:Assets written to: best_model/assets\n"
     ]
    },
    {
     "name": "stdout",
     "output_type": "stream",
     "text": [
      "562/562 [==============================] - 20s 35ms/step - loss: 2.0346 - accuracy: 0.4037 - val_loss: 1.3041 - val_accuracy: 0.6475\n",
      "Epoch 13/100\n",
      "562/562 [==============================] - ETA: 0s - loss: 2.0362 - accuracy: 0.4033"
     ]
    },
    {
     "name": "stderr",
     "output_type": "stream",
     "text": [
      "2024-05-19 05:52:57.211744: I tensorflow/core/common_runtime/executor.cc:1197] [/device:CPU:0] (DEBUG INFO) Executor start aborting (this does not indicate an error and you can ignore this message): INVALID_ARGUMENT: You must feed a value for placeholder tensor 'inputs' with dtype float and shape [?,256]\n",
      "\t [[{{node inputs}}]]\n",
      "2024-05-19 05:52:57.590085: I tensorflow/core/common_runtime/executor.cc:1197] [/device:CPU:0] (DEBUG INFO) Executor start aborting (this does not indicate an error and you can ignore this message): INVALID_ARGUMENT: You must feed a value for placeholder tensor 'inputs' with dtype float and shape [?,256]\n",
      "\t [[{{node inputs}}]]\n",
      "WARNING:absl:Found untraced functions such as _jit_compiled_convolution_op, _jit_compiled_convolution_op, _jit_compiled_convolution_op while saving (showing 3 of 3). These functions will not be directly callable after loading.\n"
     ]
    },
    {
     "name": "stdout",
     "output_type": "stream",
     "text": [
      "INFO:tensorflow:Assets written to: best_model/assets\n"
     ]
    },
    {
     "name": "stderr",
     "output_type": "stream",
     "text": [
      "INFO:tensorflow:Assets written to: best_model/assets\n"
     ]
    },
    {
     "name": "stdout",
     "output_type": "stream",
     "text": [
      "562/562 [==============================] - 19s 34ms/step - loss: 2.0362 - accuracy: 0.4033 - val_loss: 1.2651 - val_accuracy: 0.6610\n",
      "Epoch 14/100\n",
      "562/562 [==============================] - 18s 32ms/step - loss: 2.0299 - accuracy: 0.4047 - val_loss: 1.3168 - val_accuracy: 0.6460\n",
      "Epoch 15/100\n",
      "562/562 [==============================] - 18s 31ms/step - loss: 2.0163 - accuracy: 0.4089 - val_loss: 1.2921 - val_accuracy: 0.6465\n",
      "Epoch 16/100\n",
      "562/562 [==============================] - 18s 31ms/step - loss: 2.0159 - accuracy: 0.4073 - val_loss: 1.3080 - val_accuracy: 0.6480\n",
      "Epoch 17/100\n",
      "562/562 [==============================] - 18s 31ms/step - loss: 2.0166 - accuracy: 0.4047 - val_loss: 1.3104 - val_accuracy: 0.6505\n",
      "Epoch 18/100\n",
      "562/562 [==============================] - 18s 31ms/step - loss: 2.0063 - accuracy: 0.4149 - val_loss: 1.2910 - val_accuracy: 0.6415\n",
      "Epoch 19/100\n",
      "562/562 [==============================] - 18s 32ms/step - loss: 2.0224 - accuracy: 0.4120 - val_loss: 1.2729 - val_accuracy: 0.6550\n",
      "Epoch 20/100\n",
      "562/562 [==============================] - 18s 31ms/step - loss: 1.9962 - accuracy: 0.4089 - val_loss: 1.3015 - val_accuracy: 0.6520\n",
      "Epoch 21/100\n",
      "562/562 [==============================] - ETA: 0s - loss: 1.9933 - accuracy: 0.4145"
     ]
    },
    {
     "name": "stderr",
     "output_type": "stream",
     "text": [
      "2024-05-19 05:55:20.111887: I tensorflow/core/common_runtime/executor.cc:1197] [/device:CPU:0] (DEBUG INFO) Executor start aborting (this does not indicate an error and you can ignore this message): INVALID_ARGUMENT: You must feed a value for placeholder tensor 'inputs' with dtype float and shape [?,256]\n",
      "\t [[{{node inputs}}]]\n",
      "2024-05-19 05:55:20.491039: I tensorflow/core/common_runtime/executor.cc:1197] [/device:CPU:0] (DEBUG INFO) Executor start aborting (this does not indicate an error and you can ignore this message): INVALID_ARGUMENT: You must feed a value for placeholder tensor 'inputs' with dtype float and shape [?,256]\n",
      "\t [[{{node inputs}}]]\n",
      "WARNING:absl:Found untraced functions such as _jit_compiled_convolution_op, _jit_compiled_convolution_op, _jit_compiled_convolution_op while saving (showing 3 of 3). These functions will not be directly callable after loading.\n"
     ]
    },
    {
     "name": "stdout",
     "output_type": "stream",
     "text": [
      "INFO:tensorflow:Assets written to: best_model/assets\n"
     ]
    },
    {
     "name": "stderr",
     "output_type": "stream",
     "text": [
      "INFO:tensorflow:Assets written to: best_model/assets\n"
     ]
    },
    {
     "name": "stdout",
     "output_type": "stream",
     "text": [
      "562/562 [==============================] - 19s 34ms/step - loss: 1.9933 - accuracy: 0.4145 - val_loss: 1.2511 - val_accuracy: 0.6745\n",
      "Epoch 22/100\n",
      "562/562 [==============================] - 18s 32ms/step - loss: 1.9935 - accuracy: 0.4160 - val_loss: 1.2564 - val_accuracy: 0.6625\n",
      "Epoch 23/100\n",
      "562/562 [==============================] - 18s 31ms/step - loss: 1.9991 - accuracy: 0.4128 - val_loss: 1.2755 - val_accuracy: 0.6440\n",
      "Epoch 24/100\n",
      "562/562 [==============================] - 18s 32ms/step - loss: 1.9805 - accuracy: 0.4209 - val_loss: 1.2410 - val_accuracy: 0.6700\n",
      "Epoch 25/100\n",
      "562/562 [==============================] - 18s 32ms/step - loss: 1.9751 - accuracy: 0.4229 - val_loss: 1.2677 - val_accuracy: 0.6630\n",
      "Epoch 26/100\n",
      "562/562 [==============================] - ETA: 0s - loss: 1.9788 - accuracy: 0.4196"
     ]
    },
    {
     "name": "stderr",
     "output_type": "stream",
     "text": [
      "2024-05-19 05:56:50.513741: I tensorflow/core/common_runtime/executor.cc:1197] [/device:CPU:0] (DEBUG INFO) Executor start aborting (this does not indicate an error and you can ignore this message): INVALID_ARGUMENT: You must feed a value for placeholder tensor 'inputs' with dtype float and shape [?,256]\n",
      "\t [[{{node inputs}}]]\n",
      "2024-05-19 05:56:50.914109: I tensorflow/core/common_runtime/executor.cc:1197] [/device:CPU:0] (DEBUG INFO) Executor start aborting (this does not indicate an error and you can ignore this message): INVALID_ARGUMENT: You must feed a value for placeholder tensor 'inputs' with dtype float and shape [?,256]\n",
      "\t [[{{node inputs}}]]\n",
      "WARNING:absl:Found untraced functions such as _jit_compiled_convolution_op, _jit_compiled_convolution_op, _jit_compiled_convolution_op while saving (showing 3 of 3). These functions will not be directly callable after loading.\n"
     ]
    },
    {
     "name": "stdout",
     "output_type": "stream",
     "text": [
      "INFO:tensorflow:Assets written to: best_model/assets\n"
     ]
    },
    {
     "name": "stderr",
     "output_type": "stream",
     "text": [
      "INFO:tensorflow:Assets written to: best_model/assets\n"
     ]
    },
    {
     "name": "stdout",
     "output_type": "stream",
     "text": [
      "562/562 [==============================] - 19s 34ms/step - loss: 1.9788 - accuracy: 0.4196 - val_loss: 1.2310 - val_accuracy: 0.6765\n",
      "Epoch 27/100\n",
      "562/562 [==============================] - 18s 31ms/step - loss: 1.9650 - accuracy: 0.4252 - val_loss: 1.2530 - val_accuracy: 0.6750\n",
      "Epoch 28/100\n",
      "562/562 [==============================] - 18s 31ms/step - loss: 1.9665 - accuracy: 0.4271 - val_loss: 1.2570 - val_accuracy: 0.6715\n",
      "Epoch 29/100\n",
      "562/562 [==============================] - 18s 32ms/step - loss: 1.9597 - accuracy: 0.4281 - val_loss: 1.2322 - val_accuracy: 0.6660\n",
      "Epoch 30/100\n",
      "562/562 [==============================] - ETA: 0s - loss: 1.9577 - accuracy: 0.4285"
     ]
    },
    {
     "name": "stderr",
     "output_type": "stream",
     "text": [
      "2024-05-19 05:58:03.188354: I tensorflow/core/common_runtime/executor.cc:1197] [/device:CPU:0] (DEBUG INFO) Executor start aborting (this does not indicate an error and you can ignore this message): INVALID_ARGUMENT: You must feed a value for placeholder tensor 'inputs' with dtype float and shape [?,256]\n",
      "\t [[{{node inputs}}]]\n",
      "2024-05-19 05:58:03.590295: I tensorflow/core/common_runtime/executor.cc:1197] [/device:CPU:0] (DEBUG INFO) Executor start aborting (this does not indicate an error and you can ignore this message): INVALID_ARGUMENT: You must feed a value for placeholder tensor 'inputs' with dtype float and shape [?,256]\n",
      "\t [[{{node inputs}}]]\n",
      "WARNING:absl:Found untraced functions such as _jit_compiled_convolution_op, _jit_compiled_convolution_op, _jit_compiled_convolution_op while saving (showing 3 of 3). These functions will not be directly callable after loading.\n"
     ]
    },
    {
     "name": "stdout",
     "output_type": "stream",
     "text": [
      "INFO:tensorflow:Assets written to: best_model/assets\n"
     ]
    },
    {
     "name": "stderr",
     "output_type": "stream",
     "text": [
      "INFO:tensorflow:Assets written to: best_model/assets\n"
     ]
    },
    {
     "name": "stdout",
     "output_type": "stream",
     "text": [
      "562/562 [==============================] - 19s 35ms/step - loss: 1.9577 - accuracy: 0.4285 - val_loss: 1.2098 - val_accuracy: 0.6835\n",
      "Epoch 31/100\n",
      "562/562 [==============================] - 18s 32ms/step - loss: 1.9537 - accuracy: 0.4269 - val_loss: 1.1936 - val_accuracy: 0.6810\n",
      "Epoch 32/100\n",
      "562/562 [==============================] - 18s 32ms/step - loss: 1.9557 - accuracy: 0.4259 - val_loss: 1.2303 - val_accuracy: 0.6620\n",
      "Epoch 33/100\n",
      "562/562 [==============================] - 18s 32ms/step - loss: 1.9553 - accuracy: 0.4313 - val_loss: 1.2331 - val_accuracy: 0.6755\n",
      "Epoch 34/100\n",
      "562/562 [==============================] - 18s 32ms/step - loss: 1.9458 - accuracy: 0.4323 - val_loss: 1.2080 - val_accuracy: 0.6715\n",
      "Epoch 35/100\n",
      "562/562 [==============================] - ETA: 0s - loss: 1.9479 - accuracy: 0.4309"
     ]
    },
    {
     "name": "stderr",
     "output_type": "stream",
     "text": [
      "2024-05-19 05:59:33.851188: I tensorflow/core/common_runtime/executor.cc:1197] [/device:CPU:0] (DEBUG INFO) Executor start aborting (this does not indicate an error and you can ignore this message): INVALID_ARGUMENT: You must feed a value for placeholder tensor 'inputs' with dtype float and shape [?,256]\n",
      "\t [[{{node inputs}}]]\n",
      "2024-05-19 05:59:34.233790: I tensorflow/core/common_runtime/executor.cc:1197] [/device:CPU:0] (DEBUG INFO) Executor start aborting (this does not indicate an error and you can ignore this message): INVALID_ARGUMENT: You must feed a value for placeholder tensor 'inputs' with dtype float and shape [?,256]\n",
      "\t [[{{node inputs}}]]\n",
      "WARNING:absl:Found untraced functions such as _jit_compiled_convolution_op, _jit_compiled_convolution_op, _jit_compiled_convolution_op while saving (showing 3 of 3). These functions will not be directly callable after loading.\n"
     ]
    },
    {
     "name": "stdout",
     "output_type": "stream",
     "text": [
      "INFO:tensorflow:Assets written to: best_model/assets\n"
     ]
    },
    {
     "name": "stderr",
     "output_type": "stream",
     "text": [
      "INFO:tensorflow:Assets written to: best_model/assets\n"
     ]
    },
    {
     "name": "stdout",
     "output_type": "stream",
     "text": [
      "562/562 [==============================] - 20s 35ms/step - loss: 1.9479 - accuracy: 0.4309 - val_loss: 1.2070 - val_accuracy: 0.6935\n",
      "Epoch 36/100\n",
      "562/562 [==============================] - 18s 31ms/step - loss: 1.9463 - accuracy: 0.4325 - val_loss: 1.1929 - val_accuracy: 0.6770\n",
      "Epoch 37/100\n",
      "562/562 [==============================] - 18s 31ms/step - loss: 1.9436 - accuracy: 0.4311 - val_loss: 1.1969 - val_accuracy: 0.6845\n",
      "Epoch 38/100\n",
      "562/562 [==============================] - 18s 31ms/step - loss: 1.9286 - accuracy: 0.4363 - val_loss: 1.2376 - val_accuracy: 0.6690\n",
      "Epoch 39/100\n",
      "562/562 [==============================] - 18s 31ms/step - loss: 1.9180 - accuracy: 0.4406 - val_loss: 1.1906 - val_accuracy: 0.6900\n",
      "Epoch 40/100\n",
      "562/562 [==============================] - ETA: 0s - loss: 1.9140 - accuracy: 0.4428"
     ]
    },
    {
     "name": "stderr",
     "output_type": "stream",
     "text": [
      "2024-05-19 06:01:04.014461: I tensorflow/core/common_runtime/executor.cc:1197] [/device:CPU:0] (DEBUG INFO) Executor start aborting (this does not indicate an error and you can ignore this message): INVALID_ARGUMENT: You must feed a value for placeholder tensor 'inputs' with dtype float and shape [?,256]\n",
      "\t [[{{node inputs}}]]\n",
      "2024-05-19 06:01:04.408658: I tensorflow/core/common_runtime/executor.cc:1197] [/device:CPU:0] (DEBUG INFO) Executor start aborting (this does not indicate an error and you can ignore this message): INVALID_ARGUMENT: You must feed a value for placeholder tensor 'inputs' with dtype float and shape [?,256]\n",
      "\t [[{{node inputs}}]]\n",
      "WARNING:absl:Found untraced functions such as _jit_compiled_convolution_op, _jit_compiled_convolution_op, _jit_compiled_convolution_op while saving (showing 3 of 3). These functions will not be directly callable after loading.\n"
     ]
    },
    {
     "name": "stdout",
     "output_type": "stream",
     "text": [
      "INFO:tensorflow:Assets written to: best_model/assets\n"
     ]
    },
    {
     "name": "stderr",
     "output_type": "stream",
     "text": [
      "INFO:tensorflow:Assets written to: best_model/assets\n"
     ]
    },
    {
     "name": "stdout",
     "output_type": "stream",
     "text": [
      "562/562 [==============================] - 19s 34ms/step - loss: 1.9140 - accuracy: 0.4428 - val_loss: 1.1464 - val_accuracy: 0.7015\n",
      "Epoch 41/100\n",
      "562/562 [==============================] - 18s 31ms/step - loss: 1.9045 - accuracy: 0.4440 - val_loss: 1.2011 - val_accuracy: 0.6715\n",
      "Epoch 42/100\n",
      "562/562 [==============================] - 18s 31ms/step - loss: 1.9214 - accuracy: 0.4402 - val_loss: 1.1644 - val_accuracy: 0.6815\n",
      "Epoch 43/100\n",
      "562/562 [==============================] - 18s 31ms/step - loss: 1.9274 - accuracy: 0.4391 - val_loss: 1.1723 - val_accuracy: 0.6880\n",
      "Epoch 44/100\n",
      "562/562 [==============================] - 18s 31ms/step - loss: 1.9095 - accuracy: 0.4435 - val_loss: 1.1513 - val_accuracy: 0.7005\n",
      "Epoch 45/100\n",
      "562/562 [==============================] - 18s 32ms/step - loss: 1.9141 - accuracy: 0.4384 - val_loss: 1.2130 - val_accuracy: 0.6865\n",
      "Epoch 46/100\n",
      "562/562 [==============================] - 18s 32ms/step - loss: 1.9110 - accuracy: 0.4458 - val_loss: 1.1790 - val_accuracy: 0.6940\n",
      "Epoch 47/100\n",
      "562/562 [==============================] - 18s 31ms/step - loss: 1.9016 - accuracy: 0.4472 - val_loss: 1.1325 - val_accuracy: 0.6920\n",
      "Epoch 48/100\n",
      "562/562 [==============================] - 18s 31ms/step - loss: 1.8888 - accuracy: 0.4482 - val_loss: 1.1442 - val_accuracy: 0.6850\n",
      "Epoch 49/100\n",
      "562/562 [==============================] - 18s 32ms/step - loss: 1.8865 - accuracy: 0.4527 - val_loss: 1.1612 - val_accuracy: 0.6990\n",
      "Epoch 50/100\n",
      "561/562 [============================>.] - ETA: 0s - loss: 1.8946 - accuracy: 0.4488"
     ]
    },
    {
     "name": "stderr",
     "output_type": "stream",
     "text": [
      "2024-05-19 06:04:03.065457: I tensorflow/core/common_runtime/executor.cc:1197] [/device:CPU:0] (DEBUG INFO) Executor start aborting (this does not indicate an error and you can ignore this message): INVALID_ARGUMENT: You must feed a value for placeholder tensor 'inputs' with dtype float and shape [?,256]\n",
      "\t [[{{node inputs}}]]\n",
      "2024-05-19 06:04:03.442976: I tensorflow/core/common_runtime/executor.cc:1197] [/device:CPU:0] (DEBUG INFO) Executor start aborting (this does not indicate an error and you can ignore this message): INVALID_ARGUMENT: You must feed a value for placeholder tensor 'inputs' with dtype float and shape [?,256]\n",
      "\t [[{{node inputs}}]]\n",
      "WARNING:absl:Found untraced functions such as _jit_compiled_convolution_op, _jit_compiled_convolution_op, _jit_compiled_convolution_op while saving (showing 3 of 3). These functions will not be directly callable after loading.\n"
     ]
    },
    {
     "name": "stdout",
     "output_type": "stream",
     "text": [
      "INFO:tensorflow:Assets written to: best_model/assets\n"
     ]
    },
    {
     "name": "stderr",
     "output_type": "stream",
     "text": [
      "INFO:tensorflow:Assets written to: best_model/assets\n"
     ]
    },
    {
     "name": "stdout",
     "output_type": "stream",
     "text": [
      "562/562 [==============================] - 19s 34ms/step - loss: 1.8940 - accuracy: 0.4488 - val_loss: 1.1436 - val_accuracy: 0.7085\n",
      "Epoch 51/100\n",
      "562/562 [==============================] - 18s 31ms/step - loss: 1.8745 - accuracy: 0.4538 - val_loss: 1.1633 - val_accuracy: 0.6870\n",
      "Epoch 52/100\n",
      "562/562 [==============================] - 18s 32ms/step - loss: 1.8827 - accuracy: 0.4486 - val_loss: 1.1744 - val_accuracy: 0.6850\n",
      "Epoch 53/100\n",
      "562/562 [==============================] - 18s 32ms/step - loss: 1.8796 - accuracy: 0.4455 - val_loss: 1.1732 - val_accuracy: 0.6895\n",
      "Epoch 54/100\n",
      "562/562 [==============================] - ETA: 0s - loss: 1.8801 - accuracy: 0.4546"
     ]
    },
    {
     "name": "stderr",
     "output_type": "stream",
     "text": [
      "2024-05-19 06:05:15.472699: I tensorflow/core/common_runtime/executor.cc:1197] [/device:CPU:0] (DEBUG INFO) Executor start aborting (this does not indicate an error and you can ignore this message): INVALID_ARGUMENT: You must feed a value for placeholder tensor 'inputs' with dtype float and shape [?,256]\n",
      "\t [[{{node inputs}}]]\n",
      "2024-05-19 06:05:15.860293: I tensorflow/core/common_runtime/executor.cc:1197] [/device:CPU:0] (DEBUG INFO) Executor start aborting (this does not indicate an error and you can ignore this message): INVALID_ARGUMENT: You must feed a value for placeholder tensor 'inputs' with dtype float and shape [?,256]\n",
      "\t [[{{node inputs}}]]\n",
      "WARNING:absl:Found untraced functions such as _jit_compiled_convolution_op, _jit_compiled_convolution_op, _jit_compiled_convolution_op while saving (showing 3 of 3). These functions will not be directly callable after loading.\n"
     ]
    },
    {
     "name": "stdout",
     "output_type": "stream",
     "text": [
      "INFO:tensorflow:Assets written to: best_model/assets\n"
     ]
    },
    {
     "name": "stderr",
     "output_type": "stream",
     "text": [
      "INFO:tensorflow:Assets written to: best_model/assets\n"
     ]
    },
    {
     "name": "stdout",
     "output_type": "stream",
     "text": [
      "562/562 [==============================] - 19s 34ms/step - loss: 1.8801 - accuracy: 0.4546 - val_loss: 1.1130 - val_accuracy: 0.7160\n",
      "Epoch 55/100\n",
      "562/562 [==============================] - ETA: 0s - loss: 1.8827 - accuracy: 0.4522"
     ]
    },
    {
     "name": "stderr",
     "output_type": "stream",
     "text": [
      "2024-05-19 06:05:34.721368: I tensorflow/core/common_runtime/executor.cc:1197] [/device:CPU:0] (DEBUG INFO) Executor start aborting (this does not indicate an error and you can ignore this message): INVALID_ARGUMENT: You must feed a value for placeholder tensor 'inputs' with dtype float and shape [?,256]\n",
      "\t [[{{node inputs}}]]\n",
      "2024-05-19 06:05:35.103659: I tensorflow/core/common_runtime/executor.cc:1197] [/device:CPU:0] (DEBUG INFO) Executor start aborting (this does not indicate an error and you can ignore this message): INVALID_ARGUMENT: You must feed a value for placeholder tensor 'inputs' with dtype float and shape [?,256]\n",
      "\t [[{{node inputs}}]]\n",
      "WARNING:absl:Found untraced functions such as _jit_compiled_convolution_op, _jit_compiled_convolution_op, _jit_compiled_convolution_op while saving (showing 3 of 3). These functions will not be directly callable after loading.\n"
     ]
    },
    {
     "name": "stdout",
     "output_type": "stream",
     "text": [
      "INFO:tensorflow:Assets written to: best_model/assets\n"
     ]
    },
    {
     "name": "stderr",
     "output_type": "stream",
     "text": [
      "INFO:tensorflow:Assets written to: best_model/assets\n"
     ]
    },
    {
     "name": "stdout",
     "output_type": "stream",
     "text": [
      "562/562 [==============================] - 19s 34ms/step - loss: 1.8827 - accuracy: 0.4522 - val_loss: 1.0967 - val_accuracy: 0.7290\n",
      "Epoch 56/100\n",
      "562/562 [==============================] - 18s 31ms/step - loss: 1.8661 - accuracy: 0.4565 - val_loss: 1.1290 - val_accuracy: 0.7085\n",
      "Epoch 57/100\n",
      "562/562 [==============================] - 18s 32ms/step - loss: 1.8674 - accuracy: 0.4555 - val_loss: 1.1030 - val_accuracy: 0.7185\n",
      "Epoch 58/100\n",
      "562/562 [==============================] - 18s 31ms/step - loss: 1.8602 - accuracy: 0.4559 - val_loss: 1.1309 - val_accuracy: 0.7010\n",
      "Epoch 59/100\n",
      "562/562 [==============================] - 18s 32ms/step - loss: 1.8456 - accuracy: 0.4603 - val_loss: 1.1167 - val_accuracy: 0.7145\n",
      "Epoch 60/100\n",
      "562/562 [==============================] - 18s 32ms/step - loss: 1.8583 - accuracy: 0.4558 - val_loss: 1.1137 - val_accuracy: 0.7110\n",
      "Epoch 61/100\n",
      "562/562 [==============================] - 18s 32ms/step - loss: 1.8517 - accuracy: 0.4580 - val_loss: 1.1098 - val_accuracy: 0.7105\n",
      "Epoch 62/100\n",
      "562/562 [==============================] - 18s 32ms/step - loss: 1.8355 - accuracy: 0.4633 - val_loss: 1.1098 - val_accuracy: 0.7110\n",
      "Epoch 63/100\n",
      "562/562 [==============================] - 18s 32ms/step - loss: 1.8607 - accuracy: 0.4544 - val_loss: 1.0926 - val_accuracy: 0.7155\n",
      "Epoch 64/100\n",
      "562/562 [==============================] - 18s 32ms/step - loss: 1.8370 - accuracy: 0.4590 - val_loss: 1.0795 - val_accuracy: 0.7125\n",
      "Epoch 65/100\n",
      "562/562 [==============================] - 18s 32ms/step - loss: 1.8435 - accuracy: 0.4652 - val_loss: 1.0832 - val_accuracy: 0.7075\n",
      "Epoch 66/100\n",
      "562/562 [==============================] - 18s 31ms/step - loss: 1.8397 - accuracy: 0.4616 - val_loss: 1.1110 - val_accuracy: 0.6910\n",
      "Epoch 67/100\n",
      "562/562 [==============================] - 18s 31ms/step - loss: 1.8182 - accuracy: 0.4664 - val_loss: 1.0951 - val_accuracy: 0.7150\n",
      "Epoch 68/100\n",
      "562/562 [==============================] - 18s 31ms/step - loss: 1.8317 - accuracy: 0.4679 - val_loss: 1.0923 - val_accuracy: 0.7000\n",
      "Epoch 69/100\n",
      "562/562 [==============================] - 18s 31ms/step - loss: 1.8383 - accuracy: 0.4633 - val_loss: 1.0749 - val_accuracy: 0.7165\n",
      "Epoch 70/100\n",
      "562/562 [==============================] - 18s 32ms/step - loss: 1.8291 - accuracy: 0.4664 - val_loss: 1.0828 - val_accuracy: 0.7155\n",
      "Epoch 71/100\n",
      "562/562 [==============================] - 18s 32ms/step - loss: 1.8319 - accuracy: 0.4696 - val_loss: 1.0774 - val_accuracy: 0.7220\n",
      "Epoch 72/100\n",
      "562/562 [==============================] - 18s 32ms/step - loss: 1.8204 - accuracy: 0.4700 - val_loss: 1.0655 - val_accuracy: 0.7285\n",
      "Epoch 73/100\n",
      "562/562 [==============================] - 18s 31ms/step - loss: 1.8109 - accuracy: 0.4694 - val_loss: 1.0736 - val_accuracy: 0.7180\n",
      "Epoch 74/100\n",
      "562/562 [==============================] - ETA: 0s - loss: 1.8189 - accuracy: 0.4734"
     ]
    },
    {
     "name": "stderr",
     "output_type": "stream",
     "text": [
      "2024-05-19 06:11:13.617124: I tensorflow/core/common_runtime/executor.cc:1197] [/device:CPU:0] (DEBUG INFO) Executor start aborting (this does not indicate an error and you can ignore this message): INVALID_ARGUMENT: You must feed a value for placeholder tensor 'inputs' with dtype float and shape [?,256]\n",
      "\t [[{{node inputs}}]]\n",
      "2024-05-19 06:11:14.034987: I tensorflow/core/common_runtime/executor.cc:1197] [/device:CPU:0] (DEBUG INFO) Executor start aborting (this does not indicate an error and you can ignore this message): INVALID_ARGUMENT: You must feed a value for placeholder tensor 'inputs' with dtype float and shape [?,256]\n",
      "\t [[{{node inputs}}]]\n",
      "WARNING:absl:Found untraced functions such as _jit_compiled_convolution_op, _jit_compiled_convolution_op, _jit_compiled_convolution_op while saving (showing 3 of 3). These functions will not be directly callable after loading.\n"
     ]
    },
    {
     "name": "stdout",
     "output_type": "stream",
     "text": [
      "INFO:tensorflow:Assets written to: best_model/assets\n"
     ]
    },
    {
     "name": "stderr",
     "output_type": "stream",
     "text": [
      "INFO:tensorflow:Assets written to: best_model/assets\n"
     ]
    },
    {
     "name": "stdout",
     "output_type": "stream",
     "text": [
      "562/562 [==============================] - 19s 34ms/step - loss: 1.8189 - accuracy: 0.4734 - val_loss: 1.0340 - val_accuracy: 0.7415\n",
      "Epoch 75/100\n",
      "562/562 [==============================] - 18s 32ms/step - loss: 1.8081 - accuracy: 0.4709 - val_loss: 1.0614 - val_accuracy: 0.7360\n",
      "Epoch 76/100\n",
      "562/562 [==============================] - 18s 32ms/step - loss: 1.8339 - accuracy: 0.4698 - val_loss: 1.0663 - val_accuracy: 0.7370\n",
      "Epoch 77/100\n",
      "562/562 [==============================] - ETA: 0s - loss: 1.8079 - accuracy: 0.4681"
     ]
    },
    {
     "name": "stderr",
     "output_type": "stream",
     "text": [
      "2024-05-19 06:12:09.083648: I tensorflow/core/common_runtime/executor.cc:1197] [/device:CPU:0] (DEBUG INFO) Executor start aborting (this does not indicate an error and you can ignore this message): INVALID_ARGUMENT: You must feed a value for placeholder tensor 'inputs' with dtype float and shape [?,256]\n",
      "\t [[{{node inputs}}]]\n",
      "2024-05-19 06:12:09.465704: I tensorflow/core/common_runtime/executor.cc:1197] [/device:CPU:0] (DEBUG INFO) Executor start aborting (this does not indicate an error and you can ignore this message): INVALID_ARGUMENT: You must feed a value for placeholder tensor 'inputs' with dtype float and shape [?,256]\n",
      "\t [[{{node inputs}}]]\n",
      "WARNING:absl:Found untraced functions such as _jit_compiled_convolution_op, _jit_compiled_convolution_op, _jit_compiled_convolution_op while saving (showing 3 of 3). These functions will not be directly callable after loading.\n"
     ]
    },
    {
     "name": "stdout",
     "output_type": "stream",
     "text": [
      "INFO:tensorflow:Assets written to: best_model/assets\n"
     ]
    },
    {
     "name": "stderr",
     "output_type": "stream",
     "text": [
      "INFO:tensorflow:Assets written to: best_model/assets\n"
     ]
    },
    {
     "name": "stdout",
     "output_type": "stream",
     "text": [
      "562/562 [==============================] - 20s 35ms/step - loss: 1.8079 - accuracy: 0.4681 - val_loss: 1.0212 - val_accuracy: 0.7515\n",
      "Epoch 78/100\n",
      "562/562 [==============================] - 18s 32ms/step - loss: 1.8102 - accuracy: 0.4693 - val_loss: 1.0638 - val_accuracy: 0.7380\n",
      "Epoch 79/100\n",
      "562/562 [==============================] - 18s 31ms/step - loss: 1.8026 - accuracy: 0.4811 - val_loss: 1.0458 - val_accuracy: 0.7315\n",
      "Epoch 80/100\n",
      "562/562 [==============================] - 18s 32ms/step - loss: 1.7970 - accuracy: 0.4764 - val_loss: 1.0760 - val_accuracy: 0.7225\n",
      "Epoch 81/100\n",
      "562/562 [==============================] - 18s 31ms/step - loss: 1.8116 - accuracy: 0.4714 - val_loss: 1.0588 - val_accuracy: 0.7200\n",
      "Epoch 82/100\n",
      "562/562 [==============================] - 18s 31ms/step - loss: 1.7988 - accuracy: 0.4726 - val_loss: 1.0685 - val_accuracy: 0.7250\n",
      "Epoch 83/100\n",
      "562/562 [==============================] - 18s 31ms/step - loss: 1.8028 - accuracy: 0.4745 - val_loss: 1.0640 - val_accuracy: 0.7360\n",
      "Epoch 84/100\n",
      "562/562 [==============================] - 18s 31ms/step - loss: 1.7987 - accuracy: 0.4767 - val_loss: 1.0889 - val_accuracy: 0.7190\n",
      "Epoch 85/100\n",
      "562/562 [==============================] - 18s 32ms/step - loss: 1.8088 - accuracy: 0.4755 - val_loss: 1.0283 - val_accuracy: 0.7380\n",
      "Epoch 86/100\n",
      "562/562 [==============================] - 18s 32ms/step - loss: 1.7731 - accuracy: 0.4835 - val_loss: 1.0391 - val_accuracy: 0.7410\n",
      "Epoch 87/100\n",
      "562/562 [==============================] - 18s 32ms/step - loss: 1.7878 - accuracy: 0.4826 - val_loss: 1.0342 - val_accuracy: 0.7420\n"
     ]
    },
    {
     "data": {
      "text/plain": [
       "<keras.callbacks.History at 0x7f026a9dafe0>"
      ]
     },
     "execution_count": 17,
     "metadata": {},
     "output_type": "execute_result"
    }
   ],
   "source": [
    "# Обучение с использованием расширения данных, ранней остановки и сохранения лучшей модели\n",
    "early_stopping = EarlyStopping(monitor='val_loss', patience=10, restore_best_weights=True)\n",
    "model.fit(datagen.flow(X_train, y_train, batch_size=32),\n",
    "          validation_data=(X_val, y_val),\n",
    "          steps_per_epoch=len(X_train) // 32,\n",
    "          epochs=100,\n",
    "          callbacks=[early_stopping, checkpoint])"
   ]
  },
  {
   "cell_type": "code",
   "execution_count": 19,
   "metadata": {
    "execution": {
     "iopub.execute_input": "2024-05-19T06:19:27.646510Z",
     "iopub.status.busy": "2024-05-19T06:19:27.645539Z",
     "iopub.status.idle": "2024-05-19T06:22:17.192733Z",
     "shell.execute_reply": "2024-05-19T06:22:17.191685Z",
     "shell.execute_reply.started": "2024-05-19T06:19:27.646463Z"
    }
   },
   "outputs": [
    {
     "name": "stderr",
     "output_type": "stream",
     "text": [
      "2024-05-19 06:19:28.020189: I tensorflow/core/common_runtime/executor.cc:1197] [/device:CPU:0] (DEBUG INFO) Executor start aborting (this does not indicate an error and you can ignore this message): INVALID_ARGUMENT: You must feed a value for placeholder tensor 'Placeholder/_0' with dtype int32\n",
      "\t [[{{node Placeholder/_0}}]]\n"
     ]
    },
    {
     "name": "stdout",
     "output_type": "stream",
     "text": [
      "Epoch 1/10\n",
      "281/281 [==============================] - 17s 60ms/step - loss: 1.7871 - accuracy: 0.4813 - val_loss: 1.0186 - val_accuracy: 0.7350\n",
      "Epoch 2/10\n",
      "281/281 [==============================] - 17s 60ms/step - loss: 1.7728 - accuracy: 0.4844 - val_loss: 1.0336 - val_accuracy: 0.7365\n",
      "Epoch 3/10\n",
      "281/281 [==============================] - 17s 60ms/step - loss: 1.7588 - accuracy: 0.4813 - val_loss: 1.0264 - val_accuracy: 0.7405\n",
      "Epoch 4/10\n",
      "281/281 [==============================] - 17s 61ms/step - loss: 1.7665 - accuracy: 0.4865 - val_loss: 1.0057 - val_accuracy: 0.7495\n",
      "Epoch 5/10\n",
      "281/281 [==============================] - 17s 60ms/step - loss: 1.7602 - accuracy: 0.4839 - val_loss: 0.9964 - val_accuracy: 0.7455\n",
      "Epoch 6/10\n",
      "281/281 [==============================] - 17s 60ms/step - loss: 1.7596 - accuracy: 0.4891 - val_loss: 1.0135 - val_accuracy: 0.7440\n",
      "Epoch 7/10\n",
      "281/281 [==============================] - 17s 60ms/step - loss: 1.7572 - accuracy: 0.4901 - val_loss: 1.0039 - val_accuracy: 0.7405\n",
      "Epoch 8/10\n",
      "281/281 [==============================] - 17s 60ms/step - loss: 1.7679 - accuracy: 0.4874 - val_loss: 1.0338 - val_accuracy: 0.7360\n",
      "Epoch 9/10\n",
      "281/281 [==============================] - 17s 60ms/step - loss: 1.7652 - accuracy: 0.4863 - val_loss: 1.0019 - val_accuracy: 0.7410\n",
      "Epoch 10/10\n",
      "281/281 [==============================] - 17s 60ms/step - loss: 1.7528 - accuracy: 0.4854 - val_loss: 0.9905 - val_accuracy: 0.7515\n"
     ]
    },
    {
     "data": {
      "text/plain": [
       "<keras.callbacks.History at 0x7f0240553be0>"
      ]
     },
     "execution_count": 19,
     "metadata": {},
     "output_type": "execute_result"
    }
   ],
   "source": [
    "# Обучение с использованием расширения данных, ранней остановки и сохранения лучшей модели\n",
    "early_stopping = EarlyStopping(monitor='val_loss', patience=10, restore_best_weights=True)\n",
    "model.fit(datagen.flow(X_train, y_train, batch_size=64),\n",
    "          validation_data=(X_val, y_val),\n",
    "          steps_per_epoch=len(X_train) // 64,\n",
    "          epochs=10,\n",
    "          callbacks=[early_stopping, checkpoint])"
   ]
  },
  {
   "cell_type": "code",
   "execution_count": 20,
   "metadata": {
    "execution": {
     "iopub.execute_input": "2024-05-19T06:23:19.360089Z",
     "iopub.status.busy": "2024-05-19T06:23:19.359109Z",
     "iopub.status.idle": "2024-05-19T06:33:36.630287Z",
     "shell.execute_reply": "2024-05-19T06:33:36.629037Z",
     "shell.execute_reply.started": "2024-05-19T06:23:19.360036Z"
    }
   },
   "outputs": [
    {
     "name": "stderr",
     "output_type": "stream",
     "text": [
      "2024-05-19 06:23:19.738592: I tensorflow/core/common_runtime/executor.cc:1197] [/device:CPU:0] (DEBUG INFO) Executor start aborting (this does not indicate an error and you can ignore this message): INVALID_ARGUMENT: You must feed a value for placeholder tensor 'Placeholder/_0' with dtype int32\n",
      "\t [[{{node Placeholder/_0}}]]\n"
     ]
    },
    {
     "name": "stdout",
     "output_type": "stream",
     "text": [
      "Epoch 1/100\n",
      "281/281 [==============================] - 17s 61ms/step - loss: 1.7636 - accuracy: 0.4861 - val_loss: 0.9955 - val_accuracy: 0.7470\n",
      "Epoch 2/100\n",
      "281/281 [==============================] - 17s 60ms/step - loss: 1.7489 - accuracy: 0.4885 - val_loss: 1.0134 - val_accuracy: 0.7405\n",
      "Epoch 3/100\n",
      "281/281 [==============================] - 17s 60ms/step - loss: 1.7488 - accuracy: 0.4893 - val_loss: 0.9997 - val_accuracy: 0.7460\n",
      "Epoch 4/100\n",
      "281/281 [==============================] - 17s 60ms/step - loss: 1.7468 - accuracy: 0.4920 - val_loss: 0.9971 - val_accuracy: 0.7450\n",
      "Epoch 5/100\n",
      "281/281 [==============================] - 17s 60ms/step - loss: 1.7357 - accuracy: 0.4938 - val_loss: 1.0054 - val_accuracy: 0.7365\n",
      "Epoch 6/100\n",
      "281/281 [==============================] - 17s 60ms/step - loss: 1.7258 - accuracy: 0.4972 - val_loss: 1.0047 - val_accuracy: 0.7455\n",
      "Epoch 7/100\n",
      "281/281 [==============================] - 17s 60ms/step - loss: 1.7485 - accuracy: 0.4845 - val_loss: 0.9869 - val_accuracy: 0.7475\n",
      "Epoch 8/100\n",
      "281/281 [==============================] - 17s 61ms/step - loss: 1.7376 - accuracy: 0.4934 - val_loss: 0.9861 - val_accuracy: 0.7505\n",
      "Epoch 9/100\n",
      "281/281 [==============================] - 17s 59ms/step - loss: 1.7255 - accuracy: 0.4951 - val_loss: 0.9768 - val_accuracy: 0.7490\n",
      "Epoch 10/100\n",
      "281/281 [==============================] - 17s 60ms/step - loss: 1.7292 - accuracy: 0.4925 - val_loss: 0.9751 - val_accuracy: 0.7470\n",
      "Epoch 11/100\n",
      "281/281 [==============================] - 17s 60ms/step - loss: 1.7309 - accuracy: 0.4959 - val_loss: 1.0055 - val_accuracy: 0.7480\n",
      "Epoch 12/100\n",
      "281/281 [==============================] - 17s 60ms/step - loss: 1.7272 - accuracy: 0.4926 - val_loss: 1.0128 - val_accuracy: 0.7470\n",
      "Epoch 13/100\n",
      "281/281 [==============================] - ETA: 0s - loss: 1.7252 - accuracy: 0.4976"
     ]
    },
    {
     "name": "stderr",
     "output_type": "stream",
     "text": [
      "2024-05-19 06:26:59.858051: I tensorflow/core/common_runtime/executor.cc:1197] [/device:CPU:0] (DEBUG INFO) Executor start aborting (this does not indicate an error and you can ignore this message): INVALID_ARGUMENT: You must feed a value for placeholder tensor 'inputs' with dtype float and shape [?,256]\n",
      "\t [[{{node inputs}}]]\n",
      "2024-05-19 06:27:00.243992: I tensorflow/core/common_runtime/executor.cc:1197] [/device:CPU:0] (DEBUG INFO) Executor start aborting (this does not indicate an error and you can ignore this message): INVALID_ARGUMENT: You must feed a value for placeholder tensor 'inputs' with dtype float and shape [?,256]\n",
      "\t [[{{node inputs}}]]\n",
      "WARNING:absl:Found untraced functions such as _jit_compiled_convolution_op, _jit_compiled_convolution_op, _jit_compiled_convolution_op while saving (showing 3 of 3). These functions will not be directly callable after loading.\n"
     ]
    },
    {
     "name": "stdout",
     "output_type": "stream",
     "text": [
      "INFO:tensorflow:Assets written to: best_model/assets\n"
     ]
    },
    {
     "name": "stderr",
     "output_type": "stream",
     "text": [
      "INFO:tensorflow:Assets written to: best_model/assets\n"
     ]
    },
    {
     "name": "stdout",
     "output_type": "stream",
     "text": [
      "281/281 [==============================] - 18s 65ms/step - loss: 1.7252 - accuracy: 0.4976 - val_loss: 0.9729 - val_accuracy: 0.7555\n",
      "Epoch 14/100\n",
      "281/281 [==============================] - 17s 61ms/step - loss: 1.7295 - accuracy: 0.4972 - val_loss: 0.9932 - val_accuracy: 0.7470\n",
      "Epoch 15/100\n",
      "281/281 [==============================] - ETA: 0s - loss: 1.7263 - accuracy: 0.4957"
     ]
    },
    {
     "name": "stderr",
     "output_type": "stream",
     "text": [
      "2024-05-19 06:27:35.420685: I tensorflow/core/common_runtime/executor.cc:1197] [/device:CPU:0] (DEBUG INFO) Executor start aborting (this does not indicate an error and you can ignore this message): INVALID_ARGUMENT: You must feed a value for placeholder tensor 'inputs' with dtype float and shape [?,256]\n",
      "\t [[{{node inputs}}]]\n",
      "2024-05-19 06:27:35.807242: I tensorflow/core/common_runtime/executor.cc:1197] [/device:CPU:0] (DEBUG INFO) Executor start aborting (this does not indicate an error and you can ignore this message): INVALID_ARGUMENT: You must feed a value for placeholder tensor 'inputs' with dtype float and shape [?,256]\n",
      "\t [[{{node inputs}}]]\n",
      "WARNING:absl:Found untraced functions such as _jit_compiled_convolution_op, _jit_compiled_convolution_op, _jit_compiled_convolution_op while saving (showing 3 of 3). These functions will not be directly callable after loading.\n"
     ]
    },
    {
     "name": "stdout",
     "output_type": "stream",
     "text": [
      "INFO:tensorflow:Assets written to: best_model/assets\n"
     ]
    },
    {
     "name": "stderr",
     "output_type": "stream",
     "text": [
      "INFO:tensorflow:Assets written to: best_model/assets\n"
     ]
    },
    {
     "name": "stdout",
     "output_type": "stream",
     "text": [
      "281/281 [==============================] - 19s 66ms/step - loss: 1.7263 - accuracy: 0.4957 - val_loss: 0.9696 - val_accuracy: 0.7565\n",
      "Epoch 16/100\n",
      "281/281 [==============================] - 17s 60ms/step - loss: 1.7282 - accuracy: 0.4926 - val_loss: 0.9912 - val_accuracy: 0.7545\n",
      "Epoch 17/100\n",
      "281/281 [==============================] - 17s 60ms/step - loss: 1.7153 - accuracy: 0.4981 - val_loss: 1.0079 - val_accuracy: 0.7520\n",
      "Epoch 18/100\n",
      "281/281 [==============================] - 17s 60ms/step - loss: 1.7140 - accuracy: 0.5016 - val_loss: 0.9862 - val_accuracy: 0.7365\n",
      "Epoch 19/100\n",
      "281/281 [==============================] - 17s 60ms/step - loss: 1.7072 - accuracy: 0.4996 - val_loss: 0.9951 - val_accuracy: 0.7480\n",
      "Epoch 20/100\n",
      "281/281 [==============================] - 17s 61ms/step - loss: 1.7287 - accuracy: 0.4974 - val_loss: 1.0129 - val_accuracy: 0.7380\n",
      "Epoch 21/100\n",
      "281/281 [==============================] - 17s 60ms/step - loss: 1.7143 - accuracy: 0.5006 - val_loss: 0.9753 - val_accuracy: 0.7535\n",
      "Epoch 22/100\n",
      "281/281 [==============================] - 17s 61ms/step - loss: 1.7213 - accuracy: 0.4921 - val_loss: 0.9571 - val_accuracy: 0.7565\n",
      "Epoch 23/100\n",
      "281/281 [==============================] - 17s 60ms/step - loss: 1.7170 - accuracy: 0.4962 - val_loss: 0.9724 - val_accuracy: 0.7520\n",
      "Epoch 24/100\n",
      "281/281 [==============================] - ETA: 0s - loss: 1.7103 - accuracy: 0.4984"
     ]
    },
    {
     "name": "stderr",
     "output_type": "stream",
     "text": [
      "2024-05-19 06:30:09.865264: I tensorflow/core/common_runtime/executor.cc:1197] [/device:CPU:0] (DEBUG INFO) Executor start aborting (this does not indicate an error and you can ignore this message): INVALID_ARGUMENT: You must feed a value for placeholder tensor 'inputs' with dtype float and shape [?,256]\n",
      "\t [[{{node inputs}}]]\n",
      "2024-05-19 06:30:10.248256: I tensorflow/core/common_runtime/executor.cc:1197] [/device:CPU:0] (DEBUG INFO) Executor start aborting (this does not indicate an error and you can ignore this message): INVALID_ARGUMENT: You must feed a value for placeholder tensor 'inputs' with dtype float and shape [?,256]\n",
      "\t [[{{node inputs}}]]\n",
      "WARNING:absl:Found untraced functions such as _jit_compiled_convolution_op, _jit_compiled_convolution_op, _jit_compiled_convolution_op while saving (showing 3 of 3). These functions will not be directly callable after loading.\n"
     ]
    },
    {
     "name": "stdout",
     "output_type": "stream",
     "text": [
      "INFO:tensorflow:Assets written to: best_model/assets\n"
     ]
    },
    {
     "name": "stderr",
     "output_type": "stream",
     "text": [
      "INFO:tensorflow:Assets written to: best_model/assets\n"
     ]
    },
    {
     "name": "stdout",
     "output_type": "stream",
     "text": [
      "281/281 [==============================] - 19s 66ms/step - loss: 1.7103 - accuracy: 0.4984 - val_loss: 0.9588 - val_accuracy: 0.7625\n",
      "Epoch 25/100\n",
      "281/281 [==============================] - 17s 60ms/step - loss: 1.7109 - accuracy: 0.5047 - val_loss: 1.0033 - val_accuracy: 0.7385\n",
      "Epoch 26/100\n",
      "281/281 [==============================] - ETA: 0s - loss: 1.7115 - accuracy: 0.5023"
     ]
    },
    {
     "name": "stderr",
     "output_type": "stream",
     "text": [
      "2024-05-19 06:30:45.340438: I tensorflow/core/common_runtime/executor.cc:1197] [/device:CPU:0] (DEBUG INFO) Executor start aborting (this does not indicate an error and you can ignore this message): INVALID_ARGUMENT: You must feed a value for placeholder tensor 'inputs' with dtype float and shape [?,256]\n",
      "\t [[{{node inputs}}]]\n",
      "2024-05-19 06:30:45.725800: I tensorflow/core/common_runtime/executor.cc:1197] [/device:CPU:0] (DEBUG INFO) Executor start aborting (this does not indicate an error and you can ignore this message): INVALID_ARGUMENT: You must feed a value for placeholder tensor 'inputs' with dtype float and shape [?,256]\n",
      "\t [[{{node inputs}}]]\n",
      "WARNING:absl:Found untraced functions such as _jit_compiled_convolution_op, _jit_compiled_convolution_op, _jit_compiled_convolution_op while saving (showing 3 of 3). These functions will not be directly callable after loading.\n"
     ]
    },
    {
     "name": "stdout",
     "output_type": "stream",
     "text": [
      "INFO:tensorflow:Assets written to: best_model/assets\n"
     ]
    },
    {
     "name": "stderr",
     "output_type": "stream",
     "text": [
      "INFO:tensorflow:Assets written to: best_model/assets\n"
     ]
    },
    {
     "name": "stdout",
     "output_type": "stream",
     "text": [
      "281/281 [==============================] - 18s 66ms/step - loss: 1.7115 - accuracy: 0.5023 - val_loss: 0.9418 - val_accuracy: 0.7675\n",
      "Epoch 27/100\n",
      "281/281 [==============================] - 17s 61ms/step - loss: 1.7129 - accuracy: 0.5032 - val_loss: 0.9615 - val_accuracy: 0.7540\n",
      "Epoch 28/100\n",
      "281/281 [==============================] - 17s 61ms/step - loss: 1.7119 - accuracy: 0.4970 - val_loss: 0.9583 - val_accuracy: 0.7565\n",
      "Epoch 29/100\n",
      "281/281 [==============================] - 17s 60ms/step - loss: 1.6972 - accuracy: 0.5036 - val_loss: 0.9592 - val_accuracy: 0.7510\n",
      "Epoch 30/100\n",
      "281/281 [==============================] - 17s 60ms/step - loss: 1.6836 - accuracy: 0.5112 - val_loss: 0.9956 - val_accuracy: 0.7350\n",
      "Epoch 31/100\n",
      "281/281 [==============================] - 17s 60ms/step - loss: 1.6960 - accuracy: 0.5059 - val_loss: 0.9543 - val_accuracy: 0.7610\n",
      "Epoch 32/100\n",
      "281/281 [==============================] - 17s 60ms/step - loss: 1.7024 - accuracy: 0.5052 - val_loss: 0.9654 - val_accuracy: 0.7550\n",
      "Epoch 33/100\n",
      "281/281 [==============================] - 17s 60ms/step - loss: 1.7019 - accuracy: 0.5037 - val_loss: 0.9660 - val_accuracy: 0.7640\n",
      "Epoch 34/100\n",
      "281/281 [==============================] - 17s 60ms/step - loss: 1.6915 - accuracy: 0.5132 - val_loss: 0.9841 - val_accuracy: 0.7485\n",
      "Epoch 35/100\n",
      "281/281 [==============================] - 17s 60ms/step - loss: 1.6908 - accuracy: 0.5036 - val_loss: 0.9587 - val_accuracy: 0.7645\n",
      "Epoch 36/100\n",
      "281/281 [==============================] - 17s 60ms/step - loss: 1.6894 - accuracy: 0.5076 - val_loss: 0.9647 - val_accuracy: 0.7635\n"
     ]
    },
    {
     "data": {
      "text/plain": [
       "<keras.callbacks.History at 0x7f0218330370>"
      ]
     },
     "execution_count": 20,
     "metadata": {},
     "output_type": "execute_result"
    }
   ],
   "source": [
    "# Обучение с использованием расширения данных, ранней остановки и сохранения лучшей модели\n",
    "early_stopping = EarlyStopping(monitor='val_loss', patience=10, restore_best_weights=True)\n",
    "model.fit(datagen.flow(X_train, y_train, batch_size=64),\n",
    "          validation_data=(X_val, y_val),\n",
    "          steps_per_epoch=len(X_train) // 64,\n",
    "          epochs=100,\n",
    "          callbacks=[early_stopping, checkpoint])"
   ]
  },
  {
   "cell_type": "code",
   "execution_count": 22,
   "metadata": {
    "execution": {
     "iopub.execute_input": "2024-05-19T06:35:14.023477Z",
     "iopub.status.busy": "2024-05-19T06:35:14.022202Z",
     "iopub.status.idle": "2024-05-19T06:45:28.868518Z",
     "shell.execute_reply": "2024-05-19T06:45:28.867393Z",
     "shell.execute_reply.started": "2024-05-19T06:35:14.023415Z"
    },
    "tags": []
   },
   "outputs": [
    {
     "name": "stderr",
     "output_type": "stream",
     "text": [
      "2024-05-19 06:35:14.457823: I tensorflow/core/common_runtime/executor.cc:1197] [/device:CPU:0] (DEBUG INFO) Executor start aborting (this does not indicate an error and you can ignore this message): INVALID_ARGUMENT: You must feed a value for placeholder tensor 'Placeholder/_0' with dtype int32\n",
      "\t [[{{node Placeholder/_0}}]]\n"
     ]
    },
    {
     "name": "stdout",
     "output_type": "stream",
     "text": [
      "Epoch 1/100\n",
      "140/140 [==============================] - 17s 117ms/step - loss: 1.6900 - accuracy: 0.5080 - val_loss: 0.9482 - val_accuracy: 0.7580\n",
      "Epoch 2/100\n",
      "140/140 [==============================] - 16s 117ms/step - loss: 1.6719 - accuracy: 0.5122 - val_loss: 0.9364 - val_accuracy: 0.7625\n",
      "Epoch 3/100\n",
      "140/140 [==============================] - ETA: 0s - loss: 1.6778 - accuracy: 0.5096"
     ]
    },
    {
     "name": "stderr",
     "output_type": "stream",
     "text": [
      "2024-05-19 06:36:04.463848: I tensorflow/core/common_runtime/executor.cc:1197] [/device:CPU:0] (DEBUG INFO) Executor start aborting (this does not indicate an error and you can ignore this message): INVALID_ARGUMENT: You must feed a value for placeholder tensor 'inputs' with dtype float and shape [?,256]\n",
      "\t [[{{node inputs}}]]\n",
      "2024-05-19 06:36:04.856494: I tensorflow/core/common_runtime/executor.cc:1197] [/device:CPU:0] (DEBUG INFO) Executor start aborting (this does not indicate an error and you can ignore this message): INVALID_ARGUMENT: You must feed a value for placeholder tensor 'inputs' with dtype float and shape [?,256]\n",
      "\t [[{{node inputs}}]]\n",
      "WARNING:absl:Found untraced functions such as _jit_compiled_convolution_op, _jit_compiled_convolution_op, _jit_compiled_convolution_op while saving (showing 3 of 3). These functions will not be directly callable after loading.\n"
     ]
    },
    {
     "name": "stdout",
     "output_type": "stream",
     "text": [
      "INFO:tensorflow:Assets written to: best_model/assets\n"
     ]
    },
    {
     "name": "stderr",
     "output_type": "stream",
     "text": [
      "INFO:tensorflow:Assets written to: best_model/assets\n"
     ]
    },
    {
     "name": "stdout",
     "output_type": "stream",
     "text": [
      "140/140 [==============================] - 18s 130ms/step - loss: 1.6778 - accuracy: 0.5096 - val_loss: 0.9337 - val_accuracy: 0.7685\n",
      "Epoch 4/100\n",
      "140/140 [==============================] - 17s 118ms/step - loss: 1.6654 - accuracy: 0.5057 - val_loss: 0.9405 - val_accuracy: 0.7545\n",
      "Epoch 5/100\n",
      "140/140 [==============================] - 17s 119ms/step - loss: 1.6726 - accuracy: 0.5096 - val_loss: 0.9421 - val_accuracy: 0.7660\n",
      "Epoch 6/100\n",
      "140/140 [==============================] - 16s 116ms/step - loss: 1.6704 - accuracy: 0.5105 - val_loss: 0.9401 - val_accuracy: 0.7630\n",
      "Epoch 7/100\n",
      "140/140 [==============================] - 16s 116ms/step - loss: 1.6538 - accuracy: 0.5152 - val_loss: 0.9417 - val_accuracy: 0.7595\n",
      "Epoch 8/100\n",
      "140/140 [==============================] - 16s 117ms/step - loss: 1.6491 - accuracy: 0.5206 - val_loss: 0.9360 - val_accuracy: 0.7535\n",
      "Epoch 9/100\n",
      "140/140 [==============================] - 16s 116ms/step - loss: 1.6671 - accuracy: 0.5121 - val_loss: 0.9283 - val_accuracy: 0.7570\n",
      "Epoch 10/100\n",
      "140/140 [==============================] - 16s 115ms/step - loss: 1.6605 - accuracy: 0.5159 - val_loss: 0.9336 - val_accuracy: 0.7665\n",
      "Epoch 11/100\n",
      "140/140 [==============================] - 16s 116ms/step - loss: 1.6505 - accuracy: 0.5136 - val_loss: 0.9173 - val_accuracy: 0.7660\n",
      "Epoch 12/100\n",
      "140/140 [==============================] - ETA: 0s - loss: 1.6425 - accuracy: 0.5196"
     ]
    },
    {
     "name": "stderr",
     "output_type": "stream",
     "text": [
      "2024-05-19 06:38:33.152753: I tensorflow/core/common_runtime/executor.cc:1197] [/device:CPU:0] (DEBUG INFO) Executor start aborting (this does not indicate an error and you can ignore this message): INVALID_ARGUMENT: You must feed a value for placeholder tensor 'inputs' with dtype float and shape [?,256]\n",
      "\t [[{{node inputs}}]]\n",
      "2024-05-19 06:38:33.528099: I tensorflow/core/common_runtime/executor.cc:1197] [/device:CPU:0] (DEBUG INFO) Executor start aborting (this does not indicate an error and you can ignore this message): INVALID_ARGUMENT: You must feed a value for placeholder tensor 'inputs' with dtype float and shape [?,256]\n",
      "\t [[{{node inputs}}]]\n",
      "WARNING:absl:Found untraced functions such as _jit_compiled_convolution_op, _jit_compiled_convolution_op, _jit_compiled_convolution_op while saving (showing 3 of 3). These functions will not be directly callable after loading.\n"
     ]
    },
    {
     "name": "stdout",
     "output_type": "stream",
     "text": [
      "INFO:tensorflow:Assets written to: best_model/assets\n"
     ]
    },
    {
     "name": "stderr",
     "output_type": "stream",
     "text": [
      "INFO:tensorflow:Assets written to: best_model/assets\n"
     ]
    },
    {
     "name": "stdout",
     "output_type": "stream",
     "text": [
      "140/140 [==============================] - 18s 126ms/step - loss: 1.6425 - accuracy: 0.5196 - val_loss: 0.9355 - val_accuracy: 0.7690\n",
      "Epoch 13/100\n",
      "140/140 [==============================] - 16s 116ms/step - loss: 1.6689 - accuracy: 0.5094 - val_loss: 0.9407 - val_accuracy: 0.7555\n",
      "Epoch 14/100\n",
      "140/140 [==============================] - 16s 116ms/step - loss: 1.6542 - accuracy: 0.5139 - val_loss: 0.9346 - val_accuracy: 0.7600\n",
      "Epoch 15/100\n",
      "140/140 [==============================] - ETA: 0s - loss: 1.6517 - accuracy: 0.5175"
     ]
    },
    {
     "name": "stderr",
     "output_type": "stream",
     "text": [
      "2024-05-19 06:39:23.280078: I tensorflow/core/common_runtime/executor.cc:1197] [/device:CPU:0] (DEBUG INFO) Executor start aborting (this does not indicate an error and you can ignore this message): INVALID_ARGUMENT: You must feed a value for placeholder tensor 'inputs' with dtype float and shape [?,256]\n",
      "\t [[{{node inputs}}]]\n",
      "2024-05-19 06:39:23.664337: I tensorflow/core/common_runtime/executor.cc:1197] [/device:CPU:0] (DEBUG INFO) Executor start aborting (this does not indicate an error and you can ignore this message): INVALID_ARGUMENT: You must feed a value for placeholder tensor 'inputs' with dtype float and shape [?,256]\n",
      "\t [[{{node inputs}}]]\n",
      "WARNING:absl:Found untraced functions such as _jit_compiled_convolution_op, _jit_compiled_convolution_op, _jit_compiled_convolution_op while saving (showing 3 of 3). These functions will not be directly callable after loading.\n"
     ]
    },
    {
     "name": "stdout",
     "output_type": "stream",
     "text": [
      "INFO:tensorflow:Assets written to: best_model/assets\n"
     ]
    },
    {
     "name": "stderr",
     "output_type": "stream",
     "text": [
      "INFO:tensorflow:Assets written to: best_model/assets\n"
     ]
    },
    {
     "name": "stdout",
     "output_type": "stream",
     "text": [
      "140/140 [==============================] - 18s 126ms/step - loss: 1.6517 - accuracy: 0.5175 - val_loss: 0.9222 - val_accuracy: 0.7725\n",
      "Epoch 16/100\n",
      "140/140 [==============================] - 16s 117ms/step - loss: 1.6546 - accuracy: 0.5135 - val_loss: 0.9313 - val_accuracy: 0.7600\n",
      "Epoch 17/100\n",
      "140/140 [==============================] - 16s 116ms/step - loss: 1.6455 - accuracy: 0.5183 - val_loss: 0.9208 - val_accuracy: 0.7630\n",
      "Epoch 18/100\n",
      "140/140 [==============================] - 16s 116ms/step - loss: 1.6632 - accuracy: 0.5118 - val_loss: 0.9183 - val_accuracy: 0.7715\n",
      "Epoch 19/100\n",
      "140/140 [==============================] - 16s 116ms/step - loss: 1.6589 - accuracy: 0.5124 - val_loss: 0.9165 - val_accuracy: 0.7590\n",
      "Epoch 20/100\n",
      "140/140 [==============================] - 16s 116ms/step - loss: 1.6394 - accuracy: 0.5209 - val_loss: 0.9296 - val_accuracy: 0.7535\n",
      "Epoch 21/100\n",
      "140/140 [==============================] - 16s 117ms/step - loss: 1.6460 - accuracy: 0.5196 - val_loss: 0.9105 - val_accuracy: 0.7675\n",
      "Epoch 22/100\n",
      "140/140 [==============================] - 16s 116ms/step - loss: 1.6447 - accuracy: 0.5198 - val_loss: 0.9098 - val_accuracy: 0.7655\n",
      "Epoch 23/100\n",
      "140/140 [==============================] - 16s 117ms/step - loss: 1.6439 - accuracy: 0.5198 - val_loss: 0.9087 - val_accuracy: 0.7720\n",
      "Epoch 24/100\n",
      "140/140 [==============================] - 16s 117ms/step - loss: 1.6399 - accuracy: 0.5187 - val_loss: 0.9183 - val_accuracy: 0.7615\n",
      "Epoch 25/100\n",
      "140/140 [==============================] - 16s 117ms/step - loss: 1.6369 - accuracy: 0.5228 - val_loss: 0.9229 - val_accuracy: 0.7650\n",
      "Epoch 26/100\n",
      "140/140 [==============================] - 16s 117ms/step - loss: 1.6359 - accuracy: 0.5225 - val_loss: 0.9205 - val_accuracy: 0.7680\n",
      "Epoch 27/100\n",
      "140/140 [==============================] - 16s 117ms/step - loss: 1.6457 - accuracy: 0.5170 - val_loss: 0.8934 - val_accuracy: 0.7715\n",
      "Epoch 28/100\n",
      "140/140 [==============================] - ETA: 0s - loss: 1.6447 - accuracy: 0.5200"
     ]
    },
    {
     "name": "stderr",
     "output_type": "stream",
     "text": [
      "2024-05-19 06:42:57.401411: I tensorflow/core/common_runtime/executor.cc:1197] [/device:CPU:0] (DEBUG INFO) Executor start aborting (this does not indicate an error and you can ignore this message): INVALID_ARGUMENT: You must feed a value for placeholder tensor 'inputs' with dtype float and shape [?,256]\n",
      "\t [[{{node inputs}}]]\n",
      "2024-05-19 06:42:57.786857: I tensorflow/core/common_runtime/executor.cc:1197] [/device:CPU:0] (DEBUG INFO) Executor start aborting (this does not indicate an error and you can ignore this message): INVALID_ARGUMENT: You must feed a value for placeholder tensor 'inputs' with dtype float and shape [?,256]\n",
      "\t [[{{node inputs}}]]\n",
      "WARNING:absl:Found untraced functions such as _jit_compiled_convolution_op, _jit_compiled_convolution_op, _jit_compiled_convolution_op while saving (showing 3 of 3). These functions will not be directly callable after loading.\n"
     ]
    },
    {
     "name": "stdout",
     "output_type": "stream",
     "text": [
      "INFO:tensorflow:Assets written to: best_model/assets\n"
     ]
    },
    {
     "name": "stderr",
     "output_type": "stream",
     "text": [
      "INFO:tensorflow:Assets written to: best_model/assets\n"
     ]
    },
    {
     "name": "stdout",
     "output_type": "stream",
     "text": [
      "140/140 [==============================] - 18s 127ms/step - loss: 1.6447 - accuracy: 0.5200 - val_loss: 0.8967 - val_accuracy: 0.7735\n",
      "Epoch 29/100\n",
      "140/140 [==============================] - ETA: 0s - loss: 1.6396 - accuracy: 0.5207"
     ]
    },
    {
     "name": "stderr",
     "output_type": "stream",
     "text": [
      "2024-05-19 06:43:15.176956: I tensorflow/core/common_runtime/executor.cc:1197] [/device:CPU:0] (DEBUG INFO) Executor start aborting (this does not indicate an error and you can ignore this message): INVALID_ARGUMENT: You must feed a value for placeholder tensor 'inputs' with dtype float and shape [?,256]\n",
      "\t [[{{node inputs}}]]\n",
      "2024-05-19 06:43:15.567470: I tensorflow/core/common_runtime/executor.cc:1197] [/device:CPU:0] (DEBUG INFO) Executor start aborting (this does not indicate an error and you can ignore this message): INVALID_ARGUMENT: You must feed a value for placeholder tensor 'inputs' with dtype float and shape [?,256]\n",
      "\t [[{{node inputs}}]]\n",
      "WARNING:absl:Found untraced functions such as _jit_compiled_convolution_op, _jit_compiled_convolution_op, _jit_compiled_convolution_op while saving (showing 3 of 3). These functions will not be directly callable after loading.\n"
     ]
    },
    {
     "name": "stdout",
     "output_type": "stream",
     "text": [
      "INFO:tensorflow:Assets written to: best_model/assets\n"
     ]
    },
    {
     "name": "stderr",
     "output_type": "stream",
     "text": [
      "INFO:tensorflow:Assets written to: best_model/assets\n"
     ]
    },
    {
     "name": "stdout",
     "output_type": "stream",
     "text": [
      "140/140 [==============================] - 18s 127ms/step - loss: 1.6396 - accuracy: 0.5207 - val_loss: 0.9071 - val_accuracy: 0.7765\n",
      "Epoch 30/100\n",
      "140/140 [==============================] - 16s 117ms/step - loss: 1.6218 - accuracy: 0.5233 - val_loss: 0.8982 - val_accuracy: 0.7680\n",
      "Epoch 31/100\n",
      "140/140 [==============================] - 16s 116ms/step - loss: 1.6411 - accuracy: 0.5204 - val_loss: 0.9083 - val_accuracy: 0.7645\n",
      "Epoch 32/100\n",
      "140/140 [==============================] - 16s 117ms/step - loss: 1.6282 - accuracy: 0.5210 - val_loss: 0.9204 - val_accuracy: 0.7560\n",
      "Epoch 33/100\n",
      "140/140 [==============================] - 16s 116ms/step - loss: 1.6379 - accuracy: 0.5172 - val_loss: 0.9038 - val_accuracy: 0.7640\n",
      "Epoch 34/100\n",
      "140/140 [==============================] - 16s 116ms/step - loss: 1.6407 - accuracy: 0.5197 - val_loss: 0.9112 - val_accuracy: 0.7645\n",
      "Epoch 35/100\n",
      "140/140 [==============================] - 16s 116ms/step - loss: 1.6206 - accuracy: 0.5196 - val_loss: 0.8957 - val_accuracy: 0.7740\n",
      "Epoch 36/100\n",
      "140/140 [==============================] - 16s 116ms/step - loss: 1.6230 - accuracy: 0.5237 - val_loss: 0.8952 - val_accuracy: 0.7725\n",
      "Epoch 37/100\n",
      "140/140 [==============================] - ETA: 0s - loss: 1.6357 - accuracy: 0.5213"
     ]
    },
    {
     "name": "stderr",
     "output_type": "stream",
     "text": [
      "2024-05-19 06:45:27.369235: I tensorflow/core/common_runtime/executor.cc:1197] [/device:CPU:0] (DEBUG INFO) Executor start aborting (this does not indicate an error and you can ignore this message): INVALID_ARGUMENT: You must feed a value for placeholder tensor 'inputs' with dtype float and shape [?,256]\n",
      "\t [[{{node inputs}}]]\n",
      "2024-05-19 06:45:27.757548: I tensorflow/core/common_runtime/executor.cc:1197] [/device:CPU:0] (DEBUG INFO) Executor start aborting (this does not indicate an error and you can ignore this message): INVALID_ARGUMENT: You must feed a value for placeholder tensor 'inputs' with dtype float and shape [?,256]\n",
      "\t [[{{node inputs}}]]\n",
      "WARNING:absl:Found untraced functions such as _jit_compiled_convolution_op, _jit_compiled_convolution_op, _jit_compiled_convolution_op while saving (showing 3 of 3). These functions will not be directly callable after loading.\n"
     ]
    },
    {
     "name": "stdout",
     "output_type": "stream",
     "text": [
      "INFO:tensorflow:Assets written to: best_model/assets\n"
     ]
    },
    {
     "name": "stderr",
     "output_type": "stream",
     "text": [
      "INFO:tensorflow:Assets written to: best_model/assets\n"
     ]
    },
    {
     "name": "stdout",
     "output_type": "stream",
     "text": [
      "140/140 [==============================] - 18s 130ms/step - loss: 1.6357 - accuracy: 0.5213 - val_loss: 0.9079 - val_accuracy: 0.7800\n"
     ]
    },
    {
     "data": {
      "text/plain": [
       "<keras.callbacks.History at 0x7f021822b010>"
      ]
     },
     "execution_count": 22,
     "metadata": {},
     "output_type": "execute_result"
    }
   ],
   "source": [
    "# Обучение с использованием расширения данных, ранней остановки и сохранения лучшей модели\n",
    "early_stopping = EarlyStopping(monitor='val_loss', patience=10, restore_best_weights=True)\n",
    "model.fit(datagen.flow(X_train, y_train, batch_size=128),\n",
    "          validation_data=(X_val, y_val),\n",
    "          steps_per_epoch=len(X_train) // 128,\n",
    "          epochs=100,\n",
    "          callbacks=[early_stopping, checkpoint])"
   ]
  },
  {
   "cell_type": "code",
   "execution_count": 40,
   "metadata": {
    "execution": {
     "iopub.execute_input": "2024-05-19T08:39:16.101694Z",
     "iopub.status.busy": "2024-05-19T08:39:16.100869Z",
     "iopub.status.idle": "2024-05-19T09:08:59.148370Z",
     "shell.execute_reply": "2024-05-19T09:08:59.144931Z",
     "shell.execute_reply.started": "2024-05-19T08:39:16.101629Z"
    },
    "tags": []
   },
   "outputs": [
    {
     "name": "stderr",
     "output_type": "stream",
     "text": [
      "2024-05-19 08:39:16.534667: I tensorflow/core/common_runtime/executor.cc:1197] [/device:CPU:0] (DEBUG INFO) Executor start aborting (this does not indicate an error and you can ignore this message): INVALID_ARGUMENT: You must feed a value for placeholder tensor 'Placeholder/_0' with dtype int32\n",
      "\t [[{{node Placeholder/_0}}]]\n"
     ]
    },
    {
     "name": "stdout",
     "output_type": "stream",
     "text": [
      "Epoch 1/400\n",
      "140/140 [==============================] - 16s 117ms/step - loss: 1.4464 - accuracy: 0.5770 - val_loss: 0.7852 - val_accuracy: 0.8025\n",
      "Epoch 2/400\n",
      "140/140 [==============================] - 16s 116ms/step - loss: 1.4659 - accuracy: 0.5680 - val_loss: 0.7661 - val_accuracy: 0.8130\n",
      "Epoch 3/400\n",
      "140/140 [==============================] - 16s 116ms/step - loss: 1.4797 - accuracy: 0.5672 - val_loss: 0.8004 - val_accuracy: 0.7935\n",
      "Epoch 4/400\n",
      "140/140 [==============================] - ETA: 0s - loss: 1.4607 - accuracy: 0.5709"
     ]
    },
    {
     "name": "stderr",
     "output_type": "stream",
     "text": [
      "2024-05-19 08:40:22.046387: I tensorflow/core/common_runtime/executor.cc:1197] [/device:CPU:0] (DEBUG INFO) Executor start aborting (this does not indicate an error and you can ignore this message): INVALID_ARGUMENT: You must feed a value for placeholder tensor 'inputs' with dtype float and shape [?,256]\n",
      "\t [[{{node inputs}}]]\n",
      "2024-05-19 08:40:22.430892: I tensorflow/core/common_runtime/executor.cc:1197] [/device:CPU:0] (DEBUG INFO) Executor start aborting (this does not indicate an error and you can ignore this message): INVALID_ARGUMENT: You must feed a value for placeholder tensor 'inputs' with dtype float and shape [?,256]\n",
      "\t [[{{node inputs}}]]\n",
      "WARNING:absl:Found untraced functions such as _jit_compiled_convolution_op, _jit_compiled_convolution_op, _jit_compiled_convolution_op while saving (showing 3 of 3). These functions will not be directly callable after loading.\n"
     ]
    },
    {
     "name": "stdout",
     "output_type": "stream",
     "text": [
      "INFO:tensorflow:Assets written to: best_model/assets\n"
     ]
    },
    {
     "name": "stderr",
     "output_type": "stream",
     "text": [
      "INFO:tensorflow:Assets written to: best_model/assets\n"
     ]
    },
    {
     "name": "stdout",
     "output_type": "stream",
     "text": [
      "140/140 [==============================] - 18s 125ms/step - loss: 1.4607 - accuracy: 0.5709 - val_loss: 0.7615 - val_accuracy: 0.8165\n",
      "Epoch 5/400\n",
      "140/140 [==============================] - 16s 116ms/step - loss: 1.4674 - accuracy: 0.5718 - val_loss: 0.7726 - val_accuracy: 0.8075\n",
      "Epoch 6/400\n",
      "140/140 [==============================] - 16s 116ms/step - loss: 1.4616 - accuracy: 0.5712 - val_loss: 0.7765 - val_accuracy: 0.8020\n",
      "Epoch 7/400\n",
      "140/140 [==============================] - 16s 115ms/step - loss: 1.4702 - accuracy: 0.5666 - val_loss: 0.7838 - val_accuracy: 0.8005\n",
      "Epoch 8/400\n",
      "140/140 [==============================] - 16s 116ms/step - loss: 1.4753 - accuracy: 0.5668 - val_loss: 0.7658 - val_accuracy: 0.8030\n",
      "Epoch 9/400\n",
      "140/140 [==============================] - 16s 116ms/step - loss: 1.4824 - accuracy: 0.5676 - val_loss: 0.7979 - val_accuracy: 0.8000\n",
      "Epoch 10/400\n",
      "140/140 [==============================] - 16s 115ms/step - loss: 1.4601 - accuracy: 0.5722 - val_loss: 0.7704 - val_accuracy: 0.8010\n",
      "Epoch 11/400\n",
      "140/140 [==============================] - 16s 116ms/step - loss: 1.4694 - accuracy: 0.5659 - val_loss: 0.7776 - val_accuracy: 0.7975\n",
      "Epoch 12/400\n",
      "140/140 [==============================] - 16s 116ms/step - loss: 1.4703 - accuracy: 0.5671 - val_loss: 0.7715 - val_accuracy: 0.7995\n",
      "Epoch 13/400\n",
      "140/140 [==============================] - 16s 115ms/step - loss: 1.4477 - accuracy: 0.5737 - val_loss: 0.7727 - val_accuracy: 0.8015\n",
      "Epoch 14/400\n",
      "140/140 [==============================] - 16s 115ms/step - loss: 1.4485 - accuracy: 0.5745 - val_loss: 0.7867 - val_accuracy: 0.7960\n",
      "Epoch 15/400\n",
      "140/140 [==============================] - 16s 116ms/step - loss: 1.4665 - accuracy: 0.5735 - val_loss: 0.7674 - val_accuracy: 0.8020\n",
      "Epoch 16/400\n",
      "140/140 [==============================] - 16s 116ms/step - loss: 1.4567 - accuracy: 0.5722 - val_loss: 0.7577 - val_accuracy: 0.8080\n",
      "Epoch 17/400\n",
      "140/140 [==============================] - 16s 116ms/step - loss: 1.4644 - accuracy: 0.5740 - val_loss: 0.7720 - val_accuracy: 0.8040\n",
      "Epoch 18/400\n",
      "140/140 [==============================] - 16s 116ms/step - loss: 1.4677 - accuracy: 0.5683 - val_loss: 0.7828 - val_accuracy: 0.8040\n",
      "Epoch 19/400\n",
      "140/140 [==============================] - 16s 116ms/step - loss: 1.4577 - accuracy: 0.5740 - val_loss: 0.7765 - val_accuracy: 0.8030\n",
      "Epoch 20/400\n",
      "140/140 [==============================] - 16s 116ms/step - loss: 1.4650 - accuracy: 0.5693 - val_loss: 0.7705 - val_accuracy: 0.7985\n",
      "Epoch 21/400\n",
      "140/140 [==============================] - 16s 116ms/step - loss: 1.4722 - accuracy: 0.5673 - val_loss: 0.7704 - val_accuracy: 0.8085\n",
      "Epoch 22/400\n",
      "140/140 [==============================] - 16s 117ms/step - loss: 1.4672 - accuracy: 0.5666 - val_loss: 0.7667 - val_accuracy: 0.8040\n",
      "Epoch 23/400\n",
      "140/140 [==============================] - 16s 115ms/step - loss: 1.4642 - accuracy: 0.5703 - val_loss: 0.7544 - val_accuracy: 0.8110\n",
      "Epoch 24/400\n",
      "140/140 [==============================] - 16s 115ms/step - loss: 1.4523 - accuracy: 0.5701 - val_loss: 0.7664 - val_accuracy: 0.8095\n",
      "Epoch 25/400\n",
      "140/140 [==============================] - 16s 116ms/step - loss: 1.4508 - accuracy: 0.5733 - val_loss: 0.7727 - val_accuracy: 0.8090\n",
      "Epoch 26/400\n",
      "140/140 [==============================] - 16s 115ms/step - loss: 1.4493 - accuracy: 0.5767 - val_loss: 0.7705 - val_accuracy: 0.8035\n",
      "Epoch 27/400\n",
      "140/140 [==============================] - 16s 116ms/step - loss: 1.4695 - accuracy: 0.5676 - val_loss: 0.7963 - val_accuracy: 0.7915\n",
      "Epoch 28/400\n",
      "140/140 [==============================] - 16s 115ms/step - loss: 1.4471 - accuracy: 0.5769 - val_loss: 0.7570 - val_accuracy: 0.8155\n",
      "Epoch 29/400\n",
      "140/140 [==============================] - 16s 117ms/step - loss: 1.4590 - accuracy: 0.5753 - val_loss: 0.7524 - val_accuracy: 0.8145\n",
      "Epoch 30/400\n",
      "140/140 [==============================] - 16s 116ms/step - loss: 1.4449 - accuracy: 0.5740 - val_loss: 0.7568 - val_accuracy: 0.8060\n",
      "Epoch 31/400\n",
      "140/140 [==============================] - 16s 116ms/step - loss: 1.4517 - accuracy: 0.5696 - val_loss: 0.7741 - val_accuracy: 0.8040\n",
      "Epoch 32/400\n",
      "140/140 [==============================] - 16s 116ms/step - loss: 1.4525 - accuracy: 0.5754 - val_loss: 0.7745 - val_accuracy: 0.8000\n",
      "Epoch 33/400\n",
      "140/140 [==============================] - 16s 116ms/step - loss: 1.4512 - accuracy: 0.5726 - val_loss: 0.7670 - val_accuracy: 0.8005\n",
      "Epoch 34/400\n",
      "140/140 [==============================] - 16s 116ms/step - loss: 1.4481 - accuracy: 0.5743 - val_loss: 0.7656 - val_accuracy: 0.8060\n",
      "Epoch 35/400\n",
      "140/140 [==============================] - 16s 116ms/step - loss: 1.4508 - accuracy: 0.5707 - val_loss: 0.7624 - val_accuracy: 0.8045\n",
      "Epoch 36/400\n",
      "140/140 [==============================] - 16s 116ms/step - loss: 1.4413 - accuracy: 0.5758 - val_loss: 0.7521 - val_accuracy: 0.8045\n",
      "Epoch 37/400\n",
      "140/140 [==============================] - 16s 116ms/step - loss: 1.4562 - accuracy: 0.5719 - val_loss: 0.7806 - val_accuracy: 0.7970\n",
      "Epoch 38/400\n",
      "140/140 [==============================] - 16s 117ms/step - loss: 1.4571 - accuracy: 0.5727 - val_loss: 0.7714 - val_accuracy: 0.8040\n",
      "Epoch 39/400\n",
      "140/140 [==============================] - 16s 116ms/step - loss: 1.4478 - accuracy: 0.5747 - val_loss: 0.7706 - val_accuracy: 0.8040\n",
      "Epoch 40/400\n",
      "140/140 [==============================] - 16s 116ms/step - loss: 1.4422 - accuracy: 0.5763 - val_loss: 0.7689 - val_accuracy: 0.8020\n",
      "Epoch 41/400\n",
      "140/140 [==============================] - 16s 117ms/step - loss: 1.4535 - accuracy: 0.5688 - val_loss: 0.7724 - val_accuracy: 0.8060\n",
      "Epoch 42/400\n",
      "140/140 [==============================] - 16s 116ms/step - loss: 1.4447 - accuracy: 0.5776 - val_loss: 0.7663 - val_accuracy: 0.8045\n",
      "Epoch 43/400\n",
      "140/140 [==============================] - 16s 117ms/step - loss: 1.4439 - accuracy: 0.5718 - val_loss: 0.7949 - val_accuracy: 0.7995\n",
      "Epoch 44/400\n",
      "140/140 [==============================] - 16s 117ms/step - loss: 1.4430 - accuracy: 0.5824 - val_loss: 0.7387 - val_accuracy: 0.8135\n",
      "Epoch 45/400\n",
      "140/140 [==============================] - 16s 116ms/step - loss: 1.4490 - accuracy: 0.5742 - val_loss: 0.7420 - val_accuracy: 0.8145\n",
      "Epoch 46/400\n",
      "140/140 [==============================] - 16s 117ms/step - loss: 1.4492 - accuracy: 0.5731 - val_loss: 0.7487 - val_accuracy: 0.8120\n",
      "Epoch 47/400\n",
      "140/140 [==============================] - 16s 116ms/step - loss: 1.4429 - accuracy: 0.5745 - val_loss: 0.7508 - val_accuracy: 0.8155\n",
      "Epoch 48/400\n",
      "140/140 [==============================] - 16s 116ms/step - loss: 1.4523 - accuracy: 0.5788 - val_loss: 0.7579 - val_accuracy: 0.8075\n",
      "Epoch 49/400\n",
      "140/140 [==============================] - 16s 116ms/step - loss: 1.4455 - accuracy: 0.5784 - val_loss: 0.7678 - val_accuracy: 0.8050\n",
      "Epoch 50/400\n",
      "140/140 [==============================] - 16s 116ms/step - loss: 1.4405 - accuracy: 0.5769 - val_loss: 0.7537 - val_accuracy: 0.8085\n",
      "Epoch 51/400\n",
      "140/140 [==============================] - 16s 116ms/step - loss: 1.4454 - accuracy: 0.5717 - val_loss: 0.7558 - val_accuracy: 0.8140\n",
      "Epoch 52/400\n",
      "140/140 [==============================] - 16s 116ms/step - loss: 1.4473 - accuracy: 0.5760 - val_loss: 0.7633 - val_accuracy: 0.8095\n",
      "Epoch 53/400\n",
      "140/140 [==============================] - 16s 116ms/step - loss: 1.4457 - accuracy: 0.5726 - val_loss: 0.7616 - val_accuracy: 0.8060\n",
      "Epoch 54/400\n",
      "140/140 [==============================] - 16s 116ms/step - loss: 1.4334 - accuracy: 0.5778 - val_loss: 0.7686 - val_accuracy: 0.8105\n",
      "Epoch 55/400\n",
      "140/140 [==============================] - 16s 117ms/step - loss: 1.4463 - accuracy: 0.5721 - val_loss: 0.7584 - val_accuracy: 0.8115\n",
      "Epoch 56/400\n",
      "140/140 [==============================] - 16s 116ms/step - loss: 1.4463 - accuracy: 0.5736 - val_loss: 0.7553 - val_accuracy: 0.8080\n",
      "Epoch 57/400\n",
      "140/140 [==============================] - 16s 116ms/step - loss: 1.4413 - accuracy: 0.5778 - val_loss: 0.7492 - val_accuracy: 0.8135\n",
      "Epoch 58/400\n",
      "140/140 [==============================] - 16s 117ms/step - loss: 1.4532 - accuracy: 0.5721 - val_loss: 0.7663 - val_accuracy: 0.7955\n",
      "Epoch 59/400\n",
      "140/140 [==============================] - 16s 116ms/step - loss: 1.4453 - accuracy: 0.5712 - val_loss: 0.7634 - val_accuracy: 0.8015\n",
      "Epoch 60/400\n",
      "140/140 [==============================] - 16s 117ms/step - loss: 1.4375 - accuracy: 0.5724 - val_loss: 0.7700 - val_accuracy: 0.8055\n",
      "Epoch 61/400\n",
      "140/140 [==============================] - 16s 116ms/step - loss: 1.4310 - accuracy: 0.5809 - val_loss: 0.7415 - val_accuracy: 0.8120\n",
      "Epoch 62/400\n",
      "140/140 [==============================] - 16s 116ms/step - loss: 1.4293 - accuracy: 0.5734 - val_loss: 0.7488 - val_accuracy: 0.8065\n",
      "Epoch 63/400\n",
      "140/140 [==============================] - 16s 116ms/step - loss: 1.4390 - accuracy: 0.5773 - val_loss: 0.7629 - val_accuracy: 0.7985\n",
      "Epoch 64/400\n",
      "140/140 [==============================] - 16s 116ms/step - loss: 1.4491 - accuracy: 0.5786 - val_loss: 0.7554 - val_accuracy: 0.7925\n",
      "Epoch 65/400\n",
      "140/140 [==============================] - 16s 116ms/step - loss: 1.4426 - accuracy: 0.5703 - val_loss: 0.7487 - val_accuracy: 0.8090\n",
      "Epoch 66/400\n",
      "140/140 [==============================] - 16s 116ms/step - loss: 1.4285 - accuracy: 0.5828 - val_loss: 0.7786 - val_accuracy: 0.8000\n",
      "Epoch 67/400\n",
      "140/140 [==============================] - 16s 116ms/step - loss: 1.4506 - accuracy: 0.5764 - val_loss: 0.7640 - val_accuracy: 0.8120\n",
      "Epoch 68/400\n",
      "140/140 [==============================] - 16s 116ms/step - loss: 1.4466 - accuracy: 0.5746 - val_loss: 0.7661 - val_accuracy: 0.8025\n",
      "Epoch 69/400\n",
      "140/140 [==============================] - 16s 117ms/step - loss: 1.4277 - accuracy: 0.5796 - val_loss: 0.7600 - val_accuracy: 0.8025\n",
      "Epoch 70/400\n",
      "140/140 [==============================] - 16s 116ms/step - loss: 1.4227 - accuracy: 0.5788 - val_loss: 0.7530 - val_accuracy: 0.8045\n",
      "Epoch 71/400\n",
      "140/140 [==============================] - 16s 116ms/step - loss: 1.4410 - accuracy: 0.5773 - val_loss: 0.7504 - val_accuracy: 0.8025\n",
      "Epoch 72/400\n",
      "140/140 [==============================] - 16s 116ms/step - loss: 1.4319 - accuracy: 0.5783 - val_loss: 0.7496 - val_accuracy: 0.8000\n",
      "Epoch 73/400\n",
      "140/140 [==============================] - 16s 117ms/step - loss: 1.4315 - accuracy: 0.5839 - val_loss: 0.7460 - val_accuracy: 0.8055\n",
      "Epoch 74/400\n",
      "140/140 [==============================] - 16s 117ms/step - loss: 1.4384 - accuracy: 0.5781 - val_loss: 0.7712 - val_accuracy: 0.7925\n",
      "Epoch 75/400\n",
      "140/140 [==============================] - 16s 116ms/step - loss: 1.4321 - accuracy: 0.5811 - val_loss: 0.7465 - val_accuracy: 0.8025\n",
      "Epoch 76/400\n",
      "140/140 [==============================] - 16s 117ms/step - loss: 1.4190 - accuracy: 0.5814 - val_loss: 0.7613 - val_accuracy: 0.8055\n",
      "Epoch 77/400\n",
      "140/140 [==============================] - 16s 117ms/step - loss: 1.4204 - accuracy: 0.5787 - val_loss: 0.7553 - val_accuracy: 0.7945\n",
      "Epoch 78/400\n",
      "140/140 [==============================] - 16s 116ms/step - loss: 1.4317 - accuracy: 0.5772 - val_loss: 0.7450 - val_accuracy: 0.8075\n",
      "Epoch 79/400\n",
      "140/140 [==============================] - 16s 117ms/step - loss: 1.4379 - accuracy: 0.5758 - val_loss: 0.7533 - val_accuracy: 0.8120\n",
      "Epoch 80/400\n",
      "140/140 [==============================] - 16s 117ms/step - loss: 1.4277 - accuracy: 0.5807 - val_loss: 0.7441 - val_accuracy: 0.8065\n",
      "Epoch 81/400\n",
      "140/140 [==============================] - ETA: 0s - loss: 1.4311 - accuracy: 0.5797"
     ]
    },
    {
     "name": "stderr",
     "output_type": "stream",
     "text": [
      "2024-05-19 09:01:17.814320: I tensorflow/core/common_runtime/executor.cc:1197] [/device:CPU:0] (DEBUG INFO) Executor start aborting (this does not indicate an error and you can ignore this message): INVALID_ARGUMENT: You must feed a value for placeholder tensor 'inputs' with dtype float and shape [?,256]\n",
      "\t [[{{node inputs}}]]\n",
      "2024-05-19 09:01:18.239117: I tensorflow/core/common_runtime/executor.cc:1197] [/device:CPU:0] (DEBUG INFO) Executor start aborting (this does not indicate an error and you can ignore this message): INVALID_ARGUMENT: You must feed a value for placeholder tensor 'inputs' with dtype float and shape [?,256]\n",
      "\t [[{{node inputs}}]]\n",
      "WARNING:absl:Found untraced functions such as _jit_compiled_convolution_op, _jit_compiled_convolution_op, _jit_compiled_convolution_op while saving (showing 3 of 3). These functions will not be directly callable after loading.\n"
     ]
    },
    {
     "name": "stdout",
     "output_type": "stream",
     "text": [
      "INFO:tensorflow:Assets written to: best_model/assets\n"
     ]
    },
    {
     "name": "stderr",
     "output_type": "stream",
     "text": [
      "INFO:tensorflow:Assets written to: best_model/assets\n"
     ]
    },
    {
     "name": "stdout",
     "output_type": "stream",
     "text": [
      "140/140 [==============================] - 18s 127ms/step - loss: 1.4311 - accuracy: 0.5797 - val_loss: 0.7565 - val_accuracy: 0.8195\n",
      "Epoch 82/400\n",
      "140/140 [==============================] - 16s 116ms/step - loss: 1.4133 - accuracy: 0.5802 - val_loss: 0.7619 - val_accuracy: 0.8030\n",
      "Epoch 83/400\n",
      "140/140 [==============================] - 16s 116ms/step - loss: 1.4169 - accuracy: 0.5829 - val_loss: 0.7468 - val_accuracy: 0.8040\n",
      "Epoch 84/400\n",
      "140/140 [==============================] - ETA: 0s - loss: 1.4166 - accuracy: 0.5842"
     ]
    },
    {
     "name": "stderr",
     "output_type": "stream",
     "text": [
      "2024-05-19 09:02:08.326492: I tensorflow/core/common_runtime/executor.cc:1197] [/device:CPU:0] (DEBUG INFO) Executor start aborting (this does not indicate an error and you can ignore this message): INVALID_ARGUMENT: You must feed a value for placeholder tensor 'inputs' with dtype float and shape [?,256]\n",
      "\t [[{{node inputs}}]]\n",
      "2024-05-19 09:02:08.703029: I tensorflow/core/common_runtime/executor.cc:1197] [/device:CPU:0] (DEBUG INFO) Executor start aborting (this does not indicate an error and you can ignore this message): INVALID_ARGUMENT: You must feed a value for placeholder tensor 'inputs' with dtype float and shape [?,256]\n",
      "\t [[{{node inputs}}]]\n",
      "WARNING:absl:Found untraced functions such as _jit_compiled_convolution_op, _jit_compiled_convolution_op, _jit_compiled_convolution_op while saving (showing 3 of 3). These functions will not be directly callable after loading.\n"
     ]
    },
    {
     "name": "stdout",
     "output_type": "stream",
     "text": [
      "INFO:tensorflow:Assets written to: best_model/assets\n"
     ]
    },
    {
     "name": "stderr",
     "output_type": "stream",
     "text": [
      "INFO:tensorflow:Assets written to: best_model/assets\n"
     ]
    },
    {
     "name": "stdout",
     "output_type": "stream",
     "text": [
      "140/140 [==============================] - 18s 131ms/step - loss: 1.4166 - accuracy: 0.5842 - val_loss: 0.7288 - val_accuracy: 0.8200\n",
      "Epoch 85/400\n",
      "140/140 [==============================] - 16s 116ms/step - loss: 1.4240 - accuracy: 0.5802 - val_loss: 0.7385 - val_accuracy: 0.8165\n",
      "Epoch 86/400\n",
      "140/140 [==============================] - 16s 116ms/step - loss: 1.4254 - accuracy: 0.5788 - val_loss: 0.7466 - val_accuracy: 0.8045\n",
      "Epoch 87/400\n",
      "140/140 [==============================] - 16s 115ms/step - loss: 1.4229 - accuracy: 0.5845 - val_loss: 0.7394 - val_accuracy: 0.8095\n",
      "Epoch 88/400\n",
      "140/140 [==============================] - 16s 116ms/step - loss: 1.4368 - accuracy: 0.5777 - val_loss: 0.7660 - val_accuracy: 0.8080\n",
      "Epoch 89/400\n",
      "140/140 [==============================] - 16s 116ms/step - loss: 1.4155 - accuracy: 0.5791 - val_loss: 0.7340 - val_accuracy: 0.8100\n",
      "Epoch 90/400\n",
      "140/140 [==============================] - 16s 115ms/step - loss: 1.4188 - accuracy: 0.5843 - val_loss: 0.7558 - val_accuracy: 0.8025\n",
      "Epoch 91/400\n",
      "140/140 [==============================] - 16s 116ms/step - loss: 1.4140 - accuracy: 0.5814 - val_loss: 0.7350 - val_accuracy: 0.8135\n",
      "Epoch 92/400\n",
      "140/140 [==============================] - 16s 115ms/step - loss: 1.4315 - accuracy: 0.5776 - val_loss: 0.7377 - val_accuracy: 0.8155\n",
      "Epoch 93/400\n",
      "140/140 [==============================] - 16s 116ms/step - loss: 1.4341 - accuracy: 0.5771 - val_loss: 0.7562 - val_accuracy: 0.8145\n",
      "Epoch 94/400\n",
      "140/140 [==============================] - 16s 115ms/step - loss: 1.4355 - accuracy: 0.5762 - val_loss: 0.7565 - val_accuracy: 0.8045\n",
      "Epoch 95/400\n",
      "140/140 [==============================] - 16s 116ms/step - loss: 1.4064 - accuracy: 0.5845 - val_loss: 0.7470 - val_accuracy: 0.8165\n",
      "Epoch 96/400\n",
      "140/140 [==============================] - 16s 116ms/step - loss: 1.4099 - accuracy: 0.5842 - val_loss: 0.7454 - val_accuracy: 0.8080\n",
      "Epoch 97/400\n",
      "140/140 [==============================] - 16s 115ms/step - loss: 1.4144 - accuracy: 0.5828 - val_loss: 0.7562 - val_accuracy: 0.8070\n",
      "Epoch 98/400\n",
      "140/140 [==============================] - 16s 116ms/step - loss: 1.4239 - accuracy: 0.5803 - val_loss: 0.7399 - val_accuracy: 0.8130\n",
      "Epoch 99/400\n",
      "140/140 [==============================] - 16s 116ms/step - loss: 1.4199 - accuracy: 0.5840 - val_loss: 0.7502 - val_accuracy: 0.8075\n",
      "Epoch 100/400\n",
      "140/140 [==============================] - 16s 115ms/step - loss: 1.4101 - accuracy: 0.5856 - val_loss: 0.7580 - val_accuracy: 0.8080\n",
      "Epoch 101/400\n",
      "140/140 [==============================] - 16s 116ms/step - loss: 1.4437 - accuracy: 0.5783 - val_loss: 0.7629 - val_accuracy: 0.8015\n",
      "Epoch 102/400\n",
      "140/140 [==============================] - 16s 115ms/step - loss: 1.4161 - accuracy: 0.5854 - val_loss: 0.7389 - val_accuracy: 0.8125\n",
      "Epoch 103/400\n",
      "140/140 [==============================] - 16s 115ms/step - loss: 1.4266 - accuracy: 0.5774 - val_loss: 0.7392 - val_accuracy: 0.8070\n",
      "Epoch 104/400\n",
      "140/140 [==============================] - ETA: 0s - loss: 1.4018 - accuracy: 0.5903"
     ]
    },
    {
     "name": "stderr",
     "output_type": "stream",
     "text": [
      "2024-05-19 09:07:34.634207: I tensorflow/core/common_runtime/executor.cc:1197] [/device:CPU:0] (DEBUG INFO) Executor start aborting (this does not indicate an error and you can ignore this message): INVALID_ARGUMENT: You must feed a value for placeholder tensor 'inputs' with dtype float and shape [?,256]\n",
      "\t [[{{node inputs}}]]\n",
      "2024-05-19 09:07:35.043632: I tensorflow/core/common_runtime/executor.cc:1197] [/device:CPU:0] (DEBUG INFO) Executor start aborting (this does not indicate an error and you can ignore this message): INVALID_ARGUMENT: You must feed a value for placeholder tensor 'inputs' with dtype float and shape [?,256]\n",
      "\t [[{{node inputs}}]]\n",
      "WARNING:absl:Found untraced functions such as _jit_compiled_convolution_op, _jit_compiled_convolution_op, _jit_compiled_convolution_op while saving (showing 3 of 3). These functions will not be directly callable after loading.\n"
     ]
    },
    {
     "name": "stdout",
     "output_type": "stream",
     "text": [
      "INFO:tensorflow:Assets written to: best_model/assets\n"
     ]
    },
    {
     "name": "stderr",
     "output_type": "stream",
     "text": [
      "INFO:tensorflow:Assets written to: best_model/assets\n"
     ]
    },
    {
     "name": "stdout",
     "output_type": "stream",
     "text": [
      "140/140 [==============================] - 18s 127ms/step - loss: 1.4018 - accuracy: 0.5903 - val_loss: 0.7305 - val_accuracy: 0.8210\n",
      "Epoch 105/400\n",
      "140/140 [==============================] - 16s 115ms/step - loss: 1.4055 - accuracy: 0.5858 - val_loss: 0.7424 - val_accuracy: 0.8085\n",
      "Epoch 106/400\n",
      "140/140 [==============================] - 16s 116ms/step - loss: 1.4252 - accuracy: 0.5814 - val_loss: 0.7322 - val_accuracy: 0.8170\n",
      "Epoch 107/400\n",
      "140/140 [==============================] - 16s 115ms/step - loss: 1.4074 - accuracy: 0.5834 - val_loss: 0.7435 - val_accuracy: 0.8045\n",
      "Epoch 108/400\n",
      "140/140 [==============================] - 16s 116ms/step - loss: 1.4141 - accuracy: 0.5854 - val_loss: 0.7409 - val_accuracy: 0.8100\n",
      "Epoch 109/400\n",
      "140/140 [==============================] - 16s 116ms/step - loss: 1.4164 - accuracy: 0.5833 - val_loss: 0.7368 - val_accuracy: 0.8075\n",
      "Epoch 110/400\n",
      " 16/140 [==>...........................] - ETA: 14s - loss: 1.4170 - accuracy: 0.5935"
     ]
    },
    {
     "ename": "KeyboardInterrupt",
     "evalue": "",
     "output_type": "error",
     "traceback": [
      "\u001b[0;31m---------------------------------------------------------------------------\u001b[0m",
      "\u001b[0;31mKeyboardInterrupt\u001b[0m                         Traceback (most recent call last)",
      "\u001b[0;32m<ipython-input-40-4aec7447ac8f>\u001b[0m in \u001b[0;36m<module>\u001b[0;34m\u001b[0m\n\u001b[1;32m      1\u001b[0m \u001b[0;31m# Обучение с использованием расширения данных, ранней остановки и сохранения лучшей модели\u001b[0m\u001b[0;34m\u001b[0m\u001b[0;34m\u001b[0m\u001b[0m\n\u001b[1;32m      2\u001b[0m \u001b[0mearly_stopping\u001b[0m \u001b[0;34m=\u001b[0m \u001b[0mEarlyStopping\u001b[0m\u001b[0;34m(\u001b[0m\u001b[0mmonitor\u001b[0m\u001b[0;34m=\u001b[0m\u001b[0;34m'val_loss'\u001b[0m\u001b[0;34m,\u001b[0m \u001b[0mpatience\u001b[0m\u001b[0;34m=\u001b[0m\u001b[0;36m200\u001b[0m\u001b[0;34m,\u001b[0m \u001b[0mrestore_best_weights\u001b[0m\u001b[0;34m=\u001b[0m\u001b[0;32mTrue\u001b[0m\u001b[0;34m)\u001b[0m\u001b[0;34m\u001b[0m\u001b[0;34m\u001b[0m\u001b[0m\n\u001b[0;32m----> 3\u001b[0;31m model.fit(datagen.flow(X_train, y_train, batch_size=128),\n\u001b[0m\u001b[1;32m      4\u001b[0m           \u001b[0mvalidation_data\u001b[0m\u001b[0;34m=\u001b[0m\u001b[0;34m(\u001b[0m\u001b[0mX_val\u001b[0m\u001b[0;34m,\u001b[0m \u001b[0my_val\u001b[0m\u001b[0;34m)\u001b[0m\u001b[0;34m,\u001b[0m\u001b[0;34m\u001b[0m\u001b[0;34m\u001b[0m\u001b[0m\n\u001b[1;32m      5\u001b[0m           \u001b[0msteps_per_epoch\u001b[0m\u001b[0;34m=\u001b[0m\u001b[0mlen\u001b[0m\u001b[0;34m(\u001b[0m\u001b[0mX_train\u001b[0m\u001b[0;34m)\u001b[0m \u001b[0;34m//\u001b[0m \u001b[0;36m128\u001b[0m\u001b[0;34m,\u001b[0m\u001b[0;34m\u001b[0m\u001b[0;34m\u001b[0m\u001b[0m\n",
      "\u001b[0;32m/usr/local/lib/python3.10/dist-packages/keras/utils/traceback_utils.py\u001b[0m in \u001b[0;36merror_handler\u001b[0;34m(*args, **kwargs)\u001b[0m\n\u001b[1;32m     63\u001b[0m         \u001b[0mfiltered_tb\u001b[0m \u001b[0;34m=\u001b[0m \u001b[0;32mNone\u001b[0m\u001b[0;34m\u001b[0m\u001b[0;34m\u001b[0m\u001b[0m\n\u001b[1;32m     64\u001b[0m         \u001b[0;32mtry\u001b[0m\u001b[0;34m:\u001b[0m\u001b[0;34m\u001b[0m\u001b[0;34m\u001b[0m\u001b[0m\n\u001b[0;32m---> 65\u001b[0;31m             \u001b[0;32mreturn\u001b[0m \u001b[0mfn\u001b[0m\u001b[0;34m(\u001b[0m\u001b[0;34m*\u001b[0m\u001b[0margs\u001b[0m\u001b[0;34m,\u001b[0m \u001b[0;34m**\u001b[0m\u001b[0mkwargs\u001b[0m\u001b[0;34m)\u001b[0m\u001b[0;34m\u001b[0m\u001b[0;34m\u001b[0m\u001b[0m\n\u001b[0m\u001b[1;32m     66\u001b[0m         \u001b[0;32mexcept\u001b[0m \u001b[0mException\u001b[0m \u001b[0;32mas\u001b[0m \u001b[0me\u001b[0m\u001b[0;34m:\u001b[0m\u001b[0;34m\u001b[0m\u001b[0;34m\u001b[0m\u001b[0m\n\u001b[1;32m     67\u001b[0m             \u001b[0mfiltered_tb\u001b[0m \u001b[0;34m=\u001b[0m \u001b[0m_process_traceback_frames\u001b[0m\u001b[0;34m(\u001b[0m\u001b[0me\u001b[0m\u001b[0;34m.\u001b[0m\u001b[0m__traceback__\u001b[0m\u001b[0;34m)\u001b[0m\u001b[0;34m\u001b[0m\u001b[0;34m\u001b[0m\u001b[0m\n",
      "\u001b[0;32m/usr/local/lib/python3.10/dist-packages/keras/engine/training.py\u001b[0m in \u001b[0;36mfit\u001b[0;34m(self, x, y, batch_size, epochs, verbose, callbacks, validation_split, validation_data, shuffle, class_weight, sample_weight, initial_epoch, steps_per_epoch, validation_steps, validation_batch_size, validation_freq, max_queue_size, workers, use_multiprocessing)\u001b[0m\n\u001b[1;32m   1683\u001b[0m                         ):\n\u001b[1;32m   1684\u001b[0m                             \u001b[0mcallbacks\u001b[0m\u001b[0;34m.\u001b[0m\u001b[0mon_train_batch_begin\u001b[0m\u001b[0;34m(\u001b[0m\u001b[0mstep\u001b[0m\u001b[0;34m)\u001b[0m\u001b[0;34m\u001b[0m\u001b[0;34m\u001b[0m\u001b[0m\n\u001b[0;32m-> 1685\u001b[0;31m                             \u001b[0mtmp_logs\u001b[0m \u001b[0;34m=\u001b[0m \u001b[0mself\u001b[0m\u001b[0;34m.\u001b[0m\u001b[0mtrain_function\u001b[0m\u001b[0;34m(\u001b[0m\u001b[0miterator\u001b[0m\u001b[0;34m)\u001b[0m\u001b[0;34m\u001b[0m\u001b[0;34m\u001b[0m\u001b[0m\n\u001b[0m\u001b[1;32m   1686\u001b[0m                             \u001b[0;32mif\u001b[0m \u001b[0mdata_handler\u001b[0m\u001b[0;34m.\u001b[0m\u001b[0mshould_sync\u001b[0m\u001b[0;34m:\u001b[0m\u001b[0;34m\u001b[0m\u001b[0;34m\u001b[0m\u001b[0m\n\u001b[1;32m   1687\u001b[0m                                 \u001b[0mcontext\u001b[0m\u001b[0;34m.\u001b[0m\u001b[0masync_wait\u001b[0m\u001b[0;34m(\u001b[0m\u001b[0;34m)\u001b[0m\u001b[0;34m\u001b[0m\u001b[0;34m\u001b[0m\u001b[0m\n",
      "\u001b[0;32m/usr/local/lib/python3.10/dist-packages/tensorflow/python/util/traceback_utils.py\u001b[0m in \u001b[0;36merror_handler\u001b[0;34m(*args, **kwargs)\u001b[0m\n\u001b[1;32m    148\u001b[0m     \u001b[0mfiltered_tb\u001b[0m \u001b[0;34m=\u001b[0m \u001b[0;32mNone\u001b[0m\u001b[0;34m\u001b[0m\u001b[0;34m\u001b[0m\u001b[0m\n\u001b[1;32m    149\u001b[0m     \u001b[0;32mtry\u001b[0m\u001b[0;34m:\u001b[0m\u001b[0;34m\u001b[0m\u001b[0;34m\u001b[0m\u001b[0m\n\u001b[0;32m--> 150\u001b[0;31m       \u001b[0;32mreturn\u001b[0m \u001b[0mfn\u001b[0m\u001b[0;34m(\u001b[0m\u001b[0;34m*\u001b[0m\u001b[0margs\u001b[0m\u001b[0;34m,\u001b[0m \u001b[0;34m**\u001b[0m\u001b[0mkwargs\u001b[0m\u001b[0;34m)\u001b[0m\u001b[0;34m\u001b[0m\u001b[0;34m\u001b[0m\u001b[0m\n\u001b[0m\u001b[1;32m    151\u001b[0m     \u001b[0;32mexcept\u001b[0m \u001b[0mException\u001b[0m \u001b[0;32mas\u001b[0m \u001b[0me\u001b[0m\u001b[0;34m:\u001b[0m\u001b[0;34m\u001b[0m\u001b[0;34m\u001b[0m\u001b[0m\n\u001b[1;32m    152\u001b[0m       \u001b[0mfiltered_tb\u001b[0m \u001b[0;34m=\u001b[0m \u001b[0m_process_traceback_frames\u001b[0m\u001b[0;34m(\u001b[0m\u001b[0me\u001b[0m\u001b[0;34m.\u001b[0m\u001b[0m__traceback__\u001b[0m\u001b[0;34m)\u001b[0m\u001b[0;34m\u001b[0m\u001b[0;34m\u001b[0m\u001b[0m\n",
      "\u001b[0;32m/usr/local/lib/python3.10/dist-packages/tensorflow/python/eager/polymorphic_function/polymorphic_function.py\u001b[0m in \u001b[0;36m__call__\u001b[0;34m(self, *args, **kwds)\u001b[0m\n\u001b[1;32m    892\u001b[0m \u001b[0;34m\u001b[0m\u001b[0m\n\u001b[1;32m    893\u001b[0m       \u001b[0;32mwith\u001b[0m \u001b[0mOptionalXlaContext\u001b[0m\u001b[0;34m(\u001b[0m\u001b[0mself\u001b[0m\u001b[0;34m.\u001b[0m\u001b[0m_jit_compile\u001b[0m\u001b[0;34m)\u001b[0m\u001b[0;34m:\u001b[0m\u001b[0;34m\u001b[0m\u001b[0;34m\u001b[0m\u001b[0m\n\u001b[0;32m--> 894\u001b[0;31m         \u001b[0mresult\u001b[0m \u001b[0;34m=\u001b[0m \u001b[0mself\u001b[0m\u001b[0;34m.\u001b[0m\u001b[0m_call\u001b[0m\u001b[0;34m(\u001b[0m\u001b[0;34m*\u001b[0m\u001b[0margs\u001b[0m\u001b[0;34m,\u001b[0m \u001b[0;34m**\u001b[0m\u001b[0mkwds\u001b[0m\u001b[0;34m)\u001b[0m\u001b[0;34m\u001b[0m\u001b[0;34m\u001b[0m\u001b[0m\n\u001b[0m\u001b[1;32m    895\u001b[0m \u001b[0;34m\u001b[0m\u001b[0m\n\u001b[1;32m    896\u001b[0m       \u001b[0mnew_tracing_count\u001b[0m \u001b[0;34m=\u001b[0m \u001b[0mself\u001b[0m\u001b[0;34m.\u001b[0m\u001b[0mexperimental_get_tracing_count\u001b[0m\u001b[0;34m(\u001b[0m\u001b[0;34m)\u001b[0m\u001b[0;34m\u001b[0m\u001b[0;34m\u001b[0m\u001b[0m\n",
      "\u001b[0;32m/usr/local/lib/python3.10/dist-packages/tensorflow/python/eager/polymorphic_function/polymorphic_function.py\u001b[0m in \u001b[0;36m_call\u001b[0;34m(self, *args, **kwds)\u001b[0m\n\u001b[1;32m    924\u001b[0m       \u001b[0;31m# In this case we have created variables on the first call, so we run the\u001b[0m\u001b[0;34m\u001b[0m\u001b[0;34m\u001b[0m\u001b[0m\n\u001b[1;32m    925\u001b[0m       \u001b[0;31m# defunned version which is guaranteed to never create variables.\u001b[0m\u001b[0;34m\u001b[0m\u001b[0;34m\u001b[0m\u001b[0m\n\u001b[0;32m--> 926\u001b[0;31m       \u001b[0;32mreturn\u001b[0m \u001b[0mself\u001b[0m\u001b[0;34m.\u001b[0m\u001b[0m_no_variable_creation_fn\u001b[0m\u001b[0;34m(\u001b[0m\u001b[0;34m*\u001b[0m\u001b[0margs\u001b[0m\u001b[0;34m,\u001b[0m \u001b[0;34m**\u001b[0m\u001b[0mkwds\u001b[0m\u001b[0;34m)\u001b[0m  \u001b[0;31m# pylint: disable=not-callable\u001b[0m\u001b[0;34m\u001b[0m\u001b[0;34m\u001b[0m\u001b[0m\n\u001b[0m\u001b[1;32m    927\u001b[0m     \u001b[0;32melif\u001b[0m \u001b[0mself\u001b[0m\u001b[0;34m.\u001b[0m\u001b[0m_variable_creation_fn\u001b[0m \u001b[0;32mis\u001b[0m \u001b[0;32mnot\u001b[0m \u001b[0;32mNone\u001b[0m\u001b[0;34m:\u001b[0m\u001b[0;34m\u001b[0m\u001b[0;34m\u001b[0m\u001b[0m\n\u001b[1;32m    928\u001b[0m       \u001b[0;31m# Release the lock early so that multiple threads can perform the call\u001b[0m\u001b[0;34m\u001b[0m\u001b[0;34m\u001b[0m\u001b[0m\n",
      "\u001b[0;32m/usr/local/lib/python3.10/dist-packages/tensorflow/python/eager/polymorphic_function/tracing_compiler.py\u001b[0m in \u001b[0;36m__call__\u001b[0;34m(self, *args, **kwargs)\u001b[0m\n\u001b[1;32m    141\u001b[0m       (concrete_function,\n\u001b[1;32m    142\u001b[0m        filtered_flat_args) = self._maybe_define_function(args, kwargs)\n\u001b[0;32m--> 143\u001b[0;31m     return concrete_function._call_flat(\n\u001b[0m\u001b[1;32m    144\u001b[0m         filtered_flat_args, captured_inputs=concrete_function.captured_inputs)  # pylint: disable=protected-access\n\u001b[1;32m    145\u001b[0m \u001b[0;34m\u001b[0m\u001b[0m\n",
      "\u001b[0;32m/usr/local/lib/python3.10/dist-packages/tensorflow/python/eager/polymorphic_function/monomorphic_function.py\u001b[0m in \u001b[0;36m_call_flat\u001b[0;34m(self, args, captured_inputs, cancellation_manager)\u001b[0m\n\u001b[1;32m   1755\u001b[0m         and executing_eagerly):\n\u001b[1;32m   1756\u001b[0m       \u001b[0;31m# No tape is watching; skip to running the function.\u001b[0m\u001b[0;34m\u001b[0m\u001b[0;34m\u001b[0m\u001b[0m\n\u001b[0;32m-> 1757\u001b[0;31m       return self._build_call_outputs(self._inference_function.call(\n\u001b[0m\u001b[1;32m   1758\u001b[0m           ctx, args, cancellation_manager=cancellation_manager))\n\u001b[1;32m   1759\u001b[0m     forward_backward = self._select_forward_and_backward_functions(\n",
      "\u001b[0;32m/usr/local/lib/python3.10/dist-packages/tensorflow/python/eager/polymorphic_function/monomorphic_function.py\u001b[0m in \u001b[0;36mcall\u001b[0;34m(self, ctx, args, cancellation_manager)\u001b[0m\n\u001b[1;32m    379\u001b[0m       \u001b[0;32mwith\u001b[0m \u001b[0m_InterpolateFunctionError\u001b[0m\u001b[0;34m(\u001b[0m\u001b[0mself\u001b[0m\u001b[0;34m)\u001b[0m\u001b[0;34m:\u001b[0m\u001b[0;34m\u001b[0m\u001b[0;34m\u001b[0m\u001b[0m\n\u001b[1;32m    380\u001b[0m         \u001b[0;32mif\u001b[0m \u001b[0mcancellation_manager\u001b[0m \u001b[0;32mis\u001b[0m \u001b[0;32mNone\u001b[0m\u001b[0;34m:\u001b[0m\u001b[0;34m\u001b[0m\u001b[0;34m\u001b[0m\u001b[0m\n\u001b[0;32m--> 381\u001b[0;31m           outputs = execute.execute(\n\u001b[0m\u001b[1;32m    382\u001b[0m               \u001b[0mstr\u001b[0m\u001b[0;34m(\u001b[0m\u001b[0mself\u001b[0m\u001b[0;34m.\u001b[0m\u001b[0msignature\u001b[0m\u001b[0;34m.\u001b[0m\u001b[0mname\u001b[0m\u001b[0;34m)\u001b[0m\u001b[0;34m,\u001b[0m\u001b[0;34m\u001b[0m\u001b[0;34m\u001b[0m\u001b[0m\n\u001b[1;32m    383\u001b[0m               \u001b[0mnum_outputs\u001b[0m\u001b[0;34m=\u001b[0m\u001b[0mself\u001b[0m\u001b[0;34m.\u001b[0m\u001b[0m_num_outputs\u001b[0m\u001b[0;34m,\u001b[0m\u001b[0;34m\u001b[0m\u001b[0;34m\u001b[0m\u001b[0m\n",
      "\u001b[0;32m/usr/local/lib/python3.10/dist-packages/tensorflow/python/eager/execute.py\u001b[0m in \u001b[0;36mquick_execute\u001b[0;34m(op_name, num_outputs, inputs, attrs, ctx, name)\u001b[0m\n\u001b[1;32m     50\u001b[0m   \u001b[0;32mtry\u001b[0m\u001b[0;34m:\u001b[0m\u001b[0;34m\u001b[0m\u001b[0;34m\u001b[0m\u001b[0m\n\u001b[1;32m     51\u001b[0m     \u001b[0mctx\u001b[0m\u001b[0;34m.\u001b[0m\u001b[0mensure_initialized\u001b[0m\u001b[0;34m(\u001b[0m\u001b[0;34m)\u001b[0m\u001b[0;34m\u001b[0m\u001b[0;34m\u001b[0m\u001b[0m\n\u001b[0;32m---> 52\u001b[0;31m     tensors = pywrap_tfe.TFE_Py_Execute(ctx._handle, device_name, op_name,\n\u001b[0m\u001b[1;32m     53\u001b[0m                                         inputs, attrs, num_outputs)\n\u001b[1;32m     54\u001b[0m   \u001b[0;32mexcept\u001b[0m \u001b[0mcore\u001b[0m\u001b[0;34m.\u001b[0m\u001b[0m_NotOkStatusException\u001b[0m \u001b[0;32mas\u001b[0m \u001b[0me\u001b[0m\u001b[0;34m:\u001b[0m\u001b[0;34m\u001b[0m\u001b[0;34m\u001b[0m\u001b[0m\n",
      "\u001b[0;31mKeyboardInterrupt\u001b[0m: "
     ]
    }
   ],
   "source": [
    "# Обучение с использованием расширения данных, ранней остановки и сохранения лучшей модели\n",
    "early_stopping = EarlyStopping(monitor='val_loss', patience=200, restore_best_weights=True)\n",
    "model.fit(datagen.flow(X_train, y_train, batch_size=128),\n",
    "          validation_data=(X_val, y_val),\n",
    "          steps_per_epoch=len(X_train) // 128,\n",
    "          epochs=400,\n",
    "          callbacks=[early_stopping, checkpoint])"
   ]
  },
  {
   "cell_type": "code",
   "execution_count": null,
   "metadata": {
    "execution": {
     "iopub.execute_input": "2024-05-19T10:12:30.911218Z",
     "iopub.status.busy": "2024-05-19T10:12:30.910409Z"
    },
    "tags": []
   },
   "outputs": [
    {
     "name": "stderr",
     "output_type": "stream",
     "text": [
      "2024-05-19 10:12:31.963640: I tensorflow/core/common_runtime/executor.cc:1197] [/device:CPU:0] (DEBUG INFO) Executor start aborting (this does not indicate an error and you can ignore this message): INVALID_ARGUMENT: You must feed a value for placeholder tensor 'Placeholder/_0' with dtype int32\n",
      "\t [[{{node Placeholder/_0}}]]\n"
     ]
    },
    {
     "name": "stdout",
     "output_type": "stream",
     "text": [
      "Epoch 1/200\n",
      "281/281 [==============================] - ETA: 0s - loss: 1.4109 - accuracy: 0.5827"
     ]
    },
    {
     "name": "stderr",
     "output_type": "stream",
     "text": [
      "2024-05-19 10:12:51.715309: I tensorflow/core/common_runtime/executor.cc:1197] [/device:CPU:0] (DEBUG INFO) Executor start aborting (this does not indicate an error and you can ignore this message): INVALID_ARGUMENT: You must feed a value for placeholder tensor 'inputs' with dtype float and shape [?,256]\n",
      "\t [[{{node inputs}}]]\n",
      "2024-05-19 10:12:52.143986: I tensorflow/core/common_runtime/executor.cc:1197] [/device:CPU:0] (DEBUG INFO) Executor start aborting (this does not indicate an error and you can ignore this message): INVALID_ARGUMENT: You must feed a value for placeholder tensor 'inputs' with dtype float and shape [?,256]\n",
      "\t [[{{node inputs}}]]\n",
      "WARNING:absl:Found untraced functions such as _jit_compiled_convolution_op, _jit_compiled_convolution_op, _jit_compiled_convolution_op while saving (showing 3 of 3). These functions will not be directly callable after loading.\n"
     ]
    },
    {
     "name": "stdout",
     "output_type": "stream",
     "text": [
      "INFO:tensorflow:Assets written to: best_model_finetuned/assets\n"
     ]
    },
    {
     "name": "stderr",
     "output_type": "stream",
     "text": [
      "INFO:tensorflow:Assets written to: best_model_finetuned/assets\n"
     ]
    },
    {
     "name": "stdout",
     "output_type": "stream",
     "text": [
      "281/281 [==============================] - 21s 67ms/step - loss: 1.4109 - accuracy: 0.5827 - val_loss: 0.7272 - val_accuracy: 0.8210\n",
      "Epoch 2/200\n",
      "281/281 [==============================] - 17s 62ms/step - loss: 1.4082 - accuracy: 0.5869 - val_loss: 0.7261 - val_accuracy: 0.8185\n",
      "Epoch 3/200\n",
      "281/281 [==============================] - 17s 61ms/step - loss: 1.4006 - accuracy: 0.5900 - val_loss: 0.7245 - val_accuracy: 0.8180\n",
      "Epoch 4/200\n",
      "281/281 [==============================] - 17s 60ms/step - loss: 1.4028 - accuracy: 0.5855 - val_loss: 0.7242 - val_accuracy: 0.8195\n",
      "Epoch 5/200\n",
      "281/281 [==============================] - 17s 60ms/step - loss: 1.3868 - accuracy: 0.5904 - val_loss: 0.7239 - val_accuracy: 0.8200\n",
      "Epoch 6/200\n",
      "281/281 [==============================] - ETA: 0s - loss: 1.3896 - accuracy: 0.5915"
     ]
    },
    {
     "name": "stderr",
     "output_type": "stream",
     "text": [
      "2024-05-19 10:14:19.415676: I tensorflow/core/common_runtime/executor.cc:1197] [/device:CPU:0] (DEBUG INFO) Executor start aborting (this does not indicate an error and you can ignore this message): INVALID_ARGUMENT: You must feed a value for placeholder tensor 'inputs' with dtype float and shape [?,256]\n",
      "\t [[{{node inputs}}]]\n",
      "2024-05-19 10:14:19.806671: I tensorflow/core/common_runtime/executor.cc:1197] [/device:CPU:0] (DEBUG INFO) Executor start aborting (this does not indicate an error and you can ignore this message): INVALID_ARGUMENT: You must feed a value for placeholder tensor 'inputs' with dtype float and shape [?,256]\n",
      "\t [[{{node inputs}}]]\n",
      "WARNING:absl:Found untraced functions such as _jit_compiled_convolution_op, _jit_compiled_convolution_op, _jit_compiled_convolution_op while saving (showing 3 of 3). These functions will not be directly callable after loading.\n"
     ]
    },
    {
     "name": "stdout",
     "output_type": "stream",
     "text": [
      "INFO:tensorflow:Assets written to: best_model_finetuned/assets\n"
     ]
    },
    {
     "name": "stderr",
     "output_type": "stream",
     "text": [
      "INFO:tensorflow:Assets written to: best_model_finetuned/assets\n"
     ]
    },
    {
     "name": "stdout",
     "output_type": "stream",
     "text": [
      "281/281 [==============================] - 19s 67ms/step - loss: 1.3896 - accuracy: 0.5915 - val_loss: 0.7235 - val_accuracy: 0.8215\n",
      "Epoch 7/200\n",
      "281/281 [==============================] - 17s 61ms/step - loss: 1.3987 - accuracy: 0.5895 - val_loss: 0.7234 - val_accuracy: 0.8195\n",
      "Epoch 8/200\n",
      "281/281 [==============================] - 17s 60ms/step - loss: 1.3932 - accuracy: 0.5898 - val_loss: 0.7231 - val_accuracy: 0.8205\n",
      "Epoch 9/200\n",
      "281/281 [==============================] - 17s 61ms/step - loss: 1.3957 - accuracy: 0.5894 - val_loss: 0.7215 - val_accuracy: 0.8205\n",
      "Epoch 10/200\n",
      "281/281 [==============================] - 17s 61ms/step - loss: 1.3925 - accuracy: 0.5933 - val_loss: 0.7202 - val_accuracy: 0.8210\n",
      "Epoch 11/200\n",
      "281/281 [==============================] - 17s 60ms/step - loss: 1.3896 - accuracy: 0.5900 - val_loss: 0.7213 - val_accuracy: 0.8205\n",
      "Epoch 12/200\n",
      "281/281 [==============================] - 17s 61ms/step - loss: 1.3799 - accuracy: 0.5937 - val_loss: 0.7221 - val_accuracy: 0.8210\n",
      "Epoch 13/200\n",
      "281/281 [==============================] - 17s 62ms/step - loss: 1.3905 - accuracy: 0.5904 - val_loss: 0.7218 - val_accuracy: 0.8205\n",
      "Epoch 14/200\n",
      "281/281 [==============================] - 18s 62ms/step - loss: 1.3856 - accuracy: 0.5947 - val_loss: 0.7226 - val_accuracy: 0.8210\n",
      "Epoch 15/200\n",
      "281/281 [==============================] - 18s 63ms/step - loss: 1.3755 - accuracy: 0.5949 - val_loss: 0.7223 - val_accuracy: 0.8200\n",
      "Epoch 16/200\n",
      "281/281 [==============================] - 18s 63ms/step - loss: 1.3896 - accuracy: 0.5908 - val_loss: 0.7228 - val_accuracy: 0.8205\n",
      "Epoch 17/200\n",
      "281/281 [==============================] - 18s 63ms/step - loss: 1.3950 - accuracy: 0.5868 - val_loss: 0.7224 - val_accuracy: 0.8195\n",
      "Epoch 18/200\n",
      "281/281 [==============================] - 18s 63ms/step - loss: 1.3877 - accuracy: 0.5917 - val_loss: 0.7214 - val_accuracy: 0.8190\n",
      "Epoch 19/200\n",
      "281/281 [==============================] - 18s 63ms/step - loss: 1.3870 - accuracy: 0.5923 - val_loss: 0.7209 - val_accuracy: 0.8200\n",
      "Epoch 20/200\n",
      "281/281 [==============================] - 18s 62ms/step - loss: 1.3972 - accuracy: 0.5902 - val_loss: 0.7214 - val_accuracy: 0.8210\n",
      "Epoch 21/200\n",
      "281/281 [==============================] - 18s 63ms/step - loss: 1.3970 - accuracy: 0.5908 - val_loss: 0.7214 - val_accuracy: 0.8195\n",
      "Epoch 22/200\n",
      "281/281 [==============================] - 18s 63ms/step - loss: 1.3811 - accuracy: 0.5946 - val_loss: 0.7212 - val_accuracy: 0.8180\n",
      "Epoch 23/200\n",
      "281/281 [==============================] - 18s 63ms/step - loss: 1.3893 - accuracy: 0.5915 - val_loss: 0.7213 - val_accuracy: 0.8185\n",
      "Epoch 24/200\n",
      "281/281 [==============================] - 18s 63ms/step - loss: 1.3776 - accuracy: 0.5943 - val_loss: 0.7199 - val_accuracy: 0.8205\n",
      "Epoch 25/200\n",
      "281/281 [==============================] - 18s 63ms/step - loss: 1.3834 - accuracy: 0.5955 - val_loss: 0.7198 - val_accuracy: 0.8200\n",
      "Epoch 26/200\n",
      "281/281 [==============================] - 18s 63ms/step - loss: 1.3904 - accuracy: 0.5892 - val_loss: 0.7198 - val_accuracy: 0.8200\n",
      "Epoch 27/200\n",
      "281/281 [==============================] - 18s 62ms/step - loss: 1.4002 - accuracy: 0.5897 - val_loss: 0.7206 - val_accuracy: 0.8195\n",
      "Epoch 28/200\n",
      "281/281 [==============================] - 18s 62ms/step - loss: 1.3808 - accuracy: 0.5892 - val_loss: 0.7197 - val_accuracy: 0.8195\n",
      "Epoch 29/200\n",
      "281/281 [==============================] - 18s 62ms/step - loss: 1.3715 - accuracy: 0.5944 - val_loss: 0.7191 - val_accuracy: 0.8185\n",
      "Epoch 30/200\n",
      "281/281 [==============================] - 18s 62ms/step - loss: 1.3782 - accuracy: 0.5956 - val_loss: 0.7186 - val_accuracy: 0.8190\n",
      "Epoch 31/200\n",
      "281/281 [==============================] - 18s 63ms/step - loss: 1.3729 - accuracy: 0.5959 - val_loss: 0.7180 - val_accuracy: 0.8200\n",
      "Epoch 32/200\n",
      "281/281 [==============================] - 18s 63ms/step - loss: 1.3884 - accuracy: 0.5934 - val_loss: 0.7185 - val_accuracy: 0.8195\n",
      "Epoch 33/200\n",
      "281/281 [==============================] - 18s 63ms/step - loss: 1.3873 - accuracy: 0.5938 - val_loss: 0.7179 - val_accuracy: 0.8185\n",
      "Epoch 34/200\n",
      "281/281 [==============================] - 18s 62ms/step - loss: 1.3727 - accuracy: 0.5956 - val_loss: 0.7171 - val_accuracy: 0.8210\n",
      "Epoch 35/200\n",
      "281/281 [==============================] - 18s 63ms/step - loss: 1.3806 - accuracy: 0.5899 - val_loss: 0.7163 - val_accuracy: 0.8210\n",
      "Epoch 36/200\n",
      "281/281 [==============================] - 18s 63ms/step - loss: 1.3762 - accuracy: 0.5907 - val_loss: 0.7165 - val_accuracy: 0.8200\n",
      "Epoch 37/200\n",
      "281/281 [==============================] - 18s 62ms/step - loss: 1.3827 - accuracy: 0.5929 - val_loss: 0.7168 - val_accuracy: 0.8190\n",
      "Epoch 38/200\n",
      "281/281 [==============================] - 18s 63ms/step - loss: 1.3666 - accuracy: 0.5927 - val_loss: 0.7170 - val_accuracy: 0.8190\n",
      "Epoch 39/200\n",
      "281/281 [==============================] - 18s 62ms/step - loss: 1.3761 - accuracy: 0.5920 - val_loss: 0.7166 - val_accuracy: 0.8180\n",
      "Epoch 40/200\n",
      "281/281 [==============================] - 18s 62ms/step - loss: 1.3631 - accuracy: 0.5989 - val_loss: 0.7154 - val_accuracy: 0.8185\n",
      "Epoch 41/200\n",
      "281/281 [==============================] - 18s 62ms/step - loss: 1.3658 - accuracy: 0.5976 - val_loss: 0.7150 - val_accuracy: 0.8180\n",
      "Epoch 42/200\n",
      "281/281 [==============================] - 18s 62ms/step - loss: 1.3706 - accuracy: 0.5958 - val_loss: 0.7156 - val_accuracy: 0.8185\n",
      "Epoch 43/200\n",
      "281/281 [==============================] - 17s 62ms/step - loss: 1.3785 - accuracy: 0.5938 - val_loss: 0.7164 - val_accuracy: 0.8195\n",
      "Epoch 44/200\n",
      "281/281 [==============================] - 17s 62ms/step - loss: 1.3869 - accuracy: 0.5975 - val_loss: 0.7154 - val_accuracy: 0.8200\n",
      "Epoch 45/200\n",
      "281/281 [==============================] - 17s 60ms/step - loss: 1.3846 - accuracy: 0.5905 - val_loss: 0.7157 - val_accuracy: 0.8200\n",
      "Epoch 46/200\n",
      "281/281 [==============================] - 17s 60ms/step - loss: 1.3715 - accuracy: 0.5996 - val_loss: 0.7159 - val_accuracy: 0.8185\n",
      "Epoch 47/200\n",
      "281/281 [==============================] - 18s 62ms/step - loss: 1.3719 - accuracy: 0.5975 - val_loss: 0.7156 - val_accuracy: 0.8185\n",
      "Epoch 48/200\n",
      "281/281 [==============================] - 17s 61ms/step - loss: 1.3624 - accuracy: 0.6014 - val_loss: 0.7147 - val_accuracy: 0.8195\n",
      "Epoch 49/200\n",
      "281/281 [==============================] - 17s 60ms/step - loss: 1.3763 - accuracy: 0.5917 - val_loss: 0.7144 - val_accuracy: 0.8185\n",
      "Epoch 50/200\n",
      "281/281 [==============================] - 17s 61ms/step - loss: 1.3723 - accuracy: 0.5958 - val_loss: 0.7139 - val_accuracy: 0.8190\n",
      "Epoch 51/200\n",
      "281/281 [==============================] - 17s 60ms/step - loss: 1.3830 - accuracy: 0.5917 - val_loss: 0.7139 - val_accuracy: 0.8190\n",
      "Epoch 52/200\n",
      "281/281 [==============================] - 17s 60ms/step - loss: 1.3877 - accuracy: 0.5942 - val_loss: 0.7152 - val_accuracy: 0.8195\n",
      "Epoch 53/200\n",
      "281/281 [==============================] - 17s 61ms/step - loss: 1.3680 - accuracy: 0.5990 - val_loss: 0.7137 - val_accuracy: 0.8200\n",
      "Epoch 54/200\n",
      "281/281 [==============================] - 17s 60ms/step - loss: 1.3690 - accuracy: 0.5965 - val_loss: 0.7140 - val_accuracy: 0.8200\n",
      "Epoch 55/200\n",
      "281/281 [==============================] - 17s 61ms/step - loss: 1.3658 - accuracy: 0.5994 - val_loss: 0.7143 - val_accuracy: 0.8195\n",
      "Epoch 56/200\n",
      "281/281 [==============================] - 17s 61ms/step - loss: 1.3771 - accuracy: 0.5929 - val_loss: 0.7146 - val_accuracy: 0.8200\n",
      "Epoch 57/200\n",
      "281/281 [==============================] - 18s 63ms/step - loss: 1.3676 - accuracy: 0.6007 - val_loss: 0.7141 - val_accuracy: 0.8195\n",
      "Epoch 58/200\n",
      "281/281 [==============================] - 18s 63ms/step - loss: 1.3674 - accuracy: 0.5997 - val_loss: 0.7133 - val_accuracy: 0.8215\n",
      "Epoch 59/200\n",
      "281/281 [==============================] - 17s 61ms/step - loss: 1.3812 - accuracy: 0.5950 - val_loss: 0.7136 - val_accuracy: 0.8190\n",
      "Epoch 60/200\n",
      "281/281 [==============================] - 17s 62ms/step - loss: 1.3669 - accuracy: 0.5986 - val_loss: 0.7139 - val_accuracy: 0.8205\n",
      "Epoch 61/200\n",
      "281/281 [==============================] - 17s 61ms/step - loss: 1.3698 - accuracy: 0.5973 - val_loss: 0.7133 - val_accuracy: 0.8205\n",
      "Epoch 62/200\n",
      "281/281 [==============================] - 17s 60ms/step - loss: 1.3791 - accuracy: 0.5938 - val_loss: 0.7143 - val_accuracy: 0.8195\n",
      "Epoch 63/200\n",
      "281/281 [==============================] - 17s 60ms/step - loss: 1.3637 - accuracy: 0.5962 - val_loss: 0.7148 - val_accuracy: 0.8195\n",
      "Epoch 64/200\n",
      "281/281 [==============================] - 17s 61ms/step - loss: 1.3609 - accuracy: 0.5984 - val_loss: 0.7143 - val_accuracy: 0.8200\n",
      "Epoch 65/200\n",
      "281/281 [==============================] - 17s 60ms/step - loss: 1.3651 - accuracy: 0.6002 - val_loss: 0.7147 - val_accuracy: 0.8180\n",
      "Epoch 66/200\n",
      "281/281 [==============================] - 17s 60ms/step - loss: 1.3766 - accuracy: 0.5988 - val_loss: 0.7137 - val_accuracy: 0.8200\n",
      "Epoch 67/200\n",
      "281/281 [==============================] - 17s 61ms/step - loss: 1.3586 - accuracy: 0.5987 - val_loss: 0.7132 - val_accuracy: 0.8190\n",
      "Epoch 68/200\n",
      "281/281 [==============================] - ETA: 0s - loss: 1.3619 - accuracy: 0.5990"
     ]
    },
    {
     "name": "stderr",
     "output_type": "stream",
     "text": [
      "2024-05-19 10:32:17.716401: I tensorflow/core/common_runtime/executor.cc:1197] [/device:CPU:0] (DEBUG INFO) Executor start aborting (this does not indicate an error and you can ignore this message): INVALID_ARGUMENT: You must feed a value for placeholder tensor 'inputs' with dtype float and shape [?,256]\n",
      "\t [[{{node inputs}}]]\n",
      "2024-05-19 10:32:18.111507: I tensorflow/core/common_runtime/executor.cc:1197] [/device:CPU:0] (DEBUG INFO) Executor start aborting (this does not indicate an error and you can ignore this message): INVALID_ARGUMENT: You must feed a value for placeholder tensor 'inputs' with dtype float and shape [?,256]\n",
      "\t [[{{node inputs}}]]\n",
      "WARNING:absl:Found untraced functions such as _jit_compiled_convolution_op, _jit_compiled_convolution_op, _jit_compiled_convolution_op while saving (showing 3 of 3). These functions will not be directly callable after loading.\n"
     ]
    },
    {
     "name": "stdout",
     "output_type": "stream",
     "text": [
      "INFO:tensorflow:Assets written to: best_model_finetuned/assets\n"
     ]
    },
    {
     "name": "stderr",
     "output_type": "stream",
     "text": [
      "INFO:tensorflow:Assets written to: best_model_finetuned/assets\n"
     ]
    },
    {
     "name": "stdout",
     "output_type": "stream",
     "text": [
      "281/281 [==============================] - 19s 66ms/step - loss: 1.3619 - accuracy: 0.5990 - val_loss: 0.7124 - val_accuracy: 0.8225\n",
      "Epoch 69/200\n",
      "281/281 [==============================] - 17s 61ms/step - loss: 1.3746 - accuracy: 0.5966 - val_loss: 0.7130 - val_accuracy: 0.8210\n",
      "Epoch 70/200\n",
      "281/281 [==============================] - 17s 62ms/step - loss: 1.3726 - accuracy: 0.5970 - val_loss: 0.7124 - val_accuracy: 0.8220\n",
      "Epoch 71/200\n",
      "281/281 [==============================] - 17s 61ms/step - loss: 1.3643 - accuracy: 0.6014 - val_loss: 0.7122 - val_accuracy: 0.8215\n",
      "Epoch 72/200\n",
      "281/281 [==============================] - 17s 61ms/step - loss: 1.3687 - accuracy: 0.6021 - val_loss: 0.7117 - val_accuracy: 0.8205\n",
      "Epoch 73/200\n",
      "281/281 [==============================] - 17s 60ms/step - loss: 1.3535 - accuracy: 0.6023 - val_loss: 0.7120 - val_accuracy: 0.8190\n",
      "Epoch 74/200\n",
      "281/281 [==============================] - 17s 61ms/step - loss: 1.3643 - accuracy: 0.5962 - val_loss: 0.7129 - val_accuracy: 0.8185\n",
      "Epoch 75/200\n",
      "281/281 [==============================] - 17s 60ms/step - loss: 1.3655 - accuracy: 0.6016 - val_loss: 0.7119 - val_accuracy: 0.8195\n",
      "Epoch 76/200\n",
      "281/281 [==============================] - 17s 61ms/step - loss: 1.3777 - accuracy: 0.5957 - val_loss: 0.7114 - val_accuracy: 0.8210\n",
      "Epoch 77/200\n",
      "281/281 [==============================] - 17s 61ms/step - loss: 1.3699 - accuracy: 0.5967 - val_loss: 0.7110 - val_accuracy: 0.8210\n",
      "Epoch 78/200\n",
      "281/281 [==============================] - 17s 62ms/step - loss: 1.3700 - accuracy: 0.5973 - val_loss: 0.7104 - val_accuracy: 0.8210\n",
      "Epoch 79/200\n",
      "281/281 [==============================] - 18s 64ms/step - loss: 1.3815 - accuracy: 0.5934 - val_loss: 0.7110 - val_accuracy: 0.8210\n",
      "Epoch 80/200\n",
      "281/281 [==============================] - 17s 61ms/step - loss: 1.3577 - accuracy: 0.6044 - val_loss: 0.7114 - val_accuracy: 0.8190\n",
      "Epoch 81/200\n",
      "281/281 [==============================] - 17s 61ms/step - loss: 1.3754 - accuracy: 0.5960 - val_loss: 0.7115 - val_accuracy: 0.8190\n",
      "Epoch 82/200\n",
      "281/281 [==============================] - 17s 61ms/step - loss: 1.3655 - accuracy: 0.5976 - val_loss: 0.7120 - val_accuracy: 0.8205\n",
      "Epoch 83/200\n",
      "281/281 [==============================] - 17s 61ms/step - loss: 1.3645 - accuracy: 0.6001 - val_loss: 0.7111 - val_accuracy: 0.8200\n",
      "Epoch 84/200\n",
      "281/281 [==============================] - 17s 61ms/step - loss: 1.3776 - accuracy: 0.5953 - val_loss: 0.7117 - val_accuracy: 0.8195\n",
      "Epoch 85/200\n",
      "281/281 [==============================] - 17s 62ms/step - loss: 1.3652 - accuracy: 0.5965 - val_loss: 0.7113 - val_accuracy: 0.8190\n",
      "Epoch 86/200\n",
      "281/281 [==============================] - 18s 63ms/step - loss: 1.3631 - accuracy: 0.6001 - val_loss: 0.7109 - val_accuracy: 0.8185\n",
      "Epoch 87/200\n",
      "281/281 [==============================] - 17s 62ms/step - loss: 1.3598 - accuracy: 0.6001 - val_loss: 0.7104 - val_accuracy: 0.8195\n",
      "Epoch 88/200\n",
      "281/281 [==============================] - 18s 62ms/step - loss: 1.3675 - accuracy: 0.5977 - val_loss: 0.7109 - val_accuracy: 0.8175\n",
      "Epoch 89/200\n",
      "281/281 [==============================] - 17s 62ms/step - loss: 1.3674 - accuracy: 0.5971 - val_loss: 0.7120 - val_accuracy: 0.8180\n",
      "Epoch 90/200\n",
      "281/281 [==============================] - 18s 62ms/step - loss: 1.3743 - accuracy: 0.5983 - val_loss: 0.7117 - val_accuracy: 0.8180\n",
      "Epoch 91/200\n",
      "281/281 [==============================] - 18s 62ms/step - loss: 1.3809 - accuracy: 0.5959 - val_loss: 0.7114 - val_accuracy: 0.8185\n",
      "Epoch 92/200\n",
      "281/281 [==============================] - 18s 62ms/step - loss: 1.3698 - accuracy: 0.5986 - val_loss: 0.7119 - val_accuracy: 0.8175\n",
      "Epoch 93/200\n",
      "281/281 [==============================] - 18s 63ms/step - loss: 1.3685 - accuracy: 0.6004 - val_loss: 0.7106 - val_accuracy: 0.8200\n",
      "Epoch 94/200\n",
      "281/281 [==============================] - 17s 62ms/step - loss: 1.3677 - accuracy: 0.6003 - val_loss: 0.7108 - val_accuracy: 0.8185\n",
      "Epoch 95/200\n",
      "281/281 [==============================] - 18s 63ms/step - loss: 1.3533 - accuracy: 0.5959 - val_loss: 0.7104 - val_accuracy: 0.8195\n",
      "Epoch 96/200\n",
      "281/281 [==============================] - 18s 62ms/step - loss: 1.3669 - accuracy: 0.6010 - val_loss: 0.7105 - val_accuracy: 0.8185\n",
      "Epoch 97/200\n",
      "281/281 [==============================] - 17s 62ms/step - loss: 1.3470 - accuracy: 0.6037 - val_loss: 0.7104 - val_accuracy: 0.8185\n",
      "Epoch 98/200\n",
      "281/281 [==============================] - 18s 62ms/step - loss: 1.3478 - accuracy: 0.6055 - val_loss: 0.7100 - val_accuracy: 0.8175\n",
      "Epoch 99/200\n",
      "281/281 [==============================] - 18s 62ms/step - loss: 1.3530 - accuracy: 0.5995 - val_loss: 0.7103 - val_accuracy: 0.8180\n",
      "Epoch 100/200\n",
      "281/281 [==============================] - 18s 62ms/step - loss: 1.3514 - accuracy: 0.6020 - val_loss: 0.7096 - val_accuracy: 0.8175\n",
      "Epoch 101/200\n",
      "281/281 [==============================] - 18s 62ms/step - loss: 1.3620 - accuracy: 0.6015 - val_loss: 0.7091 - val_accuracy: 0.8175\n",
      "Epoch 102/200\n",
      "281/281 [==============================] - 18s 62ms/step - loss: 1.3781 - accuracy: 0.5956 - val_loss: 0.7091 - val_accuracy: 0.8170\n",
      "Epoch 103/200\n",
      "281/281 [==============================] - 18s 63ms/step - loss: 1.3752 - accuracy: 0.5972 - val_loss: 0.7102 - val_accuracy: 0.8180\n",
      "Epoch 104/200\n",
      "281/281 [==============================] - 17s 62ms/step - loss: 1.3714 - accuracy: 0.5958 - val_loss: 0.7109 - val_accuracy: 0.8185\n",
      "Epoch 105/200\n",
      "281/281 [==============================] - 18s 62ms/step - loss: 1.3768 - accuracy: 0.5943 - val_loss: 0.7106 - val_accuracy: 0.8195\n",
      "Epoch 106/200\n",
      "281/281 [==============================] - 17s 62ms/step - loss: 1.3597 - accuracy: 0.6001 - val_loss: 0.7105 - val_accuracy: 0.8180\n",
      "Epoch 107/200\n",
      "281/281 [==============================] - 18s 63ms/step - loss: 1.3676 - accuracy: 0.5987 - val_loss: 0.7100 - val_accuracy: 0.8170\n",
      "Epoch 108/200\n",
      "281/281 [==============================] - 17s 62ms/step - loss: 1.3604 - accuracy: 0.6001 - val_loss: 0.7091 - val_accuracy: 0.8185\n",
      "Epoch 109/200\n",
      "281/281 [==============================] - 18s 63ms/step - loss: 1.3611 - accuracy: 0.5972 - val_loss: 0.7093 - val_accuracy: 0.8175\n",
      "Epoch 110/200\n",
      "281/281 [==============================] - 18s 63ms/step - loss: 1.3547 - accuracy: 0.5982 - val_loss: 0.7086 - val_accuracy: 0.8175\n",
      "Epoch 111/200\n",
      "281/281 [==============================] - 18s 64ms/step - loss: 1.3614 - accuracy: 0.6048 - val_loss: 0.7089 - val_accuracy: 0.8180\n",
      "Epoch 112/200\n",
      "281/281 [==============================] - 18s 62ms/step - loss: 1.3684 - accuracy: 0.5987 - val_loss: 0.7088 - val_accuracy: 0.8175\n",
      "Epoch 113/200\n",
      "281/281 [==============================] - 18s 62ms/step - loss: 1.3537 - accuracy: 0.6025 - val_loss: 0.7081 - val_accuracy: 0.8180\n",
      "Epoch 114/200\n",
      "281/281 [==============================] - 18s 62ms/step - loss: 1.3777 - accuracy: 0.5965 - val_loss: 0.7075 - val_accuracy: 0.8180\n",
      "Epoch 115/200\n",
      "281/281 [==============================] - 17s 62ms/step - loss: 1.3726 - accuracy: 0.6006 - val_loss: 0.7080 - val_accuracy: 0.8185\n",
      "Epoch 116/200\n",
      "281/281 [==============================] - 18s 62ms/step - loss: 1.3531 - accuracy: 0.6028 - val_loss: 0.7082 - val_accuracy: 0.8180\n",
      "Epoch 117/200\n",
      "281/281 [==============================] - 18s 63ms/step - loss: 1.3683 - accuracy: 0.6007 - val_loss: 0.7082 - val_accuracy: 0.8180\n",
      "Epoch 118/200\n",
      "281/281 [==============================] - 17s 62ms/step - loss: 1.3842 - accuracy: 0.6003 - val_loss: 0.7087 - val_accuracy: 0.8200\n",
      "Epoch 119/200\n",
      "281/281 [==============================] - 18s 62ms/step - loss: 1.3608 - accuracy: 0.6012 - val_loss: 0.7090 - val_accuracy: 0.8175\n",
      "Epoch 120/200\n",
      "281/281 [==============================] - 17s 62ms/step - loss: 1.3516 - accuracy: 0.6034 - val_loss: 0.7082 - val_accuracy: 0.8185\n",
      "Epoch 121/200\n",
      "281/281 [==============================] - 17s 62ms/step - loss: 1.3543 - accuracy: 0.6007 - val_loss: 0.7077 - val_accuracy: 0.8185\n",
      "Epoch 122/200\n",
      "281/281 [==============================] - 17s 62ms/step - loss: 1.3669 - accuracy: 0.5970 - val_loss: 0.7079 - val_accuracy: 0.8180\n",
      "Epoch 123/200\n",
      "281/281 [==============================] - 18s 62ms/step - loss: 1.3551 - accuracy: 0.5998 - val_loss: 0.7067 - val_accuracy: 0.8170\n",
      "Epoch 124/200\n",
      "281/281 [==============================] - 18s 63ms/step - loss: 1.3567 - accuracy: 0.6002 - val_loss: 0.7065 - val_accuracy: 0.8200\n",
      "Epoch 125/200\n",
      "281/281 [==============================] - 17s 62ms/step - loss: 1.3539 - accuracy: 0.6054 - val_loss: 0.7072 - val_accuracy: 0.8175\n",
      "Epoch 126/200\n",
      "281/281 [==============================] - 18s 63ms/step - loss: 1.3760 - accuracy: 0.5966 - val_loss: 0.7067 - val_accuracy: 0.8195\n",
      "Epoch 127/200\n",
      "281/281 [==============================] - 17s 62ms/step - loss: 1.3734 - accuracy: 0.5976 - val_loss: 0.7073 - val_accuracy: 0.8185\n",
      "Epoch 128/200\n",
      "281/281 [==============================] - 18s 63ms/step - loss: 1.3548 - accuracy: 0.6005 - val_loss: 0.7057 - val_accuracy: 0.8210\n",
      "Epoch 129/200\n",
      "281/281 [==============================] - 17s 62ms/step - loss: 1.3626 - accuracy: 0.6005 - val_loss: 0.7059 - val_accuracy: 0.8205\n",
      "Epoch 130/200\n",
      "281/281 [==============================] - 18s 63ms/step - loss: 1.3638 - accuracy: 0.5976 - val_loss: 0.7063 - val_accuracy: 0.8200\n",
      "Epoch 131/200\n",
      "281/281 [==============================] - 18s 63ms/step - loss: 1.3529 - accuracy: 0.6046 - val_loss: 0.7062 - val_accuracy: 0.8205\n",
      "Epoch 132/200\n",
      "281/281 [==============================] - 18s 63ms/step - loss: 1.3512 - accuracy: 0.6010 - val_loss: 0.7048 - val_accuracy: 0.8210\n",
      "Epoch 133/200\n",
      "281/281 [==============================] - 18s 62ms/step - loss: 1.3612 - accuracy: 0.6004 - val_loss: 0.7058 - val_accuracy: 0.8200\n",
      "Epoch 134/200\n",
      "281/281 [==============================] - 18s 62ms/step - loss: 1.3574 - accuracy: 0.5991 - val_loss: 0.7049 - val_accuracy: 0.8215\n",
      "Epoch 135/200\n",
      "281/281 [==============================] - 17s 62ms/step - loss: 1.3510 - accuracy: 0.6075 - val_loss: 0.7050 - val_accuracy: 0.8215\n",
      "Epoch 136/200\n",
      "281/281 [==============================] - 18s 63ms/step - loss: 1.3548 - accuracy: 0.6001 - val_loss: 0.7051 - val_accuracy: 0.8195\n",
      "Epoch 137/200\n",
      "281/281 [==============================] - 18s 62ms/step - loss: 1.3565 - accuracy: 0.6046 - val_loss: 0.7047 - val_accuracy: 0.8190\n",
      "Epoch 138/200\n",
      "281/281 [==============================] - 18s 63ms/step - loss: 1.3654 - accuracy: 0.6018 - val_loss: 0.7048 - val_accuracy: 0.8195\n",
      "Epoch 139/200\n",
      "281/281 [==============================] - 17s 62ms/step - loss: 1.3659 - accuracy: 0.5966 - val_loss: 0.7050 - val_accuracy: 0.8200\n",
      "Epoch 140/200\n",
      "281/281 [==============================] - 17s 61ms/step - loss: 1.3711 - accuracy: 0.5968 - val_loss: 0.7049 - val_accuracy: 0.8200\n",
      "Epoch 141/200\n",
      "281/281 [==============================] - 17s 61ms/step - loss: 1.3586 - accuracy: 0.6008 - val_loss: 0.7046 - val_accuracy: 0.8195\n",
      "Epoch 142/200\n",
      "281/281 [==============================] - 17s 60ms/step - loss: 1.3621 - accuracy: 0.6028 - val_loss: 0.7051 - val_accuracy: 0.8185\n",
      "Epoch 143/200\n",
      "281/281 [==============================] - 17s 60ms/step - loss: 1.3629 - accuracy: 0.5994 - val_loss: 0.7055 - val_accuracy: 0.8190\n",
      "Epoch 144/200\n",
      "281/281 [==============================] - 17s 60ms/step - loss: 1.3610 - accuracy: 0.6029 - val_loss: 0.7050 - val_accuracy: 0.8185\n",
      "Epoch 145/200\n",
      "281/281 [==============================] - 17s 61ms/step - loss: 1.3579 - accuracy: 0.6002 - val_loss: 0.7048 - val_accuracy: 0.8215\n",
      "Epoch 146/200\n",
      "281/281 [==============================] - 17s 60ms/step - loss: 1.3644 - accuracy: 0.5966 - val_loss: 0.7058 - val_accuracy: 0.8195\n",
      "Epoch 147/200\n",
      "281/281 [==============================] - 17s 60ms/step - loss: 1.3624 - accuracy: 0.5978 - val_loss: 0.7058 - val_accuracy: 0.8175\n",
      "Epoch 148/200\n",
      "281/281 [==============================] - 17s 61ms/step - loss: 1.3564 - accuracy: 0.6000 - val_loss: 0.7056 - val_accuracy: 0.8195\n",
      "Epoch 149/200\n",
      "281/281 [==============================] - 17s 60ms/step - loss: 1.3532 - accuracy: 0.6024 - val_loss: 0.7047 - val_accuracy: 0.8200\n",
      "Epoch 150/200\n",
      "281/281 [==============================] - 17s 60ms/step - loss: 1.3644 - accuracy: 0.6010 - val_loss: 0.7053 - val_accuracy: 0.8190\n",
      "Epoch 151/200\n",
      "281/281 [==============================] - 17s 60ms/step - loss: 1.3637 - accuracy: 0.6019 - val_loss: 0.7045 - val_accuracy: 0.8200\n",
      "Epoch 152/200\n",
      "281/281 [==============================] - 17s 61ms/step - loss: 1.3625 - accuracy: 0.6021 - val_loss: 0.7044 - val_accuracy: 0.8200\n",
      "Epoch 153/200\n",
      "281/281 [==============================] - 17s 60ms/step - loss: 1.3591 - accuracy: 0.6038 - val_loss: 0.7051 - val_accuracy: 0.8205\n",
      "Epoch 154/200\n",
      "281/281 [==============================] - 17s 60ms/step - loss: 1.3642 - accuracy: 0.5962 - val_loss: 0.7052 - val_accuracy: 0.8200\n",
      "Epoch 155/200\n",
      "281/281 [==============================] - 17s 61ms/step - loss: 1.3571 - accuracy: 0.6046 - val_loss: 0.7046 - val_accuracy: 0.8205\n",
      "Epoch 156/200\n",
      "281/281 [==============================] - 17s 60ms/step - loss: 1.3519 - accuracy: 0.5990 - val_loss: 0.7041 - val_accuracy: 0.8215\n",
      "Epoch 157/200\n",
      "281/281 [==============================] - ETA: 0s - loss: 1.3631 - accuracy: 0.5993"
     ]
    },
    {
     "name": "stderr",
     "output_type": "stream",
     "text": [
      "2024-05-19 10:58:06.190526: I tensorflow/core/common_runtime/executor.cc:1197] [/device:CPU:0] (DEBUG INFO) Executor start aborting (this does not indicate an error and you can ignore this message): INVALID_ARGUMENT: You must feed a value for placeholder tensor 'inputs' with dtype float and shape [?,256]\n",
      "\t [[{{node inputs}}]]\n",
      "2024-05-19 10:58:06.578095: I tensorflow/core/common_runtime/executor.cc:1197] [/device:CPU:0] (DEBUG INFO) Executor start aborting (this does not indicate an error and you can ignore this message): INVALID_ARGUMENT: You must feed a value for placeholder tensor 'inputs' with dtype float and shape [?,256]\n",
      "\t [[{{node inputs}}]]\n",
      "WARNING:absl:Found untraced functions such as _jit_compiled_convolution_op, _jit_compiled_convolution_op, _jit_compiled_convolution_op while saving (showing 3 of 3). These functions will not be directly callable after loading.\n"
     ]
    },
    {
     "name": "stdout",
     "output_type": "stream",
     "text": [
      "INFO:tensorflow:Assets written to: best_model_finetuned/assets\n"
     ]
    },
    {
     "name": "stderr",
     "output_type": "stream",
     "text": [
      "INFO:tensorflow:Assets written to: best_model_finetuned/assets\n"
     ]
    },
    {
     "name": "stdout",
     "output_type": "stream",
     "text": [
      "281/281 [==============================] - 18s 65ms/step - loss: 1.3631 - accuracy: 0.5993 - val_loss: 0.7050 - val_accuracy: 0.8230\n",
      "Epoch 158/200\n",
      "281/281 [==============================] - 18s 62ms/step - loss: 1.3583 - accuracy: 0.6031 - val_loss: 0.7047 - val_accuracy: 0.8190\n",
      "Epoch 159/200\n",
      "281/281 [==============================] - 17s 61ms/step - loss: 1.3624 - accuracy: 0.5991 - val_loss: 0.7048 - val_accuracy: 0.8205\n",
      "Epoch 160/200\n",
      "281/281 [==============================] - 17s 60ms/step - loss: 1.3382 - accuracy: 0.6010 - val_loss: 0.7044 - val_accuracy: 0.8175\n",
      "Epoch 161/200\n",
      "281/281 [==============================] - 17s 61ms/step - loss: 1.3529 - accuracy: 0.6041 - val_loss: 0.7042 - val_accuracy: 0.8190\n",
      "Epoch 162/200\n",
      "113/281 [===========>..................] - ETA: 10s - loss: 1.3782 - accuracy: 0.5962"
     ]
    }
   ],
   "source": [
    "# Загрузка текущей модели (предполагается, что модель уже сохранена в файл 'best_model')\n",
    "model = load_model('best_model')\n",
    "\n",
    "# Компиляция модели с новыми параметрами\n",
    "model.compile(optimizer=Adam(learning_rate=0.000001),  # более низкая скорость обучения для тонкой настройки\n",
    "              loss='categorical_crossentropy', \n",
    "              metrics=['accuracy'])\n",
    "\n",
    "# Создание генератора данных для аугментации изображений\n",
    "datagen = ImageDataGenerator(\n",
    "    rotation_range=20,\n",
    "    width_shift_range=0.2,\n",
    "    height_shift_range=0.2,\n",
    "    shear_range=0.2,\n",
    "    zoom_range=0.2,\n",
    "    horizontal_flip=True,\n",
    "    fill_mode='nearest'\n",
    ")\n",
    "\n",
    "# Повторное использование коллбэков для тонкой настройки\n",
    "checkpoint = ModelCheckpoint('best_model_finetuned', monitor='val_accuracy', save_best_only=True, mode='max', save_format='tf')\n",
    "early_stopping = EarlyStopping(monitor='val_loss', patience=100, restore_best_weights=True)\n",
    "\n",
    "# Обучение модели с использованием расширения данных\n",
    "model.fit(datagen.flow(X_train, y_train, batch_size=64),  # уменьшен размер батча для более точной настройки\n",
    "          validation_data=(X_val, y_val),\n",
    "          steps_per_epoch=len(X_train) // 64,  # обновлено количество шагов на эпоху\n",
    "          epochs=200,  # уменьшено количество эпох для тонкой настройки\n",
    "          callbacks=[early_stopping, checkpoint])\n"
   ]
  },
  {
   "cell_type": "code",
   "execution_count": 46,
   "metadata": {
    "execution": {
     "iopub.execute_input": "2024-05-19T09:53:54.464513Z",
     "iopub.status.busy": "2024-05-19T09:53:54.463314Z",
     "iopub.status.idle": "2024-05-19T10:08:45.143479Z",
     "shell.execute_reply": "2024-05-19T10:08:45.142290Z",
     "shell.execute_reply.started": "2024-05-19T09:53:54.464472Z"
    },
    "tags": []
   },
   "outputs": [
    {
     "name": "stderr",
     "output_type": "stream",
     "text": [
      "2024-05-19 09:53:55.987068: I tensorflow/core/common_runtime/executor.cc:1197] [/device:CPU:0] (DEBUG INFO) Executor start aborting (this does not indicate an error and you can ignore this message): INVALID_ARGUMENT: You must feed a value for placeholder tensor 'Placeholder/_0' with dtype int32\n",
      "\t [[{{node Placeholder/_0}}]]\n"
     ]
    },
    {
     "name": "stdout",
     "output_type": "stream",
     "text": [
      "Epoch 1/100\n",
      "281/281 [==============================] - ETA: 0s - loss: 2.0486 - accuracy: 0.4041"
     ]
    },
    {
     "name": "stderr",
     "output_type": "stream",
     "text": [
      "2024-05-19 09:54:16.266154: I tensorflow/core/common_runtime/executor.cc:1197] [/device:CPU:0] (DEBUG INFO) Executor start aborting (this does not indicate an error and you can ignore this message): INVALID_ARGUMENT: You must feed a value for placeholder tensor 'inputs' with dtype float and shape [?,256]\n",
      "\t [[{{node inputs}}]]\n",
      "2024-05-19 09:54:16.693722: I tensorflow/core/common_runtime/executor.cc:1197] [/device:CPU:0] (DEBUG INFO) Executor start aborting (this does not indicate an error and you can ignore this message): INVALID_ARGUMENT: You must feed a value for placeholder tensor 'inputs' with dtype float and shape [?,256]\n",
      "\t [[{{node inputs}}]]\n",
      "WARNING:absl:Found untraced functions such as _jit_compiled_convolution_op, _jit_compiled_convolution_op, _jit_compiled_convolution_op while saving (showing 3 of 3). These functions will not be directly callable after loading.\n"
     ]
    },
    {
     "name": "stdout",
     "output_type": "stream",
     "text": [
      "INFO:tensorflow:Assets written to: best_model_finetuned/assets\n"
     ]
    },
    {
     "name": "stderr",
     "output_type": "stream",
     "text": [
      "INFO:tensorflow:Assets written to: best_model_finetuned/assets\n"
     ]
    },
    {
     "name": "stdout",
     "output_type": "stream",
     "text": [
      "281/281 [==============================] - 21s 68ms/step - loss: 2.0486 - accuracy: 0.4041 - val_loss: 0.8576 - val_accuracy: 0.7870 - lr: 1.0000e-04\n",
      "Epoch 2/100\n",
      "281/281 [==============================] - 17s 62ms/step - loss: 2.0165 - accuracy: 0.4095 - val_loss: 0.8829 - val_accuracy: 0.7760 - lr: 1.0000e-04\n",
      "Epoch 3/100\n",
      "281/281 [==============================] - 17s 62ms/step - loss: 2.0227 - accuracy: 0.4119 - val_loss: 0.8779 - val_accuracy: 0.7800 - lr: 1.0000e-04\n",
      "Epoch 4/100\n",
      "281/281 [==============================] - 17s 62ms/step - loss: 2.0261 - accuracy: 0.4102 - val_loss: 0.9045 - val_accuracy: 0.7730 - lr: 1.0000e-04\n",
      "Epoch 5/100\n",
      "281/281 [==============================] - 17s 62ms/step - loss: 2.0287 - accuracy: 0.4063 - val_loss: 0.9045 - val_accuracy: 0.7685 - lr: 1.0000e-04\n",
      "Epoch 6/100\n",
      "281/281 [==============================] - 17s 62ms/step - loss: 2.0223 - accuracy: 0.4079 - val_loss: 0.9275 - val_accuracy: 0.7570 - lr: 1.0000e-04\n",
      "Epoch 7/100\n",
      "281/281 [==============================] - 17s 62ms/step - loss: 2.0119 - accuracy: 0.4119 - val_loss: 0.9122 - val_accuracy: 0.7715 - lr: 1.0000e-04\n",
      "Epoch 8/100\n",
      "281/281 [==============================] - 17s 62ms/step - loss: 2.0115 - accuracy: 0.4121 - val_loss: 0.9307 - val_accuracy: 0.7555 - lr: 1.0000e-04\n",
      "Epoch 9/100\n",
      "281/281 [==============================] - 17s 62ms/step - loss: 2.0069 - accuracy: 0.4117 - val_loss: 0.9389 - val_accuracy: 0.7580 - lr: 1.0000e-04\n",
      "Epoch 10/100\n",
      "281/281 [==============================] - 18s 62ms/step - loss: 2.0038 - accuracy: 0.4137 - val_loss: 0.9181 - val_accuracy: 0.7590 - lr: 1.0000e-04\n",
      "Epoch 11/100\n",
      "281/281 [==============================] - ETA: 0s - loss: 2.0057 - accuracy: 0.4154\n",
      "Epoch 11: ReduceLROnPlateau reducing learning rate to 1.9999999494757503e-05.\n",
      "281/281 [==============================] - 17s 62ms/step - loss: 2.0057 - accuracy: 0.4154 - val_loss: 0.9378 - val_accuracy: 0.7585 - lr: 1.0000e-04\n",
      "Epoch 12/100\n",
      "281/281 [==============================] - 18s 63ms/step - loss: 1.9710 - accuracy: 0.4226 - val_loss: 0.9044 - val_accuracy: 0.7710 - lr: 2.0000e-05\n",
      "Epoch 13/100\n",
      "281/281 [==============================] - 17s 62ms/step - loss: 1.9651 - accuracy: 0.4217 - val_loss: 0.8948 - val_accuracy: 0.7690 - lr: 2.0000e-05\n",
      "Epoch 14/100\n",
      "281/281 [==============================] - 17s 62ms/step - loss: 1.9651 - accuracy: 0.4233 - val_loss: 0.8961 - val_accuracy: 0.7760 - lr: 2.0000e-05\n",
      "Epoch 15/100\n",
      "281/281 [==============================] - 17s 62ms/step - loss: 1.9518 - accuracy: 0.4275 - val_loss: 0.8931 - val_accuracy: 0.7735 - lr: 2.0000e-05\n",
      "Epoch 16/100\n",
      "281/281 [==============================] - 17s 62ms/step - loss: 1.9544 - accuracy: 0.4287 - val_loss: 0.8863 - val_accuracy: 0.7750 - lr: 2.0000e-05\n",
      "Epoch 17/100\n",
      "281/281 [==============================] - 17s 61ms/step - loss: 1.9416 - accuracy: 0.4295 - val_loss: 0.8889 - val_accuracy: 0.7720 - lr: 2.0000e-05\n",
      "Epoch 18/100\n",
      "281/281 [==============================] - 17s 62ms/step - loss: 1.9389 - accuracy: 0.4316 - val_loss: 0.8917 - val_accuracy: 0.7650 - lr: 2.0000e-05\n",
      "Epoch 19/100\n",
      "281/281 [==============================] - 17s 61ms/step - loss: 1.9479 - accuracy: 0.4304 - val_loss: 0.8835 - val_accuracy: 0.7725 - lr: 2.0000e-05\n",
      "Epoch 20/100\n",
      "281/281 [==============================] - 17s 61ms/step - loss: 1.9402 - accuracy: 0.4261 - val_loss: 0.8831 - val_accuracy: 0.7765 - lr: 2.0000e-05\n",
      "Epoch 21/100\n",
      "281/281 [==============================] - ETA: 0s - loss: 1.9125 - accuracy: 0.4394\n",
      "Epoch 21: ReduceLROnPlateau reducing learning rate to 3.999999898951501e-06.\n",
      "281/281 [==============================] - 17s 62ms/step - loss: 1.9125 - accuracy: 0.4394 - val_loss: 0.8819 - val_accuracy: 0.7740 - lr: 2.0000e-05\n",
      "Epoch 22/100\n",
      "281/281 [==============================] - 17s 61ms/step - loss: 1.9404 - accuracy: 0.4274 - val_loss: 0.8827 - val_accuracy: 0.7700 - lr: 4.0000e-06\n",
      "Epoch 23/100\n",
      "281/281 [==============================] - 17s 61ms/step - loss: 1.9309 - accuracy: 0.4329 - val_loss: 0.8784 - val_accuracy: 0.7730 - lr: 4.0000e-06\n",
      "Epoch 24/100\n",
      "281/281 [==============================] - 17s 61ms/step - loss: 1.9276 - accuracy: 0.4408 - val_loss: 0.8754 - val_accuracy: 0.7730 - lr: 4.0000e-06\n",
      "Epoch 25/100\n",
      "281/281 [==============================] - 17s 61ms/step - loss: 1.9272 - accuracy: 0.4366 - val_loss: 0.8755 - val_accuracy: 0.7720 - lr: 4.0000e-06\n",
      "Epoch 26/100\n",
      "281/281 [==============================] - 17s 61ms/step - loss: 1.9166 - accuracy: 0.4362 - val_loss: 0.8755 - val_accuracy: 0.7675 - lr: 4.0000e-06\n",
      "Epoch 27/100\n",
      "281/281 [==============================] - 17s 61ms/step - loss: 1.9431 - accuracy: 0.4262 - val_loss: 0.8790 - val_accuracy: 0.7695 - lr: 4.0000e-06\n",
      "Epoch 28/100\n",
      "281/281 [==============================] - 17s 61ms/step - loss: 1.9230 - accuracy: 0.4313 - val_loss: 0.8725 - val_accuracy: 0.7715 - lr: 4.0000e-06\n",
      "Epoch 29/100\n",
      "281/281 [==============================] - 17s 61ms/step - loss: 1.9249 - accuracy: 0.4336 - val_loss: 0.8710 - val_accuracy: 0.7725 - lr: 4.0000e-06\n",
      "Epoch 30/100\n",
      "281/281 [==============================] - 17s 61ms/step - loss: 1.9117 - accuracy: 0.4376 - val_loss: 0.8687 - val_accuracy: 0.7730 - lr: 4.0000e-06\n",
      "Epoch 31/100\n",
      "281/281 [==============================] - ETA: 0s - loss: 1.9222 - accuracy: 0.4340\n",
      "Epoch 31: ReduceLROnPlateau reducing learning rate to 1e-06.\n",
      "281/281 [==============================] - 18s 62ms/step - loss: 1.9222 - accuracy: 0.4340 - val_loss: 0.8708 - val_accuracy: 0.7790 - lr: 4.0000e-06\n",
      "Epoch 32/100\n",
      "281/281 [==============================] - 17s 62ms/step - loss: 1.9083 - accuracy: 0.4427 - val_loss: 0.8694 - val_accuracy: 0.7750 - lr: 1.0000e-06\n",
      "Epoch 33/100\n",
      "281/281 [==============================] - 17s 62ms/step - loss: 1.9271 - accuracy: 0.4303 - val_loss: 0.8700 - val_accuracy: 0.7725 - lr: 1.0000e-06\n",
      "Epoch 34/100\n",
      "281/281 [==============================] - 17s 61ms/step - loss: 1.9253 - accuracy: 0.4367 - val_loss: 0.8694 - val_accuracy: 0.7715 - lr: 1.0000e-06\n",
      "Epoch 35/100\n",
      "281/281 [==============================] - 17s 62ms/step - loss: 1.9269 - accuracy: 0.4376 - val_loss: 0.8695 - val_accuracy: 0.7720 - lr: 1.0000e-06\n",
      "Epoch 36/100\n",
      "281/281 [==============================] - 17s 62ms/step - loss: 1.9199 - accuracy: 0.4337 - val_loss: 0.8697 - val_accuracy: 0.7705 - lr: 1.0000e-06\n",
      "Epoch 37/100\n",
      "281/281 [==============================] - 18s 65ms/step - loss: 1.9131 - accuracy: 0.4343 - val_loss: 0.8691 - val_accuracy: 0.7730 - lr: 1.0000e-06\n",
      "Epoch 38/100\n",
      "281/281 [==============================] - 17s 61ms/step - loss: 1.9137 - accuracy: 0.4371 - val_loss: 0.8690 - val_accuracy: 0.7735 - lr: 1.0000e-06\n",
      "Epoch 39/100\n",
      "281/281 [==============================] - 17s 61ms/step - loss: 1.9288 - accuracy: 0.4333 - val_loss: 0.8698 - val_accuracy: 0.7745 - lr: 1.0000e-06\n",
      "Epoch 40/100\n",
      "281/281 [==============================] - 17s 62ms/step - loss: 1.9203 - accuracy: 0.4379 - val_loss: 0.8699 - val_accuracy: 0.7715 - lr: 1.0000e-06\n",
      "Epoch 41/100\n",
      "281/281 [==============================] - 17s 61ms/step - loss: 1.9112 - accuracy: 0.4329 - val_loss: 0.8695 - val_accuracy: 0.7730 - lr: 1.0000e-06\n",
      "Epoch 42/100\n",
      "281/281 [==============================] - 17s 61ms/step - loss: 1.9222 - accuracy: 0.4396 - val_loss: 0.8701 - val_accuracy: 0.7715 - lr: 1.0000e-06\n",
      "Epoch 43/100\n",
      "281/281 [==============================] - 17s 61ms/step - loss: 1.9186 - accuracy: 0.4365 - val_loss: 0.8685 - val_accuracy: 0.7715 - lr: 1.0000e-06\n",
      "Epoch 44/100\n",
      "281/281 [==============================] - 17s 61ms/step - loss: 1.9142 - accuracy: 0.4395 - val_loss: 0.8682 - val_accuracy: 0.7715 - lr: 1.0000e-06\n",
      "Epoch 45/100\n",
      "281/281 [==============================] - 17s 62ms/step - loss: 1.9100 - accuracy: 0.4380 - val_loss: 0.8677 - val_accuracy: 0.7710 - lr: 1.0000e-06\n",
      "Epoch 46/100\n",
      "281/281 [==============================] - 17s 61ms/step - loss: 1.9155 - accuracy: 0.4385 - val_loss: 0.8668 - val_accuracy: 0.7715 - lr: 1.0000e-06\n",
      "Epoch 47/100\n",
      "281/281 [==============================] - 17s 61ms/step - loss: 1.9118 - accuracy: 0.4342 - val_loss: 0.8672 - val_accuracy: 0.7710 - lr: 1.0000e-06\n",
      "Epoch 48/100\n",
      "281/281 [==============================] - 17s 62ms/step - loss: 1.9212 - accuracy: 0.4315 - val_loss: 0.8671 - val_accuracy: 0.7715 - lr: 1.0000e-06\n",
      "Epoch 49/100\n",
      "281/281 [==============================] - 17s 62ms/step - loss: 1.9107 - accuracy: 0.4403 - val_loss: 0.8674 - val_accuracy: 0.7710 - lr: 1.0000e-06\n",
      "Epoch 50/100\n",
      "281/281 [==============================] - 17s 61ms/step - loss: 1.9281 - accuracy: 0.4321 - val_loss: 0.8688 - val_accuracy: 0.7715 - lr: 1.0000e-06\n",
      "Epoch 51/100\n",
      "281/281 [==============================] - 17s 61ms/step - loss: 1.9260 - accuracy: 0.4339 - val_loss: 0.8699 - val_accuracy: 0.7705 - lr: 1.0000e-06\n"
     ]
    },
    {
     "data": {
      "text/plain": [
       "<keras.callbacks.History at 0x7f0238183c10>"
      ]
     },
     "execution_count": 46,
     "metadata": {},
     "output_type": "execute_result"
    }
   ],
   "source": [
    "# Загрузка текущей модели\n",
    "model = load_model('best_model')\n",
    "\n",
    "# Планировщик скорости обучения, который уменьшит скорость обучения, если остановка в улучшении\n",
    "reduce_lr = ReduceLROnPlateau(monitor='val_loss', factor=0.2, patience=10, min_lr=0.000001, verbose=1)\n",
    "\n",
    "# Компиляция модели с новыми параметрами\n",
    "model.compile(optimizer=Adam(learning_rate=0.0001),  # Поднял скорость для видимости изменений\n",
    "              loss='categorical_crossentropy', \n",
    "              metrics=['accuracy'])\n",
    "\n",
    "# Создание генератора данных для аугментации изображений\n",
    "datagen = ImageDataGenerator(\n",
    "    rotation_range=30,  # Увеличено для большей аугментации\n",
    "    width_shift_range=0.3,  # Увеличено для большей аугментации\n",
    "    height_shift_range=0.3,  # Увеличено для большей аугментации\n",
    "    shear_range=0.3,  # Увеличено для большей аугментации\n",
    "    zoom_range=0.3,  # Увеличено для большей аугментации\n",
    "    horizontal_flip=True,\n",
    "    fill_mode='nearest'\n",
    ")\n",
    "\n",
    "# Обновление коллбэков\n",
    "checkpoint = ModelCheckpoint('best_model_finetuned', monitor='val_accuracy', save_best_only=True, mode='max', save_format='tf')\n",
    "early_stopping = EarlyStopping(monitor='val_loss', patience=50, restore_best_weights=True)  # Уменьшено терпение для более ранней остановки\n",
    "\n",
    "# Обучение модели с использованием расширения данных\n",
    "model.fit(datagen.flow(X_train, y_train, batch_size=64),\n",
    "          validation_data=(X_val, y_val),\n",
    "          steps_per_epoch=len(X_train) // 64,\n",
    "          epochs=100,  # Уменьшено количество эпох\n",
    "          callbacks=[checkpoint, early_stopping, reduce_lr])\n"
   ]
  },
  {
   "cell_type": "code",
   "execution_count": 49,
   "metadata": {
    "execution": {
     "iopub.execute_input": "2024-05-19T11:00:33.120466Z",
     "iopub.status.busy": "2024-05-19T11:00:33.119191Z",
     "iopub.status.idle": "2024-05-19T11:00:41.689196Z",
     "shell.execute_reply": "2024-05-19T11:00:41.688096Z",
     "shell.execute_reply.started": "2024-05-19T11:00:33.120402Z"
    },
    "tags": []
   },
   "outputs": [
    {
     "name": "stdout",
     "output_type": "stream",
     "text": [
      "1563/1563 [==============================] - 4s 2ms/step\n"
     ]
    }
   ],
   "source": [
    "# Загрузка лучшей модели\n",
    "model = load_model('best_model')\n",
    "\n",
    "predictions = model.predict(images_sub)\n",
    "predicted_classes = np.argmax(predictions, axis=1)\n",
    "\n",
    "# Создание DataFrame с предсказаниями\n",
    "submission_df = pd.DataFrame({\n",
    "    'Id': np.arange(len(predicted_classes)),  # Создаем столбец Id с последовательными номерами от 0 до N-1\n",
    "    'Category': predicted_classes             # Столбец Category с предсказанными классами\n",
    "})\n",
    "\n",
    "# Сохранение DataFrame в CSV файл\n",
    "submission_df.to_csv('submission_13.csv', index=False)\n"
   ]
  }
 ],
 "metadata": {
  "kernelspec": {
   "display_name": "DataSphere Kernel",
   "language": "python",
   "name": "python3"
  },
  "language_info": {
   "codemirror_mode": {
    "name": "ipython",
    "version": 3
   },
   "file_extension": ".py",
   "mimetype": "text/x-python",
   "name": "python",
   "nbconvert_exporter": "python",
   "pygments_lexer": "ipython3",
   "version": "3.10.12"
  }
 },
 "nbformat": 4,
 "nbformat_minor": 4
}
