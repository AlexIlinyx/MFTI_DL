{
 "cells": [
  {
   "cell_type": "markdown",
   "metadata": {},
   "source": [
    "### Загрузка всех необходимых *библиотек* и *пакетов*"
   ]
  },
  {
   "cell_type": "code",
   "execution_count": 1,
   "metadata": {
    "execution": {
     "iopub.execute_input": "2024-05-11T14:08:38.536342Z",
     "iopub.status.busy": "2024-05-11T14:08:38.535333Z",
     "iopub.status.idle": "2024-05-11T14:09:02.975460Z",
     "shell.execute_reply": "2024-05-11T14:09:02.974263Z",
     "shell.execute_reply.started": "2024-05-11T14:08:38.536291Z"
    }
   },
   "outputs": [
    {
     "name": "stderr",
     "output_type": "stream",
     "text": [
      "2024-05-11 14:08:41.160965: I tensorflow/core/platform/cpu_feature_guard.cc:182] This TensorFlow binary is optimized to use available CPU instructions in performance-critical operations.\n",
      "To enable the following instructions: AVX2 FMA, in other operations, rebuild TensorFlow with the appropriate compiler flags.\n",
      "2024-05-11 14:08:45.101298: W tensorflow/compiler/tf2tensorrt/utils/py_utils.cc:38] TF-TRT Warning: Could not find TensorRT\n"
     ]
    }
   ],
   "source": [
    "import os\n",
    "import tensorflow as tf\n",
    "import torch\n",
    "import torch.nn as nn\n",
    "import torch.optim as optim\n",
    "from torch.utils.data import DataLoader, TensorDataset, random_split\n",
    "import pandas as pd\n",
    "import numpy as np\n",
    "import seaborn as sns\n",
    "import matplotlib.pyplot as plt\n",
    "from sklearn.metrics import confusion_matrix, classification_report\n",
    "import math\n",
    "from tqdm import tqdm\n",
    "import torch.nn.functional as F"
   ]
  },
  {
   "cell_type": "markdown",
   "metadata": {},
   "source": [
    "### Загрузка и первичный анализ данных"
   ]
  },
  {
   "cell_type": "markdown",
   "metadata": {},
   "source": [
    "#### Загрузим данные и проверим их на наличие пропущенных значений:"
   ]
  },
  {
   "cell_type": "code",
   "execution_count": 2,
   "metadata": {
    "execution": {
     "iopub.execute_input": "2024-05-11T14:09:02.978082Z",
     "iopub.status.busy": "2024-05-11T14:09:02.976902Z",
     "iopub.status.idle": "2024-05-11T14:09:12.235307Z",
     "shell.execute_reply": "2024-05-11T14:09:12.234127Z",
     "shell.execute_reply.started": "2024-05-11T14:09:02.978030Z"
    }
   },
   "outputs": [
    {
     "name": "stdout",
     "output_type": "stream",
     "text": [
      "Пропущенные значения в обучающем наборе: 0\n",
      "Пропущенные значения в тестовом наборе: 0\n"
     ]
    }
   ],
   "source": [
    "# Загрузка данных\n",
    "train_data = pd.read_csv('fashion-mnist_train.csv')\n",
    "test_data = pd.read_csv('fashion-mnist_test.csv')\n",
    "\n",
    "# Проверка на наличие пропущенных значений\n",
    "print(\"Пропущенные значения в обучающем наборе:\", train_data.isnull().sum().sum())\n",
    "print(\"Пропущенные значения в тестовом наборе:\", test_data.isnull().sum().sum())\n"
   ]
  },
  {
   "cell_type": "markdown",
   "metadata": {},
   "source": [
    "#### Визуализация данных\n"
   ]
  },
  {
   "cell_type": "code",
   "execution_count": 3,
   "metadata": {
    "execution": {
     "iopub.execute_input": "2024-05-11T14:09:12.239317Z",
     "iopub.status.busy": "2024-05-11T14:09:12.238124Z",
     "iopub.status.idle": "2024-05-11T14:09:12.255519Z",
     "shell.execute_reply": "2024-05-11T14:09:12.254169Z",
     "shell.execute_reply.started": "2024-05-11T14:09:12.239244Z"
    }
   },
   "outputs": [],
   "source": [
    "def plot_images(data, row, col):\n",
    "    fig, axes = plt.subplots(row, col, figsize=(12, 12))\n",
    "    axes = axes.ravel()\n",
    "    for i in range(row * col):\n",
    "        img = data.iloc[i, 1:].values.reshape(28, 28)\n",
    "        axes[i].imshow(img, cmap='gray')\n",
    "        axes[i].set_title(f'Label: {data.iloc[i, 0]}', fontsize=12)\n",
    "        axes[i].axis('off')\n",
    "    plt.subplots_adjust(wspace=0.5)\n",
    "\n",
    "# Визуализация первых 10 изображений\n",
    "# plot_images(train_data, 2, 5)\n"
   ]
  },
  {
   "cell_type": "markdown",
   "metadata": {},
   "source": [
    "### Предобработка данных"
   ]
  },
  {
   "cell_type": "code",
   "execution_count": 4,
   "metadata": {
    "execution": {
     "iopub.execute_input": "2024-05-11T14:09:12.259191Z",
     "iopub.status.busy": "2024-05-11T14:09:12.258012Z",
     "iopub.status.idle": "2024-05-11T14:09:12.542647Z",
     "shell.execute_reply": "2024-05-11T14:09:12.541576Z",
     "shell.execute_reply.started": "2024-05-11T14:09:12.259136Z"
    }
   },
   "outputs": [],
   "source": [
    "def data_preprocessing(raw):\n",
    "    labels = torch.tensor(raw.iloc[:, 0].values).long()\n",
    "    num_images = raw.shape[0]\n",
    "    x_as_array = raw.values[:,1:]\n",
    "    x_shaped_array = torch.tensor(x_as_array).view(num_images, 1, 28, 28).float()\n",
    "    x_shaped_array /= 255.0\n",
    "    return x_shaped_array, labels\n",
    "\n",
    "X, y = data_preprocessing(train_data)\n",
    "X_test, y_test = data_preprocessing(test_data)\n",
    "\n",
    "# Разделение обучающих данных на обучающий и проверочный набор с соотношением разделения 75-25 %\n",
    "dataset = TensorDataset(X, y)\n",
    "train_size = int(0.75 * len(dataset))\n",
    "val_size = len(dataset) - train_size\n",
    "train_dataset, val_dataset = random_split(dataset, [train_size, val_size])"
   ]
  },
  {
   "cell_type": "code",
   "execution_count": 5,
   "metadata": {
    "execution": {
     "iopub.execute_input": "2024-05-11T14:09:12.545142Z",
     "iopub.status.busy": "2024-05-11T14:09:12.544035Z",
     "iopub.status.idle": "2024-05-11T14:09:12.560231Z",
     "shell.execute_reply": "2024-05-11T14:09:12.559133Z",
     "shell.execute_reply.started": "2024-05-11T14:09:12.545087Z"
    }
   },
   "outputs": [],
   "source": [
    "# Загрузчики данных\n",
    "train_loader = DataLoader(train_dataset, batch_size=128, shuffle=True)\n",
    "val_loader = DataLoader(val_dataset, batch_size=128, shuffle=False)\n",
    "test_loader = DataLoader(TensorDataset(X_test, y_test), batch_size=128, shuffle=False)"
   ]
  },
  {
   "cell_type": "markdown",
   "metadata": {},
   "source": [
    "### Сверточная нейронная сеть"
   ]
  },
  {
   "cell_type": "markdown",
   "metadata": {},
   "source": [
    "#### Задаем модель в **PyTorch**"
   ]
  },
  {
   "cell_type": "code",
   "execution_count": 6,
   "metadata": {
    "execution": {
     "iopub.execute_input": "2024-05-11T14:09:12.562453Z",
     "iopub.status.busy": "2024-05-11T14:09:12.561390Z",
     "iopub.status.idle": "2024-05-11T14:09:13.174782Z",
     "shell.execute_reply": "2024-05-11T14:09:13.173687Z",
     "shell.execute_reply.started": "2024-05-11T14:09:12.562399Z"
    }
   },
   "outputs": [
    {
     "name": "stdout",
     "output_type": "stream",
     "text": [
      "CustomCNN(\n",
      "  (conv1): Conv2d(1, 32, kernel_size=(3, 3), stride=(1, 1), padding=same)\n",
      "  (pool1): MaxPool2d(kernel_size=2, stride=2, padding=0, dilation=1, ceil_mode=False)\n",
      "  (conv2): Conv2d(32, 64, kernel_size=(3, 3), stride=(1, 1), padding=same)\n",
      "  (pool2): MaxPool2d(kernel_size=2, stride=2, padding=0, dilation=1, ceil_mode=False)\n",
      "  (dropout1): Dropout(p=0.3, inplace=False)\n",
      "  (bn1): BatchNorm2d(64, eps=1e-05, momentum=0.1, affine=True, track_running_stats=True)\n",
      "  (conv3): Conv2d(64, 128, kernel_size=(3, 3), stride=(1, 1), padding=same)\n",
      "  (conv4): Conv2d(128, 128, kernel_size=(3, 3), stride=(1, 1), padding=same)\n",
      "  (pool3): MaxPool2d(kernel_size=2, stride=2, padding=0, dilation=1, ceil_mode=False)\n",
      "  (dropout2): Dropout(p=0.4, inplace=False)\n",
      "  (flatten): Flatten(start_dim=1, end_dim=-1)\n",
      "  (bn2): BatchNorm1d(1152, eps=1e-05, momentum=0.1, affine=True, track_running_stats=True)\n",
      "  (fc1): Linear(in_features=1152, out_features=512, bias=True)\n",
      "  (dropout3): Dropout(p=0.25, inplace=False)\n",
      "  (fc2): Linear(in_features=512, out_features=10, bias=True)\n",
      ")\n",
      "Using device: cuda\n",
      "Pytorch version: 2.0.1+cu118\n",
      "Num GPUs Available:  1\n"
     ]
    }
   ],
   "source": [
    "# Модель\n",
    "class CustomCNN(nn.Module):\n",
    "    def __init__(self):\n",
    "        super(CustomCNN, self).__init__()\n",
    "        # Первый сверточный слой\n",
    "        self.conv1 = nn.Conv2d(1, 32, kernel_size=3, padding='same')\n",
    "        self.pool1 = nn.MaxPool2d(2, 2)\n",
    "        \n",
    "        # Второй сверточный слой\n",
    "        self.conv2 = nn.Conv2d(32, 64, kernel_size=3, padding='same')\n",
    "        self.pool2 = nn.MaxPool2d(2, 2)\n",
    "\n",
    "        # Дропаут и BatchNorm\n",
    "        self.dropout1 = nn.Dropout(0.3)\n",
    "        self.bn1 = nn.BatchNorm2d(64)\n",
    "        \n",
    "        # Третий и четвертый сверточные слои\n",
    "        self.conv3 = nn.Conv2d(64, 128, kernel_size=3, padding='same')\n",
    "        self.conv4 = nn.Conv2d(128, 128, kernel_size=3, padding='same')\n",
    "        self.pool3 = nn.MaxPool2d(2, 2)\n",
    "\n",
    "        # Дропаут\n",
    "        self.dropout2 = nn.Dropout(0.4)\n",
    "\n",
    "        # Полносвязные слои\n",
    "        self.flatten = nn.Flatten()\n",
    "        self.bn2 = nn.BatchNorm1d(1152)\n",
    "        self.fc1 = nn.Linear(1152, 512)  # Указан размер входа согласно размерам после пулинга\n",
    "        self.dropout3 = nn.Dropout(0.25)\n",
    "        self.fc2 = nn.Linear(512, 10)\n",
    "\n",
    "    def forward(self, x):\n",
    "        x = F.relu(self.conv1(x))\n",
    "        x = self.pool1(x)\n",
    "        \n",
    "        x = F.relu(self.conv2(x))\n",
    "        x = self.pool2(x)\n",
    "\n",
    "        x = self.dropout1(x)\n",
    "        x = self.bn1(x)\n",
    "        \n",
    "        x = F.relu(self.conv3(x))\n",
    "        x = F.relu(self.conv4(x))\n",
    "        x = self.pool3(x)\n",
    "\n",
    "        x = self.dropout2(x)\n",
    "        x = self.flatten(x)\n",
    "        x = self.bn2(x)\n",
    "        \n",
    "        x = F.relu(self.fc1(x))\n",
    "        x = self.dropout3(x)\n",
    "        x = self.fc2(x)\n",
    "        \n",
    "        return F.log_softmax(x, dim=1)  # Использование log_softmax для последнего слоя при классификации\n",
    "\n",
    "\n",
    "# Определение устройства\n",
    "device = torch.device(\"cuda\" if torch.cuda.is_available() else \"cpu\")\n",
    "\n",
    "# Инициализация модели и перенос на устройство\n",
    "model = CustomCNN().to(device)\n",
    "\n",
    "# Проверка модели\n",
    "print(model)\n",
    "\n",
    "# Печать информации выбранном устройстве, версии Pytorch  и колисчестве доступных GPU\n",
    "print(\"Using device:\", device)\n",
    "print('Pytorch version:', torch.__version__)\n",
    "print(\"Num GPUs Available: \", torch.cuda.device_count())"
   ]
  },
  {
   "cell_type": "markdown",
   "metadata": {},
   "source": [
    "#### Настройка скорости обучения в оптимизаторе Адам для большей точности"
   ]
  },
  {
   "cell_type": "code",
   "execution_count": 7,
   "metadata": {
    "execution": {
     "iopub.execute_input": "2024-05-11T14:09:13.177040Z",
     "iopub.status.busy": "2024-05-11T14:09:13.176206Z",
     "iopub.status.idle": "2024-05-11T14:09:13.192583Z",
     "shell.execute_reply": "2024-05-11T14:09:13.191495Z",
     "shell.execute_reply.started": "2024-05-11T14:09:13.176987Z"
    }
   },
   "outputs": [],
   "source": [
    "# Оптимизатор\n",
    "optimizer = optim.Adam(model.parameters(), lr=0.0007, betas=(0.9, 0.999), eps=1e-8, weight_decay=0, amsgrad=False)\n",
    "# optimizer = optim.Adam(model.parameters(), lr=0.001, betas=(0.9, 0.999), eps=1e-08, weight_decay=0, amsgrad=False)\n",
    "\n",
    "# Функция потерь и метрика\n",
    "criterion = nn.CrossEntropyLoss()"
   ]
  },
  {
   "cell_type": "code",
   "execution_count": 8,
   "metadata": {
    "execution": {
     "iopub.execute_input": "2024-05-11T14:09:13.196913Z",
     "iopub.status.busy": "2024-05-11T14:09:13.195561Z",
     "iopub.status.idle": "2024-05-11T14:09:16.856245Z",
     "shell.execute_reply": "2024-05-11T14:09:16.855048Z",
     "shell.execute_reply.started": "2024-05-11T14:09:13.196862Z"
    }
   },
   "outputs": [],
   "source": [
    "# Перемещение тензоров в память CPU/GPU\n",
    "train_loader = DataLoader(train_dataset, batch_size=128, shuffle=True)\n",
    "for images, labels in train_loader:\n",
    "    images, labels = images.to(device), labels.to(device)\n",
    "    outputs = model(images)\n",
    "    loss = criterion(outputs, labels)"
   ]
  },
  {
   "cell_type": "markdown",
   "metadata": {},
   "source": [
    "#### Функция тренировка модели"
   ]
  },
  {
   "cell_type": "code",
   "execution_count": 9,
   "metadata": {
    "execution": {
     "iopub.execute_input": "2024-05-11T14:09:16.859638Z",
     "iopub.status.busy": "2024-05-11T14:09:16.858134Z",
     "iopub.status.idle": "2024-05-11T14:09:16.878650Z",
     "shell.execute_reply": "2024-05-11T14:09:16.877592Z",
     "shell.execute_reply.started": "2024-05-11T14:09:16.859597Z"
    }
   },
   "outputs": [],
   "source": [
    "def train_model(model, train_loader, val_loader, epochs, device):\n",
    "    for epoch in range(epochs):\n",
    "        model.train()\n",
    "        running_loss = 0.0\n",
    "        total = 0\n",
    "        correct = 0\n",
    "\n",
    "        # Тренировочный цикл с tqdm\n",
    "        train_loop = tqdm(train_loader, total=len(train_loader), leave=True, position=0)\n",
    "        for images, labels in train_loop:\n",
    "            images, labels = images.to(device), labels.to(device)\n",
    "            optimizer.zero_grad()\n",
    "            outputs = model(images)\n",
    "            loss = criterion(outputs, labels)\n",
    "            loss.backward()\n",
    "            optimizer.step()\n",
    "            running_loss += loss.item()\n",
    "\n",
    "            _, predicted = torch.max(outputs.data, 1)\n",
    "            total += labels.size(0)\n",
    "            correct += (predicted == labels).sum().item()\n",
    "\n",
    "            train_loop.set_description(f'Epoch {epoch+1}/{epochs}')\n",
    "            train_loop.set_postfix(loss=loss.item(), accuracy=100. * correct / total)\n",
    "\n",
    "        # Валидационный цикл с tqdm\n",
    "        model.eval()\n",
    "        val_loss = 0.0\n",
    "        val_correct = 0\n",
    "        val_total = 0\n",
    "        val_loop = tqdm(val_loader, total=len(val_loader), leave=False, position=0)\n",
    "        with torch.no_grad():\n",
    "            for images, labels in val_loop:\n",
    "                images, labels = images.to(device), labels.to(device)\n",
    "                outputs = model(images)\n",
    "                val_loss += criterion(outputs, labels).item()\n",
    "                _, val_predicted = torch.max(outputs.data, 1)\n",
    "                val_total += labels.size(0)\n",
    "                val_correct += (val_predicted == labels).sum().item()\n",
    "\n",
    "                val_loop.set_postfix(val_loss=val_loss / val_total, val_accuracy=100. * val_correct / val_total)\n",
    "\n",
    "        print(f'End of Epoch {epoch+1}, Train Loss: {running_loss / len(train_loader)}, Train Accuracy: {100 * correct / total}%, Val Loss: {val_loss / len(val_loader)}, Val Accuracy: {100 * val_correct / val_total}%')\n"
   ]
  },
  {
   "cell_type": "markdown",
   "metadata": {},
   "source": [
    "### Обучение модели"
   ]
  },
  {
   "cell_type": "code",
   "execution_count": 10,
   "metadata": {
    "execution": {
     "iopub.execute_input": "2024-05-11T14:09:16.881304Z",
     "iopub.status.busy": "2024-05-11T14:09:16.880075Z",
     "iopub.status.idle": "2024-05-11T14:16:55.199340Z",
     "shell.execute_reply": "2024-05-11T14:16:55.197976Z",
     "shell.execute_reply.started": "2024-05-11T14:09:16.881253Z"
    },
    "tags": []
   },
   "outputs": [
    {
     "name": "stderr",
     "output_type": "stream",
     "text": [
      "Epoch 1/100: 100%|██████████| 352/352 [00:04<00:00, 72.53it/s, accuracy=80.8, loss=0.349]\n",
      "                                                                                       \r"
     ]
    },
    {
     "name": "stdout",
     "output_type": "stream",
     "text": [
      "End of Epoch 1, Train Loss: 0.5197266219183803, Train Accuracy: 80.79555555555555%, Val Loss: 0.3325782457398156, Val Accuracy: 87.65333333333334%\n"
     ]
    },
    {
     "name": "stderr",
     "output_type": "stream",
     "text": [
      "Epoch 2/100: 100%|██████████| 352/352 [00:03<00:00, 88.48it/s, accuracy=86.5, loss=0.236]\n",
      "                                                                                       \r"
     ]
    },
    {
     "name": "stdout",
     "output_type": "stream",
     "text": [
      "End of Epoch 2, Train Loss: 0.36182674956084654, Train Accuracy: 86.48444444444445%, Val Loss: 0.28817116014533123, Val Accuracy: 89.3%\n"
     ]
    },
    {
     "name": "stderr",
     "output_type": "stream",
     "text": [
      "Epoch 3/100: 100%|██████████| 352/352 [00:04<00:00, 86.80it/s, accuracy=88.1, loss=0.221]\n",
      "                                                                                       \r"
     ]
    },
    {
     "name": "stdout",
     "output_type": "stream",
     "text": [
      "End of Epoch 3, Train Loss: 0.31848673399707134, Train Accuracy: 88.13111111111111%, Val Loss: 0.27712218412908457, Val Accuracy: 89.74%\n"
     ]
    },
    {
     "name": "stderr",
     "output_type": "stream",
     "text": [
      "Epoch 4/100: 100%|██████████| 352/352 [00:03<00:00, 88.28it/s, accuracy=88.8, loss=0.597]\n",
      "                                                                                       \r"
     ]
    },
    {
     "name": "stdout",
     "output_type": "stream",
     "text": [
      "End of Epoch 4, Train Loss: 0.29820932570675557, Train Accuracy: 88.82222222222222%, Val Loss: 0.2552938381746664, Val Accuracy: 90.52%\n"
     ]
    },
    {
     "name": "stderr",
     "output_type": "stream",
     "text": [
      "Epoch 5/100: 100%|██████████| 352/352 [00:03<00:00, 91.54it/s, accuracy=89.4, loss=0.252]\n",
      "                                                                                       \r"
     ]
    },
    {
     "name": "stdout",
     "output_type": "stream",
     "text": [
      "End of Epoch 5, Train Loss: 0.2865508772771467, Train Accuracy: 89.39555555555556%, Val Loss: 0.2670262909289134, Val Accuracy: 89.78%\n"
     ]
    },
    {
     "name": "stderr",
     "output_type": "stream",
     "text": [
      "Epoch 6/100: 100%|██████████| 352/352 [00:03<00:00, 92.84it/s, accuracy=90, loss=0.212]  \n",
      "                                                                                       \r"
     ]
    },
    {
     "name": "stdout",
     "output_type": "stream",
     "text": [
      "End of Epoch 6, Train Loss: 0.26948735989968886, Train Accuracy: 89.99111111111111%, Val Loss: 0.23797470470101145, Val Accuracy: 91.24666666666667%\n"
     ]
    },
    {
     "name": "stderr",
     "output_type": "stream",
     "text": [
      "Epoch 7/100: 100%|██████████| 352/352 [00:03<00:00, 91.03it/s, accuracy=90.2, loss=0.304]\n",
      "                                                                                       \r"
     ]
    },
    {
     "name": "stdout",
     "output_type": "stream",
     "text": [
      "End of Epoch 7, Train Loss: 0.2630729938179932, Train Accuracy: 90.19111111111111%, Val Loss: 0.24173180683184478, Val Accuracy: 91.50666666666666%\n"
     ]
    },
    {
     "name": "stderr",
     "output_type": "stream",
     "text": [
      "Epoch 8/100: 100%|██████████| 352/352 [00:03<00:00, 92.31it/s, accuracy=90.7, loss=0.365]\n",
      "                                                                                       \r"
     ]
    },
    {
     "name": "stdout",
     "output_type": "stream",
     "text": [
      "End of Epoch 8, Train Loss: 0.2519528641026806, Train Accuracy: 90.65555555555555%, Val Loss: 0.22206122642856532, Val Accuracy: 91.85333333333334%\n"
     ]
    },
    {
     "name": "stderr",
     "output_type": "stream",
     "text": [
      "Epoch 9/100: 100%|██████████| 352/352 [00:03<00:00, 92.56it/s, accuracy=91.1, loss=0.21]  \n",
      "                                                                                       \r"
     ]
    },
    {
     "name": "stdout",
     "output_type": "stream",
     "text": [
      "End of Epoch 9, Train Loss: 0.23676434701139276, Train Accuracy: 91.08444444444444%, Val Loss: 0.22009964236768625, Val Accuracy: 92.28%\n"
     ]
    },
    {
     "name": "stderr",
     "output_type": "stream",
     "text": [
      "Epoch 10/100: 100%|██████████| 352/352 [00:03<00:00, 89.80it/s, accuracy=91.4, loss=0.183]\n",
      "                                                                                       \r"
     ]
    },
    {
     "name": "stdout",
     "output_type": "stream",
     "text": [
      "End of Epoch 10, Train Loss: 0.22807357151230628, Train Accuracy: 91.39111111111112%, Val Loss: 0.2248025838348825, Val Accuracy: 91.83333333333333%\n"
     ]
    },
    {
     "name": "stderr",
     "output_type": "stream",
     "text": [
      "Epoch 11/100: 100%|██████████| 352/352 [00:03<00:00, 92.46it/s, accuracy=91.5, loss=0.177] \n",
      "                                                                                       \r"
     ]
    },
    {
     "name": "stdout",
     "output_type": "stream",
     "text": [
      "End of Epoch 11, Train Loss: 0.2263767944902859, Train Accuracy: 91.49555555555555%, Val Loss: 0.20688897049275495, Val Accuracy: 92.5%\n"
     ]
    },
    {
     "name": "stderr",
     "output_type": "stream",
     "text": [
      "Epoch 12/100: 100%|██████████| 352/352 [00:03<00:00, 91.54it/s, accuracy=91.9, loss=0.254]\n",
      "                                                                                       \r"
     ]
    },
    {
     "name": "stdout",
     "output_type": "stream",
     "text": [
      "End of Epoch 12, Train Loss: 0.21686336800286715, Train Accuracy: 91.92444444444445%, Val Loss: 0.21146814594581975, Val Accuracy: 92.65333333333334%\n"
     ]
    },
    {
     "name": "stderr",
     "output_type": "stream",
     "text": [
      "Epoch 13/100: 100%|██████████| 352/352 [00:03<00:00, 92.91it/s, accuracy=92.1, loss=0.143]\n",
      "                                                                                       \r"
     ]
    },
    {
     "name": "stdout",
     "output_type": "stream",
     "text": [
      "End of Epoch 13, Train Loss: 0.20995907777581702, Train Accuracy: 92.08888888888889%, Val Loss: 0.2027796763863604, Val Accuracy: 92.77333333333333%\n"
     ]
    },
    {
     "name": "stderr",
     "output_type": "stream",
     "text": [
      "Epoch 14/100: 100%|██████████| 352/352 [00:03<00:00, 92.18it/s, accuracy=92.2, loss=0.14] \n",
      "                                                                                       \r"
     ]
    },
    {
     "name": "stdout",
     "output_type": "stream",
     "text": [
      "End of Epoch 14, Train Loss: 0.2093275235965848, Train Accuracy: 92.18%, Val Loss: 0.2195667262047024, Val Accuracy: 92.24666666666667%\n"
     ]
    },
    {
     "name": "stderr",
     "output_type": "stream",
     "text": [
      "Epoch 15/100: 100%|██████████| 352/352 [00:03<00:00, 92.48it/s, accuracy=92.5, loss=0.0931]\n",
      "                                                                                       \r"
     ]
    },
    {
     "name": "stdout",
     "output_type": "stream",
     "text": [
      "End of Epoch 15, Train Loss: 0.19819031691771338, Train Accuracy: 92.49111111111111%, Val Loss: 0.21454596058544467, Val Accuracy: 92.51333333333334%\n"
     ]
    },
    {
     "name": "stderr",
     "output_type": "stream",
     "text": [
      "Epoch 16/100: 100%|██████████| 352/352 [00:03<00:00, 91.00it/s, accuracy=92.6, loss=0.142] \n",
      "                                                                                       \r"
     ]
    },
    {
     "name": "stdout",
     "output_type": "stream",
     "text": [
      "End of Epoch 16, Train Loss: 0.1951778387777846, Train Accuracy: 92.5911111111111%, Val Loss: 0.20795109874363674, Val Accuracy: 92.83333333333333%\n"
     ]
    },
    {
     "name": "stderr",
     "output_type": "stream",
     "text": [
      "Epoch 17/100: 100%|██████████| 352/352 [00:03<00:00, 92.28it/s, accuracy=92.4, loss=0.266] \n",
      "                                                                                       \r"
     ]
    },
    {
     "name": "stdout",
     "output_type": "stream",
     "text": [
      "End of Epoch 17, Train Loss: 0.20003542776050215, Train Accuracy: 92.42%, Val Loss: 0.2166002770980536, Val Accuracy: 92.28%\n"
     ]
    },
    {
     "name": "stderr",
     "output_type": "stream",
     "text": [
      "Epoch 18/100: 100%|██████████| 352/352 [00:03<00:00, 92.85it/s, accuracy=92.6, loss=0.222] \n",
      "                                                                                       \r"
     ]
    },
    {
     "name": "stdout",
     "output_type": "stream",
     "text": [
      "End of Epoch 18, Train Loss: 0.19576546793210914, Train Accuracy: 92.55111111111111%, Val Loss: 0.29721868158144465, Val Accuracy: 92.71333333333334%\n"
     ]
    },
    {
     "name": "stderr",
     "output_type": "stream",
     "text": [
      "Epoch 19/100: 100%|██████████| 352/352 [00:03<00:00, 93.38it/s, accuracy=93, loss=0.137]   \n",
      "                                                                                       \r"
     ]
    },
    {
     "name": "stdout",
     "output_type": "stream",
     "text": [
      "End of Epoch 19, Train Loss: 0.18418190657923167, Train Accuracy: 93.04222222222222%, Val Loss: 0.1953148178251113, Val Accuracy: 93.07333333333334%\n"
     ]
    },
    {
     "name": "stderr",
     "output_type": "stream",
     "text": [
      "Epoch 20/100: 100%|██████████| 352/352 [00:03<00:00, 94.03it/s, accuracy=93.2, loss=0.11]  \n",
      "                                                                                       \r"
     ]
    },
    {
     "name": "stdout",
     "output_type": "stream",
     "text": [
      "End of Epoch 20, Train Loss: 0.17897866901264273, Train Accuracy: 93.16444444444444%, Val Loss: 0.27776027193008845, Val Accuracy: 92.88%\n"
     ]
    },
    {
     "name": "stderr",
     "output_type": "stream",
     "text": [
      "Epoch 21/100: 100%|██████████| 352/352 [00:03<00:00, 93.10it/s, accuracy=93.5, loss=0.147] \n",
      "                                                                                       \r"
     ]
    },
    {
     "name": "stdout",
     "output_type": "stream",
     "text": [
      "End of Epoch 21, Train Loss: 0.17274739787998525, Train Accuracy: 93.50444444444445%, Val Loss: 0.20489349588751793, Val Accuracy: 92.56666666666666%\n"
     ]
    },
    {
     "name": "stderr",
     "output_type": "stream",
     "text": [
      "Epoch 22/100: 100%|██████████| 352/352 [00:03<00:00, 93.56it/s, accuracy=93.5, loss=0.198] \n",
      "                                                                                       \r"
     ]
    },
    {
     "name": "stdout",
     "output_type": "stream",
     "text": [
      "End of Epoch 22, Train Loss: 0.17154020504941317, Train Accuracy: 93.50666666666666%, Val Loss: 0.21826543223302244, Val Accuracy: 92.18%\n"
     ]
    },
    {
     "name": "stderr",
     "output_type": "stream",
     "text": [
      "Epoch 23/100: 100%|██████████| 352/352 [00:03<00:00, 91.33it/s, accuracy=93.7, loss=0.192] \n",
      "                                                                                       \r"
     ]
    },
    {
     "name": "stdout",
     "output_type": "stream",
     "text": [
      "End of Epoch 23, Train Loss: 0.1664000892143866, Train Accuracy: 93.74666666666667%, Val Loss: 0.2027527386859312, Val Accuracy: 93.08%\n"
     ]
    },
    {
     "name": "stderr",
     "output_type": "stream",
     "text": [
      "Epoch 24/100: 100%|██████████| 352/352 [00:03<00:00, 90.82it/s, accuracy=93.8, loss=0.0955]\n",
      "                                                                                       \r"
     ]
    },
    {
     "name": "stdout",
     "output_type": "stream",
     "text": [
      "End of Epoch 24, Train Loss: 0.16455287285233763, Train Accuracy: 93.75777777777778%, Val Loss: 0.19448800991147253, Val Accuracy: 93.28666666666666%\n"
     ]
    },
    {
     "name": "stderr",
     "output_type": "stream",
     "text": [
      "Epoch 25/100: 100%|██████████| 352/352 [00:03<00:00, 90.89it/s, accuracy=93.9, loss=0.152] \n",
      "                                                                                       \r"
     ]
    },
    {
     "name": "stdout",
     "output_type": "stream",
     "text": [
      "End of Epoch 25, Train Loss: 0.16192824237937617, Train Accuracy: 93.89111111111112%, Val Loss: 0.20022538417981842, Val Accuracy: 93.06666666666666%\n"
     ]
    },
    {
     "name": "stderr",
     "output_type": "stream",
     "text": [
      "Epoch 26/100: 100%|██████████| 352/352 [00:03<00:00, 92.13it/s, accuracy=94, loss=0.165]   \n",
      "                                                                                       \r"
     ]
    },
    {
     "name": "stdout",
     "output_type": "stream",
     "text": [
      "End of Epoch 26, Train Loss: 0.1572320421797816, Train Accuracy: 93.99111111111111%, Val Loss: 0.190920957001084, Val Accuracy: 93.28%\n"
     ]
    },
    {
     "name": "stderr",
     "output_type": "stream",
     "text": [
      "Epoch 27/100: 100%|██████████| 352/352 [00:03<00:00, 92.58it/s, accuracy=94.1, loss=0.322] \n",
      "                                                                                       \r"
     ]
    },
    {
     "name": "stdout",
     "output_type": "stream",
     "text": [
      "End of Epoch 27, Train Loss: 0.15580377440941942, Train Accuracy: 94.09333333333333%, Val Loss: 0.4333098765967761, Val Accuracy: 92.9%\n"
     ]
    },
    {
     "name": "stderr",
     "output_type": "stream",
     "text": [
      "Epoch 28/100: 100%|██████████| 352/352 [00:03<00:00, 92.09it/s, accuracy=94.2, loss=0.197] \n",
      "                                                                                       \r"
     ]
    },
    {
     "name": "stdout",
     "output_type": "stream",
     "text": [
      "End of Epoch 28, Train Loss: 0.15228904886382885, Train Accuracy: 94.23555555555555%, Val Loss: 0.20559954390687457, Val Accuracy: 93.27333333333333%\n"
     ]
    },
    {
     "name": "stderr",
     "output_type": "stream",
     "text": [
      "Epoch 29/100: 100%|██████████| 352/352 [00:03<00:00, 92.04it/s, accuracy=94.3, loss=0.173] \n",
      "                                                                                       \r"
     ]
    },
    {
     "name": "stdout",
     "output_type": "stream",
     "text": [
      "End of Epoch 29, Train Loss: 0.14847968209704215, Train Accuracy: 94.25777777777778%, Val Loss: 0.19507089446661835, Val Accuracy: 93.18%\n"
     ]
    },
    {
     "name": "stderr",
     "output_type": "stream",
     "text": [
      "Epoch 30/100: 100%|██████████| 352/352 [00:03<00:00, 92.93it/s, accuracy=94.5, loss=0.112] \n",
      "                                                                                       \r"
     ]
    },
    {
     "name": "stdout",
     "output_type": "stream",
     "text": [
      "End of Epoch 30, Train Loss: 0.1475314030910588, Train Accuracy: 94.48222222222222%, Val Loss: 0.22057090598647877, Val Accuracy: 93.41333333333333%\n"
     ]
    },
    {
     "name": "stderr",
     "output_type": "stream",
     "text": [
      "Epoch 31/100: 100%|██████████| 352/352 [00:03<00:00, 93.30it/s, accuracy=94.7, loss=0.125] \n",
      "                                                                                       \r"
     ]
    },
    {
     "name": "stdout",
     "output_type": "stream",
     "text": [
      "End of Epoch 31, Train Loss: 0.14129909020001916, Train Accuracy: 94.66444444444444%, Val Loss: 0.19199557176207083, Val Accuracy: 93.2%\n"
     ]
    },
    {
     "name": "stderr",
     "output_type": "stream",
     "text": [
      "Epoch 32/100: 100%|██████████| 352/352 [00:03<00:00, 92.65it/s, accuracy=94.6, loss=0.147] \n",
      "                                                                                       \r"
     ]
    },
    {
     "name": "stdout",
     "output_type": "stream",
     "text": [
      "End of Epoch 32, Train Loss: 0.14192512110722336, Train Accuracy: 94.63777777777777%, Val Loss: 0.19777932497909514, Val Accuracy: 93.10666666666667%\n"
     ]
    },
    {
     "name": "stderr",
     "output_type": "stream",
     "text": [
      "Epoch 33/100: 100%|██████████| 352/352 [00:03<00:00, 92.72it/s, accuracy=94.6, loss=0.164] \n",
      "                                                                                      \r"
     ]
    },
    {
     "name": "stdout",
     "output_type": "stream",
     "text": [
      "End of Epoch 33, Train Loss: 0.1402831275799227, Train Accuracy: 94.6288888888889%, Val Loss: 0.19791848591323627, Val Accuracy: 93.01333333333334%\n"
     ]
    },
    {
     "name": "stderr",
     "output_type": "stream",
     "text": [
      "Epoch 34/100: 100%|██████████| 352/352 [00:03<00:00, 92.09it/s, accuracy=94.8, loss=0.0887]\n",
      "                                                                                       \r"
     ]
    },
    {
     "name": "stdout",
     "output_type": "stream",
     "text": [
      "End of Epoch 34, Train Loss: 0.13592510551891543, Train Accuracy: 94.83333333333333%, Val Loss: 0.24754423989077745, Val Accuracy: 93.22666666666667%\n"
     ]
    },
    {
     "name": "stderr",
     "output_type": "stream",
     "text": [
      "Epoch 35/100: 100%|██████████| 352/352 [00:03<00:00, 92.57it/s, accuracy=94.8, loss=0.108] \n",
      "                                                                                      \r"
     ]
    },
    {
     "name": "stdout",
     "output_type": "stream",
     "text": [
      "End of Epoch 35, Train Loss: 0.13740002115214753, Train Accuracy: 94.81111111111112%, Val Loss: 0.20634121845586825, Val Accuracy: 93.02666666666667%\n"
     ]
    },
    {
     "name": "stderr",
     "output_type": "stream",
     "text": [
      "Epoch 36/100: 100%|██████████| 352/352 [00:03<00:00, 91.43it/s, accuracy=95, loss=0.167]   \n",
      "                                                                                       \r"
     ]
    },
    {
     "name": "stdout",
     "output_type": "stream",
     "text": [
      "End of Epoch 36, Train Loss: 0.1326114023950967, Train Accuracy: 95.04888888888888%, Val Loss: 0.2432516385501219, Val Accuracy: 93.16%\n"
     ]
    },
    {
     "name": "stderr",
     "output_type": "stream",
     "text": [
      "Epoch 37/100: 100%|██████████| 352/352 [00:03<00:00, 93.19it/s, accuracy=94.9, loss=0.0819]\n",
      "                                                                                       \r"
     ]
    },
    {
     "name": "stdout",
     "output_type": "stream",
     "text": [
      "End of Epoch 37, Train Loss: 0.1328159320612692, Train Accuracy: 94.92666666666666%, Val Loss: 0.24523972126386934, Val Accuracy: 93.01333333333334%\n"
     ]
    },
    {
     "name": "stderr",
     "output_type": "stream",
     "text": [
      "Epoch 38/100: 100%|██████████| 352/352 [00:03<00:00, 91.11it/s, accuracy=95.1, loss=0.322] \n",
      "                                                                                       \r"
     ]
    },
    {
     "name": "stdout",
     "output_type": "stream",
     "text": [
      "End of Epoch 38, Train Loss: 0.12856013459068807, Train Accuracy: 95.09777777777778%, Val Loss: 0.2383156629058264, Val Accuracy: 92.64%\n"
     ]
    },
    {
     "name": "stderr",
     "output_type": "stream",
     "text": [
      "Epoch 39/100: 100%|██████████| 352/352 [00:03<00:00, 93.05it/s, accuracy=95.2, loss=0.106] \n",
      "                                                                                      \r"
     ]
    },
    {
     "name": "stdout",
     "output_type": "stream",
     "text": [
      "End of Epoch 39, Train Loss: 0.1265922507736832, Train Accuracy: 95.18666666666667%, Val Loss: 0.25439510102999413, Val Accuracy: 93.26666666666667%\n"
     ]
    },
    {
     "name": "stderr",
     "output_type": "stream",
     "text": [
      "Epoch 40/100: 100%|██████████| 352/352 [00:03<00:00, 92.96it/s, accuracy=95.4, loss=0.184] \n",
      "                                                                                       \r"
     ]
    },
    {
     "name": "stdout",
     "output_type": "stream",
     "text": [
      "End of Epoch 40, Train Loss: 0.12163881712000478, Train Accuracy: 95.44888888888889%, Val Loss: 0.21679380602376946, Val Accuracy: 93.26%\n"
     ]
    },
    {
     "name": "stderr",
     "output_type": "stream",
     "text": [
      "Epoch 41/100: 100%|██████████| 352/352 [00:03<00:00, 93.37it/s, accuracy=95.1, loss=0.0827]\n",
      "                                                                                       \r"
     ]
    },
    {
     "name": "stdout",
     "output_type": "stream",
     "text": [
      "End of Epoch 41, Train Loss: 0.12659449807622217, Train Accuracy: 95.10888888888888%, Val Loss: 0.20772234400955297, Val Accuracy: 93.29333333333334%\n"
     ]
    },
    {
     "name": "stderr",
     "output_type": "stream",
     "text": [
      "Epoch 42/100: 100%|██████████| 352/352 [00:03<00:00, 93.51it/s, accuracy=95.3, loss=0.0542]\n",
      "                                                                                       \r"
     ]
    },
    {
     "name": "stdout",
     "output_type": "stream",
     "text": [
      "End of Epoch 42, Train Loss: 0.12402465735265816, Train Accuracy: 95.30888888888889%, Val Loss: 0.20208323263894704, Val Accuracy: 93.22%\n"
     ]
    },
    {
     "name": "stderr",
     "output_type": "stream",
     "text": [
      "Epoch 43/100: 100%|██████████| 352/352 [00:03<00:00, 93.00it/s, accuracy=95.6, loss=0.0619]\n",
      "                                                                                       \r"
     ]
    },
    {
     "name": "stdout",
     "output_type": "stream",
     "text": [
      "End of Epoch 43, Train Loss: 0.12075296618488872, Train Accuracy: 95.57555555555555%, Val Loss: 0.19931072293449256, Val Accuracy: 93.47333333333333%\n"
     ]
    },
    {
     "name": "stderr",
     "output_type": "stream",
     "text": [
      "Epoch 44/100: 100%|██████████| 352/352 [00:03<00:00, 91.63it/s, accuracy=95.6, loss=0.132] \n",
      "                                                                                       \r"
     ]
    },
    {
     "name": "stdout",
     "output_type": "stream",
     "text": [
      "End of Epoch 44, Train Loss: 0.11730318142905492, Train Accuracy: 95.55111111111111%, Val Loss: 0.2149845375284805, Val Accuracy: 93.02666666666667%\n"
     ]
    },
    {
     "name": "stderr",
     "output_type": "stream",
     "text": [
      "Epoch 45/100: 100%|██████████| 352/352 [00:03<00:00, 93.49it/s, accuracy=95.5, loss=0.0839]\n",
      "                                                                                       \r"
     ]
    },
    {
     "name": "stdout",
     "output_type": "stream",
     "text": [
      "End of Epoch 45, Train Loss: 0.11817105009686202, Train Accuracy: 95.53555555555556%, Val Loss: 0.2061664652458187, Val Accuracy: 93.39333333333333%\n"
     ]
    },
    {
     "name": "stderr",
     "output_type": "stream",
     "text": [
      "Epoch 46/100: 100%|██████████| 352/352 [00:03<00:00, 92.25it/s, accuracy=95.9, loss=0.0351]\n",
      "                                                                                       \r"
     ]
    },
    {
     "name": "stdout",
     "output_type": "stream",
     "text": [
      "End of Epoch 46, Train Loss: 0.11181551710681313, Train Accuracy: 95.90666666666667%, Val Loss: 0.19942607512792287, Val Accuracy: 93.50666666666666%\n"
     ]
    },
    {
     "name": "stderr",
     "output_type": "stream",
     "text": [
      "Epoch 47/100: 100%|██████████| 352/352 [00:03<00:00, 92.55it/s, accuracy=95.7, loss=0.0709]\n",
      "                                                                                       \r"
     ]
    },
    {
     "name": "stdout",
     "output_type": "stream",
     "text": [
      "End of Epoch 47, Train Loss: 0.1125203724950552, Train Accuracy: 95.71555555555555%, Val Loss: 0.21164919262341522, Val Accuracy: 92.94666666666667%\n"
     ]
    },
    {
     "name": "stderr",
     "output_type": "stream",
     "text": [
      "Epoch 48/100: 100%|██████████| 352/352 [00:03<00:00, 93.53it/s, accuracy=95.9, loss=0.234] \n",
      "                                                                                       \r"
     ]
    },
    {
     "name": "stdout",
     "output_type": "stream",
     "text": [
      "End of Epoch 48, Train Loss: 0.11243494576245378, Train Accuracy: 95.86222222222223%, Val Loss: 0.21226826502736343, Val Accuracy: 93.48666666666666%\n"
     ]
    },
    {
     "name": "stderr",
     "output_type": "stream",
     "text": [
      "Epoch 49/100: 100%|██████████| 352/352 [00:03<00:00, 91.68it/s, accuracy=95.7, loss=0.139] \n",
      "                                                                                       \r"
     ]
    },
    {
     "name": "stdout",
     "output_type": "stream",
     "text": [
      "End of Epoch 49, Train Loss: 0.11262734769843519, Train Accuracy: 95.71333333333334%, Val Loss: 0.21078557154889835, Val Accuracy: 93.33333333333333%\n"
     ]
    },
    {
     "name": "stderr",
     "output_type": "stream",
     "text": [
      "Epoch 50/100: 100%|██████████| 352/352 [00:03<00:00, 91.72it/s, accuracy=95.9, loss=0.141] \n",
      "                                                                                       \r"
     ]
    },
    {
     "name": "stdout",
     "output_type": "stream",
     "text": [
      "End of Epoch 50, Train Loss: 0.10601263625589623, Train Accuracy: 95.94666666666667%, Val Loss: 0.20282884024209896, Val Accuracy: 93.43333333333334%\n"
     ]
    },
    {
     "name": "stderr",
     "output_type": "stream",
     "text": [
      "Epoch 51/100: 100%|██████████| 352/352 [00:03<00:00, 90.80it/s, accuracy=95.8, loss=0.0791]\n",
      "                                                                                       \r"
     ]
    },
    {
     "name": "stdout",
     "output_type": "stream",
     "text": [
      "End of Epoch 51, Train Loss: 0.11162611067464406, Train Accuracy: 95.84222222222222%, Val Loss: 0.20160377713835845, Val Accuracy: 93.42666666666666%\n"
     ]
    },
    {
     "name": "stderr",
     "output_type": "stream",
     "text": [
      "Epoch 52/100: 100%|██████████| 352/352 [00:03<00:00, 92.87it/s, accuracy=96, loss=0.064]   \n",
      "                                                                                       \r"
     ]
    },
    {
     "name": "stdout",
     "output_type": "stream",
     "text": [
      "End of Epoch 52, Train Loss: 0.10527013178216293, Train Accuracy: 95.96222222222222%, Val Loss: 0.2608768619533818, Val Accuracy: 93.53333333333333%\n"
     ]
    },
    {
     "name": "stderr",
     "output_type": "stream",
     "text": [
      "Epoch 53/100: 100%|██████████| 352/352 [00:03<00:00, 93.28it/s, accuracy=96.2, loss=0.0642]\n",
      "                                                                                       \r"
     ]
    },
    {
     "name": "stdout",
     "output_type": "stream",
     "text": [
      "End of Epoch 53, Train Loss: 0.10317522846691479, Train Accuracy: 96.18%, Val Loss: 0.2614699919092453, Val Accuracy: 93.16%\n"
     ]
    },
    {
     "name": "stderr",
     "output_type": "stream",
     "text": [
      "Epoch 54/100: 100%|██████████| 352/352 [00:03<00:00, 92.40it/s, accuracy=95.5, loss=0.119] \n",
      "                                                                                       \r"
     ]
    },
    {
     "name": "stdout",
     "output_type": "stream",
     "text": [
      "End of Epoch 54, Train Loss: 0.11998264883136885, Train Accuracy: 95.50444444444445%, Val Loss: 0.2003850088596849, Val Accuracy: 93.51333333333334%\n"
     ]
    },
    {
     "name": "stderr",
     "output_type": "stream",
     "text": [
      "Epoch 55/100: 100%|██████████| 352/352 [00:03<00:00, 93.79it/s, accuracy=95.9, loss=0.136] \n",
      "                                                                                       \r"
     ]
    },
    {
     "name": "stdout",
     "output_type": "stream",
     "text": [
      "End of Epoch 55, Train Loss: 0.10719794914951887, Train Accuracy: 95.92666666666666%, Val Loss: 0.20534382192260128, Val Accuracy: 93.82666666666667%\n"
     ]
    },
    {
     "name": "stderr",
     "output_type": "stream",
     "text": [
      "Epoch 56/100: 100%|██████████| 352/352 [00:03<00:00, 91.14it/s, accuracy=96.1, loss=0.165] \n",
      "                                                                                       \r"
     ]
    },
    {
     "name": "stdout",
     "output_type": "stream",
     "text": [
      "End of Epoch 56, Train Loss: 0.10208876442629844, Train Accuracy: 96.13555555555556%, Val Loss: 0.22353518596392566, Val Accuracy: 93.4%\n"
     ]
    },
    {
     "name": "stderr",
     "output_type": "stream",
     "text": [
      "Epoch 57/100: 100%|██████████| 352/352 [00:03<00:00, 93.36it/s, accuracy=96.3, loss=0.188] \n",
      "                                                                                       \r"
     ]
    },
    {
     "name": "stdout",
     "output_type": "stream",
     "text": [
      "End of Epoch 57, Train Loss: 0.09912354444598102, Train Accuracy: 96.28666666666666%, Val Loss: 0.21686818311780187, Val Accuracy: 93.52%\n"
     ]
    },
    {
     "name": "stderr",
     "output_type": "stream",
     "text": [
      "Epoch 58/100: 100%|██████████| 352/352 [00:03<00:00, 92.73it/s, accuracy=96.3, loss=0.0673]\n",
      "                                                                                       \r"
     ]
    },
    {
     "name": "stdout",
     "output_type": "stream",
     "text": [
      "End of Epoch 58, Train Loss: 0.09871197897221216, Train Accuracy: 96.32888888888888%, Val Loss: 0.2151724950931335, Val Accuracy: 93.44%\n"
     ]
    },
    {
     "name": "stderr",
     "output_type": "stream",
     "text": [
      "Epoch 59/100: 100%|██████████| 352/352 [00:03<00:00, 93.17it/s, accuracy=96.2, loss=0.134] \n",
      "                                                                                       \r"
     ]
    },
    {
     "name": "stdout",
     "output_type": "stream",
     "text": [
      "End of Epoch 59, Train Loss: 0.10083864900992591, Train Accuracy: 96.17333333333333%, Val Loss: 0.2117872705083277, Val Accuracy: 93.5%\n"
     ]
    },
    {
     "name": "stderr",
     "output_type": "stream",
     "text": [
      "Epoch 60/100: 100%|██████████| 352/352 [00:03<00:00, 93.01it/s, accuracy=96.3, loss=0.049] \n",
      "                                                                                       \r"
     ]
    },
    {
     "name": "stdout",
     "output_type": "stream",
     "text": [
      "End of Epoch 60, Train Loss: 0.09787899884395301, Train Accuracy: 96.29777777777778%, Val Loss: 0.2218720589022515, Val Accuracy: 93.19333333333333%\n"
     ]
    },
    {
     "name": "stderr",
     "output_type": "stream",
     "text": [
      "Epoch 61/100: 100%|██████████| 352/352 [00:03<00:00, 92.75it/s, accuracy=96.3, loss=0.169] \n",
      "                                                                                       \r"
     ]
    },
    {
     "name": "stdout",
     "output_type": "stream",
     "text": [
      "End of Epoch 61, Train Loss: 0.09742634963582862, Train Accuracy: 96.25777777777778%, Val Loss: 0.20991433269770468, Val Accuracy: 93.86%\n"
     ]
    },
    {
     "name": "stderr",
     "output_type": "stream",
     "text": [
      "Epoch 62/100: 100%|██████████| 352/352 [00:03<00:00, 92.69it/s, accuracy=96.4, loss=0.132] \n",
      "                                                                                       \r"
     ]
    },
    {
     "name": "stdout",
     "output_type": "stream",
     "text": [
      "End of Epoch 62, Train Loss: 0.09760477066844363, Train Accuracy: 96.36%, Val Loss: 0.21404020216757969, Val Accuracy: 93.62666666666667%\n"
     ]
    },
    {
     "name": "stderr",
     "output_type": "stream",
     "text": [
      "Epoch 63/100: 100%|██████████| 352/352 [00:03<00:00, 92.43it/s, accuracy=96.3, loss=0.0803]\n",
      "                                                                                       \r"
     ]
    },
    {
     "name": "stdout",
     "output_type": "stream",
     "text": [
      "End of Epoch 63, Train Loss: 0.09834413756404749, Train Accuracy: 96.32666666666667%, Val Loss: 0.21909984169622598, Val Accuracy: 93.73333333333333%\n"
     ]
    },
    {
     "name": "stderr",
     "output_type": "stream",
     "text": [
      "Epoch 64/100: 100%|██████████| 352/352 [00:03<00:00, 92.54it/s, accuracy=96.6, loss=0.0632]\n",
      "                                                                                       \r"
     ]
    },
    {
     "name": "stdout",
     "output_type": "stream",
     "text": [
      "End of Epoch 64, Train Loss: 0.09225360284009101, Train Accuracy: 96.63555555555556%, Val Loss: 0.21091078606955074, Val Accuracy: 93.42666666666666%\n"
     ]
    },
    {
     "name": "stderr",
     "output_type": "stream",
     "text": [
      "Epoch 65/100: 100%|██████████| 352/352 [00:03<00:00, 92.65it/s, accuracy=96.4, loss=0.0808]\n",
      "                                                                                       \r"
     ]
    },
    {
     "name": "stdout",
     "output_type": "stream",
     "text": [
      "End of Epoch 65, Train Loss: 0.09128602801038968, Train Accuracy: 96.41777777777777%, Val Loss: 0.2093818924563416, Val Accuracy: 93.50666666666666%\n"
     ]
    },
    {
     "name": "stderr",
     "output_type": "stream",
     "text": [
      "Epoch 66/100: 100%|██████████| 352/352 [00:03<00:00, 93.33it/s, accuracy=96.5, loss=0.131] \n",
      "                                                                                       \r"
     ]
    },
    {
     "name": "stdout",
     "output_type": "stream",
     "text": [
      "End of Epoch 66, Train Loss: 0.09130984090734273, Train Accuracy: 96.54%, Val Loss: 0.20381403575509283, Val Accuracy: 93.8%\n"
     ]
    },
    {
     "name": "stderr",
     "output_type": "stream",
     "text": [
      "Epoch 67/100: 100%|██████████| 352/352 [00:03<00:00, 93.57it/s, accuracy=96.6, loss=0.0496]\n",
      "                                                                                       \r"
     ]
    },
    {
     "name": "stdout",
     "output_type": "stream",
     "text": [
      "End of Epoch 67, Train Loss: 0.08953078058865768, Train Accuracy: 96.59555555555555%, Val Loss: 0.23058169736069137, Val Accuracy: 93.23333333333333%\n"
     ]
    },
    {
     "name": "stderr",
     "output_type": "stream",
     "text": [
      "Epoch 68/100: 100%|██████████| 352/352 [00:03<00:00, 92.74it/s, accuracy=96.7, loss=0.0565]\n",
      "                                                                                       \r"
     ]
    },
    {
     "name": "stdout",
     "output_type": "stream",
     "text": [
      "End of Epoch 68, Train Loss: 0.09195661905158142, Train Accuracy: 96.66222222222223%, Val Loss: 0.2122008934680183, Val Accuracy: 93.72%\n"
     ]
    },
    {
     "name": "stderr",
     "output_type": "stream",
     "text": [
      "Epoch 69/100: 100%|██████████| 352/352 [00:03<00:00, 91.96it/s, accuracy=95.8, loss=0.0638]\n",
      "                                                                                       \r"
     ]
    },
    {
     "name": "stdout",
     "output_type": "stream",
     "text": [
      "End of Epoch 69, Train Loss: 0.11357737275433134, Train Accuracy: 95.79333333333334%, Val Loss: 0.2106269921602334, Val Accuracy: 93.64666666666666%\n"
     ]
    },
    {
     "name": "stderr",
     "output_type": "stream",
     "text": [
      "Epoch 70/100: 100%|██████████| 352/352 [00:03<00:00, 92.65it/s, accuracy=96.5, loss=0.0866]\n",
      "                                                                                       \r"
     ]
    },
    {
     "name": "stdout",
     "output_type": "stream",
     "text": [
      "End of Epoch 70, Train Loss: 0.09068667793392458, Train Accuracy: 96.53333333333333%, Val Loss: 0.21405485057729787, Val Accuracy: 93.64%\n"
     ]
    },
    {
     "name": "stderr",
     "output_type": "stream",
     "text": [
      "Epoch 71/100: 100%|██████████| 352/352 [00:03<00:00, 92.07it/s, accuracy=96.8, loss=0.0756]\n",
      "                                                                                       \r"
     ]
    },
    {
     "name": "stdout",
     "output_type": "stream",
     "text": [
      "End of Epoch 71, Train Loss: 0.08534956321289594, Train Accuracy: 96.78222222222222%, Val Loss: 0.21930744255877146, Val Accuracy: 93.59333333333333%\n"
     ]
    },
    {
     "name": "stderr",
     "output_type": "stream",
     "text": [
      "Epoch 72/100: 100%|██████████| 352/352 [00:03<00:00, 92.29it/s, accuracy=96.8, loss=0.0525]\n",
      "                                                                                       \r"
     ]
    },
    {
     "name": "stdout",
     "output_type": "stream",
     "text": [
      "End of Epoch 72, Train Loss: 0.08656488147310236, Train Accuracy: 96.75555555555556%, Val Loss: 0.219688623101782, Val Accuracy: 93.6%\n"
     ]
    },
    {
     "name": "stderr",
     "output_type": "stream",
     "text": [
      "Epoch 73/100: 100%|██████████| 352/352 [00:03<00:00, 92.68it/s, accuracy=96.8, loss=0.038] \n",
      "                                                                                       \r"
     ]
    },
    {
     "name": "stdout",
     "output_type": "stream",
     "text": [
      "End of Epoch 73, Train Loss: 0.0848022575056265, Train Accuracy: 96.7911111111111%, Val Loss: 0.3130157675783513, Val Accuracy: 93.36666666666666%\n"
     ]
    },
    {
     "name": "stderr",
     "output_type": "stream",
     "text": [
      "Epoch 74/100: 100%|██████████| 352/352 [00:03<00:00, 92.12it/s, accuracy=96.8, loss=0.112] \n",
      "                                                                                       \r"
     ]
    },
    {
     "name": "stdout",
     "output_type": "stream",
     "text": [
      "End of Epoch 74, Train Loss: 0.08726252362513068, Train Accuracy: 96.82444444444444%, Val Loss: 0.3132263475681766, Val Accuracy: 93.28%\n"
     ]
    },
    {
     "name": "stderr",
     "output_type": "stream",
     "text": [
      "Epoch 75/100: 100%|██████████| 352/352 [00:03<00:00, 92.36it/s, accuracy=96.8, loss=0.0804]\n",
      "                                                                                       \r"
     ]
    },
    {
     "name": "stdout",
     "output_type": "stream",
     "text": [
      "End of Epoch 75, Train Loss: 0.08538601199821146, Train Accuracy: 96.79777777777778%, Val Loss: 0.5395906671439692, Val Accuracy: 93.63333333333334%\n"
     ]
    },
    {
     "name": "stderr",
     "output_type": "stream",
     "text": [
      "Epoch 76/100: 100%|██████████| 352/352 [00:03<00:00, 92.72it/s, accuracy=96.8, loss=0.0621]\n",
      "                                                                                       \r"
     ]
    },
    {
     "name": "stdout",
     "output_type": "stream",
     "text": [
      "End of Epoch 76, Train Loss: 0.08385142585558986, Train Accuracy: 96.84%, Val Loss: 0.2310147837309514, Val Accuracy: 93.6%\n"
     ]
    },
    {
     "name": "stderr",
     "output_type": "stream",
     "text": [
      "Epoch 77/100: 100%|██████████| 352/352 [00:03<00:00, 94.06it/s, accuracy=96.9, loss=0.156] \n",
      "                                                                                       \r"
     ]
    },
    {
     "name": "stdout",
     "output_type": "stream",
     "text": [
      "End of Epoch 77, Train Loss: 0.08485910458892415, Train Accuracy: 96.88444444444444%, Val Loss: 0.32142899229617444, Val Accuracy: 93.21333333333334%\n"
     ]
    },
    {
     "name": "stderr",
     "output_type": "stream",
     "text": [
      "Epoch 78/100: 100%|██████████| 352/352 [00:03<00:00, 91.51it/s, accuracy=97, loss=0.121]   \n",
      "                                                                                       \r"
     ]
    },
    {
     "name": "stdout",
     "output_type": "stream",
     "text": [
      "End of Epoch 78, Train Loss: 0.07914309356287545, Train Accuracy: 97.03333333333333%, Val Loss: 0.29231884646213663, Val Accuracy: 93.30666666666667%\n"
     ]
    },
    {
     "name": "stderr",
     "output_type": "stream",
     "text": [
      "Epoch 79/100: 100%|██████████| 352/352 [00:03<00:00, 92.04it/s, accuracy=96.8, loss=0.0788]\n",
      "                                                                                       \r"
     ]
    },
    {
     "name": "stdout",
     "output_type": "stream",
     "text": [
      "End of Epoch 79, Train Loss: 0.08409008753634142, Train Accuracy: 96.84666666666666%, Val Loss: 0.2177085891618567, Val Accuracy: 93.6%\n"
     ]
    },
    {
     "name": "stderr",
     "output_type": "stream",
     "text": [
      "Epoch 80/100: 100%|██████████| 352/352 [00:03<00:00, 92.80it/s, accuracy=96.9, loss=0.0495]\n",
      "                                                                                       \r"
     ]
    },
    {
     "name": "stdout",
     "output_type": "stream",
     "text": [
      "End of Epoch 80, Train Loss: 0.08693011230207048, Train Accuracy: 96.85333333333334%, Val Loss: 0.22036907218901788, Val Accuracy: 93.60666666666667%\n"
     ]
    },
    {
     "name": "stderr",
     "output_type": "stream",
     "text": [
      "Epoch 81/100: 100%|██████████| 352/352 [00:03<00:00, 92.45it/s, accuracy=96.8, loss=0.226] \n",
      "                                                                                       \r"
     ]
    },
    {
     "name": "stdout",
     "output_type": "stream",
     "text": [
      "End of Epoch 81, Train Loss: 0.08624769090568986, Train Accuracy: 96.84444444444445%, Val Loss: 0.2678226754385031, Val Accuracy: 93.44%\n"
     ]
    },
    {
     "name": "stderr",
     "output_type": "stream",
     "text": [
      "Epoch 82/100: 100%|██████████| 352/352 [00:03<00:00, 92.13it/s, accuracy=97, loss=0.0499]  \n",
      "                                                                                       \r"
     ]
    },
    {
     "name": "stdout",
     "output_type": "stream",
     "text": [
      "End of Epoch 82, Train Loss: 0.08244304428808391, Train Accuracy: 96.99777777777778%, Val Loss: 0.21538572613213022, Val Accuracy: 93.63333333333334%\n"
     ]
    },
    {
     "name": "stderr",
     "output_type": "stream",
     "text": [
      "Epoch 83/100: 100%|██████████| 352/352 [00:03<00:00, 92.39it/s, accuracy=96.9, loss=0.0685]\n",
      "                                                                                       \r"
     ]
    },
    {
     "name": "stdout",
     "output_type": "stream",
     "text": [
      "End of Epoch 83, Train Loss: 0.08158412424646402, Train Accuracy: 96.92222222222222%, Val Loss: 0.23991176688064964, Val Accuracy: 93.36666666666666%\n"
     ]
    },
    {
     "name": "stderr",
     "output_type": "stream",
     "text": [
      "Epoch 84/100: 100%|██████████| 352/352 [00:03<00:00, 93.46it/s, accuracy=97.1, loss=0.0526]\n",
      "                                                                                       \r"
     ]
    },
    {
     "name": "stdout",
     "output_type": "stream",
     "text": [
      "End of Epoch 84, Train Loss: 0.07832244830206037, Train Accuracy: 97.08444444444444%, Val Loss: 0.21807681939612, Val Accuracy: 93.47333333333333%\n"
     ]
    },
    {
     "name": "stderr",
     "output_type": "stream",
     "text": [
      "Epoch 85/100: 100%|██████████| 352/352 [00:03<00:00, 93.78it/s, accuracy=97.1, loss=0.153] \n",
      "                                                                                       \r"
     ]
    },
    {
     "name": "stdout",
     "output_type": "stream",
     "text": [
      "End of Epoch 85, Train Loss: 0.07609543801729822, Train Accuracy: 97.13777777777777%, Val Loss: 0.22686263577917876, Val Accuracy: 93.60666666666667%\n"
     ]
    },
    {
     "name": "stderr",
     "output_type": "stream",
     "text": [
      "Epoch 86/100: 100%|██████████| 352/352 [00:03<00:00, 91.85it/s, accuracy=96.9, loss=0.0904]\n",
      "                                                                                       \r"
     ]
    },
    {
     "name": "stdout",
     "output_type": "stream",
     "text": [
      "End of Epoch 86, Train Loss: 0.0796936225484718, Train Accuracy: 96.93333333333334%, Val Loss: 0.23062133159235879, Val Accuracy: 93.33333333333333%\n"
     ]
    },
    {
     "name": "stderr",
     "output_type": "stream",
     "text": [
      "Epoch 87/100: 100%|██████████| 352/352 [00:03<00:00, 92.82it/s, accuracy=97.2, loss=0.0496]\n",
      "                                                                                       \r"
     ]
    },
    {
     "name": "stdout",
     "output_type": "stream",
     "text": [
      "End of Epoch 87, Train Loss: 0.07567883762848479, Train Accuracy: 97.22888888888889%, Val Loss: 0.22676130437876207, Val Accuracy: 93.53333333333333%\n"
     ]
    },
    {
     "name": "stderr",
     "output_type": "stream",
     "text": [
      "Epoch 88/100: 100%|██████████| 352/352 [00:03<00:00, 92.62it/s, accuracy=97.3, loss=0.157] \n",
      "                                                                                       \r"
     ]
    },
    {
     "name": "stdout",
     "output_type": "stream",
     "text": [
      "End of Epoch 88, Train Loss: 0.07588590823897076, Train Accuracy: 97.26222222222222%, Val Loss: 0.3694679263537213, Val Accuracy: 93.73333333333333%\n"
     ]
    },
    {
     "name": "stderr",
     "output_type": "stream",
     "text": [
      "Epoch 89/100: 100%|██████████| 352/352 [00:03<00:00, 91.72it/s, accuracy=97, loss=0.0416]  \n",
      "                                                                                       \r"
     ]
    },
    {
     "name": "stdout",
     "output_type": "stream",
     "text": [
      "End of Epoch 89, Train Loss: 0.0801902438159397, Train Accuracy: 97.02222222222223%, Val Loss: 0.2482242016595299, Val Accuracy: 93.47333333333333%\n"
     ]
    },
    {
     "name": "stderr",
     "output_type": "stream",
     "text": [
      "Epoch 90/100: 100%|██████████| 352/352 [00:03<00:00, 92.05it/s, accuracy=97.3, loss=0.0297]\n",
      "                                                                                       \r"
     ]
    },
    {
     "name": "stdout",
     "output_type": "stream",
     "text": [
      "End of Epoch 90, Train Loss: 0.07458202459912916, Train Accuracy: 97.28222222222222%, Val Loss: 0.2754202879397041, Val Accuracy: 93.74%\n"
     ]
    },
    {
     "name": "stderr",
     "output_type": "stream",
     "text": [
      "Epoch 91/100: 100%|██████████| 352/352 [00:03<00:00, 91.91it/s, accuracy=97.2, loss=0.0382]\n",
      "                                                                                       \r"
     ]
    },
    {
     "name": "stdout",
     "output_type": "stream",
     "text": [
      "End of Epoch 91, Train Loss: 0.07637435163434764, Train Accuracy: 97.21555555555555%, Val Loss: 0.5146556714139248, Val Accuracy: 93.64666666666666%\n"
     ]
    },
    {
     "name": "stderr",
     "output_type": "stream",
     "text": [
      "Epoch 92/100: 100%|██████████| 352/352 [00:03<00:00, 92.76it/s, accuracy=97.3, loss=0.0489]\n",
      "                                                                                       \r"
     ]
    },
    {
     "name": "stdout",
     "output_type": "stream",
     "text": [
      "End of Epoch 92, Train Loss: 0.07555836655030196, Train Accuracy: 97.27111111111111%, Val Loss: 0.4372662842526274, Val Accuracy: 93.64666666666666%\n"
     ]
    },
    {
     "name": "stderr",
     "output_type": "stream",
     "text": [
      "Epoch 93/100: 100%|██████████| 352/352 [00:03<00:00, 93.18it/s, accuracy=97.1, loss=0.0262]\n",
      "                                                                                       \r"
     ]
    },
    {
     "name": "stdout",
     "output_type": "stream",
     "text": [
      "End of Epoch 93, Train Loss: 0.07760521417367272, Train Accuracy: 97.1288888888889%, Val Loss: 0.45741274858177716, Val Accuracy: 93.68666666666667%\n"
     ]
    },
    {
     "name": "stderr",
     "output_type": "stream",
     "text": [
      "Epoch 94/100: 100%|██████████| 352/352 [00:03<00:00, 93.93it/s, accuracy=97.3, loss=0.0338]\n",
      "                                                                                       \r"
     ]
    },
    {
     "name": "stdout",
     "output_type": "stream",
     "text": [
      "End of Epoch 94, Train Loss: 0.07343677480292338, Train Accuracy: 97.25777777777778%, Val Loss: 0.32518167951602045, Val Accuracy: 93.61333333333333%\n"
     ]
    },
    {
     "name": "stderr",
     "output_type": "stream",
     "text": [
      "Epoch 95/100: 100%|██████████| 352/352 [00:03<00:00, 92.85it/s, accuracy=97.3, loss=0.106] \n",
      "                                                                                       \r"
     ]
    },
    {
     "name": "stdout",
     "output_type": "stream",
     "text": [
      "End of Epoch 95, Train Loss: 0.07377675645825961, Train Accuracy: 97.27777777777777%, Val Loss: 0.2341511094847978, Val Accuracy: 93.73333333333333%\n"
     ]
    },
    {
     "name": "stderr",
     "output_type": "stream",
     "text": [
      "Epoch 96/100: 100%|██████████| 352/352 [00:03<00:00, 92.08it/s, accuracy=97.4, loss=0.0161]\n",
      "                                                                                       \r"
     ]
    },
    {
     "name": "stdout",
     "output_type": "stream",
     "text": [
      "End of Epoch 96, Train Loss: 0.07282400667265226, Train Accuracy: 97.35333333333334%, Val Loss: 0.2668891785571636, Val Accuracy: 93.69333333333333%\n"
     ]
    },
    {
     "name": "stderr",
     "output_type": "stream",
     "text": [
      "Epoch 97/100: 100%|██████████| 352/352 [00:03<00:00, 92.96it/s, accuracy=97.5, loss=0.104] \n",
      "                                                                                       \r"
     ]
    },
    {
     "name": "stdout",
     "output_type": "stream",
     "text": [
      "End of Epoch 97, Train Loss: 0.0702723124440209, Train Accuracy: 97.46%, Val Loss: 0.24145132164328786, Val Accuracy: 93.57333333333334%\n"
     ]
    },
    {
     "name": "stderr",
     "output_type": "stream",
     "text": [
      "Epoch 98/100: 100%|██████████| 352/352 [00:03<00:00, 93.15it/s, accuracy=97.5, loss=0.0849] \n",
      "                                                                                       \r"
     ]
    },
    {
     "name": "stdout",
     "output_type": "stream",
     "text": [
      "End of Epoch 98, Train Loss: 0.06877456490871157, Train Accuracy: 97.45777777777778%, Val Loss: 0.2216630271809586, Val Accuracy: 93.52%\n"
     ]
    },
    {
     "name": "stderr",
     "output_type": "stream",
     "text": [
      "Epoch 99/100: 100%|██████████| 352/352 [00:03<00:00, 93.52it/s, accuracy=97.4, loss=0.0198]\n",
      "                                                                                       \r"
     ]
    },
    {
     "name": "stdout",
     "output_type": "stream",
     "text": [
      "End of Epoch 99, Train Loss: 0.07245937548842366, Train Accuracy: 97.4%, Val Loss: 0.23435143450811757, Val Accuracy: 93.57333333333334%\n"
     ]
    },
    {
     "name": "stderr",
     "output_type": "stream",
     "text": [
      "Epoch 100/100: 100%|██████████| 352/352 [00:03<00:00, 93.00it/s, accuracy=97.4, loss=0.0535]\n",
      "                                                                                       "
     ]
    },
    {
     "name": "stdout",
     "output_type": "stream",
     "text": [
      "End of Epoch 100, Train Loss: 0.06981351239664946, Train Accuracy: 97.42888888888889%, Val Loss: 0.23430060052265556, Val Accuracy: 93.52%\n"
     ]
    },
    {
     "name": "stderr",
     "output_type": "stream",
     "text": [
      "\r"
     ]
    }
   ],
   "source": [
    "# Обучение модели\n",
    "train_model(model, train_loader, val_loader, 100, device)"
   ]
  },
  {
   "cell_type": "code",
   "execution_count": 16,
   "metadata": {
    "execution": {
     "iopub.execute_input": "2024-05-11T14:17:59.471607Z",
     "iopub.status.busy": "2024-05-11T14:17:59.470760Z",
     "iopub.status.idle": "2024-05-11T14:25:35.480703Z",
     "shell.execute_reply": "2024-05-11T14:25:35.479554Z",
     "shell.execute_reply.started": "2024-05-11T14:17:59.471571Z"
    },
    "tags": []
   },
   "outputs": [
    {
     "name": "stderr",
     "output_type": "stream",
     "text": [
      "Epoch 1/100: 100%|██████████| 352/352 [00:03<00:00, 91.03it/s, accuracy=97.3, loss=0.0997] \n",
      "                                                                                       \r"
     ]
    },
    {
     "name": "stdout",
     "output_type": "stream",
     "text": [
      "End of Epoch 1, Train Loss: 0.07247184882130982, Train Accuracy: 97.32888888888888%, Val Loss: 0.22549595560689092, Val Accuracy: 93.62666666666667%\n"
     ]
    },
    {
     "name": "stderr",
     "output_type": "stream",
     "text": [
      "Epoch 2/100: 100%|██████████| 352/352 [00:03<00:00, 92.31it/s, accuracy=97.4, loss=0.00857]\n",
      "                                                                                       \r"
     ]
    },
    {
     "name": "stdout",
     "output_type": "stream",
     "text": [
      "End of Epoch 2, Train Loss: 0.07077343759539706, Train Accuracy: 97.40666666666667%, Val Loss: 0.23488176478293993, Val Accuracy: 93.83333333333333%\n"
     ]
    },
    {
     "name": "stderr",
     "output_type": "stream",
     "text": [
      "Epoch 3/100: 100%|██████████| 352/352 [00:03<00:00, 91.60it/s, accuracy=97.2, loss=0.0224]\n",
      "                                                                                       \r"
     ]
    },
    {
     "name": "stdout",
     "output_type": "stream",
     "text": [
      "End of Epoch 3, Train Loss: 0.07283770093239252, Train Accuracy: 97.24666666666667%, Val Loss: 0.226134219380506, Val Accuracy: 93.50666666666666%\n"
     ]
    },
    {
     "name": "stderr",
     "output_type": "stream",
     "text": [
      "Epoch 4/100: 100%|██████████| 352/352 [00:03<00:00, 92.76it/s, accuracy=97.6, loss=0.126]  \n",
      "                                                                                       \r"
     ]
    },
    {
     "name": "stdout",
     "output_type": "stream",
     "text": [
      "End of Epoch 4, Train Loss: 0.06635421141585209, Train Accuracy: 97.61111111111111%, Val Loss: 0.24100517999317686, Val Accuracy: 93.58%\n"
     ]
    },
    {
     "name": "stderr",
     "output_type": "stream",
     "text": [
      "Epoch 5/100: 100%|██████████| 352/352 [00:03<00:00, 93.83it/s, accuracy=97.4, loss=0.0591] \n",
      "                                                                                       \r"
     ]
    },
    {
     "name": "stdout",
     "output_type": "stream",
     "text": [
      "End of Epoch 5, Train Loss: 0.06827958009936, Train Accuracy: 97.36888888888889%, Val Loss: 0.2384439565367618, Val Accuracy: 93.66%\n"
     ]
    },
    {
     "name": "stderr",
     "output_type": "stream",
     "text": [
      "Epoch 6/100: 100%|██████████| 352/352 [00:03<00:00, 93.78it/s, accuracy=97.5, loss=0.0538] \n",
      "                                                                                       \r"
     ]
    },
    {
     "name": "stdout",
     "output_type": "stream",
     "text": [
      "End of Epoch 6, Train Loss: 0.06578477284214883, Train Accuracy: 97.53777777777778%, Val Loss: 0.24090580806388692, Val Accuracy: 93.53333333333333%\n"
     ]
    },
    {
     "name": "stderr",
     "output_type": "stream",
     "text": [
      "Epoch 7/100: 100%|██████████| 352/352 [00:03<00:00, 92.22it/s, accuracy=97.4, loss=0.0325] \n",
      "                                                                                       \r"
     ]
    },
    {
     "name": "stdout",
     "output_type": "stream",
     "text": [
      "End of Epoch 7, Train Loss: 0.07192281168483367, Train Accuracy: 97.39555555555556%, Val Loss: 0.3291452950403347, Val Accuracy: 93.58%\n"
     ]
    },
    {
     "name": "stderr",
     "output_type": "stream",
     "text": [
      "Epoch 8/100: 100%|██████████| 352/352 [00:03<00:00, 93.41it/s, accuracy=97.6, loss=0.0808] \n",
      "                                                                                       \r"
     ]
    },
    {
     "name": "stdout",
     "output_type": "stream",
     "text": [
      "End of Epoch 8, Train Loss: 0.06689784628608984, Train Accuracy: 97.5911111111111%, Val Loss: 0.5880356504566083, Val Accuracy: 93.50666666666666%\n"
     ]
    },
    {
     "name": "stderr",
     "output_type": "stream",
     "text": [
      "Epoch 9/100: 100%|██████████| 352/352 [00:03<00:00, 93.38it/s, accuracy=97.5, loss=0.0694]\n",
      "                                                                                       \r"
     ]
    },
    {
     "name": "stdout",
     "output_type": "stream",
     "text": [
      "End of Epoch 9, Train Loss: 0.06876991426476954, Train Accuracy: 97.5%, Val Loss: 0.28128119378145466, Val Accuracy: 93.54666666666667%\n"
     ]
    },
    {
     "name": "stderr",
     "output_type": "stream",
     "text": [
      "Epoch 10/100: 100%|██████████| 352/352 [00:03<00:00, 93.21it/s, accuracy=97.6, loss=0.0275] \n",
      "                                                                                       \r"
     ]
    },
    {
     "name": "stdout",
     "output_type": "stream",
     "text": [
      "End of Epoch 10, Train Loss: 0.06513509403025224, Train Accuracy: 97.59333333333333%, Val Loss: 0.24744326968566846, Val Accuracy: 93.31333333333333%\n"
     ]
    },
    {
     "name": "stderr",
     "output_type": "stream",
     "text": [
      "Epoch 11/100: 100%|██████████| 352/352 [00:03<00:00, 92.91it/s, accuracy=97.7, loss=0.0596] \n",
      "                                                                                       \r"
     ]
    },
    {
     "name": "stdout",
     "output_type": "stream",
     "text": [
      "End of Epoch 11, Train Loss: 0.06475035287042953, Train Accuracy: 97.70222222222222%, Val Loss: 0.24839316362167818, Val Accuracy: 93.45333333333333%\n"
     ]
    },
    {
     "name": "stderr",
     "output_type": "stream",
     "text": [
      "Epoch 12/100: 100%|██████████| 352/352 [00:03<00:00, 92.92it/s, accuracy=97.5, loss=0.0338]\n",
      "                                                                                       \r"
     ]
    },
    {
     "name": "stdout",
     "output_type": "stream",
     "text": [
      "End of Epoch 12, Train Loss: 0.06833195898798294, Train Accuracy: 97.4888888888889%, Val Loss: 0.2288885214760647, Val Accuracy: 93.52%\n"
     ]
    },
    {
     "name": "stderr",
     "output_type": "stream",
     "text": [
      "Epoch 13/100: 100%|██████████| 352/352 [00:03<00:00, 92.69it/s, accuracy=97.6, loss=0.0387]\n",
      "                                                                                       \r"
     ]
    },
    {
     "name": "stdout",
     "output_type": "stream",
     "text": [
      "End of Epoch 13, Train Loss: 0.06574499612510078, Train Accuracy: 97.57777777777778%, Val Loss: 0.23896996872657436, Val Accuracy: 93.60666666666667%\n"
     ]
    },
    {
     "name": "stderr",
     "output_type": "stream",
     "text": [
      "Epoch 14/100: 100%|██████████| 352/352 [00:03<00:00, 90.96it/s, accuracy=97.6, loss=0.0183]\n",
      "                                                                                       \r"
     ]
    },
    {
     "name": "stdout",
     "output_type": "stream",
     "text": [
      "End of Epoch 14, Train Loss: 0.06537118125230666, Train Accuracy: 97.64444444444445%, Val Loss: 0.24249178701538152, Val Accuracy: 93.64666666666666%\n"
     ]
    },
    {
     "name": "stderr",
     "output_type": "stream",
     "text": [
      "Epoch 15/100: 100%|██████████| 352/352 [00:03<00:00, 93.94it/s, accuracy=97.6, loss=0.0729] \n",
      "                                                                                       \r"
     ]
    },
    {
     "name": "stdout",
     "output_type": "stream",
     "text": [
      "End of Epoch 15, Train Loss: 0.06554943782446737, Train Accuracy: 97.57111111111111%, Val Loss: 0.23072566565568164, Val Accuracy: 93.77333333333333%\n"
     ]
    },
    {
     "name": "stderr",
     "output_type": "stream",
     "text": [
      "Epoch 16/100: 100%|██████████| 352/352 [00:03<00:00, 91.11it/s, accuracy=97.7, loss=0.22]   \n",
      "                                                                                       \r"
     ]
    },
    {
     "name": "stdout",
     "output_type": "stream",
     "text": [
      "End of Epoch 16, Train Loss: 0.06490994644330138, Train Accuracy: 97.67333333333333%, Val Loss: 0.23517039014121233, Val Accuracy: 93.85333333333334%\n"
     ]
    },
    {
     "name": "stderr",
     "output_type": "stream",
     "text": [
      "Epoch 17/100: 100%|██████████| 352/352 [00:03<00:00, 92.92it/s, accuracy=97.8, loss=0.126]  \n",
      "                                                                                       \r"
     ]
    },
    {
     "name": "stdout",
     "output_type": "stream",
     "text": [
      "End of Epoch 17, Train Loss: 0.06280185908491892, Train Accuracy: 97.76666666666667%, Val Loss: 0.24766932323701302, Val Accuracy: 93.7%\n"
     ]
    },
    {
     "name": "stderr",
     "output_type": "stream",
     "text": [
      "Epoch 18/100: 100%|██████████| 352/352 [00:03<00:00, 92.43it/s, accuracy=97.8, loss=0.223]  \n",
      "                                                                                       \r"
     ]
    },
    {
     "name": "stdout",
     "output_type": "stream",
     "text": [
      "End of Epoch 18, Train Loss: 0.062286954635055736, Train Accuracy: 97.76666666666667%, Val Loss: 0.25497740257720825, Val Accuracy: 93.5%\n"
     ]
    },
    {
     "name": "stderr",
     "output_type": "stream",
     "text": [
      "Epoch 19/100: 100%|██████████| 352/352 [00:03<00:00, 92.26it/s, accuracy=97.7, loss=0.0607]\n",
      "                                                                                       \r"
     ]
    },
    {
     "name": "stdout",
     "output_type": "stream",
     "text": [
      "End of Epoch 19, Train Loss: 0.06425105115208267, Train Accuracy: 97.72222222222223%, Val Loss: 0.2434380383751655, Val Accuracy: 93.78666666666666%\n"
     ]
    },
    {
     "name": "stderr",
     "output_type": "stream",
     "text": [
      "Epoch 20/100: 100%|██████████| 352/352 [00:03<00:00, 93.17it/s, accuracy=97.7, loss=0.0958]\n",
      "                                                                                       \r"
     ]
    },
    {
     "name": "stdout",
     "output_type": "stream",
     "text": [
      "End of Epoch 20, Train Loss: 0.062315624846219594, Train Accuracy: 97.71555555555555%, Val Loss: 0.3150276555600813, Val Accuracy: 93.54%\n"
     ]
    },
    {
     "name": "stderr",
     "output_type": "stream",
     "text": [
      "Epoch 21/100: 100%|██████████| 352/352 [00:03<00:00, 91.96it/s, accuracy=97.7, loss=0.0247]\n",
      "                                                                                       \r"
     ]
    },
    {
     "name": "stdout",
     "output_type": "stream",
     "text": [
      "End of Epoch 21, Train Loss: 0.06138752360129729, Train Accuracy: 97.74666666666667%, Val Loss: 0.2746936969017073, Val Accuracy: 93.76%\n"
     ]
    },
    {
     "name": "stderr",
     "output_type": "stream",
     "text": [
      "Epoch 22/100: 100%|██████████| 352/352 [00:03<00:00, 92.05it/s, accuracy=97.7, loss=0.125]  \n",
      "                                                                                       \r"
     ]
    },
    {
     "name": "stdout",
     "output_type": "stream",
     "text": [
      "End of Epoch 22, Train Loss: 0.06141839410834522, Train Accuracy: 97.71333333333334%, Val Loss: 0.26777958235371924, Val Accuracy: 93.81333333333333%\n"
     ]
    },
    {
     "name": "stderr",
     "output_type": "stream",
     "text": [
      "Epoch 23/100: 100%|██████████| 352/352 [00:03<00:00, 92.59it/s, accuracy=97.8, loss=0.048] \n",
      "                                                                                       \r"
     ]
    },
    {
     "name": "stdout",
     "output_type": "stream",
     "text": [
      "End of Epoch 23, Train Loss: 0.05927046200006523, Train Accuracy: 97.78222222222222%, Val Loss: 0.2727663490794978, Val Accuracy: 93.52666666666667%\n"
     ]
    },
    {
     "name": "stderr",
     "output_type": "stream",
     "text": [
      "Epoch 24/100: 100%|██████████| 352/352 [00:03<00:00, 93.28it/s, accuracy=97.8, loss=0.0743] \n",
      "                                                                                       \r"
     ]
    },
    {
     "name": "stdout",
     "output_type": "stream",
     "text": [
      "End of Epoch 24, Train Loss: 0.06152760836200535, Train Accuracy: 97.75777777777778%, Val Loss: 0.2493173771111642, Val Accuracy: 93.63333333333334%\n"
     ]
    },
    {
     "name": "stderr",
     "output_type": "stream",
     "text": [
      "Epoch 25/100: 100%|██████████| 352/352 [00:03<00:00, 92.80it/s, accuracy=97.9, loss=0.0112]\n",
      "                                                                                       \r"
     ]
    },
    {
     "name": "stdout",
     "output_type": "stream",
     "text": [
      "End of Epoch 25, Train Loss: 0.0594084532957905, Train Accuracy: 97.87555555555555%, Val Loss: 0.2517665996516155, Val Accuracy: 93.70666666666666%\n"
     ]
    },
    {
     "name": "stderr",
     "output_type": "stream",
     "text": [
      "Epoch 26/100: 100%|██████████| 352/352 [00:03<00:00, 92.97it/s, accuracy=97.9, loss=0.0446]\n",
      "                                                                                       \r"
     ]
    },
    {
     "name": "stdout",
     "output_type": "stream",
     "text": [
      "End of Epoch 26, Train Loss: 0.059755601637086576, Train Accuracy: 97.91333333333333%, Val Loss: 0.25004858695665155, Val Accuracy: 93.62%\n"
     ]
    },
    {
     "name": "stderr",
     "output_type": "stream",
     "text": [
      "Epoch 27/100: 100%|██████████| 352/352 [00:03<00:00, 92.11it/s, accuracy=97.8, loss=0.14]  \n",
      "                                                                                       \r"
     ]
    },
    {
     "name": "stdout",
     "output_type": "stream",
     "text": [
      "End of Epoch 27, Train Loss: 0.05975541793900034, Train Accuracy: 97.82444444444444%, Val Loss: 0.25187164311439303, Val Accuracy: 93.30666666666667%\n"
     ]
    },
    {
     "name": "stderr",
     "output_type": "stream",
     "text": [
      "Epoch 28/100: 100%|██████████| 352/352 [00:03<00:00, 92.82it/s, accuracy=97.9, loss=0.00878]\n",
      "                                                                                       \r"
     ]
    },
    {
     "name": "stdout",
     "output_type": "stream",
     "text": [
      "End of Epoch 28, Train Loss: 0.059008494987872175, Train Accuracy: 97.88888888888889%, Val Loss: 0.25346354821349604, Val Accuracy: 93.66%\n"
     ]
    },
    {
     "name": "stderr",
     "output_type": "stream",
     "text": [
      "Epoch 29/100: 100%|██████████| 352/352 [00:03<00:00, 91.44it/s, accuracy=97.9, loss=0.0614]\n",
      "                                                                                       \r"
     ]
    },
    {
     "name": "stdout",
     "output_type": "stream",
     "text": [
      "End of Epoch 29, Train Loss: 0.06103142714180814, Train Accuracy: 97.89111111111112%, Val Loss: 0.2604231809471118, Val Accuracy: 93.55333333333333%\n"
     ]
    },
    {
     "name": "stderr",
     "output_type": "stream",
     "text": [
      "Epoch 30/100: 100%|██████████| 352/352 [00:03<00:00, 92.77it/s, accuracy=97.8, loss=0.0647] \n",
      "                                                                                       \r"
     ]
    },
    {
     "name": "stdout",
     "output_type": "stream",
     "text": [
      "End of Epoch 30, Train Loss: 0.06039145156286064, Train Accuracy: 97.80222222222223%, Val Loss: 0.2607008571089324, Val Accuracy: 93.52666666666667%\n"
     ]
    },
    {
     "name": "stderr",
     "output_type": "stream",
     "text": [
      "Epoch 31/100: 100%|██████████| 352/352 [00:03<00:00, 91.95it/s, accuracy=97.8, loss=0.0246]\n",
      "                                                                                       \r"
     ]
    },
    {
     "name": "stdout",
     "output_type": "stream",
     "text": [
      "End of Epoch 31, Train Loss: 0.05932745981739241, Train Accuracy: 97.80444444444444%, Val Loss: 0.24991763976670928, Val Accuracy: 93.66666666666667%\n"
     ]
    },
    {
     "name": "stderr",
     "output_type": "stream",
     "text": [
      "Epoch 32/100: 100%|██████████| 352/352 [00:03<00:00, 92.40it/s, accuracy=98, loss=0.00387] \n",
      "                                                                                       \r"
     ]
    },
    {
     "name": "stdout",
     "output_type": "stream",
     "text": [
      "End of Epoch 32, Train Loss: 0.057141678386621854, Train Accuracy: 97.95555555555555%, Val Loss: 0.25388776968722626, Val Accuracy: 93.64%\n"
     ]
    },
    {
     "name": "stderr",
     "output_type": "stream",
     "text": [
      "Epoch 33/100: 100%|██████████| 352/352 [00:03<00:00, 92.58it/s, accuracy=97.8, loss=0.0127] \n",
      "                                                                                       \r"
     ]
    },
    {
     "name": "stdout",
     "output_type": "stream",
     "text": [
      "End of Epoch 33, Train Loss: 0.05859886656584091, Train Accuracy: 97.83333333333333%, Val Loss: 0.2634763060042919, Val Accuracy: 93.56%\n"
     ]
    },
    {
     "name": "stderr",
     "output_type": "stream",
     "text": [
      "Epoch 34/100: 100%|██████████| 352/352 [00:03<00:00, 91.60it/s, accuracy=98, loss=0.00327] \n",
      "                                                                                       \r"
     ]
    },
    {
     "name": "stdout",
     "output_type": "stream",
     "text": [
      "End of Epoch 34, Train Loss: 0.05725278894467258, Train Accuracy: 98.03111111111112%, Val Loss: 0.2535991997663247, Val Accuracy: 93.49333333333334%\n"
     ]
    },
    {
     "name": "stderr",
     "output_type": "stream",
     "text": [
      "Epoch 35/100: 100%|██████████| 352/352 [00:03<00:00, 92.51it/s, accuracy=97.8, loss=0.00857]\n",
      "                                                                                       \r"
     ]
    },
    {
     "name": "stdout",
     "output_type": "stream",
     "text": [
      "End of Epoch 35, Train Loss: 0.05931268440326676, Train Accuracy: 97.84222222222222%, Val Loss: 0.2520527309280331, Val Accuracy: 93.61333333333333%\n"
     ]
    },
    {
     "name": "stderr",
     "output_type": "stream",
     "text": [
      "Epoch 36/100: 100%|██████████| 352/352 [00:03<00:00, 93.09it/s, accuracy=97.8, loss=0.0333] \n",
      "                                                                                       \r"
     ]
    },
    {
     "name": "stdout",
     "output_type": "stream",
     "text": [
      "End of Epoch 36, Train Loss: 0.06122736861289013, Train Accuracy: 97.82%, Val Loss: 0.2716685065020949, Val Accuracy: 93.21333333333334%\n"
     ]
    },
    {
     "name": "stderr",
     "output_type": "stream",
     "text": [
      "Epoch 37/100: 100%|██████████| 352/352 [00:03<00:00, 92.58it/s, accuracy=97.9, loss=0.112]  \n",
      "                                                                                       \r"
     ]
    },
    {
     "name": "stdout",
     "output_type": "stream",
     "text": [
      "End of Epoch 37, Train Loss: 0.05804300762379584, Train Accuracy: 97.91333333333333%, Val Loss: 0.2515636777852551, Val Accuracy: 93.68666666666667%\n"
     ]
    },
    {
     "name": "stderr",
     "output_type": "stream",
     "text": [
      "Epoch 38/100: 100%|██████████| 352/352 [00:03<00:00, 92.37it/s, accuracy=97.8, loss=0.00917]\n",
      "                                                                                       \r"
     ]
    },
    {
     "name": "stdout",
     "output_type": "stream",
     "text": [
      "End of Epoch 38, Train Loss: 0.05876552206278906, Train Accuracy: 97.84444444444445%, Val Loss: 0.25347553881800783, Val Accuracy: 93.71333333333334%\n"
     ]
    },
    {
     "name": "stderr",
     "output_type": "stream",
     "text": [
      "Epoch 39/100: 100%|██████████| 352/352 [00:03<00:00, 92.74it/s, accuracy=98, loss=0.038]    \n",
      "                                                                                       \r"
     ]
    },
    {
     "name": "stdout",
     "output_type": "stream",
     "text": [
      "End of Epoch 39, Train Loss: 0.05530774934198813, Train Accuracy: 98.04666666666667%, Val Loss: 0.24835826129794625, Val Accuracy: 93.78%\n"
     ]
    },
    {
     "name": "stderr",
     "output_type": "stream",
     "text": [
      "Epoch 40/100: 100%|██████████| 352/352 [00:03<00:00, 91.39it/s, accuracy=98, loss=0.0458]  \n",
      "                                                                                       \r"
     ]
    },
    {
     "name": "stdout",
     "output_type": "stream",
     "text": [
      "End of Epoch 40, Train Loss: 0.05566505096199266, Train Accuracy: 98.03111111111112%, Val Loss: 0.30813112709734397, Val Accuracy: 93.72%\n"
     ]
    },
    {
     "name": "stderr",
     "output_type": "stream",
     "text": [
      "Epoch 41/100: 100%|██████████| 352/352 [00:03<00:00, 92.51it/s, accuracy=98, loss=0.0558]  \n",
      "                                                                                       \r"
     ]
    },
    {
     "name": "stdout",
     "output_type": "stream",
     "text": [
      "End of Epoch 41, Train Loss: 0.054940952144203366, Train Accuracy: 98.01333333333334%, Val Loss: 0.29307222230580904, Val Accuracy: 93.63333333333334%\n"
     ]
    },
    {
     "name": "stderr",
     "output_type": "stream",
     "text": [
      "Epoch 42/100: 100%|██████████| 352/352 [00:03<00:00, 91.64it/s, accuracy=97.9, loss=0.072] \n",
      "                                                                                       \r"
     ]
    },
    {
     "name": "stdout",
     "output_type": "stream",
     "text": [
      "End of Epoch 42, Train Loss: 0.057915514463357715, Train Accuracy: 97.93777777777778%, Val Loss: 0.28108241590592314, Val Accuracy: 93.55333333333333%\n"
     ]
    },
    {
     "name": "stderr",
     "output_type": "stream",
     "text": [
      "Epoch 43/100: 100%|██████████| 352/352 [00:03<00:00, 92.69it/s, accuracy=98.1, loss=0.00561]\n",
      "                                                                                       \r"
     ]
    },
    {
     "name": "stdout",
     "output_type": "stream",
     "text": [
      "End of Epoch 43, Train Loss: 0.0549352978202726, Train Accuracy: 98.06666666666666%, Val Loss: 0.26010562446347235, Val Accuracy: 93.5%\n"
     ]
    },
    {
     "name": "stderr",
     "output_type": "stream",
     "text": [
      "Epoch 44/100: 100%|██████████| 352/352 [00:03<00:00, 93.04it/s, accuracy=97.9, loss=0.0833] \n",
      "                                                                                       \r"
     ]
    },
    {
     "name": "stdout",
     "output_type": "stream",
     "text": [
      "End of Epoch 44, Train Loss: 0.057135306179671635, Train Accuracy: 97.89777777777778%, Val Loss: 0.25654578306791137, Val Accuracy: 93.62666666666667%\n"
     ]
    },
    {
     "name": "stderr",
     "output_type": "stream",
     "text": [
      "Epoch 45/100: 100%|██████████| 352/352 [00:03<00:00, 92.95it/s, accuracy=98, loss=0.0234]   \n",
      "                                                                                       \r"
     ]
    },
    {
     "name": "stdout",
     "output_type": "stream",
     "text": [
      "End of Epoch 45, Train Loss: 0.05500913127219643, Train Accuracy: 97.96444444444444%, Val Loss: 0.2430365155372074, Val Accuracy: 93.55333333333333%\n"
     ]
    },
    {
     "name": "stderr",
     "output_type": "stream",
     "text": [
      "Epoch 46/100: 100%|██████████| 352/352 [00:03<00:00, 92.90it/s, accuracy=98.1, loss=0.0422] \n",
      "                                                                                       \r"
     ]
    },
    {
     "name": "stdout",
     "output_type": "stream",
     "text": [
      "End of Epoch 46, Train Loss: 0.05204543620758076, Train Accuracy: 98.1%, Val Loss: 0.25602211228619187, Val Accuracy: 93.86%\n"
     ]
    },
    {
     "name": "stderr",
     "output_type": "stream",
     "text": [
      "Epoch 47/100: 100%|██████████| 352/352 [00:03<00:00, 91.18it/s, accuracy=98.1, loss=0.106]  \n",
      "                                                                                       \r"
     ]
    },
    {
     "name": "stdout",
     "output_type": "stream",
     "text": [
      "End of Epoch 47, Train Loss: 0.0549067316301675, Train Accuracy: 98.05555555555556%, Val Loss: 0.23993118694525653, Val Accuracy: 93.70666666666666%\n"
     ]
    },
    {
     "name": "stderr",
     "output_type": "stream",
     "text": [
      "Epoch 48/100: 100%|██████████| 352/352 [00:03<00:00, 90.62it/s, accuracy=98, loss=0.0727]   \n",
      "                                                                                       \r"
     ]
    },
    {
     "name": "stdout",
     "output_type": "stream",
     "text": [
      "End of Epoch 48, Train Loss: 0.055346515925273045, Train Accuracy: 97.95555555555555%, Val Loss: 0.25622896673315665, Val Accuracy: 93.64666666666666%\n"
     ]
    },
    {
     "name": "stderr",
     "output_type": "stream",
     "text": [
      "Epoch 49/100: 100%|██████████| 352/352 [00:03<00:00, 91.05it/s, accuracy=98.1, loss=0.156]  \n",
      "                                                                                       \r"
     ]
    },
    {
     "name": "stdout",
     "output_type": "stream",
     "text": [
      "End of Epoch 49, Train Loss: 0.05463822963330048, Train Accuracy: 98.07111111111111%, Val Loss: 0.25484532023132855, Val Accuracy: 93.53333333333333%\n"
     ]
    },
    {
     "name": "stderr",
     "output_type": "stream",
     "text": [
      "Epoch 50/100: 100%|██████████| 352/352 [00:03<00:00, 91.85it/s, accuracy=98, loss=0.0841]   \n",
      "                                                                                       \r"
     ]
    },
    {
     "name": "stdout",
     "output_type": "stream",
     "text": [
      "End of Epoch 50, Train Loss: 0.055746716240801936, Train Accuracy: 97.95777777777778%, Val Loss: 0.25225469151164515, Val Accuracy: 93.84666666666666%\n"
     ]
    },
    {
     "name": "stderr",
     "output_type": "stream",
     "text": [
      "Epoch 51/100: 100%|██████████| 352/352 [00:03<00:00, 92.58it/s, accuracy=98.2, loss=0.046]  \n",
      "                                                                                       \r"
     ]
    },
    {
     "name": "stdout",
     "output_type": "stream",
     "text": [
      "End of Epoch 51, Train Loss: 0.05164046394532885, Train Accuracy: 98.24444444444444%, Val Loss: 0.24510751667795544, Val Accuracy: 93.6%\n"
     ]
    },
    {
     "name": "stderr",
     "output_type": "stream",
     "text": [
      "Epoch 52/100: 100%|██████████| 352/352 [00:03<00:00, 92.32it/s, accuracy=98, loss=0.0625]   \n",
      "                                                                                       \r"
     ]
    },
    {
     "name": "stdout",
     "output_type": "stream",
     "text": [
      "End of Epoch 52, Train Loss: 0.0571984597230436, Train Accuracy: 97.97555555555556%, Val Loss: 0.4674504610820342, Val Accuracy: 93.56%\n"
     ]
    },
    {
     "name": "stderr",
     "output_type": "stream",
     "text": [
      "Epoch 53/100: 100%|██████████| 352/352 [00:03<00:00, 92.74it/s, accuracy=97.9, loss=0.00664]\n",
      "                                                                                       \r"
     ]
    },
    {
     "name": "stdout",
     "output_type": "stream",
     "text": [
      "End of Epoch 53, Train Loss: 0.05939407739192988, Train Accuracy: 97.87555555555555%, Val Loss: 0.5042183329430172, Val Accuracy: 93.62%\n"
     ]
    },
    {
     "name": "stderr",
     "output_type": "stream",
     "text": [
      "Epoch 54/100: 100%|██████████| 352/352 [00:03<00:00, 93.58it/s, accuracy=98.1, loss=0.0398] \n",
      "                                                                                       \r"
     ]
    },
    {
     "name": "stdout",
     "output_type": "stream",
     "text": [
      "End of Epoch 54, Train Loss: 0.05125403569598513, Train Accuracy: 98.12444444444445%, Val Loss: 0.2630479532151909, Val Accuracy: 93.67333333333333%\n"
     ]
    },
    {
     "name": "stderr",
     "output_type": "stream",
     "text": [
      "Epoch 55/100: 100%|██████████| 352/352 [00:03<00:00, 92.68it/s, accuracy=97.9, loss=0.124]  \n",
      "                                                                                       \r"
     ]
    },
    {
     "name": "stdout",
     "output_type": "stream",
     "text": [
      "End of Epoch 55, Train Loss: 0.05720967189170716, Train Accuracy: 97.93777777777778%, Val Loss: 0.25304445665392833, Val Accuracy: 93.76%\n"
     ]
    },
    {
     "name": "stderr",
     "output_type": "stream",
     "text": [
      "Epoch 56/100: 100%|██████████| 352/352 [00:03<00:00, 94.09it/s, accuracy=98, loss=0.0785]  \n",
      "                                                                                       \r"
     ]
    },
    {
     "name": "stdout",
     "output_type": "stream",
     "text": [
      "End of Epoch 56, Train Loss: 0.054989631283784875, Train Accuracy: 97.97333333333333%, Val Loss: 0.243914107492162, Val Accuracy: 93.46%\n"
     ]
    },
    {
     "name": "stderr",
     "output_type": "stream",
     "text": [
      "Epoch 57/100: 100%|██████████| 352/352 [00:03<00:00, 93.01it/s, accuracy=98.1, loss=0.158]  \n",
      "                                                                                       \r"
     ]
    },
    {
     "name": "stdout",
     "output_type": "stream",
     "text": [
      "End of Epoch 57, Train Loss: 0.05338225417058724, Train Accuracy: 98.09555555555555%, Val Loss: 0.25347064814325104, Val Accuracy: 93.84%\n"
     ]
    },
    {
     "name": "stderr",
     "output_type": "stream",
     "text": [
      "Epoch 58/100: 100%|██████████| 352/352 [00:03<00:00, 92.46it/s, accuracy=98.1, loss=0.0589] \n",
      "                                                                                       \r"
     ]
    },
    {
     "name": "stdout",
     "output_type": "stream",
     "text": [
      "End of Epoch 58, Train Loss: 0.05235579700621946, Train Accuracy: 98.10444444444444%, Val Loss: 0.25375215789713595, Val Accuracy: 93.74666666666667%\n"
     ]
    },
    {
     "name": "stderr",
     "output_type": "stream",
     "text": [
      "Epoch 59/100: 100%|██████████| 352/352 [00:03<00:00, 93.76it/s, accuracy=98.1, loss=0.0551] \n",
      "                                                                                       \r"
     ]
    },
    {
     "name": "stdout",
     "output_type": "stream",
     "text": [
      "End of Epoch 59, Train Loss: 0.05361583833357806, Train Accuracy: 98.12222222222222%, Val Loss: 0.25653021627942385, Val Accuracy: 93.76%\n"
     ]
    },
    {
     "name": "stderr",
     "output_type": "stream",
     "text": [
      "Epoch 60/100: 100%|██████████| 352/352 [00:03<00:00, 92.22it/s, accuracy=98.2, loss=0.00459]\n",
      "                                                                                       \r"
     ]
    },
    {
     "name": "stdout",
     "output_type": "stream",
     "text": [
      "End of Epoch 60, Train Loss: 0.05118637226868569, Train Accuracy: 98.15555555555555%, Val Loss: 0.26479527651000834, Val Accuracy: 93.80666666666667%\n"
     ]
    },
    {
     "name": "stderr",
     "output_type": "stream",
     "text": [
      "Epoch 61/100: 100%|██████████| 352/352 [00:03<00:00, 93.47it/s, accuracy=98.2, loss=0.151]  \n",
      "                                                                                       \r"
     ]
    },
    {
     "name": "stdout",
     "output_type": "stream",
     "text": [
      "End of Epoch 61, Train Loss: 0.05065505689311645, Train Accuracy: 98.24222222222222%, Val Loss: 0.26568105715816304, Val Accuracy: 93.57333333333334%\n"
     ]
    },
    {
     "name": "stderr",
     "output_type": "stream",
     "text": [
      "Epoch 62/100: 100%|██████████| 352/352 [00:03<00:00, 92.93it/s, accuracy=98.2, loss=0.0242] \n",
      "                                                                                       \r"
     ]
    },
    {
     "name": "stdout",
     "output_type": "stream",
     "text": [
      "End of Epoch 62, Train Loss: 0.05008865756628273, Train Accuracy: 98.18222222222222%, Val Loss: 0.25876166756754204, Val Accuracy: 93.50666666666666%\n"
     ]
    },
    {
     "name": "stderr",
     "output_type": "stream",
     "text": [
      "Epoch 63/100: 100%|██████████| 352/352 [00:03<00:00, 93.39it/s, accuracy=98.1, loss=0.0637] \n",
      "                                                                                       \r"
     ]
    },
    {
     "name": "stdout",
     "output_type": "stream",
     "text": [
      "End of Epoch 63, Train Loss: 0.05273606789705809, Train Accuracy: 98.13333333333334%, Val Loss: 0.260218623867732, Val Accuracy: 93.58%\n"
     ]
    },
    {
     "name": "stderr",
     "output_type": "stream",
     "text": [
      "Epoch 64/100: 100%|██████████| 352/352 [00:03<00:00, 93.62it/s, accuracy=98.2, loss=0.0431] \n",
      "                                                                                       \r"
     ]
    },
    {
     "name": "stdout",
     "output_type": "stream",
     "text": [
      "End of Epoch 64, Train Loss: 0.050586543565176806, Train Accuracy: 98.20666666666666%, Val Loss: 0.2592535869739318, Val Accuracy: 93.94666666666667%\n"
     ]
    },
    {
     "name": "stderr",
     "output_type": "stream",
     "text": [
      "Epoch 65/100: 100%|██████████| 352/352 [00:03<00:00, 93.21it/s, accuracy=98.2, loss=0.0088] \n",
      "                                                                                       \r"
     ]
    },
    {
     "name": "stdout",
     "output_type": "stream",
     "text": [
      "End of Epoch 65, Train Loss: 0.0502184510848813, Train Accuracy: 98.19111111111111%, Val Loss: 0.24636657062475964, Val Accuracy: 93.74666666666667%\n"
     ]
    },
    {
     "name": "stderr",
     "output_type": "stream",
     "text": [
      "Epoch 66/100: 100%|██████████| 352/352 [00:03<00:00, 93.65it/s, accuracy=98.3, loss=0.285]  \n",
      "                                                                                       \r"
     ]
    },
    {
     "name": "stdout",
     "output_type": "stream",
     "text": [
      "End of Epoch 66, Train Loss: 0.05068682151746047, Train Accuracy: 98.25777777777778%, Val Loss: 0.25661499659388753, Val Accuracy: 93.76666666666667%\n"
     ]
    },
    {
     "name": "stderr",
     "output_type": "stream",
     "text": [
      "Epoch 67/100: 100%|██████████| 352/352 [00:03<00:00, 92.76it/s, accuracy=98.2, loss=0.0218] \n",
      "                                                                                       \r"
     ]
    },
    {
     "name": "stdout",
     "output_type": "stream",
     "text": [
      "End of Epoch 67, Train Loss: 0.05126699298456184, Train Accuracy: 98.20444444444445%, Val Loss: 0.2509105150287939, Val Accuracy: 93.62%\n"
     ]
    },
    {
     "name": "stderr",
     "output_type": "stream",
     "text": [
      "Epoch 68/100: 100%|██████████| 352/352 [00:03<00:00, 92.07it/s, accuracy=98.3, loss=0.0126] \n",
      "                                                                                       \r"
     ]
    },
    {
     "name": "stdout",
     "output_type": "stream",
     "text": [
      "End of Epoch 68, Train Loss: 0.04738387128401717, Train Accuracy: 98.32222222222222%, Val Loss: 0.26275564356059844, Val Accuracy: 93.82666666666667%\n"
     ]
    },
    {
     "name": "stderr",
     "output_type": "stream",
     "text": [
      "Epoch 69/100: 100%|██████████| 352/352 [00:03<00:00, 92.47it/s, accuracy=98.3, loss=0.0132] \n",
      "                                                                                       \r"
     ]
    },
    {
     "name": "stdout",
     "output_type": "stream",
     "text": [
      "End of Epoch 69, Train Loss: 0.04609863601019077, Train Accuracy: 98.34666666666666%, Val Loss: 0.2604866437613964, Val Accuracy: 93.82%\n"
     ]
    },
    {
     "name": "stderr",
     "output_type": "stream",
     "text": [
      "Epoch 70/100: 100%|██████████| 352/352 [00:03<00:00, 93.24it/s, accuracy=98.2, loss=0.0376] \n",
      "                                                                                       \r"
     ]
    },
    {
     "name": "stdout",
     "output_type": "stream",
     "text": [
      "End of Epoch 70, Train Loss: 0.050361417794854126, Train Accuracy: 98.16666666666667%, Val Loss: 0.2683684289202852, Val Accuracy: 93.77333333333333%\n"
     ]
    },
    {
     "name": "stderr",
     "output_type": "stream",
     "text": [
      "Epoch 71/100: 100%|██████████| 352/352 [00:03<00:00, 92.21it/s, accuracy=98.2, loss=0.105]  \n",
      "                                                                                       \r"
     ]
    },
    {
     "name": "stdout",
     "output_type": "stream",
     "text": [
      "End of Epoch 71, Train Loss: 0.05157840055802477, Train Accuracy: 98.23555555555555%, Val Loss: 0.2590420354725951, Val Accuracy: 93.76666666666667%\n"
     ]
    },
    {
     "name": "stderr",
     "output_type": "stream",
     "text": [
      "Epoch 72/100: 100%|██████████| 352/352 [00:03<00:00, 93.33it/s, accuracy=98.1, loss=0.025]  \n",
      "                                                                                       \r"
     ]
    },
    {
     "name": "stdout",
     "output_type": "stream",
     "text": [
      "End of Epoch 72, Train Loss: 0.05050996070150921, Train Accuracy: 98.13111111111111%, Val Loss: 0.27980544544377567, Val Accuracy: 93.63333333333334%\n"
     ]
    },
    {
     "name": "stderr",
     "output_type": "stream",
     "text": [
      "Epoch 73/100: 100%|██████████| 352/352 [00:03<00:00, 92.36it/s, accuracy=98.3, loss=0.0168] \n",
      "                                                                                       \r"
     ]
    },
    {
     "name": "stdout",
     "output_type": "stream",
     "text": [
      "End of Epoch 73, Train Loss: 0.04881030370134712, Train Accuracy: 98.32222222222222%, Val Loss: 0.2605252429464106, Val Accuracy: 93.68%\n"
     ]
    },
    {
     "name": "stderr",
     "output_type": "stream",
     "text": [
      "Epoch 74/100: 100%|██████████| 352/352 [00:03<00:00, 93.77it/s, accuracy=98.3, loss=0.0739] \n",
      "                                                                                       \r"
     ]
    },
    {
     "name": "stdout",
     "output_type": "stream",
     "text": [
      "End of Epoch 74, Train Loss: 0.04973807591886725, Train Accuracy: 98.31555555555556%, Val Loss: 0.2722484154342595, Val Accuracy: 93.54%\n"
     ]
    },
    {
     "name": "stderr",
     "output_type": "stream",
     "text": [
      "Epoch 75/100: 100%|██████████| 352/352 [00:03<00:00, 92.71it/s, accuracy=98.3, loss=0.00697]\n",
      "                                                                                       \r"
     ]
    },
    {
     "name": "stdout",
     "output_type": "stream",
     "text": [
      "End of Epoch 75, Train Loss: 0.04997423970913091, Train Accuracy: 98.25333333333333%, Val Loss: 0.2688015536484072, Val Accuracy: 93.58%\n"
     ]
    },
    {
     "name": "stderr",
     "output_type": "stream",
     "text": [
      "Epoch 76/100: 100%|██████████| 352/352 [00:03<00:00, 92.86it/s, accuracy=98.3, loss=0.0317] \n",
      "                                                                                       \r"
     ]
    },
    {
     "name": "stdout",
     "output_type": "stream",
     "text": [
      "End of Epoch 76, Train Loss: 0.04627307266954714, Train Accuracy: 98.32666666666667%, Val Loss: 0.26387676249368713, Val Accuracy: 93.80666666666667%\n"
     ]
    },
    {
     "name": "stderr",
     "output_type": "stream",
     "text": [
      "Epoch 77/100: 100%|██████████| 352/352 [00:03<00:00, 92.60it/s, accuracy=98.3, loss=0.151]  \n",
      "                                                                                       \r"
     ]
    },
    {
     "name": "stdout",
     "output_type": "stream",
     "text": [
      "End of Epoch 77, Train Loss: 0.048141791121452115, Train Accuracy: 98.2688888888889%, Val Loss: 0.2645353157767805, Val Accuracy: 93.50666666666666%\n"
     ]
    },
    {
     "name": "stderr",
     "output_type": "stream",
     "text": [
      "Epoch 78/100: 100%|██████████| 352/352 [00:03<00:00, 93.02it/s, accuracy=98.4, loss=0.0571] \n",
      "                                                                                       \r"
     ]
    },
    {
     "name": "stdout",
     "output_type": "stream",
     "text": [
      "End of Epoch 78, Train Loss: 0.047052684478826864, Train Accuracy: 98.36444444444444%, Val Loss: 0.26156384152186624, Val Accuracy: 93.72%\n"
     ]
    },
    {
     "name": "stderr",
     "output_type": "stream",
     "text": [
      "Epoch 79/100: 100%|██████████| 352/352 [00:03<00:00, 93.98it/s, accuracy=98.3, loss=0.00799]\n",
      "                                                                                       \r"
     ]
    },
    {
     "name": "stdout",
     "output_type": "stream",
     "text": [
      "End of Epoch 79, Train Loss: 0.048761775318945925, Train Accuracy: 98.32666666666667%, Val Loss: 0.2501502607838582, Val Accuracy: 93.71333333333334%\n"
     ]
    },
    {
     "name": "stderr",
     "output_type": "stream",
     "text": [
      "Epoch 80/100: 100%|██████████| 352/352 [00:03<00:00, 90.09it/s, accuracy=98.3, loss=0.0655] \n",
      "                                                                                       \r"
     ]
    },
    {
     "name": "stdout",
     "output_type": "stream",
     "text": [
      "End of Epoch 80, Train Loss: 0.047204605713142715, Train Accuracy: 98.33777777777777%, Val Loss: 0.27207559154574146, Val Accuracy: 93.68666666666667%\n"
     ]
    },
    {
     "name": "stderr",
     "output_type": "stream",
     "text": [
      "Epoch 81/100: 100%|██████████| 352/352 [00:03<00:00, 94.47it/s, accuracy=98.3, loss=0.0906] \n",
      "                                                                                       \r"
     ]
    },
    {
     "name": "stdout",
     "output_type": "stream",
     "text": [
      "End of Epoch 81, Train Loss: 0.04786367420324082, Train Accuracy: 98.27111111111111%, Val Loss: 0.26290494942311515, Val Accuracy: 93.58666666666667%\n"
     ]
    },
    {
     "name": "stderr",
     "output_type": "stream",
     "text": [
      "Epoch 82/100: 100%|██████████| 352/352 [00:03<00:00, 92.63it/s, accuracy=98.1, loss=0.137]  \n",
      "                                                                                       \r"
     ]
    },
    {
     "name": "stdout",
     "output_type": "stream",
     "text": [
      "End of Epoch 82, Train Loss: 0.05455985354075727, Train Accuracy: 98.06%, Val Loss: 0.2602717313220945, Val Accuracy: 93.66%\n"
     ]
    },
    {
     "name": "stderr",
     "output_type": "stream",
     "text": [
      "Epoch 83/100: 100%|██████████| 352/352 [00:03<00:00, 92.36it/s, accuracy=98.4, loss=0.0267] \n",
      "                                                                                       \r"
     ]
    },
    {
     "name": "stdout",
     "output_type": "stream",
     "text": [
      "End of Epoch 83, Train Loss: 0.04482477097189985, Train Accuracy: 98.44222222222223%, Val Loss: 0.25810213819525, Val Accuracy: 93.73333333333333%\n"
     ]
    },
    {
     "name": "stderr",
     "output_type": "stream",
     "text": [
      "Epoch 84/100: 100%|██████████| 352/352 [00:03<00:00, 93.49it/s, accuracy=98.3, loss=0.0191] \n",
      "                                                                                       \r"
     ]
    },
    {
     "name": "stdout",
     "output_type": "stream",
     "text": [
      "End of Epoch 84, Train Loss: 0.04856915640134089, Train Accuracy: 98.2688888888889%, Val Loss: 0.28452037609482217, Val Accuracy: 93.58666666666667%\n"
     ]
    },
    {
     "name": "stderr",
     "output_type": "stream",
     "text": [
      "Epoch 85/100: 100%|██████████| 352/352 [00:03<00:00, 93.50it/s, accuracy=98.4, loss=0.0905] \n",
      "                                                                                       \r"
     ]
    },
    {
     "name": "stdout",
     "output_type": "stream",
     "text": [
      "End of Epoch 85, Train Loss: 0.04524103175671454, Train Accuracy: 98.42888888888889%, Val Loss: 0.26767621151471543, Val Accuracy: 93.63333333333334%\n"
     ]
    },
    {
     "name": "stderr",
     "output_type": "stream",
     "text": [
      "Epoch 86/100: 100%|██████████| 352/352 [00:03<00:00, 92.37it/s, accuracy=98.4, loss=0.0658] \n",
      "                                                                                       \r"
     ]
    },
    {
     "name": "stdout",
     "output_type": "stream",
     "text": [
      "End of Epoch 86, Train Loss: 0.045513190772246824, Train Accuracy: 98.36666666666666%, Val Loss: 0.2802620078673807, Val Accuracy: 93.65333333333334%\n"
     ]
    },
    {
     "name": "stderr",
     "output_type": "stream",
     "text": [
      "Epoch 87/100: 100%|██████████| 352/352 [00:03<00:00, 93.01it/s, accuracy=98.4, loss=0.00748]\n",
      "                                                                                       \r"
     ]
    },
    {
     "name": "stdout",
     "output_type": "stream",
     "text": [
      "End of Epoch 87, Train Loss: 0.04570300723439273, Train Accuracy: 98.39111111111112%, Val Loss: 0.269527262013595, Val Accuracy: 93.95333333333333%\n"
     ]
    },
    {
     "name": "stderr",
     "output_type": "stream",
     "text": [
      "Epoch 88/100: 100%|██████████| 352/352 [00:03<00:00, 93.00it/s, accuracy=98.3, loss=0.0495] \n",
      "                                                                                       \r"
     ]
    },
    {
     "name": "stdout",
     "output_type": "stream",
     "text": [
      "End of Epoch 88, Train Loss: 0.04880582313159142, Train Accuracy: 98.2688888888889%, Val Loss: 0.27719798832500386, Val Accuracy: 93.70666666666666%\n"
     ]
    },
    {
     "name": "stderr",
     "output_type": "stream",
     "text": [
      "Epoch 89/100: 100%|██████████| 352/352 [00:03<00:00, 93.49it/s, accuracy=98.4, loss=0.0198] \n",
      "                                                                                       \r"
     ]
    },
    {
     "name": "stdout",
     "output_type": "stream",
     "text": [
      "End of Epoch 89, Train Loss: 0.04767334760783177, Train Accuracy: 98.35111111111111%, Val Loss: 0.2691516967458745, Val Accuracy: 93.65333333333334%\n"
     ]
    },
    {
     "name": "stderr",
     "output_type": "stream",
     "text": [
      "Epoch 90/100: 100%|██████████| 352/352 [00:03<00:00, 92.76it/s, accuracy=98.3, loss=0.0314] \n",
      "                                                                                       \r"
     ]
    },
    {
     "name": "stdout",
     "output_type": "stream",
     "text": [
      "End of Epoch 90, Train Loss: 0.04798310786182727, Train Accuracy: 98.28222222222222%, Val Loss: 0.25244158051781734, Val Accuracy: 93.74%\n"
     ]
    },
    {
     "name": "stderr",
     "output_type": "stream",
     "text": [
      "Epoch 91/100: 100%|██████████| 352/352 [00:03<00:00, 93.06it/s, accuracy=98.5, loss=0.0273] \n",
      "                                                                                       \r"
     ]
    },
    {
     "name": "stdout",
     "output_type": "stream",
     "text": [
      "End of Epoch 91, Train Loss: 0.04341787203950596, Train Accuracy: 98.47777777777777%, Val Loss: 0.28783666304612565, Val Accuracy: 93.7%\n"
     ]
    },
    {
     "name": "stderr",
     "output_type": "stream",
     "text": [
      "Epoch 92/100: 100%|██████████| 352/352 [00:03<00:00, 93.72it/s, accuracy=98.4, loss=0.032]  \n",
      "                                                                                       \r"
     ]
    },
    {
     "name": "stdout",
     "output_type": "stream",
     "text": [
      "End of Epoch 92, Train Loss: 0.04557315886168825, Train Accuracy: 98.3711111111111%, Val Loss: 0.2642448294150122, Val Accuracy: 93.68%\n"
     ]
    },
    {
     "name": "stderr",
     "output_type": "stream",
     "text": [
      "Epoch 93/100: 100%|██████████| 352/352 [00:03<00:00, 90.94it/s, accuracy=98.4, loss=0.00268]\n",
      "                                                                                       \r"
     ]
    },
    {
     "name": "stdout",
     "output_type": "stream",
     "text": [
      "End of Epoch 93, Train Loss: 0.045395735038089864, Train Accuracy: 98.41111111111111%, Val Loss: 0.26083094686648606, Val Accuracy: 93.8%\n"
     ]
    },
    {
     "name": "stderr",
     "output_type": "stream",
     "text": [
      "Epoch 94/100: 100%|██████████| 352/352 [00:03<00:00, 93.12it/s, accuracy=98.4, loss=0.068]  \n",
      "                                                                                       \r"
     ]
    },
    {
     "name": "stdout",
     "output_type": "stream",
     "text": [
      "End of Epoch 94, Train Loss: 0.046152194214466195, Train Accuracy: 98.38%, Val Loss: 0.27786082850169325, Val Accuracy: 93.65333333333334%\n"
     ]
    },
    {
     "name": "stderr",
     "output_type": "stream",
     "text": [
      "Epoch 95/100: 100%|██████████| 352/352 [00:03<00:00, 91.67it/s, accuracy=98.5, loss=0.00886]\n",
      "                                                                                       \r"
     ]
    },
    {
     "name": "stdout",
     "output_type": "stream",
     "text": [
      "End of Epoch 95, Train Loss: 0.04408825908070536, Train Accuracy: 98.46%, Val Loss: 0.25982030219066954, Val Accuracy: 93.82666666666667%\n"
     ]
    },
    {
     "name": "stderr",
     "output_type": "stream",
     "text": [
      "Epoch 96/100: 100%|██████████| 352/352 [00:03<00:00, 92.52it/s, accuracy=98.4, loss=0.121]  \n",
      "                                                                                       \r"
     ]
    },
    {
     "name": "stdout",
     "output_type": "stream",
     "text": [
      "End of Epoch 96, Train Loss: 0.048089061691081784, Train Accuracy: 98.38222222222223%, Val Loss: 0.27389195387772586, Val Accuracy: 93.70666666666666%\n"
     ]
    },
    {
     "name": "stderr",
     "output_type": "stream",
     "text": [
      "Epoch 97/100: 100%|██████████| 352/352 [00:03<00:00, 93.06it/s, accuracy=98.3, loss=0.0135] \n",
      "                                                                                       \r"
     ]
    },
    {
     "name": "stdout",
     "output_type": "stream",
     "text": [
      "End of Epoch 97, Train Loss: 0.04706566471511244, Train Accuracy: 98.34666666666666%, Val Loss: 0.2827678953881486, Val Accuracy: 93.73333333333333%\n"
     ]
    },
    {
     "name": "stderr",
     "output_type": "stream",
     "text": [
      "Epoch 98/100: 100%|██████████| 352/352 [00:03<00:00, 92.74it/s, accuracy=98.4, loss=0.0643] \n",
      "                                                                                       \r"
     ]
    },
    {
     "name": "stdout",
     "output_type": "stream",
     "text": [
      "End of Epoch 98, Train Loss: 0.043520418662493204, Train Accuracy: 98.43111111111111%, Val Loss: 0.2756646023273973, Val Accuracy: 93.70666666666666%\n"
     ]
    },
    {
     "name": "stderr",
     "output_type": "stream",
     "text": [
      "Epoch 99/100: 100%|██████████| 352/352 [00:03<00:00, 93.38it/s, accuracy=98.4, loss=0.00852]\n",
      "                                                                                       \r"
     ]
    },
    {
     "name": "stdout",
     "output_type": "stream",
     "text": [
      "End of Epoch 99, Train Loss: 0.045702572403322185, Train Accuracy: 98.40222222222222%, Val Loss: 0.26009413366348055, Val Accuracy: 93.68%\n"
     ]
    },
    {
     "name": "stderr",
     "output_type": "stream",
     "text": [
      "Epoch 100/100: 100%|██████████| 352/352 [00:03<00:00, 92.85it/s, accuracy=98.4, loss=0.00715]\n",
      "                                                                                       "
     ]
    },
    {
     "name": "stdout",
     "output_type": "stream",
     "text": [
      "End of Epoch 100, Train Loss: 0.04604160064826084, Train Accuracy: 98.35111111111111%, Val Loss: 0.26432343184064, Val Accuracy: 93.82666666666667%\n"
     ]
    },
    {
     "name": "stderr",
     "output_type": "stream",
     "text": [
      "\r"
     ]
    }
   ],
   "source": [
    "# Второй запуск обучения\n",
    "train_model(model, train_loader, val_loader, 100, device)"
   ]
  },
  {
   "cell_type": "code",
   "execution_count": 19,
   "metadata": {
    "execution": {
     "iopub.execute_input": "2024-05-11T14:26:29.788195Z",
     "iopub.status.busy": "2024-05-11T14:26:29.787350Z",
     "iopub.status.idle": "2024-05-11T14:27:15.422613Z",
     "shell.execute_reply": "2024-05-11T14:27:15.421484Z",
     "shell.execute_reply.started": "2024-05-11T14:26:29.788161Z"
    },
    "tags": []
   },
   "outputs": [
    {
     "name": "stderr",
     "output_type": "stream",
     "text": [
      "Epoch 1/10: 100%|██████████| 352/352 [00:03<00:00, 91.59it/s, accuracy=98.6, loss=0.0444] \n",
      "                                                                                       \r"
     ]
    },
    {
     "name": "stdout",
     "output_type": "stream",
     "text": [
      "End of Epoch 1, Train Loss: 0.03802050384150458, Train Accuracy: 98.6288888888889%, Val Loss: 0.2714279422662773, Val Accuracy: 93.92%\n"
     ]
    },
    {
     "name": "stderr",
     "output_type": "stream",
     "text": [
      "Epoch 2/10: 100%|██████████| 352/352 [00:03<00:00, 92.77it/s, accuracy=98.7, loss=0.000963]\n",
      "                                                                                       \r"
     ]
    },
    {
     "name": "stdout",
     "output_type": "stream",
     "text": [
      "End of Epoch 2, Train Loss: 0.03632934109985151, Train Accuracy: 98.72666666666667%, Val Loss: 0.27596264673491655, Val Accuracy: 93.95333333333333%\n"
     ]
    },
    {
     "name": "stderr",
     "output_type": "stream",
     "text": [
      "Epoch 3/10: 100%|██████████| 352/352 [00:03<00:00, 92.23it/s, accuracy=98.9, loss=0.0399]  \n",
      "                                                                                       \r"
     ]
    },
    {
     "name": "stdout",
     "output_type": "stream",
     "text": [
      "End of Epoch 3, Train Loss: 0.030254529095559105, Train Accuracy: 98.89777777777778%, Val Loss: 0.27889906711308127, Val Accuracy: 94.06666666666666%\n"
     ]
    },
    {
     "name": "stderr",
     "output_type": "stream",
     "text": [
      "Epoch 4/10: 100%|██████████| 352/352 [00:03<00:00, 91.56it/s, accuracy=99, loss=0.0598]   \n",
      "                                                                                       \r"
     ]
    },
    {
     "name": "stdout",
     "output_type": "stream",
     "text": [
      "End of Epoch 4, Train Loss: 0.028321432615154084, Train Accuracy: 99.00888888888889%, Val Loss: 0.2839783739803706, Val Accuracy: 94.02666666666667%\n"
     ]
    },
    {
     "name": "stderr",
     "output_type": "stream",
     "text": [
      "Epoch 5/10: 100%|██████████| 352/352 [00:03<00:00, 93.59it/s, accuracy=98.9, loss=0.0349] \n",
      "                                                                                       \r"
     ]
    },
    {
     "name": "stdout",
     "output_type": "stream",
     "text": [
      "End of Epoch 5, Train Loss: 0.03130770888872741, Train Accuracy: 98.90666666666667%, Val Loss: 0.2893124202708319, Val Accuracy: 94.06666666666666%\n"
     ]
    },
    {
     "name": "stderr",
     "output_type": "stream",
     "text": [
      "Epoch 6/10: 100%|██████████| 352/352 [00:03<00:00, 93.06it/s, accuracy=99.1, loss=0.00305]\n",
      "                                                                                       \r"
     ]
    },
    {
     "name": "stdout",
     "output_type": "stream",
     "text": [
      "End of Epoch 6, Train Loss: 0.02850319072273454, Train Accuracy: 99.06888888888889%, Val Loss: 0.2880430282961767, Val Accuracy: 94.03333333333333%\n"
     ]
    },
    {
     "name": "stderr",
     "output_type": "stream",
     "text": [
      "Epoch 7/10: 100%|██████████| 352/352 [00:03<00:00, 92.54it/s, accuracy=99, loss=0.0162]   \n",
      "                                                                                       \r"
     ]
    },
    {
     "name": "stdout",
     "output_type": "stream",
     "text": [
      "End of Epoch 7, Train Loss: 0.02867060572217187, Train Accuracy: 98.95111111111112%, Val Loss: 0.28519103426675674, Val Accuracy: 94.06%\n"
     ]
    },
    {
     "name": "stderr",
     "output_type": "stream",
     "text": [
      "Epoch 8/10: 100%|██████████| 352/352 [00:03<00:00, 92.52it/s, accuracy=99.1, loss=0.0113] \n",
      "                                                                                       \r"
     ]
    },
    {
     "name": "stdout",
     "output_type": "stream",
     "text": [
      "End of Epoch 8, Train Loss: 0.026123143968024207, Train Accuracy: 99.06%, Val Loss: 0.2938158785987456, Val Accuracy: 94.1%\n"
     ]
    },
    {
     "name": "stderr",
     "output_type": "stream",
     "text": [
      "Epoch 9/10: 100%|██████████| 352/352 [00:03<00:00, 92.88it/s, accuracy=99.1, loss=0.0683] \n",
      "                                                                                      \r"
     ]
    },
    {
     "name": "stdout",
     "output_type": "stream",
     "text": [
      "End of Epoch 9, Train Loss: 0.02480715375449191, Train Accuracy: 99.13111111111111%, Val Loss: 0.2920892788255114, Val Accuracy: 94.03333333333333%\n"
     ]
    },
    {
     "name": "stderr",
     "output_type": "stream",
     "text": [
      "Epoch 10/10: 100%|██████████| 352/352 [00:03<00:00, 93.12it/s, accuracy=99.1, loss=0.00636] \n",
      "                                                                                       "
     ]
    },
    {
     "name": "stdout",
     "output_type": "stream",
     "text": [
      "End of Epoch 10, Train Loss: 0.026033850337129974, Train Accuracy: 99.11111111111111%, Val Loss: 0.2953611172861972, Val Accuracy: 94.18666666666667%\n"
     ]
    },
    {
     "name": "stderr",
     "output_type": "stream",
     "text": [
      "\r"
     ]
    }
   ],
   "source": [
    "# Изменяем скорость обучения, amsgrad, weight_decay\n",
    "optimizer = optim.Adam(model.parameters(), lr=0.0001, betas=(0.9, 0.999), eps=1e-08)  \n",
    "\n",
    "# N-запуск обучения на дополнительные эпохи\n",
    "train_model(model, train_loader, val_loader, 10, device)"
   ]
  },
  {
   "cell_type": "code",
   "execution_count": 21,
   "metadata": {
    "execution": {
     "iopub.execute_input": "2024-05-11T14:28:05.415311Z",
     "iopub.status.busy": "2024-05-11T14:28:05.414342Z",
     "iopub.status.idle": "2024-05-11T14:28:51.156855Z",
     "shell.execute_reply": "2024-05-11T14:28:51.155614Z",
     "shell.execute_reply.started": "2024-05-11T14:28:05.415259Z"
    },
    "tags": []
   },
   "outputs": [
    {
     "name": "stderr",
     "output_type": "stream",
     "text": [
      "Epoch 1/10: 100%|██████████| 352/352 [00:03<00:00, 92.83it/s, accuracy=99, loss=0.0159]   \n",
      "                                                                                       \r"
     ]
    },
    {
     "name": "stdout",
     "output_type": "stream",
     "text": [
      "End of Epoch 1, Train Loss: 0.026916950249869842, Train Accuracy: 99.03555555555556%, Val Loss: 0.2934353596262507, Val Accuracy: 94.1%\n"
     ]
    },
    {
     "name": "stderr",
     "output_type": "stream",
     "text": [
      "Epoch 2/10: 100%|██████████| 352/352 [00:03<00:00, 90.96it/s, accuracy=99.1, loss=0.136]   \n",
      "                                                                                       \r"
     ]
    },
    {
     "name": "stdout",
     "output_type": "stream",
     "text": [
      "End of Epoch 2, Train Loss: 0.025333497354040446, Train Accuracy: 99.11111111111111%, Val Loss: 0.29565490015103657, Val Accuracy: 94.08666666666667%\n"
     ]
    },
    {
     "name": "stderr",
     "output_type": "stream",
     "text": [
      "Epoch 3/10: 100%|██████████| 352/352 [00:03<00:00, 92.16it/s, accuracy=99.1, loss=0.00194] \n",
      "                                                                                       \r"
     ]
    },
    {
     "name": "stdout",
     "output_type": "stream",
     "text": [
      "End of Epoch 3, Train Loss: 0.026632425243157988, Train Accuracy: 99.11555555555556%, Val Loss: 0.29467458574701166, Val Accuracy: 94.12%\n"
     ]
    },
    {
     "name": "stderr",
     "output_type": "stream",
     "text": [
      "Epoch 4/10: 100%|██████████| 352/352 [00:03<00:00, 93.06it/s, accuracy=99.1, loss=0.0117]  \n",
      "                                                                                       \r"
     ]
    },
    {
     "name": "stdout",
     "output_type": "stream",
     "text": [
      "End of Epoch 4, Train Loss: 0.026045238790671152, Train Accuracy: 99.11111111111111%, Val Loss: 0.29288523435845215, Val Accuracy: 94.14%\n"
     ]
    },
    {
     "name": "stderr",
     "output_type": "stream",
     "text": [
      "Epoch 5/10: 100%|██████████| 352/352 [00:03<00:00, 92.92it/s, accuracy=99.1, loss=0.0209]  \n",
      "                                                                                       \r"
     ]
    },
    {
     "name": "stdout",
     "output_type": "stream",
     "text": [
      "End of Epoch 5, Train Loss: 0.025796668649656403, Train Accuracy: 99.1%, Val Loss: 0.29549929075006204, Val Accuracy: 94.07333333333334%\n"
     ]
    },
    {
     "name": "stderr",
     "output_type": "stream",
     "text": [
      "Epoch 6/10: 100%|██████████| 352/352 [00:03<00:00, 91.24it/s, accuracy=99.1, loss=0.0598]  \n",
      "                                                                                       \r"
     ]
    },
    {
     "name": "stdout",
     "output_type": "stream",
     "text": [
      "End of Epoch 6, Train Loss: 0.027414393836310905, Train Accuracy: 99.09777777777778%, Val Loss: 0.2955636728586534, Val Accuracy: 94.11333333333333%\n"
     ]
    },
    {
     "name": "stderr",
     "output_type": "stream",
     "text": [
      "Epoch 7/10: 100%|██████████| 352/352 [00:03<00:00, 92.32it/s, accuracy=99.1, loss=0.0154] \n",
      "                                                                                       \r"
     ]
    },
    {
     "name": "stdout",
     "output_type": "stream",
     "text": [
      "End of Epoch 7, Train Loss: 0.02439144189751956, Train Accuracy: 99.1288888888889%, Val Loss: 0.29193333266460797, Val Accuracy: 94.11333333333333%\n"
     ]
    },
    {
     "name": "stderr",
     "output_type": "stream",
     "text": [
      "Epoch 8/10: 100%|██████████| 352/352 [00:03<00:00, 92.24it/s, accuracy=99.1, loss=0.0628]  \n",
      "                                                                                       \r"
     ]
    },
    {
     "name": "stdout",
     "output_type": "stream",
     "text": [
      "End of Epoch 8, Train Loss: 0.027847121663977636, Train Accuracy: 99.05333333333333%, Val Loss: 0.2945322478032213, Val Accuracy: 94.08%\n"
     ]
    },
    {
     "name": "stderr",
     "output_type": "stream",
     "text": [
      "Epoch 9/10: 100%|██████████| 352/352 [00:03<00:00, 92.94it/s, accuracy=99, loss=0.0263]   \n",
      "                                                                                       \r"
     ]
    },
    {
     "name": "stdout",
     "output_type": "stream",
     "text": [
      "End of Epoch 9, Train Loss: 0.02770159761414768, Train Accuracy: 99.04444444444445%, Val Loss: 0.29405296761226857, Val Accuracy: 94.12%\n"
     ]
    },
    {
     "name": "stderr",
     "output_type": "stream",
     "text": [
      "Epoch 10/10: 100%|██████████| 352/352 [00:03<00:00, 92.78it/s, accuracy=99.1, loss=0.0272] \n",
      "                                                                                       \r"
     ]
    },
    {
     "name": "stdout",
     "output_type": "stream",
     "text": [
      "End of Epoch 10, Train Loss: 0.025586966588393392, Train Accuracy: 99.11555555555556%, Val Loss: 0.2906034413125303, Val Accuracy: 94.1%\n"
     ]
    }
   ],
   "source": [
    "# Изменяем скорость обучения, amsgrad, weight_decay\n",
    "optimizer = optim.Adam(model.parameters(), lr=0.00001, betas=(0.9, 0.9999), eps=1e-09)  \n",
    "\n",
    "# N-запуск обучения на дополнительные эпохи\n",
    "train_model(model, train_loader, val_loader, 10, device)"
   ]
  },
  {
   "cell_type": "code",
   "execution_count": 24,
   "metadata": {
    "execution": {
     "iopub.execute_input": "2024-05-11T14:30:23.846454Z",
     "iopub.status.busy": "2024-05-11T14:30:23.845662Z",
     "iopub.status.idle": "2024-05-11T14:32:41.446559Z",
     "shell.execute_reply": "2024-05-11T14:32:41.445437Z",
     "shell.execute_reply.started": "2024-05-11T14:30:23.846418Z"
    },
    "tags": []
   },
   "outputs": [
    {
     "name": "stderr",
     "output_type": "stream",
     "text": [
      "Epoch 1/30: 100%|██████████| 352/352 [00:03<00:00, 93.06it/s, accuracy=99.1, loss=0.0204] \n",
      "                                                                                       \r"
     ]
    },
    {
     "name": "stdout",
     "output_type": "stream",
     "text": [
      "End of Epoch 1, Train Loss: 0.025715921541466905, Train Accuracy: 99.08444444444444%, Val Loss: 0.2898115144916258, Val Accuracy: 94.12666666666667%\n"
     ]
    },
    {
     "name": "stderr",
     "output_type": "stream",
     "text": [
      "Epoch 2/30: 100%|██████████| 352/352 [00:03<00:00, 91.91it/s, accuracy=99.1, loss=0.0978]  \n",
      "                                                                                       \r"
     ]
    },
    {
     "name": "stdout",
     "output_type": "stream",
     "text": [
      "End of Epoch 2, Train Loss: 0.025791819005462457, Train Accuracy: 99.0911111111111%, Val Loss: 0.29513274908255216, Val Accuracy: 94.07333333333334%\n"
     ]
    },
    {
     "name": "stderr",
     "output_type": "stream",
     "text": [
      "Epoch 3/30: 100%|██████████| 352/352 [00:03<00:00, 92.82it/s, accuracy=99.2, loss=0.0176] \n",
      "                                                                                       \r"
     ]
    },
    {
     "name": "stdout",
     "output_type": "stream",
     "text": [
      "End of Epoch 3, Train Loss: 0.024818289879311287, Train Accuracy: 99.16444444444444%, Val Loss: 0.29327719647563616, Val Accuracy: 94.11333333333333%\n"
     ]
    },
    {
     "name": "stderr",
     "output_type": "stream",
     "text": [
      "Epoch 4/30: 100%|██████████| 352/352 [00:03<00:00, 92.25it/s, accuracy=99.1, loss=0.00344] \n",
      "                                                                                       \r"
     ]
    },
    {
     "name": "stdout",
     "output_type": "stream",
     "text": [
      "End of Epoch 4, Train Loss: 0.02459174730343379, Train Accuracy: 99.1%, Val Loss: 0.2947880613728095, Val Accuracy: 94.13333333333334%\n"
     ]
    },
    {
     "name": "stderr",
     "output_type": "stream",
     "text": [
      "Epoch 5/30: 100%|██████████| 352/352 [00:03<00:00, 93.64it/s, accuracy=99.2, loss=0.0049] \n",
      "                                                                                       \r"
     ]
    },
    {
     "name": "stdout",
     "output_type": "stream",
     "text": [
      "End of Epoch 5, Train Loss: 0.02384221650175856, Train Accuracy: 99.17111111111112%, Val Loss: 0.29117090791716416, Val Accuracy: 94.13333333333334%\n"
     ]
    },
    {
     "name": "stderr",
     "output_type": "stream",
     "text": [
      "Epoch 6/30: 100%|██████████| 352/352 [00:03<00:00, 91.45it/s, accuracy=99.3, loss=0.00213] \n",
      "                                                                                       \r"
     ]
    },
    {
     "name": "stdout",
     "output_type": "stream",
     "text": [
      "End of Epoch 6, Train Loss: 0.02207264957889327, Train Accuracy: 99.25333333333333%, Val Loss: 0.2949692333053987, Val Accuracy: 94.10666666666667%\n"
     ]
    },
    {
     "name": "stderr",
     "output_type": "stream",
     "text": [
      "Epoch 7/30: 100%|██████████| 352/352 [00:03<00:00, 92.70it/s, accuracy=99.1, loss=0.0391] \n",
      "                                                                                       \r"
     ]
    },
    {
     "name": "stdout",
     "output_type": "stream",
     "text": [
      "End of Epoch 7, Train Loss: 0.025015529287636375, Train Accuracy: 99.1288888888889%, Val Loss: 0.29185076222076256, Val Accuracy: 94.1%\n"
     ]
    },
    {
     "name": "stderr",
     "output_type": "stream",
     "text": [
      "Epoch 8/30: 100%|██████████| 352/352 [00:03<00:00, 93.20it/s, accuracy=99.1, loss=0.012]   \n",
      "                                                                                       \r"
     ]
    },
    {
     "name": "stdout",
     "output_type": "stream",
     "text": [
      "End of Epoch 8, Train Loss: 0.02600521256516169, Train Accuracy: 99.10444444444444%, Val Loss: 0.2923118482359638, Val Accuracy: 94.10666666666667%\n"
     ]
    },
    {
     "name": "stderr",
     "output_type": "stream",
     "text": [
      "Epoch 9/30: 100%|██████████| 352/352 [00:03<00:00, 91.98it/s, accuracy=99.2, loss=0.00434]\n",
      "                                                                                       \r"
     ]
    },
    {
     "name": "stdout",
     "output_type": "stream",
     "text": [
      "End of Epoch 9, Train Loss: 0.0249969145142214, Train Accuracy: 99.16888888888889%, Val Loss: 0.2906539811105546, Val Accuracy: 94.14%\n"
     ]
    },
    {
     "name": "stderr",
     "output_type": "stream",
     "text": [
      "Epoch 10/30: 100%|██████████| 352/352 [00:03<00:00, 92.58it/s, accuracy=99.2, loss=0.00551] \n",
      "                                                                                       \r"
     ]
    },
    {
     "name": "stdout",
     "output_type": "stream",
     "text": [
      "End of Epoch 10, Train Loss: 0.02214001106800755, Train Accuracy: 99.19111111111111%, Val Loss: 0.29292168095707893, Val Accuracy: 94.12666666666667%\n"
     ]
    },
    {
     "name": "stderr",
     "output_type": "stream",
     "text": [
      "Epoch 11/30: 100%|██████████| 352/352 [00:03<00:00, 91.65it/s, accuracy=99.1, loss=0.00975]\n",
      "                                                                                       \r"
     ]
    },
    {
     "name": "stdout",
     "output_type": "stream",
     "text": [
      "End of Epoch 11, Train Loss: 0.024867742646661514, Train Accuracy: 99.11555555555556%, Val Loss: 0.29335144561541787, Val Accuracy: 94.08666666666667%\n"
     ]
    },
    {
     "name": "stderr",
     "output_type": "stream",
     "text": [
      "Epoch 12/30: 100%|██████████| 352/352 [00:03<00:00, 91.82it/s, accuracy=99.2, loss=0.012]  \n",
      "                                                                                       \r"
     ]
    },
    {
     "name": "stdout",
     "output_type": "stream",
     "text": [
      "End of Epoch 12, Train Loss: 0.02352694872355311, Train Accuracy: 99.17111111111112%, Val Loss: 0.290519654877105, Val Accuracy: 94.13333333333334%\n"
     ]
    },
    {
     "name": "stderr",
     "output_type": "stream",
     "text": [
      "Epoch 13/30: 100%|██████████| 352/352 [00:03<00:00, 91.91it/s, accuracy=99.2, loss=0.00697] \n",
      "                                                                                       \r"
     ]
    },
    {
     "name": "stdout",
     "output_type": "stream",
     "text": [
      "End of Epoch 13, Train Loss: 0.02504212856415093, Train Accuracy: 99.15333333333334%, Val Loss: 0.29211833362735934, Val Accuracy: 94.12666666666667%\n"
     ]
    },
    {
     "name": "stderr",
     "output_type": "stream",
     "text": [
      "Epoch 14/30: 100%|██████████| 352/352 [00:03<00:00, 91.79it/s, accuracy=99.1, loss=0.00534]\n",
      "                                                                                       \r"
     ]
    },
    {
     "name": "stdout",
     "output_type": "stream",
     "text": [
      "End of Epoch 14, Train Loss: 0.023801655265494694, Train Accuracy: 99.1288888888889%, Val Loss: 0.2956433093049011, Val Accuracy: 94.12%\n"
     ]
    },
    {
     "name": "stderr",
     "output_type": "stream",
     "text": [
      "Epoch 15/30: 100%|██████████| 352/352 [00:03<00:00, 92.10it/s, accuracy=99.2, loss=0.0453]  \n",
      "                                                                                       \r"
     ]
    },
    {
     "name": "stdout",
     "output_type": "stream",
     "text": [
      "End of Epoch 15, Train Loss: 0.02420411772800435, Train Accuracy: 99.16666666666667%, Val Loss: 0.28919998801044994, Val Accuracy: 94.18666666666667%\n"
     ]
    },
    {
     "name": "stderr",
     "output_type": "stream",
     "text": [
      "Epoch 16/30: 100%|██████████| 352/352 [00:03<00:00, 92.01it/s, accuracy=99.2, loss=0.047]   \n",
      "                                                                                       \r"
     ]
    },
    {
     "name": "stdout",
     "output_type": "stream",
     "text": [
      "End of Epoch 16, Train Loss: 0.024108340207848498, Train Accuracy: 99.17777777777778%, Val Loss: 0.29277363721028726, Val Accuracy: 94.10666666666667%\n"
     ]
    },
    {
     "name": "stderr",
     "output_type": "stream",
     "text": [
      "Epoch 17/30: 100%|██████████| 352/352 [00:03<00:00, 92.67it/s, accuracy=99.1, loss=0.00648] \n",
      "                                                                                       \r"
     ]
    },
    {
     "name": "stdout",
     "output_type": "stream",
     "text": [
      "End of Epoch 17, Train Loss: 0.024807699827513054, Train Accuracy: 99.14666666666666%, Val Loss: 0.2911629216998058, Val Accuracy: 94.21333333333334%\n"
     ]
    },
    {
     "name": "stderr",
     "output_type": "stream",
     "text": [
      "Epoch 18/30: 100%|██████████| 352/352 [00:03<00:00, 92.15it/s, accuracy=99.1, loss=0.00641]\n",
      "                                                                                       \r"
     ]
    },
    {
     "name": "stdout",
     "output_type": "stream",
     "text": [
      "End of Epoch 18, Train Loss: 0.02471375579129513, Train Accuracy: 99.08222222222223%, Val Loss: 0.2911314307475242, Val Accuracy: 94.16666666666667%\n"
     ]
    },
    {
     "name": "stderr",
     "output_type": "stream",
     "text": [
      "Epoch 19/30: 100%|██████████| 352/352 [00:03<00:00, 91.64it/s, accuracy=99.1, loss=0.0048] \n",
      "                                                                                       \r"
     ]
    },
    {
     "name": "stdout",
     "output_type": "stream",
     "text": [
      "End of Epoch 19, Train Loss: 0.025341204294818453, Train Accuracy: 99.10666666666667%, Val Loss: 0.2930152328937488, Val Accuracy: 94.14666666666666%\n"
     ]
    },
    {
     "name": "stderr",
     "output_type": "stream",
     "text": [
      "Epoch 20/30: 100%|██████████| 352/352 [00:03<00:00, 91.22it/s, accuracy=99.2, loss=0.0293]  \n",
      "                                                                                       \r"
     ]
    },
    {
     "name": "stdout",
     "output_type": "stream",
     "text": [
      "End of Epoch 20, Train Loss: 0.024389036466841804, Train Accuracy: 99.18888888888888%, Val Loss: 0.2937646698585506, Val Accuracy: 94.12666666666667%\n"
     ]
    },
    {
     "name": "stderr",
     "output_type": "stream",
     "text": [
      "Epoch 21/30: 100%|██████████| 352/352 [00:03<00:00, 92.81it/s, accuracy=99.2, loss=0.000623]\n",
      "                                                                                       \r"
     ]
    },
    {
     "name": "stdout",
     "output_type": "stream",
     "text": [
      "End of Epoch 21, Train Loss: 0.023493477243557045, Train Accuracy: 99.16444444444444%, Val Loss: 0.2942169971322104, Val Accuracy: 94.10666666666667%\n"
     ]
    },
    {
     "name": "stderr",
     "output_type": "stream",
     "text": [
      "Epoch 22/30: 100%|██████████| 352/352 [00:03<00:00, 91.59it/s, accuracy=99.1, loss=0.0447]  \n",
      "                                                                                       \r"
     ]
    },
    {
     "name": "stdout",
     "output_type": "stream",
     "text": [
      "End of Epoch 22, Train Loss: 0.024925385019245863, Train Accuracy: 99.12222222222222%, Val Loss: 0.2937061810960709, Val Accuracy: 94.14%\n"
     ]
    },
    {
     "name": "stderr",
     "output_type": "stream",
     "text": [
      "Epoch 23/30: 100%|██████████| 352/352 [00:03<00:00, 92.66it/s, accuracy=99.2, loss=0.0057] \n",
      "                                                                                       \r"
     ]
    },
    {
     "name": "stdout",
     "output_type": "stream",
     "text": [
      "End of Epoch 23, Train Loss: 0.023058839760861618, Train Accuracy: 99.18222222222222%, Val Loss: 0.29433579897602735, Val Accuracy: 94.18666666666667%\n"
     ]
    },
    {
     "name": "stderr",
     "output_type": "stream",
     "text": [
      "Epoch 24/30: 100%|██████████| 352/352 [00:03<00:00, 91.73it/s, accuracy=99.2, loss=0.00361]\n",
      "                                                                                       \r"
     ]
    },
    {
     "name": "stdout",
     "output_type": "stream",
     "text": [
      "End of Epoch 24, Train Loss: 0.02373179427972487, Train Accuracy: 99.23333333333333%, Val Loss: 0.2893659502457259, Val Accuracy: 94.16%\n"
     ]
    },
    {
     "name": "stderr",
     "output_type": "stream",
     "text": [
      "Epoch 25/30: 100%|██████████| 352/352 [00:03<00:00, 91.46it/s, accuracy=99.1, loss=0.00625] \n",
      "                                                                                       \r"
     ]
    },
    {
     "name": "stdout",
     "output_type": "stream",
     "text": [
      "End of Epoch 25, Train Loss: 0.022904996552576697, Train Accuracy: 99.12444444444445%, Val Loss: 0.29088087144733993, Val Accuracy: 94.18666666666667%\n"
     ]
    },
    {
     "name": "stderr",
     "output_type": "stream",
     "text": [
      "Epoch 26/30: 100%|██████████| 352/352 [00:03<00:00, 91.68it/s, accuracy=99.2, loss=0.00486] \n",
      "                                                                                       \r"
     ]
    },
    {
     "name": "stdout",
     "output_type": "stream",
     "text": [
      "End of Epoch 26, Train Loss: 0.024694791296496987, Train Accuracy: 99.16888888888889%, Val Loss: 0.2961981450286457, Val Accuracy: 94.14666666666666%\n"
     ]
    },
    {
     "name": "stderr",
     "output_type": "stream",
     "text": [
      "Epoch 27/30: 100%|██████████| 352/352 [00:03<00:00, 91.58it/s, accuracy=99.2, loss=0.186]   \n",
      "                                                                                       \r"
     ]
    },
    {
     "name": "stdout",
     "output_type": "stream",
     "text": [
      "End of Epoch 27, Train Loss: 0.023937884306095922, Train Accuracy: 99.18666666666667%, Val Loss: 0.29438851475399935, Val Accuracy: 94.16%\n"
     ]
    },
    {
     "name": "stderr",
     "output_type": "stream",
     "text": [
      "Epoch 28/30: 100%|██████████| 352/352 [00:03<00:00, 89.93it/s, accuracy=99.2, loss=0.0149] \n",
      "                                                                                       \r"
     ]
    },
    {
     "name": "stdout",
     "output_type": "stream",
     "text": [
      "End of Epoch 28, Train Loss: 0.023051631353816694, Train Accuracy: 99.19333333333333%, Val Loss: 0.2954013926782093, Val Accuracy: 94.12666666666667%\n"
     ]
    },
    {
     "name": "stderr",
     "output_type": "stream",
     "text": [
      "Epoch 29/30: 100%|██████████| 352/352 [00:03<00:00, 91.82it/s, accuracy=99.2, loss=0.00302] \n",
      "                                                                                       \r"
     ]
    },
    {
     "name": "stdout",
     "output_type": "stream",
     "text": [
      "End of Epoch 29, Train Loss: 0.024455836951098965, Train Accuracy: 99.18222222222222%, Val Loss: 0.29240329727783043, Val Accuracy: 94.11333333333333%\n"
     ]
    },
    {
     "name": "stderr",
     "output_type": "stream",
     "text": [
      "Epoch 30/30: 100%|██████████| 352/352 [00:03<00:00, 91.84it/s, accuracy=99.2, loss=0.00416] \n",
      "                                                                                       "
     ]
    },
    {
     "name": "stdout",
     "output_type": "stream",
     "text": [
      "End of Epoch 30, Train Loss: 0.024057218085710538, Train Accuracy: 99.1511111111111%, Val Loss: 0.29354179453231016, Val Accuracy: 94.13333333333334%\n"
     ]
    },
    {
     "name": "stderr",
     "output_type": "stream",
     "text": [
      "\r"
     ]
    }
   ],
   "source": [
    "# Изменяем скорость обучения, amsgrad, weight_decay\n",
    "optimizer = optim.Adam(model.parameters(), lr=0.00001, betas=(0.9, 0.9999), eps=1e-09)  \n",
    "\n",
    "# N-запуск обучения на дополнительные эпохи\n",
    "train_model(model, train_loader, val_loader, 30, device)"
   ]
  },
  {
   "cell_type": "markdown",
   "metadata": {},
   "source": [
    "#### Функция оценки модели. Промежуточная оценка натренированной модели"
   ]
  },
  {
   "cell_type": "code",
   "execution_count": 26,
   "metadata": {
    "execution": {
     "iopub.execute_input": "2024-05-11T14:32:49.090381Z",
     "iopub.status.busy": "2024-05-11T14:32:49.089610Z",
     "iopub.status.idle": "2024-05-11T14:32:49.736511Z",
     "shell.execute_reply": "2024-05-11T14:32:49.735364Z",
     "shell.execute_reply.started": "2024-05-11T14:32:49.090342Z"
    },
    "tags": []
   },
   "outputs": [
    {
     "name": "stderr",
     "output_type": "stream",
     "text": [
      "Testing: 100%|██████████| 313/313 [00:00<00:00, 502.87it/s]"
     ]
    },
    {
     "name": "stdout",
     "output_type": "stream",
     "text": [
      "Test loss: 0.2713372809362619\n",
      "Test accuracy: 94.19\n"
     ]
    },
    {
     "name": "stderr",
     "output_type": "stream",
     "text": [
      "\n"
     ]
    }
   ],
   "source": [
    "def evaluate_model(model, test_loader, criterion, device):\n",
    "    model.eval()  # Переключить модель в режим оценки\n",
    "    test_loss = 0.0\n",
    "    correct = 0\n",
    "    total = 0\n",
    "\n",
    "    with torch.no_grad():  # Отключение градиентов для оценки\n",
    "        for images, labels in tqdm(test_loader, total=len(test_loader), leave=True, position=0, desc='Testing'):\n",
    "            images, labels = images.to(device), labels.to(device)\n",
    "            outputs = model(images)\n",
    "            loss = criterion(outputs, labels)\n",
    "            test_loss += loss.item()  # Суммирование потерь\n",
    "            _, predicted = torch.max(outputs.data, 1)\n",
    "            total += labels.size(0)\n",
    "            correct += (predicted == labels).sum().item()\n",
    "\n",
    "    avg_loss = test_loss / len(test_loader)\n",
    "    accuracy = 100 * correct / total\n",
    "    return avg_loss, accuracy\n",
    "\n",
    "# Создание тестового DataLoader\n",
    "test_dataset = TensorDataset(X_test, y_test)\n",
    "test_loader = DataLoader(test_dataset, batch_size=32, shuffle=False)\n",
    "\n",
    "# Определение функции потерь\n",
    "criterion = nn.CrossEntropyLoss()\n",
    "\n",
    "# Вызов функции оценки модели\n",
    "test_loss, test_accuracy = evaluate_model(model, test_loader, criterion, device)\n",
    "\n",
    "# Вывод результатов\n",
    "print('Test loss:', test_loss)\n",
    "print('Test accuracy:', test_accuracy)"
   ]
  },
  {
   "cell_type": "code",
   "execution_count": 28,
   "metadata": {
    "execution": {
     "iopub.execute_input": "2024-05-11T14:34:55.663517Z",
     "iopub.status.busy": "2024-05-11T14:34:55.662557Z",
     "iopub.status.idle": "2024-05-11T14:37:13.156768Z",
     "shell.execute_reply": "2024-05-11T14:37:13.155581Z",
     "shell.execute_reply.started": "2024-05-11T14:34:55.663483Z"
    },
    "tags": []
   },
   "outputs": [
    {
     "name": "stderr",
     "output_type": "stream",
     "text": [
      "Epoch 1/30: 100%|██████████| 352/352 [00:03<00:00, 92.52it/s, accuracy=99.2, loss=0.041]  \n",
      "                                                                                       \r"
     ]
    },
    {
     "name": "stdout",
     "output_type": "stream",
     "text": [
      "End of Epoch 1, Train Loss: 0.02423134986383957, Train Accuracy: 99.16888888888889%, Val Loss: 0.2919871429675969, Val Accuracy: 94.10666666666667%\n"
     ]
    },
    {
     "name": "stderr",
     "output_type": "stream",
     "text": [
      "Epoch 2/30: 100%|██████████| 352/352 [00:03<00:00, 91.39it/s, accuracy=99.2, loss=0.0383] \n",
      "                                                                                       \r"
     ]
    },
    {
     "name": "stdout",
     "output_type": "stream",
     "text": [
      "End of Epoch 2, Train Loss: 0.025140236794455137, Train Accuracy: 99.17111111111112%, Val Loss: 0.29465924896362977, Val Accuracy: 94.08%\n"
     ]
    },
    {
     "name": "stderr",
     "output_type": "stream",
     "text": [
      "Epoch 3/30: 100%|██████████| 352/352 [00:03<00:00, 90.69it/s, accuracy=99.2, loss=0.029]   \n",
      "                                                                                      \r"
     ]
    },
    {
     "name": "stdout",
     "output_type": "stream",
     "text": [
      "End of Epoch 3, Train Loss: 0.022519252121128375, Train Accuracy: 99.22222222222223%, Val Loss: 0.2924429772074445, Val Accuracy: 94.16666666666667%\n"
     ]
    },
    {
     "name": "stderr",
     "output_type": "stream",
     "text": [
      "Epoch 4/30: 100%|██████████| 352/352 [00:03<00:00, 90.84it/s, accuracy=99.2, loss=0.0486]  \n",
      "                                                                                       \r"
     ]
    },
    {
     "name": "stdout",
     "output_type": "stream",
     "text": [
      "End of Epoch 4, Train Loss: 0.024828129081056846, Train Accuracy: 99.16444444444444%, Val Loss: 0.29298971332925355, Val Accuracy: 94.19333333333333%\n"
     ]
    },
    {
     "name": "stderr",
     "output_type": "stream",
     "text": [
      "Epoch 5/30: 100%|██████████| 352/352 [00:03<00:00, 92.46it/s, accuracy=99.2, loss=0.062]   \n",
      "                                                                                       \r"
     ]
    },
    {
     "name": "stdout",
     "output_type": "stream",
     "text": [
      "End of Epoch 5, Train Loss: 0.024665126362213578, Train Accuracy: 99.15333333333334%, Val Loss: 0.29187098364898206, Val Accuracy: 94.18%\n"
     ]
    },
    {
     "name": "stderr",
     "output_type": "stream",
     "text": [
      "Epoch 6/30: 100%|██████████| 352/352 [00:03<00:00, 93.07it/s, accuracy=99.2, loss=0.015]  \n",
      "                                                                                       \r"
     ]
    },
    {
     "name": "stdout",
     "output_type": "stream",
     "text": [
      "End of Epoch 6, Train Loss: 0.02370134289760079, Train Accuracy: 99.20222222222222%, Val Loss: 0.29171343406630773, Val Accuracy: 94.17333333333333%\n"
     ]
    },
    {
     "name": "stderr",
     "output_type": "stream",
     "text": [
      "Epoch 7/30: 100%|██████████| 352/352 [00:03<00:00, 92.26it/s, accuracy=99.1, loss=0.00758]\n",
      "                                                                                       \r"
     ]
    },
    {
     "name": "stdout",
     "output_type": "stream",
     "text": [
      "End of Epoch 7, Train Loss: 0.024177697982271307, Train Accuracy: 99.13111111111111%, Val Loss: 0.29161192861906554, Val Accuracy: 94.11333333333333%\n"
     ]
    },
    {
     "name": "stderr",
     "output_type": "stream",
     "text": [
      "Epoch 8/30: 100%|██████████| 352/352 [00:03<00:00, 91.42it/s, accuracy=99.1, loss=0.00885] \n",
      "                                                                                       \r"
     ]
    },
    {
     "name": "stdout",
     "output_type": "stream",
     "text": [
      "End of Epoch 8, Train Loss: 0.025190599780464916, Train Accuracy: 99.13555555555556%, Val Loss: 0.2893933690137277, Val Accuracy: 94.13333333333334%\n"
     ]
    },
    {
     "name": "stderr",
     "output_type": "stream",
     "text": [
      "Epoch 9/30: 100%|██████████| 352/352 [00:03<00:00, 91.31it/s, accuracy=99.3, loss=0.169]   \n",
      "                                                                                       \r"
     ]
    },
    {
     "name": "stdout",
     "output_type": "stream",
     "text": [
      "End of Epoch 9, Train Loss: 0.023172858319329945, Train Accuracy: 99.26222222222222%, Val Loss: 0.29442082366006356, Val Accuracy: 94.17333333333333%\n"
     ]
    },
    {
     "name": "stderr",
     "output_type": "stream",
     "text": [
      "Epoch 10/30: 100%|██████████| 352/352 [00:03<00:00, 92.55it/s, accuracy=99.2, loss=0.04]    \n",
      "                                                                                       \r"
     ]
    },
    {
     "name": "stdout",
     "output_type": "stream",
     "text": [
      "End of Epoch 10, Train Loss: 0.02405686130821943, Train Accuracy: 99.1511111111111%, Val Loss: 0.292794386619481, Val Accuracy: 94.12666666666667%\n"
     ]
    },
    {
     "name": "stderr",
     "output_type": "stream",
     "text": [
      "Epoch 11/30: 100%|██████████| 352/352 [00:03<00:00, 92.02it/s, accuracy=99.1, loss=0.00573]\n",
      "                                                                                       \r"
     ]
    },
    {
     "name": "stdout",
     "output_type": "stream",
     "text": [
      "End of Epoch 11, Train Loss: 0.025432406544330825, Train Accuracy: 99.07555555555555%, Val Loss: 0.29353273388440326, Val Accuracy: 94.18%\n"
     ]
    },
    {
     "name": "stderr",
     "output_type": "stream",
     "text": [
      "Epoch 12/30: 100%|██████████| 352/352 [00:03<00:00, 93.16it/s, accuracy=99.2, loss=0.0125]  \n",
      "                                                                                       \r"
     ]
    },
    {
     "name": "stdout",
     "output_type": "stream",
     "text": [
      "End of Epoch 12, Train Loss: 0.023285453881643745, Train Accuracy: 99.21777777777778%, Val Loss: 0.2920098433081629, Val Accuracy: 94.09333333333333%\n"
     ]
    },
    {
     "name": "stderr",
     "output_type": "stream",
     "text": [
      "Epoch 13/30: 100%|██████████| 352/352 [00:03<00:00, 92.88it/s, accuracy=99.2, loss=0.00294] \n",
      "                                                                                       \r"
     ]
    },
    {
     "name": "stdout",
     "output_type": "stream",
     "text": [
      "End of Epoch 13, Train Loss: 0.02329916537366278, Train Accuracy: 99.1511111111111%, Val Loss: 0.29313605809110704, Val Accuracy: 94.16%\n"
     ]
    },
    {
     "name": "stderr",
     "output_type": "stream",
     "text": [
      "Epoch 14/30: 100%|██████████| 352/352 [00:03<00:00, 92.45it/s, accuracy=99, loss=0.0523]   \n",
      "                                                                                       \r"
     ]
    },
    {
     "name": "stdout",
     "output_type": "stream",
     "text": [
      "End of Epoch 14, Train Loss: 0.025285609524706324, Train Accuracy: 99.04222222222222%, Val Loss: 0.2930976626763152, Val Accuracy: 94.15333333333334%\n"
     ]
    },
    {
     "name": "stderr",
     "output_type": "stream",
     "text": [
      "Epoch 15/30: 100%|██████████| 352/352 [00:03<00:00, 91.28it/s, accuracy=99.3, loss=0.0367]  \n",
      "                                                                                       \r"
     ]
    },
    {
     "name": "stdout",
     "output_type": "stream",
     "text": [
      "End of Epoch 15, Train Loss: 0.02098762416542079, Train Accuracy: 99.25333333333333%, Val Loss: 0.29629434323159315, Val Accuracy: 94.10666666666667%\n"
     ]
    },
    {
     "name": "stderr",
     "output_type": "stream",
     "text": [
      "Epoch 16/30: 100%|██████████| 352/352 [00:03<00:00, 92.99it/s, accuracy=99.2, loss=0.0236]  \n",
      "                                                                                       \r"
     ]
    },
    {
     "name": "stdout",
     "output_type": "stream",
     "text": [
      "End of Epoch 16, Train Loss: 0.022866800194110096, Train Accuracy: 99.22444444444444%, Val Loss: 0.2919194930532979, Val Accuracy: 94.14%\n"
     ]
    },
    {
     "name": "stderr",
     "output_type": "stream",
     "text": [
      "Epoch 17/30: 100%|██████████| 352/352 [00:03<00:00, 90.94it/s, accuracy=99.2, loss=0.0205]  \n",
      "                                                                                       \r"
     ]
    },
    {
     "name": "stdout",
     "output_type": "stream",
     "text": [
      "End of Epoch 17, Train Loss: 0.02312158189538009, Train Accuracy: 99.22666666666667%, Val Loss: 0.2938828495631026, Val Accuracy: 94.1%\n"
     ]
    },
    {
     "name": "stderr",
     "output_type": "stream",
     "text": [
      "Epoch 18/30: 100%|██████████| 352/352 [00:03<00:00, 92.79it/s, accuracy=99.2, loss=0.00543] \n",
      "                                                                                       \r"
     ]
    },
    {
     "name": "stdout",
     "output_type": "stream",
     "text": [
      "End of Epoch 18, Train Loss: 0.021829155247938947, Train Accuracy: 99.23777777777778%, Val Loss: 0.2928169002693336, Val Accuracy: 94.16666666666667%\n"
     ]
    },
    {
     "name": "stderr",
     "output_type": "stream",
     "text": [
      "Epoch 19/30: 100%|██████████| 352/352 [00:03<00:00, 92.41it/s, accuracy=99.1, loss=0.121]   \n",
      "                                                                                       \r"
     ]
    },
    {
     "name": "stdout",
     "output_type": "stream",
     "text": [
      "End of Epoch 19, Train Loss: 0.02461948559241798, Train Accuracy: 99.12222222222222%, Val Loss: 0.296344200086038, Val Accuracy: 94.17333333333333%\n"
     ]
    },
    {
     "name": "stderr",
     "output_type": "stream",
     "text": [
      "Epoch 20/30: 100%|██████████| 352/352 [00:03<00:00, 92.56it/s, accuracy=99.2, loss=0.00236]\n",
      "                                                                                       \r"
     ]
    },
    {
     "name": "stdout",
     "output_type": "stream",
     "text": [
      "End of Epoch 20, Train Loss: 0.022776507422597868, Train Accuracy: 99.17777777777778%, Val Loss: 0.29740564441466233, Val Accuracy: 94.14666666666666%\n"
     ]
    },
    {
     "name": "stderr",
     "output_type": "stream",
     "text": [
      "Epoch 21/30: 100%|██████████| 352/352 [00:03<00:00, 91.46it/s, accuracy=99.2, loss=0.00878]\n",
      "                                                                                       \r"
     ]
    },
    {
     "name": "stdout",
     "output_type": "stream",
     "text": [
      "End of Epoch 21, Train Loss: 0.022396189327661308, Train Accuracy: 99.18222222222222%, Val Loss: 0.29691876613108786, Val Accuracy: 94.1%\n"
     ]
    },
    {
     "name": "stderr",
     "output_type": "stream",
     "text": [
      "Epoch 22/30: 100%|██████████| 352/352 [00:03<00:00, 92.51it/s, accuracy=99.2, loss=0.0188]  \n",
      "                                                                                       \r"
     ]
    },
    {
     "name": "stdout",
     "output_type": "stream",
     "text": [
      "End of Epoch 22, Train Loss: 0.02184225934037055, Train Accuracy: 99.24444444444444%, Val Loss: 0.294779708987828, Val Accuracy: 94.11333333333333%\n"
     ]
    },
    {
     "name": "stderr",
     "output_type": "stream",
     "text": [
      "Epoch 23/30: 100%|██████████| 352/352 [00:03<00:00, 91.53it/s, accuracy=99.2, loss=0.0839]  \n",
      "                                                                                       \r"
     ]
    },
    {
     "name": "stdout",
     "output_type": "stream",
     "text": [
      "End of Epoch 23, Train Loss: 0.024979772027853123, Train Accuracy: 99.15555555555555%, Val Loss: 0.29749561388487533, Val Accuracy: 94.2%\n"
     ]
    },
    {
     "name": "stderr",
     "output_type": "stream",
     "text": [
      "Epoch 24/30: 100%|██████████| 352/352 [00:03<00:00, 93.07it/s, accuracy=99.2, loss=0.0386]  \n",
      "                                                                                       \r"
     ]
    },
    {
     "name": "stdout",
     "output_type": "stream",
     "text": [
      "End of Epoch 24, Train Loss: 0.02462125880546492, Train Accuracy: 99.18888888888888%, Val Loss: 0.2920172792875161, Val Accuracy: 94.13333333333334%\n"
     ]
    },
    {
     "name": "stderr",
     "output_type": "stream",
     "text": [
      "Epoch 25/30: 100%|██████████| 352/352 [00:03<00:00, 93.36it/s, accuracy=99.2, loss=0.00731] \n",
      "                                                                                       \r"
     ]
    },
    {
     "name": "stdout",
     "output_type": "stream",
     "text": [
      "End of Epoch 25, Train Loss: 0.02283487191065929, Train Accuracy: 99.24888888888889%, Val Loss: 0.29185947884758145, Val Accuracy: 94.15333333333334%\n"
     ]
    },
    {
     "name": "stderr",
     "output_type": "stream",
     "text": [
      "Epoch 26/30: 100%|██████████| 352/352 [00:03<00:00, 92.61it/s, accuracy=99.2, loss=0.0155]  \n",
      "                                                                                       \r"
     ]
    },
    {
     "name": "stdout",
     "output_type": "stream",
     "text": [
      "End of Epoch 26, Train Loss: 0.022509847576657194, Train Accuracy: 99.18444444444444%, Val Loss: 0.2925409709371753, Val Accuracy: 94.13333333333334%\n"
     ]
    },
    {
     "name": "stderr",
     "output_type": "stream",
     "text": [
      "Epoch 27/30: 100%|██████████| 352/352 [00:03<00:00, 92.69it/s, accuracy=99.2, loss=0.0413]  \n",
      "                                                                                       \r"
     ]
    },
    {
     "name": "stdout",
     "output_type": "stream",
     "text": [
      "End of Epoch 27, Train Loss: 0.022336593956589986, Train Accuracy: 99.19333333333333%, Val Loss: 0.29233695628216205, Val Accuracy: 94.18666666666667%\n"
     ]
    },
    {
     "name": "stderr",
     "output_type": "stream",
     "text": [
      "Epoch 28/30: 100%|██████████| 352/352 [00:03<00:00, 92.11it/s, accuracy=99.2, loss=0.0308]  \n",
      "                                                                                       \r"
     ]
    },
    {
     "name": "stdout",
     "output_type": "stream",
     "text": [
      "End of Epoch 28, Train Loss: 0.02367223579097878, Train Accuracy: 99.18%, Val Loss: 0.2965739113673315, Val Accuracy: 94.15333333333334%\n"
     ]
    },
    {
     "name": "stderr",
     "output_type": "stream",
     "text": [
      "Epoch 29/30: 100%|██████████| 352/352 [00:03<00:00, 92.18it/s, accuracy=99.2, loss=0.00272] \n",
      "                                                                                       \r"
     ]
    },
    {
     "name": "stdout",
     "output_type": "stream",
     "text": [
      "End of Epoch 29, Train Loss: 0.02365823408829535, Train Accuracy: 99.2%, Val Loss: 0.29145054151382993, Val Accuracy: 94.14%\n"
     ]
    },
    {
     "name": "stderr",
     "output_type": "stream",
     "text": [
      "Epoch 30/30: 100%|██████████| 352/352 [00:03<00:00, 91.17it/s, accuracy=99.1, loss=0.0133]  \n",
      "                                                                                       "
     ]
    },
    {
     "name": "stdout",
     "output_type": "stream",
     "text": [
      "End of Epoch 30, Train Loss: 0.024654356708858606, Train Accuracy: 99.13333333333334%, Val Loss: 0.2946416636044949, Val Accuracy: 94.12%\n"
     ]
    },
    {
     "name": "stderr",
     "output_type": "stream",
     "text": [
      "\r"
     ]
    }
   ],
   "source": [
    "# Изменяем скорость обучения, amsgrad, weight_decay\n",
    "optimizer = optim.Adam(model.parameters(), lr=0.000001, betas=(0.95, 0.9999), eps=1e-10)  \n",
    "\n",
    "# N-запуск обучения на дополнительные эпохи\n",
    "train_model(model, train_loader, val_loader, 30, device)"
   ]
  },
  {
   "cell_type": "markdown",
   "metadata": {},
   "source": [
    "#### Промежуточная оценка натренированной модели. \n",
    "лучший Test accuracy: 94.19"
   ]
  },
  {
   "cell_type": "code",
   "execution_count": 29,
   "metadata": {
    "execution": {
     "iopub.execute_input": "2024-05-11T14:37:59.454526Z",
     "iopub.status.busy": "2024-05-11T14:37:59.453522Z",
     "iopub.status.idle": "2024-05-11T14:38:00.147006Z",
     "shell.execute_reply": "2024-05-11T14:38:00.145750Z",
     "shell.execute_reply.started": "2024-05-11T14:37:59.454476Z"
    }
   },
   "outputs": [
    {
     "name": "stderr",
     "output_type": "stream",
     "text": [
      "Testing: 100%|██████████| 313/313 [00:00<00:00, 492.60it/s]"
     ]
    },
    {
     "name": "stdout",
     "output_type": "stream",
     "text": [
      "Test loss: 0.2739715861577124\n",
      "Test accuracy: 94.19\n"
     ]
    },
    {
     "name": "stderr",
     "output_type": "stream",
     "text": [
      "\n"
     ]
    }
   ],
   "source": [
    "# Вызов функции оценки модели\n",
    "test_loss, test_accuracy = evaluate_model(model, test_loader, criterion, device)\n",
    "\n",
    "# Вывод результатов\n",
    "print('Test loss:', test_loss)\n",
    "print('Test accuracy:', test_accuracy)"
   ]
  },
  {
   "cell_type": "code",
   "execution_count": 30,
   "metadata": {
    "execution": {
     "iopub.execute_input": "2024-05-11T14:38:47.881109Z",
     "iopub.status.busy": "2024-05-11T14:38:47.880210Z",
     "iopub.status.idle": "2024-05-11T14:41:05.290374Z",
     "shell.execute_reply": "2024-05-11T14:41:05.289006Z",
     "shell.execute_reply.started": "2024-05-11T14:38:47.881058Z"
    },
    "tags": []
   },
   "outputs": [
    {
     "name": "stderr",
     "output_type": "stream",
     "text": [
      "Epoch 1/30: 100%|██████████| 352/352 [00:03<00:00, 93.66it/s, accuracy=99.1, loss=0.00237] \n",
      "                                                                                       \r"
     ]
    },
    {
     "name": "stdout",
     "output_type": "stream",
     "text": [
      "End of Epoch 1, Train Loss: 0.023428398187620172, Train Accuracy: 99.14888888888889%, Val Loss: 0.29482979224836925, Val Accuracy: 94.14666666666666%\n"
     ]
    },
    {
     "name": "stderr",
     "output_type": "stream",
     "text": [
      "Epoch 2/30: 100%|██████████| 352/352 [00:03<00:00, 92.05it/s, accuracy=99.2, loss=0.0113] \n",
      "                                                                                       \r"
     ]
    },
    {
     "name": "stdout",
     "output_type": "stream",
     "text": [
      "End of Epoch 2, Train Loss: 0.024218660260389283, Train Accuracy: 99.17333333333333%, Val Loss: 0.2986540622156808, Val Accuracy: 94.11333333333333%\n"
     ]
    },
    {
     "name": "stderr",
     "output_type": "stream",
     "text": [
      "Epoch 3/30: 100%|██████████| 352/352 [00:03<00:00, 91.75it/s, accuracy=99.2, loss=0.0299]  \n",
      "                                                                                       \r"
     ]
    },
    {
     "name": "stdout",
     "output_type": "stream",
     "text": [
      "End of Epoch 3, Train Loss: 0.022769963436572158, Train Accuracy: 99.20222222222222%, Val Loss: 0.2927379373902992, Val Accuracy: 94.18%\n"
     ]
    },
    {
     "name": "stderr",
     "output_type": "stream",
     "text": [
      "Epoch 4/30: 100%|██████████| 352/352 [00:03<00:00, 91.20it/s, accuracy=99.2, loss=0.00269] \n",
      "                                                                                       \r"
     ]
    },
    {
     "name": "stdout",
     "output_type": "stream",
     "text": [
      "End of Epoch 4, Train Loss: 0.02167189739653126, Train Accuracy: 99.24666666666667%, Val Loss: 0.29230839943797404, Val Accuracy: 94.16666666666667%\n"
     ]
    },
    {
     "name": "stderr",
     "output_type": "stream",
     "text": [
      "Epoch 5/30: 100%|██████████| 352/352 [00:03<00:00, 90.75it/s, accuracy=99.2, loss=0.00503] \n",
      "                                                                                       \r"
     ]
    },
    {
     "name": "stdout",
     "output_type": "stream",
     "text": [
      "End of Epoch 5, Train Loss: 0.0235187090388949, Train Accuracy: 99.16888888888889%, Val Loss: 0.29634204617369986, Val Accuracy: 94.07333333333334%\n"
     ]
    },
    {
     "name": "stderr",
     "output_type": "stream",
     "text": [
      "Epoch 6/30: 100%|██████████| 352/352 [00:03<00:00, 93.02it/s, accuracy=99.2, loss=0.00107]\n",
      "                                                                                       \r"
     ]
    },
    {
     "name": "stdout",
     "output_type": "stream",
     "text": [
      "End of Epoch 6, Train Loss: 0.022062440918902707, Train Accuracy: 99.16222222222223%, Val Loss: 0.2950954855877464, Val Accuracy: 94.12666666666667%\n"
     ]
    },
    {
     "name": "stderr",
     "output_type": "stream",
     "text": [
      "Epoch 7/30: 100%|██████████| 352/352 [00:03<00:00, 92.54it/s, accuracy=99.2, loss=0.00546] \n",
      "                                                                                       \r"
     ]
    },
    {
     "name": "stdout",
     "output_type": "stream",
     "text": [
      "End of Epoch 7, Train Loss: 0.023234053771540693, Train Accuracy: 99.22%, Val Loss: 0.2944233947733449, Val Accuracy: 94.16666666666667%\n"
     ]
    },
    {
     "name": "stderr",
     "output_type": "stream",
     "text": [
      "Epoch 8/30: 100%|██████████| 352/352 [00:03<00:00, 92.64it/s, accuracy=99.2, loss=0.00302] \n",
      "                                                                                       \r"
     ]
    },
    {
     "name": "stdout",
     "output_type": "stream",
     "text": [
      "End of Epoch 8, Train Loss: 0.023431602458996083, Train Accuracy: 99.20222222222222%, Val Loss: 0.2930765893720722, Val Accuracy: 94.13333333333334%\n"
     ]
    },
    {
     "name": "stderr",
     "output_type": "stream",
     "text": [
      "Epoch 9/30: 100%|██████████| 352/352 [00:03<00:00, 93.27it/s, accuracy=99.2, loss=0.0356]  \n",
      "                                                                                       \r"
     ]
    },
    {
     "name": "stdout",
     "output_type": "stream",
     "text": [
      "End of Epoch 9, Train Loss: 0.024377187660072443, Train Accuracy: 99.17111111111112%, Val Loss: 0.2952641338993937, Val Accuracy: 94.12%\n"
     ]
    },
    {
     "name": "stderr",
     "output_type": "stream",
     "text": [
      "Epoch 10/30: 100%|██████████| 352/352 [00:03<00:00, 91.58it/s, accuracy=99.3, loss=0.0135]  \n",
      "                                                                                       \r"
     ]
    },
    {
     "name": "stdout",
     "output_type": "stream",
     "text": [
      "End of Epoch 10, Train Loss: 0.021846470922934135, Train Accuracy: 99.3%, Val Loss: 0.2943874957608217, Val Accuracy: 94.15333333333334%\n"
     ]
    },
    {
     "name": "stderr",
     "output_type": "stream",
     "text": [
      "Epoch 11/30: 100%|██████████| 352/352 [00:03<00:00, 91.80it/s, accuracy=99.2, loss=0.0126] \n",
      "                                                                                       \r"
     ]
    },
    {
     "name": "stdout",
     "output_type": "stream",
     "text": [
      "End of Epoch 11, Train Loss: 0.022164994236763134, Train Accuracy: 99.24666666666667%, Val Loss: 0.29815542476914697, Val Accuracy: 94.14666666666666%\n"
     ]
    },
    {
     "name": "stderr",
     "output_type": "stream",
     "text": [
      "Epoch 12/30: 100%|██████████| 352/352 [00:03<00:00, 92.66it/s, accuracy=99.2, loss=0.00269] \n",
      "                                                                                       \r"
     ]
    },
    {
     "name": "stdout",
     "output_type": "stream",
     "text": [
      "End of Epoch 12, Train Loss: 0.02305430127820397, Train Accuracy: 99.21111111111111%, Val Loss: 0.2954034179417511, Val Accuracy: 94.12%\n"
     ]
    },
    {
     "name": "stderr",
     "output_type": "stream",
     "text": [
      "Epoch 13/30: 100%|██████████| 352/352 [00:03<00:00, 92.78it/s, accuracy=99.1, loss=0.000994]\n",
      "                                                                                       \r"
     ]
    },
    {
     "name": "stdout",
     "output_type": "stream",
     "text": [
      "End of Epoch 13, Train Loss: 0.02449574559514903, Train Accuracy: 99.11111111111111%, Val Loss: 0.3016670135528607, Val Accuracy: 94.18%\n"
     ]
    },
    {
     "name": "stderr",
     "output_type": "stream",
     "text": [
      "Epoch 14/30: 100%|██████████| 352/352 [00:03<00:00, 92.18it/s, accuracy=99.3, loss=0.0081]  \n",
      "                                                                                       \r"
     ]
    },
    {
     "name": "stdout",
     "output_type": "stream",
     "text": [
      "End of Epoch 14, Train Loss: 0.022303997942468744, Train Accuracy: 99.25111111111111%, Val Loss: 0.3026738492298429, Val Accuracy: 94.14666666666666%\n"
     ]
    },
    {
     "name": "stderr",
     "output_type": "stream",
     "text": [
      "Epoch 15/30: 100%|██████████| 352/352 [00:03<00:00, 92.20it/s, accuracy=99.2, loss=0.00456] \n",
      "                                                                                       \r"
     ]
    },
    {
     "name": "stdout",
     "output_type": "stream",
     "text": [
      "End of Epoch 15, Train Loss: 0.023812906789647637, Train Accuracy: 99.20444444444445%, Val Loss: 0.30000221402526406, Val Accuracy: 94.16666666666667%\n"
     ]
    },
    {
     "name": "stderr",
     "output_type": "stream",
     "text": [
      "Epoch 16/30: 100%|██████████| 352/352 [00:03<00:00, 91.63it/s, accuracy=99.1, loss=0.0388] \n",
      "                                                                                       \r"
     ]
    },
    {
     "name": "stdout",
     "output_type": "stream",
     "text": [
      "End of Epoch 16, Train Loss: 0.023217266205558026, Train Accuracy: 99.14888888888889%, Val Loss: 0.2944673083375319, Val Accuracy: 94.14%\n"
     ]
    },
    {
     "name": "stderr",
     "output_type": "stream",
     "text": [
      "Epoch 17/30: 100%|██████████| 352/352 [00:03<00:00, 91.99it/s, accuracy=99.2, loss=0.0506] \n",
      "                                                                                       \r"
     ]
    },
    {
     "name": "stdout",
     "output_type": "stream",
     "text": [
      "End of Epoch 17, Train Loss: 0.023556334313484098, Train Accuracy: 99.16444444444444%, Val Loss: 0.2990447520988725, Val Accuracy: 94.16%\n"
     ]
    },
    {
     "name": "stderr",
     "output_type": "stream",
     "text": [
      "Epoch 18/30: 100%|██████████| 352/352 [00:03<00:00, 92.26it/s, accuracy=99.2, loss=0.0487]  \n",
      "                                                                                       \r"
     ]
    },
    {
     "name": "stdout",
     "output_type": "stream",
     "text": [
      "End of Epoch 18, Train Loss: 0.022118595925927697, Train Accuracy: 99.23777777777778%, Val Loss: 0.3019854513202178, Val Accuracy: 94.11333333333333%\n"
     ]
    },
    {
     "name": "stderr",
     "output_type": "stream",
     "text": [
      "Epoch 19/30: 100%|██████████| 352/352 [00:03<00:00, 92.51it/s, accuracy=99.2, loss=0.0348]  \n",
      "                                                                                       \r"
     ]
    },
    {
     "name": "stdout",
     "output_type": "stream",
     "text": [
      "End of Epoch 19, Train Loss: 0.02246402454246973, Train Accuracy: 99.24666666666667%, Val Loss: 0.29632365555202556, Val Accuracy: 94.24%\n"
     ]
    },
    {
     "name": "stderr",
     "output_type": "stream",
     "text": [
      "Epoch 20/30: 100%|██████████| 352/352 [00:03<00:00, 91.94it/s, accuracy=99.2, loss=0.254]   \n",
      "                                                                                       \r"
     ]
    },
    {
     "name": "stdout",
     "output_type": "stream",
     "text": [
      "End of Epoch 20, Train Loss: 0.02249818065907179, Train Accuracy: 99.21111111111111%, Val Loss: 0.3005136180890061, Val Accuracy: 94.22666666666667%\n"
     ]
    },
    {
     "name": "stderr",
     "output_type": "stream",
     "text": [
      "Epoch 21/30: 100%|██████████| 352/352 [00:03<00:00, 92.28it/s, accuracy=99.1, loss=0.112]   \n",
      "                                                                                       \r"
     ]
    },
    {
     "name": "stdout",
     "output_type": "stream",
     "text": [
      "End of Epoch 21, Train Loss: 0.023687780948834683, Train Accuracy: 99.1288888888889%, Val Loss: 0.2971636963124245, Val Accuracy: 94.12666666666667%\n"
     ]
    },
    {
     "name": "stderr",
     "output_type": "stream",
     "text": [
      "Epoch 22/30: 100%|██████████| 352/352 [00:03<00:00, 91.83it/s, accuracy=99.2, loss=0.0115]  \n",
      "                                                                                       \r"
     ]
    },
    {
     "name": "stdout",
     "output_type": "stream",
     "text": [
      "End of Epoch 22, Train Loss: 0.023658767221191243, Train Accuracy: 99.20666666666666%, Val Loss: 0.296723506145053, Val Accuracy: 94.13333333333334%\n"
     ]
    },
    {
     "name": "stderr",
     "output_type": "stream",
     "text": [
      "Epoch 23/30: 100%|██████████| 352/352 [00:03<00:00, 91.28it/s, accuracy=99.3, loss=0.00525] \n",
      "                                                                                       \r"
     ]
    },
    {
     "name": "stdout",
     "output_type": "stream",
     "text": [
      "End of Epoch 23, Train Loss: 0.02138001576134808, Train Accuracy: 99.26%, Val Loss: 0.2966925866775594, Val Accuracy: 94.17333333333333%\n"
     ]
    },
    {
     "name": "stderr",
     "output_type": "stream",
     "text": [
      "Epoch 24/30: 100%|██████████| 352/352 [00:03<00:00, 92.12it/s, accuracy=99.2, loss=0.00503] \n",
      "                                                                                       \r"
     ]
    },
    {
     "name": "stdout",
     "output_type": "stream",
     "text": [
      "End of Epoch 24, Train Loss: 0.022490894858823263, Train Accuracy: 99.22222222222223%, Val Loss: 0.30114960250586775, Val Accuracy: 94.18%\n"
     ]
    },
    {
     "name": "stderr",
     "output_type": "stream",
     "text": [
      "Epoch 25/30: 100%|██████████| 352/352 [00:03<00:00, 92.26it/s, accuracy=99.2, loss=0.125]   \n",
      "                                                                                       \r"
     ]
    },
    {
     "name": "stdout",
     "output_type": "stream",
     "text": [
      "End of Epoch 25, Train Loss: 0.022597424294210876, Train Accuracy: 99.22444444444444%, Val Loss: 0.2995881124604809, Val Accuracy: 94.21333333333334%\n"
     ]
    },
    {
     "name": "stderr",
     "output_type": "stream",
     "text": [
      "Epoch 26/30: 100%|██████████| 352/352 [00:03<00:00, 92.72it/s, accuracy=99.2, loss=0.0399] \n",
      "                                                                                       \r"
     ]
    },
    {
     "name": "stdout",
     "output_type": "stream",
     "text": [
      "End of Epoch 26, Train Loss: 0.02244460698586243, Train Accuracy: 99.18666666666667%, Val Loss: 0.29954086514031986, Val Accuracy: 94.23333333333333%\n"
     ]
    },
    {
     "name": "stderr",
     "output_type": "stream",
     "text": [
      "Epoch 27/30: 100%|██████████| 352/352 [00:03<00:00, 92.66it/s, accuracy=99.2, loss=0.0774]  \n",
      "                                                                                       \r"
     ]
    },
    {
     "name": "stdout",
     "output_type": "stream",
     "text": [
      "End of Epoch 27, Train Loss: 0.02259565350041984, Train Accuracy: 99.21777777777778%, Val Loss: 0.2975951580614862, Val Accuracy: 94.12%\n"
     ]
    },
    {
     "name": "stderr",
     "output_type": "stream",
     "text": [
      "Epoch 28/30: 100%|██████████| 352/352 [00:03<00:00, 93.24it/s, accuracy=99.1, loss=0.00661] \n",
      "                                                                                       \r"
     ]
    },
    {
     "name": "stdout",
     "output_type": "stream",
     "text": [
      "End of Epoch 28, Train Loss: 0.025017651915484086, Train Accuracy: 99.14666666666666%, Val Loss: 0.30403658217292723, Val Accuracy: 94.2%\n"
     ]
    },
    {
     "name": "stderr",
     "output_type": "stream",
     "text": [
      "Epoch 29/30: 100%|██████████| 352/352 [00:03<00:00, 92.76it/s, accuracy=99.2, loss=0.0177]  \n",
      "                                                                                       \r"
     ]
    },
    {
     "name": "stdout",
     "output_type": "stream",
     "text": [
      "End of Epoch 29, Train Loss: 0.02257782665004594, Train Accuracy: 99.20444444444445%, Val Loss: 0.29880153242561774, Val Accuracy: 94.14%\n"
     ]
    },
    {
     "name": "stderr",
     "output_type": "stream",
     "text": [
      "Epoch 30/30: 100%|██████████| 352/352 [00:03<00:00, 91.76it/s, accuracy=99.2, loss=0.0344] \n",
      "                                                                                       \r"
     ]
    },
    {
     "name": "stdout",
     "output_type": "stream",
     "text": [
      "End of Epoch 30, Train Loss: 0.022285749757925674, Train Accuracy: 99.20444444444445%, Val Loss: 0.2988773182318625, Val Accuracy: 94.13333333333334%\n"
     ]
    }
   ],
   "source": [
    "# Изменяем скорость обучения, amsgrad, weight_decay\n",
    "optimizer = optim.Adam(model.parameters(), lr=0.00001, betas=(0.99, 0.9999), eps=1e-10)  \n",
    "\n",
    "# N-запуск обучения на дополнительные эпохи\n",
    "train_model(model, train_loader, val_loader, 30, device)"
   ]
  },
  {
   "cell_type": "markdown",
   "metadata": {},
   "source": [
    "#### Промежуточная оценка натренированной модели"
   ]
  },
  {
   "cell_type": "code",
   "execution_count": 31,
   "metadata": {
    "execution": {
     "iopub.execute_input": "2024-05-11T14:41:12.078490Z",
     "iopub.status.busy": "2024-05-11T14:41:12.077521Z",
     "iopub.status.idle": "2024-05-11T14:41:12.729589Z",
     "shell.execute_reply": "2024-05-11T14:41:12.728605Z",
     "shell.execute_reply.started": "2024-05-11T14:41:12.078427Z"
    },
    "tags": []
   },
   "outputs": [
    {
     "name": "stderr",
     "output_type": "stream",
     "text": [
      "Testing: 100%|██████████| 313/313 [00:00<00:00, 500.47it/s]"
     ]
    },
    {
     "name": "stdout",
     "output_type": "stream",
     "text": [
      "Test loss: 0.275110139952616\n",
      "Test accuracy: 94.16\n"
     ]
    },
    {
     "name": "stderr",
     "output_type": "stream",
     "text": [
      "\n"
     ]
    }
   ],
   "source": [
    "# Вызов функции оценки модели\n",
    "test_loss, test_accuracy = evaluate_model(model, test_loader, criterion, device)\n",
    "\n",
    "# Вывод результатов\n",
    "print('Test loss:', test_loss)\n",
    "print('Test accuracy:', test_accuracy)"
   ]
  },
  {
   "cell_type": "code",
   "execution_count": 32,
   "metadata": {
    "execution": {
     "iopub.execute_input": "2024-05-11T14:42:30.053416Z",
     "iopub.status.busy": "2024-05-11T14:42:30.052356Z",
     "iopub.status.idle": "2024-05-11T14:50:06.652118Z",
     "shell.execute_reply": "2024-05-11T14:50:06.650980Z",
     "shell.execute_reply.started": "2024-05-11T14:42:30.053351Z"
    },
    "tags": []
   },
   "outputs": [
    {
     "name": "stderr",
     "output_type": "stream",
     "text": [
      "Epoch 1/100: 100%|██████████| 352/352 [00:03<00:00, 90.88it/s, accuracy=99.2, loss=0.00785] \n",
      "                                                                                       \r"
     ]
    },
    {
     "name": "stdout",
     "output_type": "stream",
     "text": [
      "End of Epoch 1, Train Loss: 0.02296004800882656, Train Accuracy: 99.2%, Val Loss: 0.29655594891726467, Val Accuracy: 94.16%\n"
     ]
    },
    {
     "name": "stderr",
     "output_type": "stream",
     "text": [
      "Epoch 2/100: 100%|██████████| 352/352 [00:03<00:00, 91.97it/s, accuracy=99.2, loss=0.00298] \n",
      "                                                                                       \r"
     ]
    },
    {
     "name": "stdout",
     "output_type": "stream",
     "text": [
      "End of Epoch 2, Train Loss: 0.021915379305772312, Train Accuracy: 99.24444444444444%, Val Loss: 0.2949221867720707, Val Accuracy: 94.12666666666667%\n"
     ]
    },
    {
     "name": "stderr",
     "output_type": "stream",
     "text": [
      "Epoch 3/100: 100%|██████████| 352/352 [00:03<00:00, 93.54it/s, accuracy=99.3, loss=0.0403]  \n",
      "                                                                                       \r"
     ]
    },
    {
     "name": "stdout",
     "output_type": "stream",
     "text": [
      "End of Epoch 3, Train Loss: 0.02263645985129353, Train Accuracy: 99.25333333333333%, Val Loss: 0.2955912812534025, Val Accuracy: 94.22666666666667%\n"
     ]
    },
    {
     "name": "stderr",
     "output_type": "stream",
     "text": [
      "Epoch 4/100: 100%|██████████| 352/352 [00:03<00:00, 92.83it/s, accuracy=99.2, loss=0.0291]  \n",
      "                                                                                       \r"
     ]
    },
    {
     "name": "stdout",
     "output_type": "stream",
     "text": [
      "End of Epoch 4, Train Loss: 0.02285634298658062, Train Accuracy: 99.23555555555555%, Val Loss: 0.29399865748897447, Val Accuracy: 94.21333333333334%\n"
     ]
    },
    {
     "name": "stderr",
     "output_type": "stream",
     "text": [
      "Epoch 5/100: 100%|██████████| 352/352 [00:03<00:00, 92.00it/s, accuracy=99.2, loss=0.0215]  \n",
      "                                                                                       \r"
     ]
    },
    {
     "name": "stdout",
     "output_type": "stream",
     "text": [
      "End of Epoch 5, Train Loss: 0.022251233640417922, Train Accuracy: 99.23777777777778%, Val Loss: 0.29516468089768444, Val Accuracy: 94.24%\n"
     ]
    },
    {
     "name": "stderr",
     "output_type": "stream",
     "text": [
      "Epoch 6/100: 100%|██████████| 352/352 [00:03<00:00, 92.89it/s, accuracy=99.3, loss=0.0203]  \n",
      "                                                                                       \r"
     ]
    },
    {
     "name": "stdout",
     "output_type": "stream",
     "text": [
      "End of Epoch 6, Train Loss: 0.02099888864788888, Train Accuracy: 99.26666666666667%, Val Loss: 0.29516472028157975, Val Accuracy: 94.18%\n"
     ]
    },
    {
     "name": "stderr",
     "output_type": "stream",
     "text": [
      "Epoch 7/100: 100%|██████████| 352/352 [00:03<00:00, 91.04it/s, accuracy=99.2, loss=0.0561]  \n",
      "                                                                                       \r"
     ]
    },
    {
     "name": "stdout",
     "output_type": "stream",
     "text": [
      "End of Epoch 7, Train Loss: 0.02221534460444342, Train Accuracy: 99.24222222222222%, Val Loss: 0.2954438449972767, Val Accuracy: 94.21333333333334%\n"
     ]
    },
    {
     "name": "stderr",
     "output_type": "stream",
     "text": [
      "Epoch 8/100: 100%|██████████| 352/352 [00:03<00:00, 92.43it/s, accuracy=99.2, loss=0.0226] \n",
      "                                                                                       \r"
     ]
    },
    {
     "name": "stdout",
     "output_type": "stream",
     "text": [
      "End of Epoch 8, Train Loss: 0.022051197419138836, Train Accuracy: 99.22888888888889%, Val Loss: 0.299857212704117, Val Accuracy: 94.14%\n"
     ]
    },
    {
     "name": "stderr",
     "output_type": "stream",
     "text": [
      "Epoch 9/100: 100%|██████████| 352/352 [00:03<00:00, 91.43it/s, accuracy=99.2, loss=0.00926] \n",
      "                                                                                       \r"
     ]
    },
    {
     "name": "stdout",
     "output_type": "stream",
     "text": [
      "End of Epoch 9, Train Loss: 0.022032317657827993, Train Accuracy: 99.23333333333333%, Val Loss: 0.29923882815292324, Val Accuracy: 94.22%\n"
     ]
    },
    {
     "name": "stderr",
     "output_type": "stream",
     "text": [
      "Epoch 10/100: 100%|██████████| 352/352 [00:03<00:00, 93.38it/s, accuracy=99.2, loss=0.0398]  \n",
      "                                                                                       \r"
     ]
    },
    {
     "name": "stdout",
     "output_type": "stream",
     "text": [
      "End of Epoch 10, Train Loss: 0.022021642261527384, Train Accuracy: 99.22666666666667%, Val Loss: 0.29633709673091013, Val Accuracy: 94.16666666666667%\n"
     ]
    },
    {
     "name": "stderr",
     "output_type": "stream",
     "text": [
      "Epoch 11/100: 100%|██████████| 352/352 [00:03<00:00, 92.72it/s, accuracy=99.2, loss=0.0279] \n",
      "                                                                                       \r"
     ]
    },
    {
     "name": "stdout",
     "output_type": "stream",
     "text": [
      "End of Epoch 11, Train Loss: 0.021462622575365294, Train Accuracy: 99.19111111111111%, Val Loss: 0.2976689568831254, Val Accuracy: 94.18%\n"
     ]
    },
    {
     "name": "stderr",
     "output_type": "stream",
     "text": [
      "Epoch 12/100: 100%|██████████| 352/352 [00:03<00:00, 92.78it/s, accuracy=99.3, loss=0.0115]  \n",
      "                                                                                       \r"
     ]
    },
    {
     "name": "stdout",
     "output_type": "stream",
     "text": [
      "End of Epoch 12, Train Loss: 0.02066095041829447, Train Accuracy: 99.27111111111111%, Val Loss: 0.2984310750360206, Val Accuracy: 94.18666666666667%\n"
     ]
    },
    {
     "name": "stderr",
     "output_type": "stream",
     "text": [
      "Epoch 13/100: 100%|██████████| 352/352 [00:03<00:00, 92.96it/s, accuracy=99.3, loss=0.0146]  \n",
      "                                                                                       \r"
     ]
    },
    {
     "name": "stdout",
     "output_type": "stream",
     "text": [
      "End of Epoch 13, Train Loss: 0.021114573860772493, Train Accuracy: 99.31333333333333%, Val Loss: 0.2988985066728319, Val Accuracy: 94.14666666666666%\n"
     ]
    },
    {
     "name": "stderr",
     "output_type": "stream",
     "text": [
      "Epoch 14/100: 100%|██████████| 352/352 [00:03<00:00, 91.98it/s, accuracy=99.3, loss=0.0221]  \n",
      "                                                                                       \r"
     ]
    },
    {
     "name": "stdout",
     "output_type": "stream",
     "text": [
      "End of Epoch 14, Train Loss: 0.018944653249243194, Train Accuracy: 99.34%, Val Loss: 0.2973766593988669, Val Accuracy: 94.18666666666667%\n"
     ]
    },
    {
     "name": "stderr",
     "output_type": "stream",
     "text": [
      "Epoch 15/100: 100%|██████████| 352/352 [00:03<00:00, 92.19it/s, accuracy=99.3, loss=0.0672] \n",
      "                                                                                       \r"
     ]
    },
    {
     "name": "stdout",
     "output_type": "stream",
     "text": [
      "End of Epoch 15, Train Loss: 0.020483497032480293, Train Accuracy: 99.30666666666667%, Val Loss: 0.30134150209063193, Val Accuracy: 94.17333333333333%\n"
     ]
    },
    {
     "name": "stderr",
     "output_type": "stream",
     "text": [
      "Epoch 16/100: 100%|██████████| 352/352 [00:03<00:00, 93.73it/s, accuracy=99.2, loss=0.00918] \n",
      "                                                                                       \r"
     ]
    },
    {
     "name": "stdout",
     "output_type": "stream",
     "text": [
      "End of Epoch 16, Train Loss: 0.02231159753054354, Train Accuracy: 99.24888888888889%, Val Loss: 0.2960647156430503, Val Accuracy: 94.22666666666667%\n"
     ]
    },
    {
     "name": "stderr",
     "output_type": "stream",
     "text": [
      "Epoch 17/100: 100%|██████████| 352/352 [00:03<00:00, 93.77it/s, accuracy=99.3, loss=0.00336] \n",
      "                                                                                       \r"
     ]
    },
    {
     "name": "stdout",
     "output_type": "stream",
     "text": [
      "End of Epoch 17, Train Loss: 0.021536007849879916, Train Accuracy: 99.30444444444444%, Val Loss: 0.29910617012341145, Val Accuracy: 94.17333333333333%\n"
     ]
    },
    {
     "name": "stderr",
     "output_type": "stream",
     "text": [
      "Epoch 18/100: 100%|██████████| 352/352 [00:03<00:00, 93.21it/s, accuracy=99.2, loss=0.003]   \n",
      "                                                                                       \r"
     ]
    },
    {
     "name": "stdout",
     "output_type": "stream",
     "text": [
      "End of Epoch 18, Train Loss: 0.023078651070219083, Train Accuracy: 99.17555555555556%, Val Loss: 0.296872475405492, Val Accuracy: 94.26%\n"
     ]
    },
    {
     "name": "stderr",
     "output_type": "stream",
     "text": [
      "Epoch 19/100: 100%|██████████| 352/352 [00:03<00:00, 92.01it/s, accuracy=99.2, loss=0.0486]  \n",
      "                                                                                       \r"
     ]
    },
    {
     "name": "stdout",
     "output_type": "stream",
     "text": [
      "End of Epoch 19, Train Loss: 0.020780431387141685, Train Accuracy: 99.22666666666667%, Val Loss: 0.29817823511627267, Val Accuracy: 94.19333333333333%\n"
     ]
    },
    {
     "name": "stderr",
     "output_type": "stream",
     "text": [
      "Epoch 20/100: 100%|██████████| 352/352 [00:03<00:00, 92.15it/s, accuracy=99.2, loss=0.0857] \n",
      "                                                                                       \r"
     ]
    },
    {
     "name": "stdout",
     "output_type": "stream",
     "text": [
      "End of Epoch 20, Train Loss: 0.023427321299095638, Train Accuracy: 99.17111111111112%, Val Loss: 0.29927031313842634, Val Accuracy: 94.18666666666667%\n"
     ]
    },
    {
     "name": "stderr",
     "output_type": "stream",
     "text": [
      "Epoch 21/100: 100%|██████████| 352/352 [00:03<00:00, 92.08it/s, accuracy=99.2, loss=0.0439]  \n",
      "                                                                                       \r"
     ]
    },
    {
     "name": "stdout",
     "output_type": "stream",
     "text": [
      "End of Epoch 21, Train Loss: 0.02137517881469235, Train Accuracy: 99.24666666666667%, Val Loss: 0.3043573043798491, Val Accuracy: 94.20666666666666%\n"
     ]
    },
    {
     "name": "stderr",
     "output_type": "stream",
     "text": [
      "Epoch 22/100: 100%|██████████| 352/352 [00:03<00:00, 91.86it/s, accuracy=99.2, loss=0.0241]  \n",
      "                                                                                       \r"
     ]
    },
    {
     "name": "stdout",
     "output_type": "stream",
     "text": [
      "End of Epoch 22, Train Loss: 0.021275816080477936, Train Accuracy: 99.21333333333334%, Val Loss: 0.297731055783392, Val Accuracy: 94.19333333333333%\n"
     ]
    },
    {
     "name": "stderr",
     "output_type": "stream",
     "text": [
      "Epoch 23/100: 100%|██████████| 352/352 [00:03<00:00, 93.11it/s, accuracy=99.3, loss=0.0347]  \n",
      "                                                                                       \r"
     ]
    },
    {
     "name": "stdout",
     "output_type": "stream",
     "text": [
      "End of Epoch 23, Train Loss: 0.021010366720144124, Train Accuracy: 99.25333333333333%, Val Loss: 0.3019357841714459, Val Accuracy: 94.13333333333334%\n"
     ]
    },
    {
     "name": "stderr",
     "output_type": "stream",
     "text": [
      "Epoch 24/100: 100%|██████████| 352/352 [00:03<00:00, 92.09it/s, accuracy=99.3, loss=0.00435] \n",
      "                                                                                       \r"
     ]
    },
    {
     "name": "stdout",
     "output_type": "stream",
     "text": [
      "End of Epoch 24, Train Loss: 0.020486885142004627, Train Accuracy: 99.28%, Val Loss: 0.3014988239096888, Val Accuracy: 94.2%\n"
     ]
    },
    {
     "name": "stderr",
     "output_type": "stream",
     "text": [
      "Epoch 25/100: 100%|██████████| 352/352 [00:03<00:00, 92.90it/s, accuracy=99.3, loss=0.00598] \n",
      "                                                                                       \r"
     ]
    },
    {
     "name": "stdout",
     "output_type": "stream",
     "text": [
      "End of Epoch 25, Train Loss: 0.021116361799034745, Train Accuracy: 99.25111111111111%, Val Loss: 0.3011964988910546, Val Accuracy: 94.22%\n"
     ]
    },
    {
     "name": "stderr",
     "output_type": "stream",
     "text": [
      "Epoch 26/100: 100%|██████████| 352/352 [00:03<00:00, 93.65it/s, accuracy=99.2, loss=0.0153]  \n",
      "                                                                                       \r"
     ]
    },
    {
     "name": "stdout",
     "output_type": "stream",
     "text": [
      "End of Epoch 26, Train Loss: 0.021017647053006593, Train Accuracy: 99.24444444444444%, Val Loss: 0.2965768071491334, Val Accuracy: 94.22666666666667%\n"
     ]
    },
    {
     "name": "stderr",
     "output_type": "stream",
     "text": [
      "Epoch 27/100: 100%|██████████| 352/352 [00:03<00:00, 91.55it/s, accuracy=99.2, loss=0.0216]  \n",
      "                                                                                       \r"
     ]
    },
    {
     "name": "stdout",
     "output_type": "stream",
     "text": [
      "End of Epoch 27, Train Loss: 0.02166154282862077, Train Accuracy: 99.22444444444444%, Val Loss: 0.3016093141257258, Val Accuracy: 94.20666666666666%\n"
     ]
    },
    {
     "name": "stderr",
     "output_type": "stream",
     "text": [
      "Epoch 28/100: 100%|██████████| 352/352 [00:03<00:00, 93.66it/s, accuracy=99.3, loss=0.0496]  \n",
      "                                                                                       \r"
     ]
    },
    {
     "name": "stdout",
     "output_type": "stream",
     "text": [
      "End of Epoch 28, Train Loss: 0.021690073422095422, Train Accuracy: 99.27333333333333%, Val Loss: 0.30376868144119695, Val Accuracy: 94.17333333333333%\n"
     ]
    },
    {
     "name": "stderr",
     "output_type": "stream",
     "text": [
      "Epoch 29/100: 100%|██████████| 352/352 [00:03<00:00, 92.55it/s, accuracy=99.3, loss=0.0281]  \n",
      "                                                                                       \r"
     ]
    },
    {
     "name": "stdout",
     "output_type": "stream",
     "text": [
      "End of Epoch 29, Train Loss: 0.02147639542619634, Train Accuracy: 99.27333333333333%, Val Loss: 0.2963348717854942, Val Accuracy: 94.12666666666667%\n"
     ]
    },
    {
     "name": "stderr",
     "output_type": "stream",
     "text": [
      "Epoch 30/100: 100%|██████████| 352/352 [00:03<00:00, 91.71it/s, accuracy=99.3, loss=0.0137] \n",
      "                                                                                       \r"
     ]
    },
    {
     "name": "stdout",
     "output_type": "stream",
     "text": [
      "End of Epoch 30, Train Loss: 0.021711502779164057, Train Accuracy: 99.28888888888889%, Val Loss: 0.29712729818992695, Val Accuracy: 94.16%\n"
     ]
    },
    {
     "name": "stderr",
     "output_type": "stream",
     "text": [
      "Epoch 31/100: 100%|██████████| 352/352 [00:03<00:00, 92.90it/s, accuracy=99.3, loss=0.00796] \n",
      "                                                                                       \r"
     ]
    },
    {
     "name": "stdout",
     "output_type": "stream",
     "text": [
      "End of Epoch 31, Train Loss: 0.020173165732227393, Train Accuracy: 99.26666666666667%, Val Loss: 0.2980687142333994, Val Accuracy: 94.18666666666667%\n"
     ]
    },
    {
     "name": "stderr",
     "output_type": "stream",
     "text": [
      "Epoch 32/100: 100%|██████████| 352/352 [00:03<00:00, 93.15it/s, accuracy=99.3, loss=0.0048]  \n",
      "                                                                                       \r"
     ]
    },
    {
     "name": "stdout",
     "output_type": "stream",
     "text": [
      "End of Epoch 32, Train Loss: 0.021266698671586873, Train Accuracy: 99.27777777777777%, Val Loss: 0.29935329057023685, Val Accuracy: 94.16%\n"
     ]
    },
    {
     "name": "stderr",
     "output_type": "stream",
     "text": [
      "Epoch 33/100: 100%|██████████| 352/352 [00:03<00:00, 92.70it/s, accuracy=99.3, loss=0.00228] \n",
      "                                                                                       \r"
     ]
    },
    {
     "name": "stdout",
     "output_type": "stream",
     "text": [
      "End of Epoch 33, Train Loss: 0.0216742787230363, Train Accuracy: 99.30222222222223%, Val Loss: 0.2967080968921467, Val Accuracy: 94.19333333333333%\n"
     ]
    },
    {
     "name": "stderr",
     "output_type": "stream",
     "text": [
      "Epoch 34/100: 100%|██████████| 352/352 [00:03<00:00, 91.98it/s, accuracy=99.3, loss=0.0442]  \n",
      "                                                                                       \r"
     ]
    },
    {
     "name": "stdout",
     "output_type": "stream",
     "text": [
      "End of Epoch 34, Train Loss: 0.020895143523871826, Train Accuracy: 99.27111111111111%, Val Loss: 0.29872256683154125, Val Accuracy: 94.18666666666667%\n"
     ]
    },
    {
     "name": "stderr",
     "output_type": "stream",
     "text": [
      "Epoch 35/100: 100%|██████████| 352/352 [00:03<00:00, 91.55it/s, accuracy=99.3, loss=0.0024] \n",
      "                                                                                       \r"
     ]
    },
    {
     "name": "stdout",
     "output_type": "stream",
     "text": [
      "End of Epoch 35, Train Loss: 0.02172893609366094, Train Accuracy: 99.25777777777778%, Val Loss: 0.2987409803574368, Val Accuracy: 94.14%\n"
     ]
    },
    {
     "name": "stderr",
     "output_type": "stream",
     "text": [
      "Epoch 36/100: 100%|██████████| 352/352 [00:03<00:00, 92.07it/s, accuracy=99.3, loss=0.014]   \n",
      "                                                                                       \r"
     ]
    },
    {
     "name": "stdout",
     "output_type": "stream",
     "text": [
      "End of Epoch 36, Train Loss: 0.019900407866027144, Train Accuracy: 99.33777777777777%, Val Loss: 0.29894955773537946, Val Accuracy: 94.17333333333333%\n"
     ]
    },
    {
     "name": "stderr",
     "output_type": "stream",
     "text": [
      "Epoch 37/100: 100%|██████████| 352/352 [00:03<00:00, 92.29it/s, accuracy=99.2, loss=0.00481]\n",
      "                                                                                       \r"
     ]
    },
    {
     "name": "stdout",
     "output_type": "stream",
     "text": [
      "End of Epoch 37, Train Loss: 0.022535086563452336, Train Accuracy: 99.21555555555555%, Val Loss: 0.29735820287428166, Val Accuracy: 94.20666666666666%\n"
     ]
    },
    {
     "name": "stderr",
     "output_type": "stream",
     "text": [
      "Epoch 38/100: 100%|██████████| 352/352 [00:03<00:00, 92.47it/s, accuracy=99.3, loss=0.017]   \n",
      "                                                                                       \r"
     ]
    },
    {
     "name": "stdout",
     "output_type": "stream",
     "text": [
      "End of Epoch 38, Train Loss: 0.021358268682888593, Train Accuracy: 99.25111111111111%, Val Loss: 0.3019679257393641, Val Accuracy: 94.17333333333333%\n"
     ]
    },
    {
     "name": "stderr",
     "output_type": "stream",
     "text": [
      "Epoch 39/100: 100%|██████████| 352/352 [00:03<00:00, 92.34it/s, accuracy=99.3, loss=0.00736] \n",
      "                                                                                       \r"
     ]
    },
    {
     "name": "stdout",
     "output_type": "stream",
     "text": [
      "End of Epoch 39, Train Loss: 0.019614834927283067, Train Accuracy: 99.30222222222223%, Val Loss: 0.3005040738321209, Val Accuracy: 94.17333333333333%\n"
     ]
    },
    {
     "name": "stderr",
     "output_type": "stream",
     "text": [
      "Epoch 40/100: 100%|██████████| 352/352 [00:03<00:00, 92.03it/s, accuracy=99.2, loss=0.0136]  \n",
      "                                                                                       \r"
     ]
    },
    {
     "name": "stdout",
     "output_type": "stream",
     "text": [
      "End of Epoch 40, Train Loss: 0.021275558115038704, Train Accuracy: 99.21777777777778%, Val Loss: 0.29810142281891433, Val Accuracy: 94.2%\n"
     ]
    },
    {
     "name": "stderr",
     "output_type": "stream",
     "text": [
      "Epoch 41/100: 100%|██████████| 352/352 [00:03<00:00, 92.34it/s, accuracy=99.2, loss=0.00466] \n",
      "                                                                                       \r"
     ]
    },
    {
     "name": "stdout",
     "output_type": "stream",
     "text": [
      "End of Epoch 41, Train Loss: 0.02125195440550504, Train Accuracy: 99.24222222222222%, Val Loss: 0.30132985230282705, Val Accuracy: 94.24%\n"
     ]
    },
    {
     "name": "stderr",
     "output_type": "stream",
     "text": [
      "Epoch 42/100: 100%|██████████| 352/352 [00:03<00:00, 93.96it/s, accuracy=99.3, loss=0.00479] \n",
      "                                                                                       \r"
     ]
    },
    {
     "name": "stdout",
     "output_type": "stream",
     "text": [
      "End of Epoch 42, Train Loss: 0.021623223661994085, Train Accuracy: 99.2911111111111%, Val Loss: 0.3012535477656934, Val Accuracy: 94.16%\n"
     ]
    },
    {
     "name": "stderr",
     "output_type": "stream",
     "text": [
      "Epoch 43/100: 100%|██████████| 352/352 [00:03<00:00, 93.40it/s, accuracy=99.3, loss=0.0887]  \n",
      "                                                                                       \r"
     ]
    },
    {
     "name": "stdout",
     "output_type": "stream",
     "text": [
      "End of Epoch 43, Train Loss: 0.021581999705218055, Train Accuracy: 99.25555555555556%, Val Loss: 0.2984959235320152, Val Accuracy: 94.19333333333333%\n"
     ]
    },
    {
     "name": "stderr",
     "output_type": "stream",
     "text": [
      "Epoch 44/100: 100%|██████████| 352/352 [00:03<00:00, 92.72it/s, accuracy=99.3, loss=0.00264] \n",
      "                                                                                       \r"
     ]
    },
    {
     "name": "stdout",
     "output_type": "stream",
     "text": [
      "End of Epoch 44, Train Loss: 0.021273826421995844, Train Accuracy: 99.28222222222222%, Val Loss: 0.29692124098665634, Val Accuracy: 94.16666666666667%\n"
     ]
    },
    {
     "name": "stderr",
     "output_type": "stream",
     "text": [
      "Epoch 45/100: 100%|██████████| 352/352 [00:03<00:00, 92.67it/s, accuracy=99.3, loss=0.00663] \n",
      "                                                                                       \r"
     ]
    },
    {
     "name": "stdout",
     "output_type": "stream",
     "text": [
      "End of Epoch 45, Train Loss: 0.02093498943097736, Train Accuracy: 99.26666666666667%, Val Loss: 0.30259921180747323, Val Accuracy: 94.12666666666667%\n"
     ]
    },
    {
     "name": "stderr",
     "output_type": "stream",
     "text": [
      "Epoch 46/100: 100%|██████████| 352/352 [00:03<00:00, 93.47it/s, accuracy=99.3, loss=0.00163] \n",
      "                                                                                       \r"
     ]
    },
    {
     "name": "stdout",
     "output_type": "stream",
     "text": [
      "End of Epoch 46, Train Loss: 0.0211077711316069, Train Accuracy: 99.25111111111111%, Val Loss: 0.29943842491355993, Val Accuracy: 94.14666666666666%\n"
     ]
    },
    {
     "name": "stderr",
     "output_type": "stream",
     "text": [
      "Epoch 47/100: 100%|██████████| 352/352 [00:03<00:00, 91.40it/s, accuracy=99.3, loss=0.0178]  \n",
      "                                                                                       \r"
     ]
    },
    {
     "name": "stdout",
     "output_type": "stream",
     "text": [
      "End of Epoch 47, Train Loss: 0.02044318914133989, Train Accuracy: 99.28444444444445%, Val Loss: 0.2970075824503171, Val Accuracy: 94.11333333333333%\n"
     ]
    },
    {
     "name": "stderr",
     "output_type": "stream",
     "text": [
      "Epoch 48/100: 100%|██████████| 352/352 [00:03<00:00, 94.01it/s, accuracy=99.3, loss=0.015]   \n",
      "                                                                                       \r"
     ]
    },
    {
     "name": "stdout",
     "output_type": "stream",
     "text": [
      "End of Epoch 48, Train Loss: 0.02020689787108991, Train Accuracy: 99.27555555555556%, Val Loss: 0.30211184603177893, Val Accuracy: 94.20666666666666%\n"
     ]
    },
    {
     "name": "stderr",
     "output_type": "stream",
     "text": [
      "Epoch 49/100: 100%|██████████| 352/352 [00:03<00:00, 92.11it/s, accuracy=99.3, loss=0.0258]  \n",
      "                                                                                       \r"
     ]
    },
    {
     "name": "stdout",
     "output_type": "stream",
     "text": [
      "End of Epoch 49, Train Loss: 0.020451936812274984, Train Accuracy: 99.30666666666667%, Val Loss: 0.3004277318210925, Val Accuracy: 94.20666666666666%\n"
     ]
    },
    {
     "name": "stderr",
     "output_type": "stream",
     "text": [
      "Epoch 50/100: 100%|██████████| 352/352 [00:03<00:00, 93.39it/s, accuracy=99.3, loss=0.0646]  \n",
      "                                                                                       \r"
     ]
    },
    {
     "name": "stdout",
     "output_type": "stream",
     "text": [
      "End of Epoch 50, Train Loss: 0.019895649194950238, Train Accuracy: 99.30222222222223%, Val Loss: 0.30116826864117285, Val Accuracy: 94.14666666666666%\n"
     ]
    },
    {
     "name": "stderr",
     "output_type": "stream",
     "text": [
      "Epoch 51/100: 100%|██████████| 352/352 [00:03<00:00, 93.09it/s, accuracy=99.3, loss=0.0392]  \n",
      "                                                                                       \r"
     ]
    },
    {
     "name": "stdout",
     "output_type": "stream",
     "text": [
      "End of Epoch 51, Train Loss: 0.0193758851096804, Train Accuracy: 99.32%, Val Loss: 0.30317851470120377, Val Accuracy: 94.12%\n"
     ]
    },
    {
     "name": "stderr",
     "output_type": "stream",
     "text": [
      "Epoch 52/100: 100%|██████████| 352/352 [00:03<00:00, 93.43it/s, accuracy=99.3, loss=0.00178]\n",
      "                                                                                       \r"
     ]
    },
    {
     "name": "stdout",
     "output_type": "stream",
     "text": [
      "End of Epoch 52, Train Loss: 0.020754040858512533, Train Accuracy: 99.29777777777778%, Val Loss: 0.3024357649639754, Val Accuracy: 94.15333333333334%\n"
     ]
    },
    {
     "name": "stderr",
     "output_type": "stream",
     "text": [
      "Epoch 53/100: 100%|██████████| 352/352 [00:03<00:00, 92.98it/s, accuracy=99.3, loss=0.00155] \n",
      "                                                                                       \r"
     ]
    },
    {
     "name": "stdout",
     "output_type": "stream",
     "text": [
      "End of Epoch 53, Train Loss: 0.01964388672918589, Train Accuracy: 99.29333333333334%, Val Loss: 0.296460899682242, Val Accuracy: 94.16%\n"
     ]
    },
    {
     "name": "stderr",
     "output_type": "stream",
     "text": [
      "Epoch 54/100: 100%|██████████| 352/352 [00:03<00:00, 92.79it/s, accuracy=99.2, loss=0.0047]  \n",
      "                                                                                       \r"
     ]
    },
    {
     "name": "stdout",
     "output_type": "stream",
     "text": [
      "End of Epoch 54, Train Loss: 0.02255053983067641, Train Accuracy: 99.18222222222222%, Val Loss: 0.29861106624100675, Val Accuracy: 94.13333333333334%\n"
     ]
    },
    {
     "name": "stderr",
     "output_type": "stream",
     "text": [
      "Epoch 55/100: 100%|██████████| 352/352 [00:03<00:00, 93.01it/s, accuracy=99.2, loss=0.00881] \n",
      "                                                                                       \r"
     ]
    },
    {
     "name": "stdout",
     "output_type": "stream",
     "text": [
      "End of Epoch 55, Train Loss: 0.021527338025242152, Train Accuracy: 99.24444444444444%, Val Loss: 0.30425961265119456, Val Accuracy: 94.16666666666667%\n"
     ]
    },
    {
     "name": "stderr",
     "output_type": "stream",
     "text": [
      "Epoch 56/100: 100%|██████████| 352/352 [00:03<00:00, 93.56it/s, accuracy=99.4, loss=0.000162]\n",
      "                                                                                       \r"
     ]
    },
    {
     "name": "stdout",
     "output_type": "stream",
     "text": [
      "End of Epoch 56, Train Loss: 0.01782265867723254, Train Accuracy: 99.39333333333333%, Val Loss: 0.30092804436966525, Val Accuracy: 94.18%\n"
     ]
    },
    {
     "name": "stderr",
     "output_type": "stream",
     "text": [
      "Epoch 57/100: 100%|██████████| 352/352 [00:03<00:00, 93.43it/s, accuracy=99.3, loss=0.00528] \n",
      "                                                                                       \r"
     ]
    },
    {
     "name": "stdout",
     "output_type": "stream",
     "text": [
      "End of Epoch 57, Train Loss: 0.020915387012544008, Train Accuracy: 99.25333333333333%, Val Loss: 0.2994219904797057, Val Accuracy: 94.20666666666666%\n"
     ]
    },
    {
     "name": "stderr",
     "output_type": "stream",
     "text": [
      "Epoch 58/100: 100%|██████████| 352/352 [00:03<00:00, 92.88it/s, accuracy=99.3, loss=0.0145]  \n",
      "                                                                                       \r"
     ]
    },
    {
     "name": "stdout",
     "output_type": "stream",
     "text": [
      "End of Epoch 58, Train Loss: 0.01940217081077704, Train Accuracy: 99.30888888888889%, Val Loss: 0.2997005295039991, Val Accuracy: 94.13333333333334%\n"
     ]
    },
    {
     "name": "stderr",
     "output_type": "stream",
     "text": [
      "Epoch 59/100: 100%|██████████| 352/352 [00:03<00:00, 93.37it/s, accuracy=99.3, loss=0.00356] \n",
      "                                                                                       \r"
     ]
    },
    {
     "name": "stdout",
     "output_type": "stream",
     "text": [
      "End of Epoch 59, Train Loss: 0.020908103145715853, Train Accuracy: 99.26444444444445%, Val Loss: 0.30046749042378645, Val Accuracy: 94.20666666666666%\n"
     ]
    },
    {
     "name": "stderr",
     "output_type": "stream",
     "text": [
      "Epoch 60/100: 100%|██████████| 352/352 [00:03<00:00, 90.95it/s, accuracy=99.3, loss=0.0405]  \n",
      "                                                                                       \r"
     ]
    },
    {
     "name": "stdout",
     "output_type": "stream",
     "text": [
      "End of Epoch 60, Train Loss: 0.020898776569745016, Train Accuracy: 99.30222222222223%, Val Loss: 0.3059219146242081, Val Accuracy: 94.16%\n"
     ]
    },
    {
     "name": "stderr",
     "output_type": "stream",
     "text": [
      "Epoch 61/100: 100%|██████████| 352/352 [00:03<00:00, 92.64it/s, accuracy=99.2, loss=0.0158] \n",
      "                                                                                       \r"
     ]
    },
    {
     "name": "stdout",
     "output_type": "stream",
     "text": [
      "End of Epoch 61, Train Loss: 0.020864342936626847, Train Accuracy: 99.21333333333334%, Val Loss: 0.30716043312923386, Val Accuracy: 94.18666666666667%\n"
     ]
    },
    {
     "name": "stderr",
     "output_type": "stream",
     "text": [
      "Epoch 62/100: 100%|██████████| 352/352 [00:03<00:00, 90.70it/s, accuracy=99.3, loss=0.0114]  \n",
      "                                                                                       \r"
     ]
    },
    {
     "name": "stdout",
     "output_type": "stream",
     "text": [
      "End of Epoch 62, Train Loss: 0.0206229642234658, Train Accuracy: 99.28444444444445%, Val Loss: 0.3054967606124484, Val Accuracy: 94.19333333333333%\n"
     ]
    },
    {
     "name": "stderr",
     "output_type": "stream",
     "text": [
      "Epoch 63/100: 100%|██████████| 352/352 [00:03<00:00, 91.98it/s, accuracy=99.3, loss=0.000478]\n",
      "                                                                                       \r"
     ]
    },
    {
     "name": "stdout",
     "output_type": "stream",
     "text": [
      "End of Epoch 63, Train Loss: 0.019423403955608428, Train Accuracy: 99.33333333333333%, Val Loss: 0.3014726298150875, Val Accuracy: 94.21333333333334%\n"
     ]
    },
    {
     "name": "stderr",
     "output_type": "stream",
     "text": [
      "Epoch 64/100: 100%|██████████| 352/352 [00:03<00:00, 92.84it/s, accuracy=99.3, loss=0.0335] \n",
      "                                                                                       \r"
     ]
    },
    {
     "name": "stdout",
     "output_type": "stream",
     "text": [
      "End of Epoch 64, Train Loss: 0.01989424374981106, Train Accuracy: 99.32444444444444%, Val Loss: 0.2995022920796932, Val Accuracy: 94.20666666666666%\n"
     ]
    },
    {
     "name": "stderr",
     "output_type": "stream",
     "text": [
      "Epoch 65/100: 100%|██████████| 352/352 [00:03<00:00, 92.29it/s, accuracy=99.3, loss=0.00163] \n",
      "                                                                                       \r"
     ]
    },
    {
     "name": "stdout",
     "output_type": "stream",
     "text": [
      "End of Epoch 65, Train Loss: 0.019333301206643227, Train Accuracy: 99.27555555555556%, Val Loss: 0.30254907625080163, Val Accuracy: 94.16%\n"
     ]
    },
    {
     "name": "stderr",
     "output_type": "stream",
     "text": [
      "Epoch 66/100: 100%|██████████| 352/352 [00:03<00:00, 91.29it/s, accuracy=99.2, loss=0.0149]  \n",
      "                                                                                       \r"
     ]
    },
    {
     "name": "stdout",
     "output_type": "stream",
     "text": [
      "End of Epoch 66, Train Loss: 0.022290122532054243, Train Accuracy: 99.23555555555555%, Val Loss: 0.2991150878369808, Val Accuracy: 94.18%\n"
     ]
    },
    {
     "name": "stderr",
     "output_type": "stream",
     "text": [
      "Epoch 67/100: 100%|██████████| 352/352 [00:03<00:00, 92.36it/s, accuracy=99.3, loss=0.0493]  \n",
      "                                                                                       \r"
     ]
    },
    {
     "name": "stdout",
     "output_type": "stream",
     "text": [
      "End of Epoch 67, Train Loss: 0.021086278948297895, Train Accuracy: 99.28888888888889%, Val Loss: 0.30371920234065947, Val Accuracy: 94.23333333333333%\n"
     ]
    },
    {
     "name": "stderr",
     "output_type": "stream",
     "text": [
      "Epoch 68/100: 100%|██████████| 352/352 [00:03<00:00, 93.84it/s, accuracy=99.3, loss=0.00397]\n",
      "                                                                                       \r"
     ]
    },
    {
     "name": "stdout",
     "output_type": "stream",
     "text": [
      "End of Epoch 68, Train Loss: 0.019852157518140633, Train Accuracy: 99.31777777777778%, Val Loss: 0.3008629591598854, Val Accuracy: 94.2%\n"
     ]
    },
    {
     "name": "stderr",
     "output_type": "stream",
     "text": [
      "Epoch 69/100: 100%|██████████| 352/352 [00:03<00:00, 93.60it/s, accuracy=99.3, loss=0.0839]  \n",
      "                                                                                       \r"
     ]
    },
    {
     "name": "stdout",
     "output_type": "stream",
     "text": [
      "End of Epoch 69, Train Loss: 0.02068778114781625, Train Accuracy: 99.27111111111111%, Val Loss: 0.30576057901006126, Val Accuracy: 94.16666666666667%\n"
     ]
    },
    {
     "name": "stderr",
     "output_type": "stream",
     "text": [
      "Epoch 70/100: 100%|██████████| 352/352 [00:03<00:00, 92.68it/s, accuracy=99.3, loss=0.00379] \n",
      "                                                                                       \r"
     ]
    },
    {
     "name": "stdout",
     "output_type": "stream",
     "text": [
      "End of Epoch 70, Train Loss: 0.020917164616217964, Train Accuracy: 99.29333333333334%, Val Loss: 0.30265962982834393, Val Accuracy: 94.18%\n"
     ]
    },
    {
     "name": "stderr",
     "output_type": "stream",
     "text": [
      "Epoch 71/100: 100%|██████████| 352/352 [00:03<00:00, 92.55it/s, accuracy=99.2, loss=0.0211] \n",
      "                                                                                       \r"
     ]
    },
    {
     "name": "stdout",
     "output_type": "stream",
     "text": [
      "End of Epoch 71, Train Loss: 0.020412911224246436, Train Accuracy: 99.22222222222223%, Val Loss: 0.3045754810574196, Val Accuracy: 94.16%\n"
     ]
    },
    {
     "name": "stderr",
     "output_type": "stream",
     "text": [
      "Epoch 72/100: 100%|██████████| 352/352 [00:03<00:00, 90.82it/s, accuracy=99.3, loss=0.00209] \n",
      "                                                                                       \r"
     ]
    },
    {
     "name": "stdout",
     "output_type": "stream",
     "text": [
      "End of Epoch 72, Train Loss: 0.01865786367323546, Train Accuracy: 99.34%, Val Loss: 0.30106215620950116, Val Accuracy: 94.21333333333334%\n"
     ]
    },
    {
     "name": "stderr",
     "output_type": "stream",
     "text": [
      "Epoch 73/100: 100%|██████████| 352/352 [00:03<00:00, 91.88it/s, accuracy=99.3, loss=0.013]   \n",
      "                                                                                       \r"
     ]
    },
    {
     "name": "stdout",
     "output_type": "stream",
     "text": [
      "End of Epoch 73, Train Loss: 0.0202499734644913, Train Accuracy: 99.28222222222222%, Val Loss: 0.3025091034123453, Val Accuracy: 94.16%\n"
     ]
    },
    {
     "name": "stderr",
     "output_type": "stream",
     "text": [
      "Epoch 74/100: 100%|██████████| 352/352 [00:03<00:00, 92.49it/s, accuracy=99.3, loss=0.0279]  \n",
      "                                                                                       \r"
     ]
    },
    {
     "name": "stdout",
     "output_type": "stream",
     "text": [
      "End of Epoch 74, Train Loss: 0.020602368909501158, Train Accuracy: 99.30444444444444%, Val Loss: 0.3040001499861226, Val Accuracy: 94.23333333333333%\n"
     ]
    },
    {
     "name": "stderr",
     "output_type": "stream",
     "text": [
      "Epoch 75/100: 100%|██████████| 352/352 [00:03<00:00, 91.53it/s, accuracy=99.3, loss=0.00134] \n",
      "                                                                                       \r"
     ]
    },
    {
     "name": "stdout",
     "output_type": "stream",
     "text": [
      "End of Epoch 75, Train Loss: 0.021533667115032917, Train Accuracy: 99.3%, Val Loss: 0.3023182634043239, Val Accuracy: 94.2%\n"
     ]
    },
    {
     "name": "stderr",
     "output_type": "stream",
     "text": [
      "Epoch 76/100: 100%|██████████| 352/352 [00:03<00:00, 92.39it/s, accuracy=99.4, loss=0.00056] \n",
      "                                                                                       \r"
     ]
    },
    {
     "name": "stdout",
     "output_type": "stream",
     "text": [
      "End of Epoch 76, Train Loss: 0.01835181705758838, Train Accuracy: 99.38444444444444%, Val Loss: 0.30148447071344164, Val Accuracy: 94.21333333333334%\n"
     ]
    },
    {
     "name": "stderr",
     "output_type": "stream",
     "text": [
      "Epoch 77/100: 100%|██████████| 352/352 [00:03<00:00, 92.45it/s, accuracy=99.3, loss=0.00391] \n",
      "                                                                                       \r"
     ]
    },
    {
     "name": "stdout",
     "output_type": "stream",
     "text": [
      "End of Epoch 77, Train Loss: 0.020013646171223212, Train Accuracy: 99.29555555555555%, Val Loss: 0.3019530753115729, Val Accuracy: 94.24%\n"
     ]
    },
    {
     "name": "stderr",
     "output_type": "stream",
     "text": [
      "Epoch 78/100: 100%|██████████| 352/352 [00:03<00:00, 93.70it/s, accuracy=99.3, loss=0.0257]  \n",
      "                                                                                       \r"
     ]
    },
    {
     "name": "stdout",
     "output_type": "stream",
     "text": [
      "End of Epoch 78, Train Loss: 0.020281566669919728, Train Accuracy: 99.30888888888889%, Val Loss: 0.30480198233814565, Val Accuracy: 94.15333333333334%\n"
     ]
    },
    {
     "name": "stderr",
     "output_type": "stream",
     "text": [
      "Epoch 79/100: 100%|██████████| 352/352 [00:03<00:00, 93.02it/s, accuracy=99.4, loss=0.0625]  \n",
      "                                                                                       \r"
     ]
    },
    {
     "name": "stdout",
     "output_type": "stream",
     "text": [
      "End of Epoch 79, Train Loss: 0.01942184006342855, Train Accuracy: 99.36%, Val Loss: 0.30256565360320825, Val Accuracy: 94.23333333333333%\n"
     ]
    },
    {
     "name": "stderr",
     "output_type": "stream",
     "text": [
      "Epoch 80/100: 100%|██████████| 352/352 [00:03<00:00, 91.67it/s, accuracy=99.3, loss=0.0886]  \n",
      "                                                                                       \r"
     ]
    },
    {
     "name": "stdout",
     "output_type": "stream",
     "text": [
      "End of Epoch 80, Train Loss: 0.019900215159395884, Train Accuracy: 99.28666666666666%, Val Loss: 0.30319204053573184, Val Accuracy: 94.2%\n"
     ]
    },
    {
     "name": "stderr",
     "output_type": "stream",
     "text": [
      "Epoch 81/100: 100%|██████████| 352/352 [00:03<00:00, 93.02it/s, accuracy=99.3, loss=0.015]   \n",
      "                                                                                       \r"
     ]
    },
    {
     "name": "stdout",
     "output_type": "stream",
     "text": [
      "End of Epoch 81, Train Loss: 0.019367033135164424, Train Accuracy: 99.31111111111112%, Val Loss: 0.30203495873927566, Val Accuracy: 94.22%\n"
     ]
    },
    {
     "name": "stderr",
     "output_type": "stream",
     "text": [
      "Epoch 82/100: 100%|██████████| 352/352 [00:03<00:00, 92.58it/s, accuracy=99.2, loss=0.00747] \n",
      "                                                                                       \r"
     ]
    },
    {
     "name": "stdout",
     "output_type": "stream",
     "text": [
      "End of Epoch 82, Train Loss: 0.022053267944846248, Train Accuracy: 99.24444444444444%, Val Loss: 0.3005712626154645, Val Accuracy: 94.15333333333334%\n"
     ]
    },
    {
     "name": "stderr",
     "output_type": "stream",
     "text": [
      "Epoch 83/100: 100%|██████████| 352/352 [00:03<00:00, 93.02it/s, accuracy=99.3, loss=0.00935] \n",
      "                                                                                       \r"
     ]
    },
    {
     "name": "stdout",
     "output_type": "stream",
     "text": [
      "End of Epoch 83, Train Loss: 0.019652416824431963, Train Accuracy: 99.33555555555556%, Val Loss: 0.3038485973631426, Val Accuracy: 94.21333333333334%\n"
     ]
    },
    {
     "name": "stderr",
     "output_type": "stream",
     "text": [
      "Epoch 84/100: 100%|██████████| 352/352 [00:03<00:00, 92.32it/s, accuracy=99.3, loss=0.0274]  \n",
      "                                                                                       \r"
     ]
    },
    {
     "name": "stdout",
     "output_type": "stream",
     "text": [
      "End of Epoch 84, Train Loss: 0.019958064297001823, Train Accuracy: 99.2911111111111%, Val Loss: 0.30507513498729566, Val Accuracy: 94.16666666666667%\n"
     ]
    },
    {
     "name": "stderr",
     "output_type": "stream",
     "text": [
      "Epoch 85/100: 100%|██████████| 352/352 [00:03<00:00, 92.83it/s, accuracy=99.3, loss=0.00134] \n",
      "                                                                                       \r"
     ]
    },
    {
     "name": "stdout",
     "output_type": "stream",
     "text": [
      "End of Epoch 85, Train Loss: 0.020045473381370273, Train Accuracy: 99.30222222222223%, Val Loss: 0.30462461945174607, Val Accuracy: 94.12666666666667%\n"
     ]
    },
    {
     "name": "stderr",
     "output_type": "stream",
     "text": [
      "Epoch 86/100: 100%|██████████| 352/352 [00:03<00:00, 91.38it/s, accuracy=99.3, loss=0.0454]  \n",
      "                                                                                       \r"
     ]
    },
    {
     "name": "stdout",
     "output_type": "stream",
     "text": [
      "End of Epoch 86, Train Loss: 0.021188627211317493, Train Accuracy: 99.28888888888889%, Val Loss: 0.3041735073014841, Val Accuracy: 94.19333333333333%\n"
     ]
    },
    {
     "name": "stderr",
     "output_type": "stream",
     "text": [
      "Epoch 87/100: 100%|██████████| 352/352 [00:03<00:00, 93.47it/s, accuracy=99.3, loss=0.0197]  \n",
      "                                                                                       \r"
     ]
    },
    {
     "name": "stdout",
     "output_type": "stream",
     "text": [
      "End of Epoch 87, Train Loss: 0.02010119394650577, Train Accuracy: 99.27777777777777%, Val Loss: 0.30662050188156004, Val Accuracy: 94.14%\n"
     ]
    },
    {
     "name": "stderr",
     "output_type": "stream",
     "text": [
      "Epoch 88/100: 100%|██████████| 352/352 [00:03<00:00, 90.72it/s, accuracy=99.3, loss=0.0283]  \n",
      "                                                                                       \r"
     ]
    },
    {
     "name": "stdout",
     "output_type": "stream",
     "text": [
      "End of Epoch 88, Train Loss: 0.01855257439919197, Train Accuracy: 99.31555555555556%, Val Loss: 0.30198882422331025, Val Accuracy: 94.14666666666666%\n"
     ]
    },
    {
     "name": "stderr",
     "output_type": "stream",
     "text": [
      "Epoch 89/100: 100%|██████████| 352/352 [00:03<00:00, 92.31it/s, accuracy=99.3, loss=0.00281] \n",
      "                                                                                       \r"
     ]
    },
    {
     "name": "stdout",
     "output_type": "stream",
     "text": [
      "End of Epoch 89, Train Loss: 0.020380334017483456, Train Accuracy: 99.28444444444445%, Val Loss: 0.30113162941662436, Val Accuracy: 94.20666666666666%\n"
     ]
    },
    {
     "name": "stderr",
     "output_type": "stream",
     "text": [
      "Epoch 90/100: 100%|██████████| 352/352 [00:03<00:00, 92.28it/s, accuracy=99.4, loss=0.00735] \n",
      "                                                                                       \r"
     ]
    },
    {
     "name": "stdout",
     "output_type": "stream",
     "text": [
      "End of Epoch 90, Train Loss: 0.01879711861114298, Train Accuracy: 99.35111111111111%, Val Loss: 0.3074946498056337, Val Accuracy: 94.19333333333333%\n"
     ]
    },
    {
     "name": "stderr",
     "output_type": "stream",
     "text": [
      "Epoch 91/100: 100%|██████████| 352/352 [00:03<00:00, 92.03it/s, accuracy=99.3, loss=0.00306] \n",
      "                                                                                       \r"
     ]
    },
    {
     "name": "stdout",
     "output_type": "stream",
     "text": [
      "End of Epoch 91, Train Loss: 0.019009803544659833, Train Accuracy: 99.34666666666666%, Val Loss: 0.3032168520425083, Val Accuracy: 94.19333333333333%\n"
     ]
    },
    {
     "name": "stderr",
     "output_type": "stream",
     "text": [
      "Epoch 92/100: 100%|██████████| 352/352 [00:03<00:00, 92.95it/s, accuracy=99.3, loss=0.0395]  \n",
      "                                                                                       \r"
     ]
    },
    {
     "name": "stdout",
     "output_type": "stream",
     "text": [
      "End of Epoch 92, Train Loss: 0.02135534868648392, Train Accuracy: 99.27555555555556%, Val Loss: 0.3141577946558847, Val Accuracy: 94.18666666666667%\n"
     ]
    },
    {
     "name": "stderr",
     "output_type": "stream",
     "text": [
      "Epoch 93/100: 100%|██████████| 352/352 [00:03<00:00, 91.25it/s, accuracy=99.3, loss=0.174]   \n",
      "                                                                                       \r"
     ]
    },
    {
     "name": "stdout",
     "output_type": "stream",
     "text": [
      "End of Epoch 93, Train Loss: 0.020563043388971313, Train Accuracy: 99.29333333333334%, Val Loss: 0.333392237960282, Val Accuracy: 94.18%\n"
     ]
    },
    {
     "name": "stderr",
     "output_type": "stream",
     "text": [
      "Epoch 94/100: 100%|██████████| 352/352 [00:03<00:00, 92.10it/s, accuracy=99.3, loss=0.00538] \n",
      "                                                                                       \r"
     ]
    },
    {
     "name": "stdout",
     "output_type": "stream",
     "text": [
      "End of Epoch 94, Train Loss: 0.019085979967712774, Train Accuracy: 99.29777777777778%, Val Loss: 0.35464471491779814, Val Accuracy: 94.08%\n"
     ]
    },
    {
     "name": "stderr",
     "output_type": "stream",
     "text": [
      "Epoch 95/100: 100%|██████████| 352/352 [00:03<00:00, 93.24it/s, accuracy=99.3, loss=0.0135]  \n",
      "                                                                                       \r"
     ]
    },
    {
     "name": "stdout",
     "output_type": "stream",
     "text": [
      "End of Epoch 95, Train Loss: 0.020157206588588782, Train Accuracy: 99.32%, Val Loss: 0.30094275891907135, Val Accuracy: 94.17333333333333%\n"
     ]
    },
    {
     "name": "stderr",
     "output_type": "stream",
     "text": [
      "Epoch 96/100: 100%|██████████| 352/352 [00:03<00:00, 93.63it/s, accuracy=99.4, loss=0.0446]  \n",
      "                                                                                       \r"
     ]
    },
    {
     "name": "stdout",
     "output_type": "stream",
     "text": [
      "End of Epoch 96, Train Loss: 0.018761483079784244, Train Accuracy: 99.36%, Val Loss: 0.3476478342377281, Val Accuracy: 94.15333333333334%\n"
     ]
    },
    {
     "name": "stderr",
     "output_type": "stream",
     "text": [
      "Epoch 97/100: 100%|██████████| 352/352 [00:03<00:00, 92.82it/s, accuracy=99.3, loss=0.0547]  \n",
      "                                                                                       \r"
     ]
    },
    {
     "name": "stdout",
     "output_type": "stream",
     "text": [
      "End of Epoch 97, Train Loss: 0.019959224604793813, Train Accuracy: 99.32%, Val Loss: 0.3051348636242545, Val Accuracy: 94.14%\n"
     ]
    },
    {
     "name": "stderr",
     "output_type": "stream",
     "text": [
      "Epoch 98/100: 100%|██████████| 352/352 [00:03<00:00, 92.66it/s, accuracy=99.3, loss=0.00859] \n",
      "                                                                                       \r"
     ]
    },
    {
     "name": "stdout",
     "output_type": "stream",
     "text": [
      "End of Epoch 98, Train Loss: 0.020233295979943996, Train Accuracy: 99.28%, Val Loss: 0.3524255714521317, Val Accuracy: 94.06666666666666%\n"
     ]
    },
    {
     "name": "stderr",
     "output_type": "stream",
     "text": [
      "Epoch 99/100: 100%|██████████| 352/352 [00:03<00:00, 91.44it/s, accuracy=99.2, loss=0.069]   \n",
      "                                                                                       \r"
     ]
    },
    {
     "name": "stdout",
     "output_type": "stream",
     "text": [
      "End of Epoch 99, Train Loss: 0.020603235125814866, Train Accuracy: 99.24888888888889%, Val Loss: 0.3630552977260392, Val Accuracy: 94.10666666666667%\n"
     ]
    },
    {
     "name": "stderr",
     "output_type": "stream",
     "text": [
      "Epoch 100/100: 100%|██████████| 352/352 [00:03<00:00, 93.02it/s, accuracy=99.3, loss=0.00147] \n",
      "                                                                                       "
     ]
    },
    {
     "name": "stdout",
     "output_type": "stream",
     "text": [
      "End of Epoch 100, Train Loss: 0.021489021458943502, Train Accuracy: 99.26222222222222%, Val Loss: 0.3188973629720888, Val Accuracy: 94.14666666666666%\n"
     ]
    },
    {
     "name": "stderr",
     "output_type": "stream",
     "text": [
      "\r"
     ]
    }
   ],
   "source": [
    "# Изменяем скорость обучения, amsgrad, weight_decay\n",
    "optimizer = optim.Adam(model.parameters(), lr=0.00001, betas=(0.99, 0.9999), eps=1e-10)  \n",
    "\n",
    "# N-запуск обучения на дополнительные эпохи\n",
    "train_model(model, train_loader, val_loader, 100, device)"
   ]
  },
  {
   "cell_type": "markdown",
   "metadata": {},
   "source": [
    "#### Конечная оценка натренированной модели"
   ]
  },
  {
   "cell_type": "code",
   "execution_count": 33,
   "metadata": {
    "execution": {
     "iopub.execute_input": "2024-05-11T14:50:40.855362Z",
     "iopub.status.busy": "2024-05-11T14:50:40.854434Z",
     "iopub.status.idle": "2024-05-11T14:50:41.497207Z",
     "shell.execute_reply": "2024-05-11T14:50:41.495993Z",
     "shell.execute_reply.started": "2024-05-11T14:50:40.855316Z"
    },
    "tags": []
   },
   "outputs": [
    {
     "name": "stderr",
     "output_type": "stream",
     "text": [
      "Testing: 100%|██████████| 313/313 [00:00<00:00, 505.88it/s]"
     ]
    },
    {
     "name": "stdout",
     "output_type": "stream",
     "text": [
      "Test loss: 0.278210402267744\n",
      "Test accuracy: 94.17\n"
     ]
    },
    {
     "name": "stderr",
     "output_type": "stream",
     "text": [
      "\n"
     ]
    }
   ],
   "source": [
    "# Вызов функции оценки модели\n",
    "test_loss, test_accuracy = evaluate_model(model, test_loader, criterion, device)\n",
    "\n",
    "# Вывод результатов\n",
    "print('Test loss:', test_loss)\n",
    "print('Test accuracy:', test_accuracy)"
   ]
  },
  {
   "cell_type": "markdown",
   "metadata": {},
   "source": [
    "### Подготовка сабмиссии\n",
    "После обучения модели  используем тестовый набор данных для создания предсказаний.  \n",
    "Записываем файл для сабмиссии на Kaggle."
   ]
  },
  {
   "cell_type": "code",
   "execution_count": 27,
   "metadata": {
    "execution": {
     "iopub.execute_input": "2024-05-11T14:33:06.345352Z",
     "iopub.status.busy": "2024-05-11T14:33:06.344528Z",
     "iopub.status.idle": "2024-05-11T14:33:06.514152Z",
     "shell.execute_reply": "2024-05-11T14:33:06.512931Z",
     "shell.execute_reply.started": "2024-05-11T14:33:06.345303Z"
    },
    "tags": []
   },
   "outputs": [],
   "source": [
    "# Предсказание на тестовом наборе данных\n",
    "test_images = torch.tensor(test_data.drop('label', axis=1).values).float().reshape(-1, 1, 28, 28) / 255.0\n",
    "test_images = test_images.to(device)\n",
    "model.eval()\n",
    "with torch.no_grad():\n",
    "    outputs = model(test_images)\n",
    "    predicted_labels = outputs.argmax(dim=1).cpu().numpy()\n",
    "\n",
    "# Создание DataFrame для сабмиссии\n",
    "submission = pd.DataFrame({\n",
    "    'Id': test_data.index,\n",
    "    'Category': predicted_labels\n",
    "})\n",
    "\n",
    "# Сохранение файла сабмиссии\n",
    "submission.to_csv('submission.csv', index=False)"
   ]
  }
 ],
 "metadata": {
  "kernelspec": {
   "display_name": "DataSphere Kernel",
   "language": "python",
   "name": "python3"
  },
  "language_info": {
   "codemirror_mode": {
    "name": "ipython",
    "version": 3
   },
   "file_extension": ".py",
   "mimetype": "text/x-python",
   "name": "python",
   "nbconvert_exporter": "python",
   "pygments_lexer": "ipython3",
   "version": "3.11.7"
  }
 },
 "nbformat": 4,
 "nbformat_minor": 4
}
